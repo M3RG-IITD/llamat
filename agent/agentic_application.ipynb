{
 "cells": [
  {
   "cell_type": "code",
   "execution_count": 1,
   "id": "61a140c0",
   "metadata": {},
   "outputs": [],
   "source": [
    "from ner_agent import NERAgent\n",
    "\n",
    "materials_entities = [\"APL\", \"MAT\", \"CMT\", \"DSC\", \"PRO\", \"SMT\", \"SPL\"]\n",
    "ner_agent = NERAgent(materials_entities)\n",
    "\n"
   ]
  },
  {
   "cell_type": "code",
   "execution_count": null,
   "id": "03fae5f1",
   "metadata": {},
   "outputs": [],
   "source": [
    "text = '''Phololuminescence spectra of PbBr-based layered perovskites with an \n",
    "organic organic layer of napthalene-linked ammonium molecules.'''\n",
    "result = ner_agent.extract_entities(text)"
   ]
  },
  {
   "cell_type": "code",
   "execution_count": 3,
   "id": "4c0e08e1",
   "metadata": {},
   "outputs": [
    {
     "data": {
      "text/plain": [
       "{'APL': [],\n",
       " 'MAT': ['PbBr-based layered perovskites',\n",
       "  'napthalene-linked ammonium molecules'],\n",
       " 'CMT': ['phololuminescence'],\n",
       " 'DSC': [],\n",
       " 'PRO': [],\n",
       " 'SMT': [],\n",
       " 'SPL': []}"
      ]
     },
     "execution_count": 3,
     "metadata": {},
     "output_type": "execute_result"
    }
   ],
   "source": [
    "result"
   ]
  },
  {
   "cell_type": "code",
   "execution_count": 4,
   "id": "4a96c115",
   "metadata": {},
   "outputs": [],
   "source": [
    "text = \"Borosilicate glasses are used in kitchenware.\"\n",
    "result = ner_agent.extract_entities(text)"
   ]
  },
  {
   "cell_type": "code",
   "execution_count": 5,
   "id": "764dbf5f",
   "metadata": {},
   "outputs": [
    {
     "data": {
      "text/plain": [
       "{'APL': ['kitchenware'],\n",
       " 'MAT': ['Borosilicate glasses'],\n",
       " 'CMT': [],\n",
       " 'DSC': [],\n",
       " 'PRO': [],\n",
       " 'SMT': [],\n",
       " 'SPL': []}"
      ]
     },
     "execution_count": 5,
     "metadata": {},
     "output_type": "execute_result"
    }
   ],
   "source": [
    "result"
   ]
  },
  {
   "cell_type": "code",
   "execution_count": null,
   "id": "76c29943",
   "metadata": {},
   "outputs": [],
   "source": []
  }
 ],
 "metadata": {
  "kernelspec": {
   "display_name": "base",
   "language": "python",
   "name": "python3"
  },
  "language_info": {
   "codemirror_mode": {
    "name": "ipython",
    "version": 3
   },
   "file_extension": ".py",
   "mimetype": "text/x-python",
   "name": "python",
   "nbconvert_exporter": "python",
   "pygments_lexer": "ipython3",
   "version": "3.12.2"
  }
 },
 "nbformat": 4,
 "nbformat_minor": 5
}
