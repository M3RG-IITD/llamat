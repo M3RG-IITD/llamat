{
 "cells": [
  {
   "cell_type": "code",
   "execution_count": 1,
   "id": "54d58e2d-6324-4102-8ec1-d96d048f4be8",
   "metadata": {},
   "outputs": [
    {
     "name": "stderr",
     "output_type": "stream",
     "text": [
      "/home/scai/phd/aiz218326/anaconda3/envs/crystal-llm/lib/python3.10/site-packages/tqdm/auto.py:21: TqdmWarning: IProgress not found. Please update jupyter and ipywidgets. See https://ipywidgets.readthedocs.io/en/stable/user_install.html\n",
      "  from .autonotebook import tqdm as notebook_tqdm\n"
     ]
    }
   ],
   "source": [
    "\"\"\"\n",
    "Copyright (c) Facebook, Inc. and its affiliates.\n",
    "\n",
    "This source code is licensed under the MIT license found in the\n",
    "LICENSE file in the root directory of this source tree.\n",
    "\"\"\"\n",
    "\n",
    "import os\n",
    "import glob\n",
    "import errno\n",
    "import signal\n",
    "import torch\n",
    "import argparse\n",
    "import warnings\n",
    "import functools\n",
    "import itertools\n",
    "import numpy as np\n",
    "import pandas as pd\n",
    "from p_tqdm import p_map\n",
    "import cloudpickle as pickle\n",
    "\n",
    "from scipy.spatial.distance import pdist\n",
    "from scipy.spatial.distance import cdist\n",
    "from scipy.stats import wasserstein_distance\n",
    "\n",
    "from collections import Counter\n",
    "from pymatgen.core.structure import Structure\n",
    "from pymatgen.core.composition import Composition\n",
    "from pymatgen.core.lattice import Lattice\n",
    "from matminer.featurizers.site.fingerprint import CrystalNNFingerprint\n",
    "from matminer.featurizers.composition.composite import ElementProperty\n",
    "import smact\n",
    "from smact.screening import pauling_test\n",
    "\n",
    "from eval_util import (\n",
    "    chemical_symbols, \n",
    "    StandardScaler, \n",
    "    CompScalerMeans, \n",
    "    CompScalerStds\n",
    ")\n"
   ]
  },
  {
   "cell_type": "code",
   "execution_count": 3,
   "id": "14107734-c394-41d3-a1cc-63cfd31bdd35",
   "metadata": {},
   "outputs": [],
   "source": [
    "\n",
    "# Much of the below code is taken without modification from the original\n",
    "# CDVAE repo (https://github.com/txie-93/cdvae).\n",
    "# In some cases, the code has been modified to work with the structure of\n",
    "# our codebase, but the logic is the same.\n",
    "\n",
    "COV_Cutoffs = {\n",
    "    'mp20': {'struc': 0.4, 'comp': 10.},\n",
    "    'carbon': {'struc': 0.2, 'comp': 4.},\n",
    "    'perovskite': {'struc': 0.2, 'comp': 4},\n",
    "}\n",
    "\n",
    "NOVELTY_Cutoffs = {\n",
    "    'mp20': {'struc': 0.1, 'comp': 2.},\n",
    "}\n",
    "\n",
    "CompScaler = StandardScaler(\n",
    "    means=np.array(CompScalerMeans),\n",
    "    stds=np.array(CompScalerStds),\n",
    "    replace_nan_token=0.)\n",
    "\n",
    "# CrystalNNFP = CrystalNNFingerprint.from_preset(\"ops\")\n",
    "CompFP = ElementProperty.from_preset('magpie')\n",
    "\n",
    "class TimeoutError(Exception):\n",
    "    pass\n",
    "\n",
    "def timeout(seconds=10, error_message=os.strerror(errno.ETIME)):\n",
    "    def decorator(func):\n",
    "        def _handle_timeout(signum, frame):\n",
    "            raise TimeoutError(error_message)\n",
    "\n",
    "        @functools.wraps(func)\n",
    "        def wrapper(*args, **kwargs):\n",
    "            signal.signal(signal.SIGALRM, _handle_timeout)\n",
    "            signal.alarm(seconds)\n",
    "            try:\n",
    "                result = func(*args, **kwargs)\n",
    "            finally:\n",
    "                signal.alarm(0)\n",
    "            return result\n",
    "\n",
    "        return wrapper\n",
    "\n",
    "    return decorator\n",
    "\n",
    "@timeout(5)\n",
    "def timeout_featurize(structure, i):\n",
    "    return CrystalNNFingerprint.from_preset(\"ops\").featurize(structure, i)\n",
    "\n",
    "def load_data(file_path):\n",
    "    if file_path[-3:] == 'npy':\n",
    "        data = np.load(file_path, allow_pickle=True).item()\n",
    "        for k, v in data.items():\n",
    "            if k == 'input_data_batch':\n",
    "                for k1, v1 in data[k].items():\n",
    "                    data[k][k1] = torch.from_numpy(v1)\n",
    "            else:\n",
    "                data[k] = torch.from_numpy(v).unsqueeze(0)\n",
    "    else:\n",
    "        data = torch.load(file_path)\n",
    "    return data\n",
    "\n",
    "def get_fp_pdist(fp_array):\n",
    "    if isinstance(fp_array, list):\n",
    "        fp_array = np.array(fp_array)\n",
    "    fp_pdists = pdist(fp_array)\n",
    "    return fp_pdists.mean()\n",
    "\n",
    "def filter_fps(struc_fps, comp_fps):\n",
    "    assert len(struc_fps) == len(comp_fps)\n",
    "\n",
    "    filtered_struc_fps, filtered_comp_fps = [], []\n",
    "\n",
    "    for struc_fp, comp_fp in zip(struc_fps, comp_fps):\n",
    "        if struc_fp is not None and comp_fp is not None:\n",
    "            filtered_struc_fps.append(struc_fp)\n",
    "            filtered_comp_fps.append(comp_fp)\n",
    "    return filtered_struc_fps, filtered_comp_fps\n",
    "\n",
    "def compute_cov(\n",
    "    crys, \n",
    "    gt_crys,\n",
    "    struc_cutoff, \n",
    "    comp_cutoff, \n",
    "    num_gen_crystals=None\n",
    "):\n",
    "    struc_fps = [c.struct_fp for c in crys]\n",
    "    comp_fps = [c.comp_fp for c in crys]\n",
    "    gt_struc_fps = [c.struct_fp for c in gt_crys]\n",
    "    gt_comp_fps = [c.comp_fp for c in gt_crys]\n",
    "\n",
    "    assert len(struc_fps) == len(comp_fps)\n",
    "    assert len(gt_struc_fps) == len(gt_comp_fps)\n",
    "\n",
    "    # Use number of crystal before filtering to compute COV\n",
    "    if num_gen_crystals is None:\n",
    "        num_gen_crystals = len(struc_fps)\n",
    "\n",
    "    struc_fps, comp_fps = filter_fps(struc_fps, comp_fps)\n",
    "    gt_struc_fps, gt_comp_fps = filter_fps(gt_struc_fps, gt_comp_fps)\n",
    "\n",
    "    comp_fps = CompScaler.transform(comp_fps)\n",
    "    gt_comp_fps = CompScaler.transform(gt_comp_fps)\n",
    "\n",
    "    struc_fps = np.array(struc_fps)\n",
    "    gt_struc_fps = np.array(gt_struc_fps)\n",
    "    comp_fps = np.array(comp_fps)\n",
    "    gt_comp_fps = np.array(gt_comp_fps)\n",
    "\n",
    "    struc_pdist = cdist(struc_fps, gt_struc_fps)\n",
    "    comp_pdist = cdist(comp_fps, gt_comp_fps)\n",
    "\n",
    "    struc_recall_dist = struc_pdist.min(axis=0)\n",
    "    struc_precision_dist = struc_pdist.min(axis=1)\n",
    "    comp_recall_dist = comp_pdist.min(axis=0)\n",
    "    comp_precision_dist = comp_pdist.min(axis=1)\n",
    "\n",
    "    cov_recall = np.mean(np.logical_and(\n",
    "        struc_recall_dist <= struc_cutoff,\n",
    "        comp_recall_dist <= comp_cutoff))\n",
    "    cov_precision = np.mean(np.logical_and(\n",
    "        struc_precision_dist <= struc_cutoff,\n",
    "        comp_precision_dist <= comp_cutoff))# / num_gen_crystals\n",
    "\n",
    "    metrics_dict = {\n",
    "        'cov_recall': cov_recall,\n",
    "        'cov_precision': cov_precision,\n",
    "        'amsd_recall': np.mean(struc_recall_dist),\n",
    "        'amsd_precision': np.mean(struc_precision_dist),\n",
    "        'amcd_recall': np.mean(comp_recall_dist),\n",
    "        'amcd_precision': np.mean(comp_precision_dist),\n",
    "    }\n",
    "\n",
    "    combined_dist_dict = {\n",
    "        'struc_recall_dist': struc_recall_dist.tolist(),\n",
    "        'struc_precision_dist': struc_precision_dist.tolist(),\n",
    "        'comp_recall_dist': comp_recall_dist.tolist(),\n",
    "        'comp_precision_dist': comp_precision_dist.tolist(),\n",
    "    }\n",
    "\n",
    "    return metrics_dict, combined_dist_dict\n",
    "\n",
    "def compute_novelty(\n",
    "    crys, \n",
    "    gt_crys,\n",
    "    struc_cutoff, \n",
    "    comp_cutoff,\n",
    "    num_gen_crystals=None\n",
    "):\n",
    "    struc_fps = [c.struct_fp for c in crys]\n",
    "    comp_fps = [c.comp_fp for c in crys]\n",
    "    gt_struc_fps = [c.struct_fp for c in gt_crys]\n",
    "    gt_comp_fps = [c.comp_fp for c in gt_crys]\n",
    "\n",
    "    assert len(struc_fps) == len(comp_fps)\n",
    "    assert len(gt_struc_fps) == len(gt_comp_fps)\n",
    "\n",
    "    # Use number of crystal before filtering to compute COV\n",
    "    if num_gen_crystals is None:\n",
    "        num_gen_crystals = len(struc_fps)\n",
    "\n",
    "    struc_fps, comp_fps = filter_fps(struc_fps, comp_fps)\n",
    "    gt_struc_fps, gt_comp_fps = filter_fps(gt_struc_fps, gt_comp_fps)\n",
    "\n",
    "    comp_fps = CompScaler.transform(comp_fps)\n",
    "    gt_comp_fps = CompScaler.transform(gt_comp_fps)\n",
    "\n",
    "    struc_fps = np.array(struc_fps)\n",
    "    gt_struc_fps = np.array(gt_struc_fps)\n",
    "    comp_fps = np.array(comp_fps)\n",
    "    gt_comp_fps = np.array(gt_comp_fps)\n",
    "\n",
    "    struc_pdist = cdist(struc_fps, gt_struc_fps)\n",
    "    comp_pdist = cdist(comp_fps, gt_comp_fps)\n",
    "\n",
    "    struc_precision_dist = struc_pdist.min(axis=1)\n",
    "    comp_precision_dist = comp_pdist.min(axis=1)\n",
    "\n",
    "    struc_novelty = np.mean(struc_precision_dist > struc_cutoff)\n",
    "    comp_novelty = np.mean(comp_precision_dist > comp_cutoff)\n",
    "\n",
    "    novelty = np.mean(np.logical_or(\n",
    "        struc_precision_dist > struc_cutoff,\n",
    "        comp_precision_dist > comp_cutoff))\n",
    "\n",
    "    metrics_dict = {\n",
    "        'struc_novelty': struc_novelty,\n",
    "        'comp_novelty': comp_novelty,\n",
    "        'novelty': novelty,\n",
    "    }\n",
    "\n",
    "    return metrics_dict\n",
    "\n",
    "class CDVAEGenEval(object):\n",
    "\n",
    "    def __init__(\n",
    "        self, \n",
    "        pred_crys, \n",
    "        gt_cov_crys, \n",
    "        gt_novelty_crys,\n",
    "        n_samples=1000, \n",
    "        eval_model_name=None\n",
    "    ):\n",
    "        self.crys = pred_crys\n",
    "        self.gt_cov_crys = gt_cov_crys\n",
    "        self.gt_novelty_crys = gt_novelty_crys\n",
    "        self.n_samples = n_samples\n",
    "        self.eval_model_name = eval_model_name\n",
    "\n",
    "        valid_crys = [c for c in pred_crys if c.valid]\n",
    "        if len(valid_crys) >= n_samples:\n",
    "            sampled_indices = np.random.choice(\n",
    "                len(valid_crys), n_samples, replace=False)\n",
    "            self.valid_samples = [valid_crys[i] for i in sampled_indices]\n",
    "        else:\n",
    "            raise Exception(\n",
    "                f'not enough valid crystals in the predicted set: {len(valid_crys)}/{n_samples}')\n",
    "\n",
    "    def get_validity(self):\n",
    "        comp_valid = np.array([c.comp_valid for c in self.crys]).mean()\n",
    "        struct_valid = np.array([c.struct_valid for c in self.crys]).mean()\n",
    "        valid = np.array([c.valid for c in self.crys]).mean()\n",
    "        return {'comp_valid': comp_valid,\n",
    "                'struct_valid': struct_valid,\n",
    "                'valid': valid}\n",
    "\n",
    "    def get_comp_diversity(self):\n",
    "        comp_fps = [c.comp_fp for c in self.valid_samples]\n",
    "        comp_fps = CompScaler.transform(comp_fps)\n",
    "        comp_div = get_fp_pdist(comp_fps)\n",
    "        return {'comp_div': comp_div}\n",
    "\n",
    "    def get_struct_diversity(self):\n",
    "        return {'struct_div': get_fp_pdist([c.struct_fp for c in self.valid_samples])}\n",
    "\n",
    "    def get_density_wdist(self):\n",
    "        pred_densities = [c.structure.density for c in self.valid_samples]\n",
    "        gt_densities = [c.structure.density for c in self.gt_cov_crys]\n",
    "        wdist_density = wasserstein_distance(pred_densities, gt_densities)\n",
    "        return {'wdist_density': wdist_density}\n",
    "\n",
    "    def get_num_elem_wdist(self):\n",
    "        pred_nelems = [len(set(c.structure.species))\n",
    "                       for c in self.valid_samples]\n",
    "        gt_nelems = [len(set(c.structure.species)) for c in self.gt_cov_crys]\n",
    "        wdist_num_elems = wasserstein_distance(pred_nelems, gt_nelems)\n",
    "        return {'wdist_num_elems': wdist_num_elems}\n",
    "\n",
    "    def get_coverage(self):\n",
    "        cutoff_dict = COV_Cutoffs[self.eval_model_name]\n",
    "        (cov_metrics_dict, combined_dist_dict) = compute_cov(\n",
    "            self.crys, self.gt_cov_crys,\n",
    "            struc_cutoff=cutoff_dict['struc'],\n",
    "            comp_cutoff=cutoff_dict['comp'])\n",
    "        return cov_metrics_dict\n",
    "\n",
    "    def get_novelty(self):\n",
    "        cutoff_dict = NOVELTY_Cutoffs[self.eval_model_name]\n",
    "        novelty_metrics_dict = compute_novelty(\n",
    "            self.crys, self.gt_novelty_crys,\n",
    "            struc_cutoff=cutoff_dict['struc'],\n",
    "            comp_cutoff=cutoff_dict['comp'])\n",
    "        return novelty_metrics_dict\n",
    "\n",
    "    def get_metrics(self):\n",
    "        metrics = {}\n",
    "        metrics.update(self.get_validity())\n",
    "        metrics.update(self.get_comp_diversity())\n",
    "        metrics.update(self.get_struct_diversity())\n",
    "        metrics.update(self.get_density_wdist())\n",
    "        metrics.update(self.get_num_elem_wdist())\n",
    "        metrics.update(self.get_coverage())\n",
    "        metrics.update(self.get_novelty())\n",
    "        return metrics\n",
    "\n",
    "\n",
    "def smact_validity(comp, count,\n",
    "                   use_pauling_test=True,\n",
    "                   include_alloys=True):\n",
    "    elem_symbols = tuple([chemical_symbols[elem] for elem in comp])\n",
    "    space = smact.element_dictionary(elem_symbols)\n",
    "    smact_elems = [e[1] for e in space.items()]\n",
    "    electronegs = [e.pauling_eneg for e in smact_elems]\n",
    "    ox_combos = [e.oxidation_states for e in smact_elems]\n",
    "    if len(set(elem_symbols)) == 1:\n",
    "        return True\n",
    "    if include_alloys:\n",
    "        is_metal_list = [elem_s in smact.metals for elem_s in elem_symbols]\n",
    "        if all(is_metal_list):\n",
    "            return True\n",
    "\n",
    "    threshold = np.max(count)\n",
    "    compositions = []\n",
    "    for ox_states in itertools.product(*ox_combos):\n",
    "        stoichs = [(c,) for c in count]\n",
    "        # Test for charge balance\n",
    "        cn_e, cn_r = smact.neutral_ratios(\n",
    "            ox_states, stoichs=stoichs, threshold=threshold)\n",
    "        # Electronegativity test\n",
    "        if cn_e:\n",
    "            if use_pauling_test:\n",
    "                try:\n",
    "                    electroneg_OK = pauling_test(ox_states, electronegs)\n",
    "                except TypeError:\n",
    "                    # if no electronegativity data, assume it is okay\n",
    "                    electroneg_OK = True\n",
    "            else:\n",
    "                electroneg_OK = True\n",
    "            if electroneg_OK:\n",
    "                for ratio in cn_r:\n",
    "                    compositions.append(\n",
    "                        tuple([elem_symbols, ox_states, ratio]))\n",
    "    compositions = [(i[0], i[2]) for i in compositions]\n",
    "    compositions = list(set(compositions))\n",
    "    if len(compositions) > 0:\n",
    "        return True\n",
    "    else:\n",
    "        return False\n",
    "\n",
    "def structure_validity(crystal, cutoff=0.5):\n",
    "    dist_mat = crystal.distance_matrix\n",
    "    # Pad diagonal with a large number\n",
    "    dist_mat = dist_mat + np.diag(\n",
    "        np.ones(dist_mat.shape[0]) * (cutoff + 10.))\n",
    "    if dist_mat.min() < cutoff or crystal.volume < 0.1:\n",
    "        return False\n",
    "    else:\n",
    "        return True\n",
    "\n",
    "class Crystal(object):\n",
    "\n",
    "    def __init__(self, crys_array_dict):\n",
    "        self.frac_coords = crys_array_dict['frac_coords']\n",
    "        self.atom_types = crys_array_dict['atom_types']\n",
    "        self.lengths = crys_array_dict['lengths']\n",
    "        self.angles = crys_array_dict['angles']\n",
    "        self.dict = crys_array_dict\n",
    "\n",
    "        self.get_structure()\n",
    "        self.get_composition()\n",
    "        self.get_validity()\n",
    "\n",
    "        if self.valid:\n",
    "            self.get_fingerprints()\n",
    "        else:\n",
    "            self.comp_fp = None\n",
    "            self.struct_fp = None\n",
    "\n",
    "    def get_structure(self):\n",
    "        if min(self.lengths.tolist()) < 0:\n",
    "            self.constructed = False\n",
    "            self.invalid_reason = 'non_positive_lattice'\n",
    "        else:\n",
    "            try:\n",
    "                self.structure = Structure(\n",
    "                    lattice=Lattice.from_parameters(\n",
    "                        *(self.lengths.tolist() + self.angles.tolist())),\n",
    "                    species=self.atom_types, coords=self.frac_coords, coords_are_cartesian=False)\n",
    "                self.constructed = True\n",
    "            except Exception:\n",
    "                self.constructed = False\n",
    "                self.invalid_reason = 'construction_raises_exception'\n",
    "            if self.structure.volume < 0.1:\n",
    "                self.constructed = False\n",
    "                self.invalid_reason = 'unrealistically_small_lattice'\n",
    "\n",
    "    def get_composition(self):\n",
    "        elem_counter = Counter(self.atom_types)\n",
    "        composition = [(elem, elem_counter[elem])\n",
    "                       for elem in sorted(elem_counter.keys())]\n",
    "        elems, counts = list(zip(*composition))\n",
    "        counts = np.array(counts)\n",
    "        counts = counts / np.gcd.reduce(counts)\n",
    "        self.elems = elems\n",
    "        self.comps = tuple(counts.astype('int').tolist())\n",
    "\n",
    "    def get_validity(self):\n",
    "        self.comp_valid = smact_validity(self.elems, self.comps)\n",
    "        if self.constructed:\n",
    "            self.struct_valid = structure_validity(self.structure)\n",
    "        else:\n",
    "            self.struct_valid = False\n",
    "        self.valid = self.comp_valid and self.struct_valid\n",
    "\n",
    "    def get_fingerprints(self):\n",
    "        elem_counter = Counter(self.atom_types)\n",
    "        comp = Composition(elem_counter)\n",
    "        self.comp_fp = CompFP.featurize(comp)\n",
    "        try:\n",
    "            site_fps = [timeout_featurize(\n",
    "                self.structure, i) for i in range(len(self.structure))]\n",
    "        except Exception as e:\n",
    "            print(e)\n",
    "            # counts crystal as invalid if fingerprint cannot be constructed.\n",
    "            self.valid = False\n",
    "            self.comp_fp = None\n",
    "            self.struct_fp = None\n",
    "            return\n",
    "        self.struct_fp = np.array(site_fps).mean(axis=0)\n",
    "\n",
    "\n",
    "def cif_str_to_crystal(cif_str):\n",
    "    try:\n",
    "        structure = Structure.from_str(cif_str, fmt=\"cif\")\n",
    "        crystal = Crystal({\n",
    "            \"frac_coords\": structure.frac_coords,\n",
    "            \"atom_types\": [chemical_symbols.index(str(x)) for x in structure.species],\n",
    "            \"lengths\": np.array(structure.lattice.parameters[:3]),\n",
    "            \"angles\": np.array(structure.lattice.parameters[3:])\n",
    "        })\n",
    "    except Exception as e:\n",
    "        print(e)\n",
    "        # print(cif_str)\n",
    "        return None\n",
    "    \n",
    "    return crystal\n",
    "\n",
    "\n"
   ]
  },
  {
   "cell_type": "code",
   "execution_count": 4,
   "id": "44d79597-93fb-4cb1-8460-e5d2c28550d6",
   "metadata": {},
   "outputs": [],
   "source": [
    "baseline_numbers = pd.DataFrame([\n",
    "    {'method': 'Train', 'struct_valid': 1.0, 'comp_valid': 0.9113, 'cov_recall': 1.0, 'cov_precision': 1.0, 'wdist_density': 0.051, 'wdist_num_elems': 0.016},\n",
    "    {'method': 'FTCP', 'struct_valid': 0.0155, 'comp_valid': 0.4837, 'cov_recall': 0.047, 'cov_precision': 0.0009, 'wdist_density': 23.71, 'wdist_num_elems': 0.736},\n",
    "    {'method': 'GSchNet', 'struct_valid': 0.9965, 'comp_valid': 0.7596, 'cov_recall': 0.3833, 'cov_precision': 0.9957, 'wdist_density': 3.034, 'wdist_num_elems': 0.641},\n",
    "    {'method': 'PGSchNet', 'struct_valid': 0.7751, 'comp_valid': 0.7640, 'cov_recall': 0.4193, 'cov_precision': 0.9974, 'wdist_density': 4.04, 'wdist_num_elems': 0.623},\n",
    "    {'method': 'CDVAE', 'struct_valid': 1.0, 'comp_valid': 0.867, 'cov_recall': 0.9915, 'cov_precision': 0.9949, 'wdist_density': 0.688, 'wdist_num_elems': 1.432},\n",
    "    {'method': 'LM-CH', 'struct_valid': 0.8481, 'comp_valid': 0.8355, 'cov_recall': 0.9925, 'cov_precision': 0.9789, 'wdist_density': 0.864, 'wdist_num_elems': 0.132},\n",
    "    {'method': 'LM-AC', 'struct_valid': 0.9581, 'comp_valid': 0.8887, 'cov_recall': 0.996, 'cov_precision': 0.9855, 'wdist_density': 0.696, 'wdist_num_elems': 0.092},\n",
    "])\n",
    "\n",
    "# results_df_fn = \"generative_model_results_17k_14k.csv\"\n",
    "results_df_fn = \"generative_model_results_17k_14k_congen_9046.csv\"\n",
    "\n"
   ]
  },
  {
   "cell_type": "code",
   "execution_count": 5,
   "id": "8fa22292-1723-415b-98ed-fc120bb997bf",
   "metadata": {},
   "outputs": [],
   "source": [
    "# model_name = 'llamat-7b'\n",
    "# model_name = 'llamat-8b-cif-congen'\n",
    "model_name = 'llamat-2-7b-cif-congen-9046'"
   ]
  },
  {
   "cell_type": "code",
   "execution_count": null,
   "id": "2820a69b-ae4c-45d8-a1a9-7a64dea5d4d2",
   "metadata": {},
   "outputs": [],
   "source": [
    "def parse_fn(gen_str):\n",
    "    lines = [x for x in gen_str.split(\"\\n\") if len(x) > 0]\n",
    "    lengths = [float(x) for x in lines[0].split(\" \")]\n",
    "    angles = [float(x) for x in lines[1].split(\" \")]\n",
    "    species = [x for x in lines[2::2]]\n",
    "    coords = [[float(y) for y in x.split(\" \")] for x in lines[3::2]]\n",
    "    \n",
    "    structure = Structure(\n",
    "        lattice=Lattice.from_parameters(\n",
    "            *(lengths + angles)),\n",
    "        species=species,\n",
    "        coords=coords, \n",
    "        coords_are_cartesian=False,\n",
    "    )\n",
    "    \n",
    "    return structure.to(fmt=\"cif\")"
   ]
  },
  {
   "cell_type": "code",
   "execution_count": null,
   "id": "512fd347-6b73-4fac-acf6-925445b42c47",
   "metadata": {},
   "outputs": [],
   "source": []
  },
  {
   "cell_type": "code",
   "execution_count": 7,
   "id": "5c3412b0-6001-476c-81ca-cefe602dc8cb",
   "metadata": {},
   "outputs": [],
   "source": [
    "import pandas as pd\n",
    "import re\n",
    "\n",
    "def parse_fn(gen_str):\n",
    "    \"\"\"\n",
    "    Parse generated structure string to extract lengths, angles, species, and coordinates.\n",
    "    \n",
    "    The function handles cases where:\n",
    "    1. The structure may not start from the first line\n",
    "    2. There may be text before the actual structure data\n",
    "    3. The first line should contain three numbers (lengths)\n",
    "    4. The second line should contain three numbers (angles)a\n",
    "    5. Then pairs of lines: element followed by three fractional coordinates\n",
    "    \"\"\"\n",
    "    # Remove quotes and clean the string\n",
    "    gen_str = gen_str.strip().strip('\"')\n",
    "    lines = [x.strip() for x in gen_str.split(\"\\n\") if len(x.strip()) > 0]\n",
    "    \n",
    "    # Find the start of the actual structure data\n",
    "    # Look for a line that contains three numbers (lengths)\n",
    "    start_idx = -1\n",
    "    for i, line in enumerate(lines):\n",
    "        # Split by whitespace and check if we have at least 3 numeric values\n",
    "        parts = line.split()\n",
    "        if len(parts) >= 3:\n",
    "            # Try to find 3 consecutive numeric values in the line\n",
    "            numeric_parts = []\n",
    "            for part in parts:\n",
    "                try:\n",
    "                    val = float(part)\n",
    "                    numeric_parts.append(val)\n",
    "                    if len(numeric_parts) == 3:\n",
    "                        break\n",
    "                except ValueError:\n",
    "                    continue\n",
    "            \n",
    "            # Check if we found 3 positive numbers (likely lengths)\n",
    "            if len(numeric_parts) == 3 and all(x > 0 for x in numeric_parts):\n",
    "                start_idx = i\n",
    "                break\n",
    "    \n",
    "    if start_idx == -1 or start_idx >= len(lines) - 1:\n",
    "        # If we can't find a valid start, return empty structure\n",
    "        return [], [], [], []\n",
    "    \n",
    "    try:\n",
    "        # Extract lengths (first line after start)\n",
    "        lengths_line = lines[start_idx]\n",
    "        # Find the first 3 numeric values in the line\n",
    "        lengths = []\n",
    "        for part in lengths_line.split():\n",
    "            try:\n",
    "                val = float(part)\n",
    "                lengths.append(val)\n",
    "                if len(lengths) == 3:\n",
    "                    break\n",
    "            except ValueError:\n",
    "                continue\n",
    "        \n",
    "        # Extract angles (second line after start)\n",
    "        if start_idx + 1 < len(lines):\n",
    "            angles_line = lines[start_idx + 1]\n",
    "            # Find the first 3 numeric values in the line\n",
    "            angles = []\n",
    "            for part in angles_line.split():\n",
    "                try:\n",
    "                    val = float(part)\n",
    "                    angles.append(val)\n",
    "                    if len(angles) == 3:\n",
    "                        break\n",
    "                except ValueError:\n",
    "                    continue\n",
    "        else:\n",
    "            angles = []\n",
    "        \n",
    "        # Extract species and coordinates (pairs starting from third line)\n",
    "        species = []\n",
    "        coords = []\n",
    "        \n",
    "        # Start from the third line after the start index\n",
    "        data_start = start_idx + 2\n",
    "        \n",
    "        for i in range(data_start, len(lines), 2):\n",
    "            if i < len(lines):\n",
    "                # Element line\n",
    "                element_line = lines[i].strip()\n",
    "                # Clean the element (remove any non-alphabetic characters at the end)\n",
    "                element = re.sub(r'[^A-Za-z]', '', element_line)\n",
    "                if element:  # Only add if we have a valid element\n",
    "                    species.append(element)\n",
    "                else:\n",
    "                    # If no valid element, skip this pair\n",
    "                    continue\n",
    "                \n",
    "                # Coordinates line (next line)\n",
    "                if i + 1 < len(lines):\n",
    "                    coords_line = lines[i + 1].strip()\n",
    "                    try:\n",
    "                        coord_parts = coords_line.split()\n",
    "                        if len(coord_parts) >= 3:\n",
    "                            coord_values = [float(x) for x in coord_parts[:3]]\n",
    "                            coords.append(coord_values)\n",
    "                        else:\n",
    "                            # If coordinates are malformed, add empty coordinates\n",
    "                            coords.append([0.0, 0.0, 0.0])\n",
    "                    except ValueError:\n",
    "                        # If coordinates can't be parsed, add empty coordinates\n",
    "                        coords.append([0.0, 0.0, 0.0])\n",
    "                else:\n",
    "                    # If no coordinates line, add empty coordinates\n",
    "                    coords.append([0.0, 0.0, 0.0])\n",
    "\n",
    "        structure = Structure(\n",
    "        lattice=Lattice.from_parameters(\n",
    "            *(lengths + angles)),\n",
    "        species=species,\n",
    "        coords=coords, \n",
    "        coords_are_cartesian=False,)\n",
    "        return structure.to(fmt=\"cif\")\n",
    "\n",
    "    except:\n",
    "        return ''\n",
    "    \n",
    "    # return structure.to(fmt=\"cif\")\n",
    "        \n",
    "    #     return lengths, angles, species, coords\n",
    "        \n",
    "    # except (ValueError, IndexError) as e:\n",
    "    #     # If parsing fails, return empty structure\n",
    "    #     return [], [], [], []\n",
    "\n",
    "# def process_csv_file(input_file, output_file):\n",
    "#     \"\"\"Process a CSV file and save parsed results.\"\"\"\n",
    "#     print(f\"Processing {input_file}...\")\n",
    "#     df = pd.read_csv(input_file)\n",
    "    \n",
    "#     outputs = []\n",
    "#     failed_parses = []\n",
    "#     successful_parses = 0\n",
    "    \n",
    "#     for idx, gen_str in enumerate(df['gen_str']):\n",
    "#         if pd.isna(gen_str):\n",
    "#             outputs.append({\n",
    "#                 'lengths': [],\n",
    "#                 'angles': [],\n",
    "#                 'species': [],\n",
    "#                 'coords': []\n",
    "#             })\n",
    "#             failed_parses.append({\n",
    "#                 'index': idx,\n",
    "#                 'original_gen_str': gen_str,\n",
    "#                 'reason': 'NaN input'\n",
    "#             })\n",
    "#             continue\n",
    "            \n",
    "#         lengths, angles, species, coords = parse_fn(str(gen_str))\n",
    "        \n",
    "#         # Check if we got valid data\n",
    "#         if len(lengths) == 3 and len(angles) == 3 and len(species) > 0:\n",
    "#             successful_parses += 1\n",
    "#         else:\n",
    "#             # Record failed parse\n",
    "#             failed_parses.append({\n",
    "#                 'index': idx,\n",
    "#                 'original_gen_str': str(gen_str),\n",
    "#                 'reason': f'Invalid structure: lengths={len(lengths)}, angles={len(angles)}, species={len(species)}'\n",
    "#             })\n",
    "        \n",
    "#         outputs.append({\n",
    "#             'lengths': lengths,\n",
    "#             'angles': angles,\n",
    "#             'species': species,\n",
    "#             'coords': coords\n",
    "#         })\n",
    "        \n",
    "#         if (idx + 1) % 1000 == 0:\n",
    "#             print(f\"Processed {idx + 1} structures...\")\n",
    "    \n",
    "#     result_df = pd.DataFrame(outputs)\n",
    "#     result_df.to_csv(output_file, index=False)\n",
    "#     print(f\"Saved {len(outputs)} parsed structures to {output_file}\")\n",
    "#     print(f\"Successfully parsed {successful_parses} out of {len(outputs)} structures\")\n",
    "    \n",
    "#     # Save failed parses\n",
    "#     if failed_parses:\n",
    "#         failed_df = pd.DataFrame(failed_parses)\n",
    "#         failed_output_file = output_file.replace('.csv', '_failed.csv')\n",
    "#         failed_df.to_csv(failed_output_file, index=False)\n",
    "#         print(f\"Saved {len(failed_parses)} failed structures to {failed_output_file}\")\n",
    "    \n",
    "#     return result_df\n",
    "\n",
    "# # Process both datasets\n",
    "# if __name__ == \"__main__\":\n",
    "#     # Process llamat2 dataset\n",
    "#     try:\n",
    "#         process_csv_file(\"llamat2_9046.csv\", \"llamat2_9046_parsed.csv\")\n",
    "#     except FileNotFoundError:\n",
    "#         print(\"llamat2_9046.csv not found, skipping...\")\n",
    "    \n",
    "#     # Process llamat3 dataset\n",
    "#     try:\n",
    "#         process_csv_file(\"llamat3_9046.csv\", \"llamat3_9046_parsed.csv\")\n",
    "#     except FileNotFoundError:\n",
    "#         print(\"llamat3_9046.csv not found, skipping...\")"
   ]
  },
  {
   "cell_type": "code",
   "execution_count": null,
   "id": "ba1fdd0b-cf25-4e5b-a455-c23e22de5c9c",
   "metadata": {},
   "outputs": [],
   "source": []
  },
  {
   "cell_type": "code",
   "execution_count": 42,
   "id": "6943f3d1-0d3f-4ce6-825d-ac02a7f599eb",
   "metadata": {},
   "outputs": [],
   "source": [
    "# samples_path = \"llamat3_14000_cif.csv\"\n",
    "# samples_path = 'llm_samples_17k_cif.csv'\n",
    "# samples_path = 'llamat2_cif.csv'\n",
    "# samples_path = 'llamat2_cif_adapter_cleaned.csv'\n",
    "# samples_path = 'llamat3_cif_adapter_cleaned.csv'\n",
    "samples_path = 'llamat2_9064_llamat2_1758654262.csv'\n",
    "# llamat3_cif_adapter_cleaned"
   ]
  },
  {
   "cell_type": "code",
   "execution_count": 43,
   "id": "77c8a625-4338-449d-be24-d392b37adfe6",
   "metadata": {},
   "outputs": [],
   "source": [
    "# pd.read_csv('llamat3_9064_llamat3_1758654262.csv').head(2)"
   ]
  },
  {
   "cell_type": "code",
   "execution_count": 9,
   "id": "b7187a6a-30a7-4416-8a42-ed6abe06e924",
   "metadata": {},
   "outputs": [],
   "source": [
    "dfres = pd.read_csv(samples_path)"
   ]
  },
  {
   "cell_type": "code",
   "execution_count": 11,
   "id": "4196f5d5-6c08-4d17-892c-35f86fc1ae56",
   "metadata": {},
   "outputs": [],
   "source": [
    "from tqdm import tqdm"
   ]
  },
  {
   "cell_type": "code",
   "execution_count": 12,
   "id": "f9bd6829-eb3e-4287-a31c-ceda698d9aa4",
   "metadata": {},
   "outputs": [
    {
     "name": "stderr",
     "output_type": "stream",
     "text": [
      " 95%|██████████████████████████████████████████████████████████████████████████▏   | 8602/9046 [00:08<00:00, 948.63it/s]/home/scai/phd/aiz218326/anaconda3/envs/crystal-llm/lib/python3.10/site-packages/pymatgen/core/lattice.py:426: RuntimeWarning: divide by zero encountered in scalar divide\n",
      "  val = (cos_alpha * cos_beta - cos_gamma) / (sin_alpha * sin_beta)\n",
      " 99%|████████████████████████████████████████████████████████████████████████████▉ | 8930/9046 [00:08<00:00, 986.29it/s]/home/scai/phd/aiz218326/anaconda3/envs/crystal-llm/lib/python3.10/site-packages/pymatgen/core/periodic_table.py:289: UserWarning: No Pauling electronegativity for He. Setting to NaN. This has no physical meaning, and is mainly done to avoid errors caused by the code expecting a float.\n",
      "  warnings.warn(\n",
      "100%|██████████████████████████████████████████████████████████████████████████████| 9046/9046 [00:09<00:00, 991.96it/s]\n"
     ]
    }
   ],
   "source": [
    "parsed = []\n",
    "for gen_str in tqdm(dfres.gen_str):\n",
    "    parsed.append(parse_fn(gen_str))"
   ]
  },
  {
   "cell_type": "code",
   "execution_count": 14,
   "id": "c6c55937-582e-4821-95ec-e104d084ac0c",
   "metadata": {},
   "outputs": [
    {
     "data": {
      "text/plain": [
       "\"# generated using pymatgen\\ndata_GaTe\\n_symmetry_space_group_name_H-M   'P 1'\\n_cell_length_a   4.20000000\\n_cell_length_b   4.20000000\\n_cell_length_c   6.70000000\\n_cell_angle_alpha   90.00000000\\n_cell_angle_beta   90.00000000\\n_cell_angle_gamma   120.00000000\\n_symmetry_Int_Tables_number   1\\n_chemical_formula_structural   GaTe\\n_chemical_formula_sum   'Ga2 Te2'\\n_cell_volume   102.35381042\\n_cell_formula_units_Z   2\\nloop_\\n _symmetry_equiv_pos_site_id\\n _symmetry_equiv_pos_as_xyz\\n  1  'x, y, z'\\nloop_\\n _atom_site_type_symbol\\n _atom_site_label\\n _atom_site_symmetry_multiplicity\\n _atom_site_fract_x\\n _atom_site_fract_y\\n _atom_site_fract_z\\n _atom_site_occupancy\\n  Ga  Ga0  1  0.37000000  0.85000000  0.89000000  1\\n  Ga  Ga1  1  0.03000000  0.19000000  0.39000000  1\\n  Te  Te2  1  0.37000000  0.85000000  0.51000000  1\\n  Te  Te3  1  0.03000000  0.19000000  0.01000000  1\\n\""
      ]
     },
     "execution_count": 14,
     "metadata": {},
     "output_type": "execute_result"
    }
   ],
   "source": [
    "parsed[0]"
   ]
  },
  {
   "cell_type": "code",
   "execution_count": 17,
   "id": "b2bb53c3-4242-4e91-af9e-eb5652f91da1",
   "metadata": {},
   "outputs": [],
   "source": [
    "if os.path.exists(results_df_fn):\n",
    "    results_df = pd.read_csv(results_df_fn)\n",
    "else:\n",
    "    baseline_numbers.to_csv(results_df_fn, index=False)\n",
    "    results_df = baseline_numbers\n",
    "\n",
    "if model_name in results_df[\"method\"].values:\n",
    "    print(f\"Skipping {args.model_name} because it already exists in {results_df_fn}\")\n",
    "    # return\n",
    "\n",
    "csv_fns = [\n",
    "    x for x in glob.glob(samples_path) \n",
    "        if len(open(x).readlines()) > 1 and 'm3gnet_relaxed_energy' not in x\n",
    "]\n",
    "if len(csv_fns) == 0:\n",
    "    # return\n",
    "    print(len(csv_fns))\n"
   ]
  },
  {
   "cell_type": "code",
   "execution_count": 18,
   "id": "677bac13-2140-4b0b-ab07-ebd7c03f9219",
   "metadata": {},
   "outputs": [
    {
     "data": {
      "text/plain": [
       "['llamat2_9064_llamat2_1758654262.csv']"
      ]
     },
     "execution_count": 18,
     "metadata": {},
     "output_type": "execute_result"
    }
   ],
   "source": [
    "\n",
    "csv_fns"
   ]
  },
  {
   "cell_type": "code",
   "execution_count": 19,
   "id": "2ff54e8b-3a12-4092-b7cb-87d3d558b3d5",
   "metadata": {},
   "outputs": [
    {
     "name": "stderr",
     "output_type": "stream",
     "text": [
      "/home/scai/phd/aiz218326/anaconda3/envs/crystal-llm/lib/python3.10/site-packages/pymatgen/core/lattice.py:426: RuntimeWarning: divide by zero encountered in scalar divide\n",
      "  val = (cos_alpha * cos_beta - cos_gamma) / (sin_alpha * sin_beta)\n",
      "/home/scai/phd/aiz218326/anaconda3/envs/crystal-llm/lib/python3.10/site-packages/pymatgen/core/periodic_table.py:289: UserWarning: No Pauling electronegativity for He. Setting to NaN. This has no physical meaning, and is mainly done to avoid errors caused by the code expecting a float.\n",
      "  warnings.warn(\n"
     ]
    }
   ],
   "source": [
    "pred_cifs = []\n",
    "for x in csv_fns:\n",
    "    try:\n",
    "        df = pd.read_csv(x)\n",
    "        df['cif'] = df.gen_str.apply(lambda x: parse_fn(x))\n",
    "        pred_cifs += list(df[\"cif\"].dropna())\n",
    "    except:\n",
    "        pass"
   ]
  },
  {
   "cell_type": "code",
   "execution_count": 41,
   "id": "98e7462f-4f38-4d86-8526-53c4dd96783b",
   "metadata": {},
   "outputs": [
    {
     "name": "stdout",
     "output_type": "stream",
     "text": [
      "502\n"
     ]
    }
   ],
   "source": [
    "pred_cifs = pred_cifs[::-1]\n",
    "print(len(pred_cifs))"
   ]
  },
  {
   "cell_type": "code",
   "execution_count": 42,
   "id": "7941f4fa-9992-4f10-8e14-db0585267f25",
   "metadata": {},
   "outputs": [
    {
     "data": {
      "text/plain": [
       "'llamat3_cif_adapter_cleaned.csv'"
      ]
     },
     "execution_count": 42,
     "metadata": {},
     "output_type": "execute_result"
    }
   ],
   "source": [
    "samples_path"
   ]
  },
  {
   "cell_type": "code",
   "execution_count": 20,
   "id": "b5b797ba-c498-495e-b923-25142de6c2d3",
   "metadata": {
    "scrolled": true
   },
   "outputs": [
    {
     "name": "stderr",
     "output_type": "stream",
     "text": [
      "  0%|                                                                                          | 0/9046 [00:00<?, ?it/s]"
     ]
    },
    {
     "name": "stdout",
     "output_type": "stream",
     "text": [
      "Invalid CIF file with no structures!\n",
      "Invalid CIF file with no structures!Invalid CIF file with no structures!\n",
      "Invalid CIF file with no structures!\n",
      "\n"
     ]
    },
    {
     "name": "stderr",
     "output_type": "stream",
     "text": [
      "/home/scai/phd/aiz218326/anaconda3/envs/crystal-llm/lib/python3.10/site-packages/pymatgen/analysis/local_env.py:4151: UserWarning: No oxidation states specified on sites! For better results, set the site oxidation states in the structure.\n",
      "  warnings.warn(\n",
      "/home/scai/phd/aiz218326/anaconda3/envs/crystal-llm/lib/python3.10/site-packages/pymatgen/analysis/local_env.py:4151: UserWarning: No oxidation states specified on sites! For better results, set the site oxidation states in the structure.\n",
      "  warnings.warn(\n",
      "/home/scai/phd/aiz218326/anaconda3/envs/crystal-llm/lib/python3.10/site-packages/pymatgen/analysis/local_env.py:4151: UserWarning: No oxidation states specified on sites! For better results, set the site oxidation states in the structure.\n",
      "  warnings.warn(\n",
      "/home/scai/phd/aiz218326/anaconda3/envs/crystal-llm/lib/python3.10/site-packages/pymatgen/analysis/local_env.py:4151: UserWarning: No oxidation states specified on sites! For better results, set the site oxidation states in the structure.\n",
      "  warnings.warn(\n",
      "/home/scai/phd/aiz218326/anaconda3/envs/crystal-llm/lib/python3.10/site-packages/pymatgen/analysis/local_env.py:4151: UserWarning: No oxidation states specified on sites! For better results, set the site oxidation states in the structure.\n",
      "  warnings.warn(\n",
      "/home/scai/phd/aiz218326/anaconda3/envs/crystal-llm/lib/python3.10/site-packages/pymatgen/analysis/local_env.py:4151: UserWarning: No oxidation states specified on sites! For better results, set the site oxidation states in the structure.\n",
      "  warnings.warn(\n",
      "/home/scai/phd/aiz218326/anaconda3/envs/crystal-llm/lib/python3.10/site-packages/pymatgen/analysis/local_env.py:4151: UserWarning: No oxidation states specified on sites! For better results, set the site oxidation states in the structure.\n",
      "  warnings.warn(\n",
      "/home/scai/phd/aiz218326/anaconda3/envs/crystal-llm/lib/python3.10/site-packages/pymatgen/analysis/local_env.py:4151: UserWarning: No oxidation states specified on sites! For better results, set the site oxidation states in the structure.\n",
      "  warnings.warn(\n",
      "/home/scai/phd/aiz218326/anaconda3/envs/crystal-llm/lib/python3.10/site-packages/pymatgen/analysis/local_env.py:4151: UserWarning: No oxidation states specified on sites! For better results, set the site oxidation states in the structure.\n",
      "  warnings.warn(\n",
      "/home/scai/phd/aiz218326/anaconda3/envs/crystal-llm/lib/python3.10/site-packages/pymatgen/analysis/local_env.py:4151: UserWarning: No oxidation states specified on sites! For better results, set the site oxidation states in the structure.\n",
      "  warnings.warn(\n",
      "/home/scai/phd/aiz218326/anaconda3/envs/crystal-llm/lib/python3.10/site-packages/pymatgen/analysis/local_env.py:3944: UserWarning: CrystalNN: cannot locate an appropriate radius, covalent or atomic radii will be used, this can lead to non-optimal results.\n",
      "  warnings.warn(\n",
      "/home/scai/phd/aiz218326/anaconda3/envs/crystal-llm/lib/python3.10/site-packages/pymatgen/analysis/local_env.py:4151: UserWarning: No oxidation states specified on sites! For better results, set the site oxidation states in the structure.\n",
      "  warnings.warn(\n",
      "/home/scai/phd/aiz218326/anaconda3/envs/crystal-llm/lib/python3.10/site-packages/pymatgen/analysis/local_env.py:4151: UserWarning: No oxidation states specified on sites! For better results, set the site oxidation states in the structure.\n",
      "  warnings.warn(\n",
      "/home/scai/phd/aiz218326/anaconda3/envs/crystal-llm/lib/python3.10/site-packages/pymatgen/analysis/local_env.py:4151: UserWarning: No oxidation states specified on sites! For better results, set the site oxidation states in the structure.\n",
      "  warnings.warn(\n",
      "/home/scai/phd/aiz218326/anaconda3/envs/crystal-llm/lib/python3.10/site-packages/pymatgen/analysis/local_env.py:4151: UserWarning: No oxidation states specified on sites! For better results, set the site oxidation states in the structure.\n",
      "  warnings.warn(\n",
      "/home/scai/phd/aiz218326/anaconda3/envs/crystal-llm/lib/python3.10/site-packages/pymatgen/analysis/local_env.py:3944: UserWarning: CrystalNN: cannot locate an appropriate radius, covalent or atomic radii will be used, this can lead to non-optimal results.\n",
      "  warnings.warn(\n",
      "/home/scai/phd/aiz218326/anaconda3/envs/crystal-llm/lib/python3.10/site-packages/pymatgen/analysis/local_env.py:3944: UserWarning: CrystalNN: cannot locate an appropriate radius, covalent or atomic radii will be used, this can lead to non-optimal results.\n",
      "  warnings.warn(\n",
      "/home/scai/phd/aiz218326/anaconda3/envs/crystal-llm/lib/python3.10/site-packages/pymatgen/analysis/local_env.py:4151: UserWarning: No oxidation states specified on sites! For better results, set the site oxidation states in the structure.\n",
      "  warnings.warn(\n",
      "/home/scai/phd/aiz218326/anaconda3/envs/crystal-llm/lib/python3.10/site-packages/pymatgen/analysis/local_env.py:3944: UserWarning: CrystalNN: cannot locate an appropriate radius, covalent or atomic radii will be used, this can lead to non-optimal results.\n",
      "  warnings.warn(\n",
      "/home/scai/phd/aiz218326/anaconda3/envs/crystal-llm/lib/python3.10/site-packages/pymatgen/analysis/local_env.py:3944: UserWarning: CrystalNN: cannot locate an appropriate radius, covalent or atomic radii will be used, this can lead to non-optimal results.\n",
      "  warnings.warn(\n",
      "/home/scai/phd/aiz218326/anaconda3/envs/crystal-llm/lib/python3.10/site-packages/pymatgen/analysis/local_env.py:4151: UserWarning: No oxidation states specified on sites! For better results, set the site oxidation states in the structure.\n",
      "  warnings.warn(\n",
      "/home/scai/phd/aiz218326/anaconda3/envs/crystal-llm/lib/python3.10/site-packages/pymatgen/analysis/local_env.py:4151: UserWarning: No oxidation states specified on sites! For better results, set the site oxidation states in the structure.\n",
      "  warnings.warn(\n",
      "/home/scai/phd/aiz218326/anaconda3/envs/crystal-llm/lib/python3.10/site-packages/pymatgen/analysis/local_env.py:3944: UserWarning: CrystalNN: cannot locate an appropriate radius, covalent or atomic radii will be used, this can lead to non-optimal results.\n",
      "  warnings.warn(\n",
      "/home/scai/phd/aiz218326/anaconda3/envs/crystal-llm/lib/python3.10/site-packages/pymatgen/analysis/local_env.py:4151: UserWarning: No oxidation states specified on sites! For better results, set the site oxidation states in the structure.\n",
      "  warnings.warn(\n",
      "/home/scai/phd/aiz218326/anaconda3/envs/crystal-llm/lib/python3.10/site-packages/pymatgen/analysis/local_env.py:3944: UserWarning: CrystalNN: cannot locate an appropriate radius, covalent or atomic radii will be used, this can lead to non-optimal results.\n",
      "  warnings.warn(\n",
      "/home/scai/phd/aiz218326/anaconda3/envs/crystal-llm/lib/python3.10/site-packages/pymatgen/analysis/local_env.py:3944: UserWarning: CrystalNN: cannot locate an appropriate radius, covalent or atomic radii will be used, this can lead to non-optimal results.\n",
      "  warnings.warn(\n",
      "/home/scai/phd/aiz218326/anaconda3/envs/crystal-llm/lib/python3.10/site-packages/pymatgen/analysis/local_env.py:3944: UserWarning: CrystalNN: cannot locate an appropriate radius, covalent or atomic radii will be used, this can lead to non-optimal results.\n",
      "  warnings.warn(\n",
      "/home/scai/phd/aiz218326/anaconda3/envs/crystal-llm/lib/python3.10/site-packages/pymatgen/analysis/local_env.py:3944: UserWarning: CrystalNN: cannot locate an appropriate radius, covalent or atomic radii will be used, this can lead to non-optimal results.\n",
      "  warnings.warn(\n",
      "/home/scai/phd/aiz218326/anaconda3/envs/crystal-llm/lib/python3.10/site-packages/pymatgen/analysis/local_env.py:3944: UserWarning: CrystalNN: cannot locate an appropriate radius, covalent or atomic radii will be used, this can lead to non-optimal results.\n",
      "  warnings.warn(\n",
      "/home/scai/phd/aiz218326/anaconda3/envs/crystal-llm/lib/python3.10/site-packages/pymatgen/analysis/local_env.py:3944: UserWarning: CrystalNN: cannot locate an appropriate radius, covalent or atomic radii will be used, this can lead to non-optimal results.\n",
      "  warnings.warn(\n",
      "/home/scai/phd/aiz218326/anaconda3/envs/crystal-llm/lib/python3.10/site-packages/pymatgen/analysis/local_env.py:3944: UserWarning: CrystalNN: cannot locate an appropriate radius, covalent or atomic radii will be used, this can lead to non-optimal results.\n",
      "  warnings.warn(\n",
      "/home/scai/phd/aiz218326/anaconda3/envs/crystal-llm/lib/python3.10/site-packages/pymatgen/analysis/local_env.py:3944: UserWarning: CrystalNN: cannot locate an appropriate radius, covalent or atomic radii will be used, this can lead to non-optimal results.\n",
      "  warnings.warn(\n",
      "/home/scai/phd/aiz218326/anaconda3/envs/crystal-llm/lib/python3.10/site-packages/pymatgen/analysis/local_env.py:3944: UserWarning: CrystalNN: cannot locate an appropriate radius, covalent or atomic radii will be used, this can lead to non-optimal results.\n",
      "  warnings.warn(\n",
      "/home/scai/phd/aiz218326/anaconda3/envs/crystal-llm/lib/python3.10/site-packages/pymatgen/analysis/local_env.py:4151: UserWarning: No oxidation states specified on sites! For better results, set the site oxidation states in the structure.\n",
      "  warnings.warn(\n",
      "/home/scai/phd/aiz218326/anaconda3/envs/crystal-llm/lib/python3.10/site-packages/pymatgen/analysis/local_env.py:3944: UserWarning: CrystalNN: cannot locate an appropriate radius, covalent or atomic radii will be used, this can lead to non-optimal results.\n",
      "  warnings.warn(\n",
      "/home/scai/phd/aiz218326/anaconda3/envs/crystal-llm/lib/python3.10/site-packages/pymatgen/analysis/local_env.py:4151: UserWarning: No oxidation states specified on sites! For better results, set the site oxidation states in the structure.\n",
      "  warnings.warn(\n",
      "/home/scai/phd/aiz218326/anaconda3/envs/crystal-llm/lib/python3.10/site-packages/pymatgen/analysis/local_env.py:3944: UserWarning: CrystalNN: cannot locate an appropriate radius, covalent or atomic radii will be used, this can lead to non-optimal results.\n",
      "  warnings.warn(\n",
      "/home/scai/phd/aiz218326/anaconda3/envs/crystal-llm/lib/python3.10/site-packages/pymatgen/analysis/local_env.py:4151: UserWarning: No oxidation states specified on sites! For better results, set the site oxidation states in the structure.\n",
      "  warnings.warn(\n",
      "/home/scai/phd/aiz218326/anaconda3/envs/crystal-llm/lib/python3.10/site-packages/pymatgen/analysis/local_env.py:4151: UserWarning: No oxidation states specified on sites! For better results, set the site oxidation states in the structure.\n",
      "  warnings.warn(\n",
      "/home/scai/phd/aiz218326/anaconda3/envs/crystal-llm/lib/python3.10/site-packages/pymatgen/analysis/local_env.py:4151: UserWarning: No oxidation states specified on sites! For better results, set the site oxidation states in the structure.\n",
      "  warnings.warn(\n",
      "/home/scai/phd/aiz218326/anaconda3/envs/crystal-llm/lib/python3.10/site-packages/pymatgen/analysis/local_env.py:3944: UserWarning: CrystalNN: cannot locate an appropriate radius, covalent or atomic radii will be used, this can lead to non-optimal results.\n",
      "  warnings.warn(\n",
      "/home/scai/phd/aiz218326/anaconda3/envs/crystal-llm/lib/python3.10/site-packages/pymatgen/analysis/local_env.py:4151: UserWarning: No oxidation states specified on sites! For better results, set the site oxidation states in the structure.\n",
      "  warnings.warn(\n",
      "/home/scai/phd/aiz218326/anaconda3/envs/crystal-llm/lib/python3.10/site-packages/pymatgen/analysis/local_env.py:3944: UserWarning: CrystalNN: cannot locate an appropriate radius, covalent or atomic radii will be used, this can lead to non-optimal results.\n",
      "  warnings.warn(\n",
      "/home/scai/phd/aiz218326/anaconda3/envs/crystal-llm/lib/python3.10/site-packages/pymatgen/analysis/local_env.py:4151: UserWarning: No oxidation states specified on sites! For better results, set the site oxidation states in the structure.\n",
      "  warnings.warn(\n",
      "/home/scai/phd/aiz218326/anaconda3/envs/crystal-llm/lib/python3.10/site-packages/pymatgen/analysis/local_env.py:4151: UserWarning: No oxidation states specified on sites! For better results, set the site oxidation states in the structure.\n",
      "  warnings.warn(\n",
      "/home/scai/phd/aiz218326/anaconda3/envs/crystal-llm/lib/python3.10/site-packages/pymatgen/analysis/local_env.py:4151: UserWarning: No oxidation states specified on sites! For better results, set the site oxidation states in the structure.\n",
      "  warnings.warn(\n",
      "/home/scai/phd/aiz218326/anaconda3/envs/crystal-llm/lib/python3.10/site-packages/pymatgen/analysis/local_env.py:4151: UserWarning: No oxidation states specified on sites! For better results, set the site oxidation states in the structure.\n",
      "  warnings.warn(\n",
      "/home/scai/phd/aiz218326/anaconda3/envs/crystal-llm/lib/python3.10/site-packages/pymatgen/analysis/local_env.py:4151: UserWarning: No oxidation states specified on sites! For better results, set the site oxidation states in the structure.\n",
      "  warnings.warn(\n",
      "/home/scai/phd/aiz218326/anaconda3/envs/crystal-llm/lib/python3.10/site-packages/pymatgen/analysis/local_env.py:3944: UserWarning: CrystalNN: cannot locate an appropriate radius, covalent or atomic radii will be used, this can lead to non-optimal results.\n",
      "  warnings.warn(\n",
      "/home/scai/phd/aiz218326/anaconda3/envs/crystal-llm/lib/python3.10/site-packages/pymatgen/analysis/local_env.py:3944: UserWarning: CrystalNN: cannot locate an appropriate radius, covalent or atomic radii will be used, this can lead to non-optimal results.\n",
      "  warnings.warn(\n",
      "/home/scai/phd/aiz218326/anaconda3/envs/crystal-llm/lib/python3.10/site-packages/pymatgen/analysis/local_env.py:3944: UserWarning: CrystalNN: cannot locate an appropriate radius, covalent or atomic radii will be used, this can lead to non-optimal results.\n",
      "  warnings.warn(\n",
      "/home/scai/phd/aiz218326/anaconda3/envs/crystal-llm/lib/python3.10/site-packages/pymatgen/analysis/local_env.py:3944: UserWarning: CrystalNN: cannot locate an appropriate radius, covalent or atomic radii will be used, this can lead to non-optimal results.\n",
      "  warnings.warn(\n",
      "/home/scai/phd/aiz218326/anaconda3/envs/crystal-llm/lib/python3.10/site-packages/pymatgen/analysis/local_env.py:4151: UserWarning: No oxidation states specified on sites! For better results, set the site oxidation states in the structure.\n",
      "  warnings.warn(\n",
      "/home/scai/phd/aiz218326/anaconda3/envs/crystal-llm/lib/python3.10/site-packages/pymatgen/analysis/local_env.py:3944: UserWarning: CrystalNN: cannot locate an appropriate radius, covalent or atomic radii will be used, this can lead to non-optimal results.\n",
      "  warnings.warn(\n",
      "/home/scai/phd/aiz218326/anaconda3/envs/crystal-llm/lib/python3.10/site-packages/pymatgen/analysis/local_env.py:4151: UserWarning: No oxidation states specified on sites! For better results, set the site oxidation states in the structure.\n",
      "  warnings.warn(\n",
      "/home/scai/phd/aiz218326/anaconda3/envs/crystal-llm/lib/python3.10/site-packages/pymatgen/analysis/local_env.py:4151: UserWarning: No oxidation states specified on sites! For better results, set the site oxidation states in the structure.\n",
      "  warnings.warn(\n",
      "/home/scai/phd/aiz218326/anaconda3/envs/crystal-llm/lib/python3.10/site-packages/pymatgen/analysis/local_env.py:3944: UserWarning: CrystalNN: cannot locate an appropriate radius, covalent or atomic radii will be used, this can lead to non-optimal results.\n",
      "  warnings.warn(\n",
      "/home/scai/phd/aiz218326/anaconda3/envs/crystal-llm/lib/python3.10/site-packages/pymatgen/analysis/local_env.py:3944: UserWarning: CrystalNN: cannot locate an appropriate radius, covalent or atomic radii will be used, this can lead to non-optimal results.\n",
      "  warnings.warn(\n",
      "/home/scai/phd/aiz218326/anaconda3/envs/crystal-llm/lib/python3.10/site-packages/pymatgen/analysis/local_env.py:3944: UserWarning: CrystalNN: cannot locate an appropriate radius, covalent or atomic radii will be used, this can lead to non-optimal results.\n",
      "  warnings.warn(\n",
      "/home/scai/phd/aiz218326/anaconda3/envs/crystal-llm/lib/python3.10/site-packages/pymatgen/analysis/local_env.py:3944: UserWarning: CrystalNN: cannot locate an appropriate radius, covalent or atomic radii will be used, this can lead to non-optimal results.\n",
      "  warnings.warn(\n",
      "/home/scai/phd/aiz218326/anaconda3/envs/crystal-llm/lib/python3.10/site-packages/pymatgen/analysis/local_env.py:3944: UserWarning: CrystalNN: cannot locate an appropriate radius, covalent or atomic radii will be used, this can lead to non-optimal results.\n",
      "  warnings.warn(\n",
      "/home/scai/phd/aiz218326/anaconda3/envs/crystal-llm/lib/python3.10/site-packages/pymatgen/analysis/local_env.py:3944: UserWarning: CrystalNN: cannot locate an appropriate radius, covalent or atomic radii will be used, this can lead to non-optimal results.\n",
      "  warnings.warn(\n",
      "/home/scai/phd/aiz218326/anaconda3/envs/crystal-llm/lib/python3.10/site-packages/pymatgen/analysis/local_env.py:3944: UserWarning: CrystalNN: cannot locate an appropriate radius, covalent or atomic radii will be used, this can lead to non-optimal results.\n",
      "  warnings.warn(\n",
      "/home/scai/phd/aiz218326/anaconda3/envs/crystal-llm/lib/python3.10/site-packages/pymatgen/analysis/local_env.py:3944: UserWarning: CrystalNN: cannot locate an appropriate radius, covalent or atomic radii will be used, this can lead to non-optimal results.\n",
      "  warnings.warn(\n",
      "  0%|                                                                                | 1/9046 [00:02<5:40:53,  2.26s/it]"
     ]
    },
    {
     "name": "stdout",
     "output_type": "stream",
     "text": [
      "Invalid CIF file with no structures!\n"
     ]
    },
    {
     "name": "stderr",
     "output_type": "stream",
     "text": [
      "  0%|                                                                                | 2/9046 [00:03<3:28:48,  1.39s/it]"
     ]
    },
    {
     "name": "stdout",
     "output_type": "stream",
     "text": [
      "Invalid CIF file with no structures!\n"
     ]
    },
    {
     "name": "stderr",
     "output_type": "stream",
     "text": [
      "/home/scai/phd/aiz218326/anaconda3/envs/crystal-llm/lib/python3.10/site-packages/pymatgen/io/cif.py:1079: UserWarning: Some occupancies ([2.0]) sum to > 1! If they are within the occupancy_tolerance, they will be rescaled. The current occupancy_tolerance is set to: 1.0\n",
      "  warnings.warn(msg)\n",
      "/home/scai/phd/aiz218326/anaconda3/envs/crystal-llm/lib/python3.10/site-packages/pymatgen/io/cif.py:1283: UserWarning: No structure parsed for section 1 in CIF.\n",
      "Occupancy 2.0 exceeded tolerance.\n",
      "  warnings.warn(msg)\n",
      "/home/scai/phd/aiz218326/anaconda3/envs/crystal-llm/lib/python3.10/site-packages/pymatgen/io/cif.py:1287: UserWarning: Issues encountered while parsing CIF: Some occupancies ([2.0]) sum to > 1! If they are within the occupancy_tolerance, they will be rescaled. The current occupancy_tolerance is set to: 1.0\n",
      "No structure parsed for section 1 in CIF.\n",
      "Occupancy 2.0 exceeded tolerance.\n",
      "  warnings.warn(\"Issues encountered while parsing CIF: \" + \"\\n\".join(self.warnings))\n"
     ]
    },
    {
     "name": "stdout",
     "output_type": "stream",
     "text": [
      "Invalid CIF file with no structures!\n",
      "Invalid CIF file with no structures!\n",
      "Invalid CIF file with no structures!\n"
     ]
    },
    {
     "name": "stderr",
     "output_type": "stream",
     "text": [
      "  0%|                                                                                | 4/9046 [00:07<4:53:45,  1.95s/it]"
     ]
    },
    {
     "name": "stdout",
     "output_type": "stream",
     "text": [
      "Invalid CIF file with no structures!\n",
      "Invalid CIF file with no structures!\n"
     ]
    },
    {
     "name": "stderr",
     "output_type": "stream",
     "text": [
      "  0%|                                                                                | 5/9046 [00:09<4:46:01,  1.90s/it]/home/scai/phd/aiz218326/anaconda3/envs/crystal-llm/lib/python3.10/site-packages/pymatgen/io/cif.py:1079: UserWarning: Some occupancies ([2.0]) sum to > 1! If they are within the occupancy_tolerance, they will be rescaled. The current occupancy_tolerance is set to: 1.0\n",
      "  warnings.warn(msg)\n",
      "/home/scai/phd/aiz218326/anaconda3/envs/crystal-llm/lib/python3.10/site-packages/pymatgen/io/cif.py:1283: UserWarning: No structure parsed for section 1 in CIF.\n",
      "Occupancy 2.0 exceeded tolerance.\n",
      "  warnings.warn(msg)\n",
      "/home/scai/phd/aiz218326/anaconda3/envs/crystal-llm/lib/python3.10/site-packages/pymatgen/io/cif.py:1287: UserWarning: Issues encountered while parsing CIF: Some occupancies ([2.0]) sum to > 1! If they are within the occupancy_tolerance, they will be rescaled. The current occupancy_tolerance is set to: 1.0\n",
      "No structure parsed for section 1 in CIF.\n",
      "Occupancy 2.0 exceeded tolerance.\n",
      "  warnings.warn(\"Issues encountered while parsing CIF: \" + \"\\n\".join(self.warnings))\n"
     ]
    },
    {
     "name": "stdout",
     "output_type": "stream",
     "text": [
      "Invalid CIF file with no structures!\n",
      "Invalid CIF file with no structures!\n"
     ]
    },
    {
     "name": "stderr",
     "output_type": "stream",
     "text": [
      "  0%|▎                                                                                | 30/9046 [00:11<27:34,  5.45it/s]"
     ]
    },
    {
     "name": "stdout",
     "output_type": "stream",
     "text": [
      "Invalid CIF file with no structures!\n"
     ]
    },
    {
     "name": "stderr",
     "output_type": "stream",
     "text": [
      "  1%|▍                                                                                | 52/9046 [00:13<18:03,  8.30it/s]"
     ]
    },
    {
     "name": "stdout",
     "output_type": "stream",
     "text": [
      "Invalid CIF file with no structures!\n"
     ]
    },
    {
     "name": "stderr",
     "output_type": "stream",
     "text": [
      "  1%|▋                                                                                | 74/9046 [00:17<25:49,  5.79it/s]"
     ]
    },
    {
     "name": "stdout",
     "output_type": "stream",
     "text": [
      "Invalid CIF file with no structures!\n",
      "Invalid CIF file with no structures!\n"
     ]
    },
    {
     "name": "stderr",
     "output_type": "stream",
     "text": [
      "  1%|█                                                                               | 116/9046 [00:20<14:23, 10.34it/s]"
     ]
    },
    {
     "name": "stdout",
     "output_type": "stream",
     "text": [
      "Invalid CIF file with no structures!\n",
      "Invalid CIF file with no structures!\n"
     ]
    },
    {
     "name": "stderr",
     "output_type": "stream",
     "text": [
      "  2%|█▌                                                                              | 175/9046 [00:25<12:07, 12.19it/s]"
     ]
    },
    {
     "name": "stdout",
     "output_type": "stream",
     "text": [
      "Invalid CIF file with no structures!\n",
      "Invalid CIF file with no structures!\n"
     ]
    },
    {
     "name": "stderr",
     "output_type": "stream",
     "text": [
      "  2%|█▊                                                                              | 199/9046 [00:27<12:19, 11.97it/s]"
     ]
    },
    {
     "name": "stdout",
     "output_type": "stream",
     "text": [
      "Invalid CIF file with no structures!\n",
      "Invalid CIF file with no structures!\n",
      "Invalid CIF file with no structures!\n",
      "Invalid CIF file with no structures!\n",
      "Invalid CIF file with no structures!\n",
      "Invalid CIF file with no structures!\n"
     ]
    },
    {
     "name": "stderr",
     "output_type": "stream",
     "text": [
      "  3%|██                                                                              | 240/9046 [00:32<13:27, 10.91it/s]"
     ]
    },
    {
     "name": "stdout",
     "output_type": "stream",
     "text": [
      "Invalid CIF file with no structures!\n",
      "Invalid CIF file with no structures!\n",
      "Invalid CIF file with no structures!\n"
     ]
    },
    {
     "name": "stderr",
     "output_type": "stream",
     "text": [
      "  3%|██▋                                                                             | 304/9046 [00:36<09:15, 15.74it/s]/home/scai/phd/aiz218326/anaconda3/envs/crystal-llm/lib/python3.10/site-packages/pymatgen/io/cif.py:1079: UserWarning: Some occupancies ([2.0, 2.0]) sum to > 1! If they are within the occupancy_tolerance, they will be rescaled. The current occupancy_tolerance is set to: 1.0\n",
      "  warnings.warn(msg)\n",
      "/home/scai/phd/aiz218326/anaconda3/envs/crystal-llm/lib/python3.10/site-packages/pymatgen/io/cif.py:1287: UserWarning: Issues encountered while parsing CIF: Some occupancies ([2.0, 2.0]) sum to > 1! If they are within the occupancy_tolerance, they will be rescaled. The current occupancy_tolerance is set to: 1.0\n",
      "No structure parsed for section 1 in CIF.\n",
      "Occupancy 2.0 exceeded tolerance.\n",
      "  warnings.warn(\"Issues encountered while parsing CIF: \" + \"\\n\".join(self.warnings))\n"
     ]
    },
    {
     "name": "stdout",
     "output_type": "stream",
     "text": [
      "Invalid CIF file with no structures!\n",
      "Invalid CIF file with no structures!\n"
     ]
    },
    {
     "name": "stderr",
     "output_type": "stream",
     "text": [
      "/home/scai/phd/aiz218326/anaconda3/envs/crystal-llm/lib/python3.10/site-packages/pymatgen/io/cif.py:1079: UserWarning: Some occupancies ([2.0]) sum to > 1! If they are within the occupancy_tolerance, they will be rescaled. The current occupancy_tolerance is set to: 1.0\n",
      "  warnings.warn(msg)\n",
      "/home/scai/phd/aiz218326/anaconda3/envs/crystal-llm/lib/python3.10/site-packages/pymatgen/io/cif.py:1283: UserWarning: No structure parsed for section 1 in CIF.\n",
      "Occupancy 2.0 exceeded tolerance.\n",
      "  warnings.warn(msg)\n",
      "/home/scai/phd/aiz218326/anaconda3/envs/crystal-llm/lib/python3.10/site-packages/pymatgen/io/cif.py:1287: UserWarning: Issues encountered while parsing CIF: Some occupancies ([2.0]) sum to > 1! If they are within the occupancy_tolerance, they will be rescaled. The current occupancy_tolerance is set to: 1.0\n",
      "No structure parsed for section 1 in CIF.\n",
      "Occupancy 2.0 exceeded tolerance.\n",
      "  warnings.warn(\"Issues encountered while parsing CIF: \" + \"\\n\".join(self.warnings))\n"
     ]
    },
    {
     "name": "stdout",
     "output_type": "stream",
     "text": [
      "Invalid CIF file with no structures!\n"
     ]
    },
    {
     "name": "stderr",
     "output_type": "stream",
     "text": [
      "  3%|██▋                                                                             | 308/9046 [00:39<15:30,  9.39it/s]"
     ]
    },
    {
     "name": "stdout",
     "output_type": "stream",
     "text": [
      "Invalid CIF file with no structures!\n"
     ]
    },
    {
     "name": "stderr",
     "output_type": "stream",
     "text": [
      "  4%|██▉                                                                             | 327/9046 [00:40<12:17, 11.82it/s]"
     ]
    },
    {
     "name": "stdout",
     "output_type": "stream",
     "text": [
      "Invalid CIF file with no structures!\n"
     ]
    },
    {
     "name": "stderr",
     "output_type": "stream",
     "text": [
      "  4%|███▏                                                                            | 357/9046 [00:46<19:06,  7.58it/s]"
     ]
    },
    {
     "name": "stdout",
     "output_type": "stream",
     "text": [
      "Invalid CIF file with no structures!\n"
     ]
    },
    {
     "name": "stderr",
     "output_type": "stream",
     "text": [
      "  5%|███▉                                                                            | 442/9046 [00:54<14:20, 10.00it/s]/home/scai/phd/aiz218326/anaconda3/envs/crystal-llm/lib/python3.10/site-packages/pymatgen/io/cif.py:1079: UserWarning: Some occupancies ([2.0, 2.0]) sum to > 1! If they are within the occupancy_tolerance, they will be rescaled. The current occupancy_tolerance is set to: 1.0\n",
      "  warnings.warn(msg)\n",
      "/home/scai/phd/aiz218326/anaconda3/envs/crystal-llm/lib/python3.10/site-packages/pymatgen/io/cif.py:1283: UserWarning: No structure parsed for section 1 in CIF.\n",
      "Occupancy 2.0 exceeded tolerance.\n",
      "  warnings.warn(msg)\n",
      "/home/scai/phd/aiz218326/anaconda3/envs/crystal-llm/lib/python3.10/site-packages/pymatgen/io/cif.py:1287: UserWarning: Issues encountered while parsing CIF: Some occupancies ([2.0, 2.0]) sum to > 1! If they are within the occupancy_tolerance, they will be rescaled. The current occupancy_tolerance is set to: 1.0\n",
      "No structure parsed for section 1 in CIF.\n",
      "Occupancy 2.0 exceeded tolerance.\n",
      "  warnings.warn(\"Issues encountered while parsing CIF: \" + \"\\n\".join(self.warnings))\n"
     ]
    },
    {
     "name": "stdout",
     "output_type": "stream",
     "text": [
      "Invalid CIF file with no structures!\n"
     ]
    },
    {
     "name": "stderr",
     "output_type": "stream",
     "text": [
      "  5%|████▏                                                                           | 471/9046 [00:56<11:15, 12.69it/s]"
     ]
    },
    {
     "name": "stdout",
     "output_type": "stream",
     "text": [
      "Invalid CIF file with no structures!\n",
      "Invalid CIF file with no structures!\n"
     ]
    },
    {
     "name": "stderr",
     "output_type": "stream",
     "text": [
      "  5%|████▍                                                                           | 495/9046 [01:01<16:29,  8.64it/s]/home/scai/phd/aiz218326/anaconda3/envs/crystal-llm/lib/python3.10/site-packages/pymatgen/io/cif.py:1221: UserWarning: 'Eb' is not a valid Element\n",
      "  warnings.warn(cif_failure_reason)\n"
     ]
    },
    {
     "name": "stdout",
     "output_type": "stream",
     "text": [
      "'Eb0+' is not in list\n"
     ]
    },
    {
     "name": "stderr",
     "output_type": "stream",
     "text": [
      "  6%|████▍                                                                           | 502/9046 [01:01<15:09,  9.40it/s]"
     ]
    },
    {
     "name": "stdout",
     "output_type": "stream",
     "text": [
      "Invalid CIF file with no structures!\n",
      "Invalid CIF file with no structures!\n",
      "Invalid CIF file with no structures!\n"
     ]
    },
    {
     "name": "stderr",
     "output_type": "stream",
     "text": [
      "  6%|████▍                                                                           | 508/9046 [01:04<25:59,  5.47it/s]"
     ]
    },
    {
     "name": "stdout",
     "output_type": "stream",
     "text": [
      "Invalid CIF file with no structures!\n"
     ]
    },
    {
     "name": "stderr",
     "output_type": "stream",
     "text": [
      "  7%|█████▏                                                                          | 591/9046 [01:10<13:14, 10.64it/s]"
     ]
    },
    {
     "name": "stdout",
     "output_type": "stream",
     "text": [
      "Invalid CIF file with no structures!\n"
     ]
    },
    {
     "name": "stderr",
     "output_type": "stream",
     "text": [
      "  7%|█████▎                                                                          | 601/9046 [01:13<16:46,  8.39it/s]"
     ]
    },
    {
     "name": "stdout",
     "output_type": "stream",
     "text": [
      "Invalid CIF file with no structures!\n"
     ]
    },
    {
     "name": "stderr",
     "output_type": "stream",
     "text": [
      "  7%|█████▌                                                                          | 625/9046 [01:14<13:37, 10.30it/s]"
     ]
    },
    {
     "name": "stdout",
     "output_type": "stream",
     "text": [
      "Invalid CIF file with no structures!\n",
      "Invalid CIF file with no structures!\n"
     ]
    },
    {
     "name": "stderr",
     "output_type": "stream",
     "text": [
      "  7%|█████▋                                                                          | 640/9046 [01:16<14:41,  9.54it/s]"
     ]
    },
    {
     "name": "stdout",
     "output_type": "stream",
     "text": [
      "Invalid CIF file with no structures!\n"
     ]
    },
    {
     "name": "stderr",
     "output_type": "stream",
     "text": [
      "  7%|█████▉                                                                          | 665/9046 [01:19<12:33, 11.12it/s]"
     ]
    },
    {
     "name": "stdout",
     "output_type": "stream",
     "text": [
      "Invalid CIF file with no structures!\n",
      "Invalid CIF file with no structures!\n"
     ]
    },
    {
     "name": "stderr",
     "output_type": "stream",
     "text": [
      "  8%|██████                                                                          | 688/9046 [01:20<09:55, 14.04it/s]"
     ]
    },
    {
     "name": "stdout",
     "output_type": "stream",
     "text": [
      "Invalid CIF file with no structures!\n",
      "Invalid CIF file with no structures!\n"
     ]
    },
    {
     "name": "stderr",
     "output_type": "stream",
     "text": [
      "  8%|██████▍                                                                         | 734/9046 [01:27<16:40,  8.31it/s]"
     ]
    },
    {
     "name": "stdout",
     "output_type": "stream",
     "text": [
      "Invalid CIF file with no structures!\n"
     ]
    },
    {
     "name": "stderr",
     "output_type": "stream",
     "text": [
      "  8%|██████▌                                                                         | 738/9046 [01:28<19:03,  7.26it/s]"
     ]
    },
    {
     "name": "stdout",
     "output_type": "stream",
     "text": [
      "Invalid CIF file with no structures!Invalid CIF file with no structures!\n",
      "\n"
     ]
    },
    {
     "name": "stderr",
     "output_type": "stream",
     "text": [
      "  8%|██████▋                                                                         | 759/9046 [01:29<15:15,  9.05it/s]/home/scai/phd/aiz218326/anaconda3/envs/crystal-llm/lib/python3.10/site-packages/pymatgen/io/cif.py:1079: UserWarning: Some occupancies ([2.0]) sum to > 1! If they are within the occupancy_tolerance, they will be rescaled. The current occupancy_tolerance is set to: 1.0\n",
      "  warnings.warn(msg)\n",
      "/home/scai/phd/aiz218326/anaconda3/envs/crystal-llm/lib/python3.10/site-packages/pymatgen/io/cif.py:1283: UserWarning: No structure parsed for section 1 in CIF.\n",
      "Occupancy 2.0 exceeded tolerance.\n",
      "  warnings.warn(msg)\n",
      "/home/scai/phd/aiz218326/anaconda3/envs/crystal-llm/lib/python3.10/site-packages/pymatgen/io/cif.py:1287: UserWarning: Issues encountered while parsing CIF: Some occupancies ([2.0]) sum to > 1! If they are within the occupancy_tolerance, they will be rescaled. The current occupancy_tolerance is set to: 1.0\n",
      "No structure parsed for section 1 in CIF.\n",
      "Occupancy 2.0 exceeded tolerance.\n",
      "  warnings.warn(\"Issues encountered while parsing CIF: \" + \"\\n\".join(self.warnings))\n"
     ]
    },
    {
     "name": "stdout",
     "output_type": "stream",
     "text": [
      "Invalid CIF file with no structures!\n"
     ]
    },
    {
     "name": "stderr",
     "output_type": "stream",
     "text": [
      "  9%|███████                                                                         | 796/9046 [01:33<12:54, 10.65it/s]"
     ]
    },
    {
     "name": "stdout",
     "output_type": "stream",
     "text": [
      "Invalid CIF file with no structures!\n",
      "Invalid CIF file with no structures!\n",
      "Invalid CIF file with no structures!\n",
      "Invalid CIF file with no structures!\n",
      "Invalid CIF file with no structures!\n"
     ]
    },
    {
     "name": "stderr",
     "output_type": "stream",
     "text": [
      "  9%|███████                                                                         | 803/9046 [01:37<21:49,  6.29it/s]"
     ]
    },
    {
     "name": "stdout",
     "output_type": "stream",
     "text": [
      "Invalid CIF file with no structures!\n"
     ]
    },
    {
     "name": "stderr",
     "output_type": "stream",
     "text": [
      "/home/scai/phd/aiz218326/anaconda3/envs/crystal-llm/lib/python3.10/site-packages/pymatgen/io/cif.py:1079: UserWarning: Some occupancies ([2.0]) sum to > 1! If they are within the occupancy_tolerance, they will be rescaled. The current occupancy_tolerance is set to: 1.0\n",
      "  warnings.warn(msg)\n",
      "/home/scai/phd/aiz218326/anaconda3/envs/crystal-llm/lib/python3.10/site-packages/pymatgen/io/cif.py:1283: UserWarning: No structure parsed for section 1 in CIF.\n",
      "Occupancy 2.0 exceeded tolerance.\n",
      "  warnings.warn(msg)\n",
      "/home/scai/phd/aiz218326/anaconda3/envs/crystal-llm/lib/python3.10/site-packages/pymatgen/io/cif.py:1287: UserWarning: Issues encountered while parsing CIF: Some occupancies ([2.0]) sum to > 1! If they are within the occupancy_tolerance, they will be rescaled. The current occupancy_tolerance is set to: 1.0\n",
      "No structure parsed for section 1 in CIF.\n",
      "Occupancy 2.0 exceeded tolerance.\n",
      "  warnings.warn(\"Issues encountered while parsing CIF: \" + \"\\n\".join(self.warnings))\n"
     ]
    },
    {
     "name": "stdout",
     "output_type": "stream",
     "text": [
      "Invalid CIF file with no structures!\n",
      "Invalid CIF file with no structures!Invalid CIF file with no structures!\n",
      "\n",
      "Invalid CIF file with no structures!\n",
      "Invalid CIF file with no structures!\n",
      "Invalid CIF file with no structures!\n",
      "Invalid CIF file with no structures!\n"
     ]
    },
    {
     "name": "stderr",
     "output_type": "stream",
     "text": [
      " 10%|███████▊                                                                        | 881/9046 [01:42<10:41, 12.73it/s]"
     ]
    },
    {
     "name": "stdout",
     "output_type": "stream",
     "text": [
      "Invalid CIF file with no structures!\n",
      "Invalid CIF file with no structures!\n",
      "Invalid CIF file with no structures!\n",
      "Invalid CIF file with no structures!\n"
     ]
    },
    {
     "name": "stderr",
     "output_type": "stream",
     "text": [
      " 10%|████████▎                                                                       | 938/9046 [01:49<12:13, 11.05it/s]"
     ]
    },
    {
     "name": "stdout",
     "output_type": "stream",
     "text": [
      "Invalid CIF file with no structures!\n"
     ]
    },
    {
     "name": "stderr",
     "output_type": "stream",
     "text": [
      " 11%|████████▌                                                                       | 970/9046 [01:51<10:19, 13.04it/s]"
     ]
    },
    {
     "name": "stdout",
     "output_type": "stream",
     "text": [
      "Invalid CIF file with no structures!\n"
     ]
    },
    {
     "name": "stderr",
     "output_type": "stream",
     "text": [
      " 11%|████████▊                                                                       | 999/9046 [01:54<12:19, 10.88it/s]"
     ]
    },
    {
     "name": "stdout",
     "output_type": "stream",
     "text": [
      "Invalid CIF file with no structures!\n"
     ]
    },
    {
     "name": "stderr",
     "output_type": "stream",
     "text": [
      " 11%|████████▉                                                                      | 1025/9046 [01:56<10:52, 12.29it/s]"
     ]
    },
    {
     "name": "stdout",
     "output_type": "stream",
     "text": [
      "Invalid CIF file with no structures!\n"
     ]
    },
    {
     "name": "stderr",
     "output_type": "stream",
     "text": [
      " 12%|█████████▌                                                                     | 1088/9046 [02:05<15:32,  8.54it/s]"
     ]
    },
    {
     "name": "stdout",
     "output_type": "stream",
     "text": [
      "Invalid CIF file with no structures!\n",
      "Invalid CIF file with no structures!"
     ]
    },
    {
     "name": "stderr",
     "output_type": "stream",
     "text": [
      " 12%|█████████▌                                                                     | 1097/9046 [02:06<15:52,  8.34it/s]"
     ]
    },
    {
     "name": "stdout",
     "output_type": "stream",
     "text": [
      "\n",
      "Invalid CIF file with no structures!\n"
     ]
    },
    {
     "name": "stderr",
     "output_type": "stream",
     "text": [
      " 13%|█████████▉                                                                     | 1142/9046 [02:08<09:44, 13.52it/s]"
     ]
    },
    {
     "name": "stdout",
     "output_type": "stream",
     "text": [
      "Invalid CIF file with no structures!\n"
     ]
    },
    {
     "name": "stderr",
     "output_type": "stream",
     "text": [
      " 13%|█████████▉                                                                     | 1145/9046 [02:10<13:12,  9.97it/s]"
     ]
    },
    {
     "name": "stdout",
     "output_type": "stream",
     "text": [
      "Invalid CIF file with no structures!\n",
      "Invalid CIF file with no structures!\n"
     ]
    },
    {
     "name": "stderr",
     "output_type": "stream",
     "text": [
      " 13%|██████████                                                                     | 1150/9046 [02:12<21:09,  6.22it/s]"
     ]
    },
    {
     "name": "stdout",
     "output_type": "stream",
     "text": [
      "Invalid CIF file with no structures!\n"
     ]
    },
    {
     "name": "stderr",
     "output_type": "stream",
     "text": [
      " 13%|██████████▏                                                                    | 1167/9046 [02:15<19:21,  6.78it/s]"
     ]
    },
    {
     "name": "stdout",
     "output_type": "stream",
     "text": [
      "Invalid CIF file with no structures!\n"
     ]
    },
    {
     "name": "stderr",
     "output_type": "stream",
     "text": [
      " 13%|██████████▍                                                                    | 1194/9046 [02:15<11:54, 10.98it/s]"
     ]
    },
    {
     "name": "stdout",
     "output_type": "stream",
     "text": [
      "Invalid CIF file with no structures!\n"
     ]
    },
    {
     "name": "stderr",
     "output_type": "stream",
     "text": [
      " 13%|██████████▌                                                                    | 1216/9046 [02:18<13:15,  9.84it/s]"
     ]
    },
    {
     "name": "stdout",
     "output_type": "stream",
     "text": [
      "Invalid CIF file with no structures!\n",
      "Invalid CIF file with no structures!\n",
      "Invalid CIF file with no structures!\n"
     ]
    },
    {
     "name": "stderr",
     "output_type": "stream",
     "text": [
      " 13%|██████████▋                                                                    | 1221/9046 [02:19<14:59,  8.70it/s]"
     ]
    },
    {
     "name": "stdout",
     "output_type": "stream",
     "text": [
      "Invalid CIF file with no structures!\n",
      "Invalid CIF file with no structures!\n",
      "Invalid CIF file with no structures!\n",
      "Invalid CIF file with no structures!\n",
      "Invalid CIF file with no structures!\n"
     ]
    },
    {
     "name": "stderr",
     "output_type": "stream",
     "text": [
      "/home/scai/phd/aiz218326/anaconda3/envs/crystal-llm/lib/python3.10/site-packages/pymatgen/io/cif.py:1079: UserWarning: Some occupancies ([2.0]) sum to > 1! If they are within the occupancy_tolerance, they will be rescaled. The current occupancy_tolerance is set to: 1.0\n",
      "  warnings.warn(msg)\n",
      "/home/scai/phd/aiz218326/anaconda3/envs/crystal-llm/lib/python3.10/site-packages/pymatgen/io/cif.py:1283: UserWarning: No structure parsed for section 1 in CIF.\n",
      "Occupancy 2.0 exceeded tolerance.\n",
      "  warnings.warn(msg)\n",
      "/home/scai/phd/aiz218326/anaconda3/envs/crystal-llm/lib/python3.10/site-packages/pymatgen/io/cif.py:1287: UserWarning: Issues encountered while parsing CIF: Some occupancies ([2.0]) sum to > 1! If they are within the occupancy_tolerance, they will be rescaled. The current occupancy_tolerance is set to: 1.0\n",
      "No structure parsed for section 1 in CIF.\n",
      "Occupancy 2.0 exceeded tolerance.\n",
      "  warnings.warn(\"Issues encountered while parsing CIF: \" + \"\\n\".join(self.warnings))\n"
     ]
    },
    {
     "name": "stdout",
     "output_type": "stream",
     "text": [
      "Invalid CIF file with no structures!\n",
      "Invalid CIF file with no structures!\n"
     ]
    },
    {
     "name": "stderr",
     "output_type": "stream",
     "text": [
      " 14%|██████████▊                                                                    | 1234/9046 [02:22<20:06,  6.48it/s]"
     ]
    },
    {
     "name": "stdout",
     "output_type": "stream",
     "text": [
      "Invalid CIF file with no structures!\n",
      "Invalid CIF file with no structures!\n"
     ]
    },
    {
     "name": "stderr",
     "output_type": "stream",
     "text": [
      " 14%|███████████▏                                                                   | 1277/9046 [02:24<09:55, 13.04it/s]"
     ]
    },
    {
     "name": "stdout",
     "output_type": "stream",
     "text": [
      "Invalid CIF file with no structures!\n"
     ]
    },
    {
     "name": "stderr",
     "output_type": "stream",
     "text": [
      " 14%|███████████▏                                                                   | 1288/9046 [02:28<16:31,  7.82it/s]"
     ]
    },
    {
     "name": "stdout",
     "output_type": "stream",
     "text": [
      "Invalid CIF file with no structures!\n",
      "Invalid CIF file with no structures!\n"
     ]
    },
    {
     "name": "stderr",
     "output_type": "stream",
     "text": [
      " 15%|███████████▍                                                                   | 1315/9046 [02:31<14:53,  8.65it/s]"
     ]
    },
    {
     "name": "stdout",
     "output_type": "stream",
     "text": [
      "Invalid CIF file with no structures!\n",
      "Invalid CIF file with no structures!\n"
     ]
    },
    {
     "name": "stderr",
     "output_type": "stream",
     "text": [
      " 15%|████████████                                                                   | 1377/9046 [02:32<06:46, 18.89it/s]"
     ]
    },
    {
     "name": "stdout",
     "output_type": "stream",
     "text": [
      "Invalid CIF file with no structures!\n"
     ]
    },
    {
     "name": "stderr",
     "output_type": "stream",
     "text": [
      " 15%|████████████▏                                                                  | 1395/9046 [02:35<10:27, 12.20it/s]"
     ]
    },
    {
     "name": "stdout",
     "output_type": "stream",
     "text": [
      "Invalid CIF file with no structures!\n"
     ]
    },
    {
     "name": "stderr",
     "output_type": "stream",
     "text": [
      " 16%|████████████▎                                                                  | 1404/9046 [02:36<11:06, 11.47it/s]"
     ]
    },
    {
     "name": "stdout",
     "output_type": "stream",
     "text": [
      "Invalid CIF file with no structures!\n",
      "Invalid CIF file with no structures!\n",
      "Invalid CIF file with no structures!\n",
      "Invalid CIF file with no structures!\n"
     ]
    },
    {
     "name": "stderr",
     "output_type": "stream",
     "text": [
      " 16%|████████████▎                                                                  | 1416/9046 [02:39<15:59,  7.95it/s]"
     ]
    },
    {
     "name": "stdout",
     "output_type": "stream",
     "text": [
      "Invalid CIF file with no structures!\n"
     ]
    },
    {
     "name": "stderr",
     "output_type": "stream",
     "text": [
      "/home/scai/phd/aiz218326/anaconda3/envs/crystal-llm/lib/python3.10/site-packages/pymatgen/io/cif.py:1079: UserWarning: Some occupancies ([2.0]) sum to > 1! If they are within the occupancy_tolerance, they will be rescaled. The current occupancy_tolerance is set to: 1.0\n",
      "  warnings.warn(msg)\n",
      "/home/scai/phd/aiz218326/anaconda3/envs/crystal-llm/lib/python3.10/site-packages/pymatgen/io/cif.py:1283: UserWarning: No structure parsed for section 1 in CIF.\n",
      "Occupancy 2.0 exceeded tolerance.\n",
      "  warnings.warn(msg)\n",
      "/home/scai/phd/aiz218326/anaconda3/envs/crystal-llm/lib/python3.10/site-packages/pymatgen/io/cif.py:1287: UserWarning: Issues encountered while parsing CIF: Some occupancies ([2.0]) sum to > 1! If they are within the occupancy_tolerance, they will be rescaled. The current occupancy_tolerance is set to: 1.0\n",
      "No structure parsed for section 1 in CIF.\n",
      "Occupancy 2.0 exceeded tolerance.\n",
      "  warnings.warn(\"Issues encountered while parsing CIF: \" + \"\\n\".join(self.warnings))\n"
     ]
    },
    {
     "name": "stdout",
     "output_type": "stream",
     "text": [
      "Invalid CIF file with no structures!\n"
     ]
    },
    {
     "name": "stderr",
     "output_type": "stream",
     "text": [
      " 16%|████████████▍                                                                  | 1428/9046 [02:42<20:24,  6.22it/s]"
     ]
    },
    {
     "name": "stdout",
     "output_type": "stream",
     "text": [
      "Invalid CIF file with no structures!\n",
      "Invalid CIF file with no structures!\n"
     ]
    },
    {
     "name": "stderr",
     "output_type": "stream",
     "text": [
      " 17%|█████████████                                                                  | 1494/9046 [02:45<08:57, 14.04it/s]"
     ]
    },
    {
     "name": "stdout",
     "output_type": "stream",
     "text": [
      "Invalid CIF file with no structures!\n",
      "Invalid CIF file with no structures!\n",
      "Invalid CIF file with no structures!\n"
     ]
    },
    {
     "name": "stderr",
     "output_type": "stream",
     "text": [
      "/home/scai/phd/aiz218326/anaconda3/envs/crystal-llm/lib/python3.10/site-packages/pymatgen/io/cif.py:1079: UserWarning: Some occupancies ([2.0, 2.0]) sum to > 1! If they are within the occupancy_tolerance, they will be rescaled. The current occupancy_tolerance is set to: 1.0\n",
      "  warnings.warn(msg)\n",
      "/home/scai/phd/aiz218326/anaconda3/envs/crystal-llm/lib/python3.10/site-packages/pymatgen/io/cif.py:1283: UserWarning: No structure parsed for section 1 in CIF.\n",
      "Occupancy 2.0 exceeded tolerance.\n",
      "  warnings.warn(msg)\n",
      "/home/scai/phd/aiz218326/anaconda3/envs/crystal-llm/lib/python3.10/site-packages/pymatgen/io/cif.py:1287: UserWarning: Issues encountered while parsing CIF: Some occupancies ([2.0, 2.0]) sum to > 1! If they are within the occupancy_tolerance, they will be rescaled. The current occupancy_tolerance is set to: 1.0\n",
      "No structure parsed for section 1 in CIF.\n",
      "Occupancy 2.0 exceeded tolerance.\n",
      "  warnings.warn(\"Issues encountered while parsing CIF: \" + \"\\n\".join(self.warnings))\n"
     ]
    },
    {
     "name": "stdout",
     "output_type": "stream",
     "text": [
      "Invalid CIF file with no structures!\n",
      "Invalid CIF file with no structures!\n"
     ]
    },
    {
     "name": "stderr",
     "output_type": "stream",
     "text": [
      " 17%|█████████████▏                                                                 | 1511/9046 [02:50<15:19,  8.19it/s]"
     ]
    },
    {
     "name": "stdout",
     "output_type": "stream",
     "text": [
      "Invalid CIF file with no structures!\n"
     ]
    },
    {
     "name": "stderr",
     "output_type": "stream",
     "text": [
      " 17%|█████████████▌                                                                 | 1554/9046 [02:50<08:46, 14.24it/s]"
     ]
    },
    {
     "name": "stdout",
     "output_type": "stream",
     "text": [
      "Invalid CIF file with no structures!\n"
     ]
    },
    {
     "name": "stderr",
     "output_type": "stream",
     "text": [
      " 17%|█████████████▋                                                                 | 1569/9046 [02:51<08:16, 15.04it/s]"
     ]
    },
    {
     "name": "stdout",
     "output_type": "stream",
     "text": [
      "Invalid CIF file with no structures!\n",
      "Invalid CIF file with no structures!\n",
      "Invalid CIF file with no structures!\n",
      "Invalid CIF file with no structures!\n",
      "Invalid CIF file with no structures!\n",
      "Invalid CIF file with no structures!\n"
     ]
    },
    {
     "name": "stderr",
     "output_type": "stream",
     "text": [
      " 18%|█████████████▊                                                                 | 1586/9046 [02:55<13:44,  9.05it/s]"
     ]
    },
    {
     "name": "stdout",
     "output_type": "stream",
     "text": [
      "Invalid CIF file with no structures!\n"
     ]
    },
    {
     "name": "stderr",
     "output_type": "stream",
     "text": [
      " 18%|██████████████                                                                 | 1614/9046 [02:58<12:52,  9.62it/s]"
     ]
    },
    {
     "name": "stdout",
     "output_type": "stream",
     "text": [
      "Invalid CIF file with no structures!\n",
      "Invalid CIF file with no structures!\n",
      "Invalid CIF file with no structures!\n",
      "Invalid CIF file with no structures!\n",
      "Invalid CIF file with no structures!\n",
      "Invalid CIF file with no structures!\n"
     ]
    },
    {
     "name": "stderr",
     "output_type": "stream",
     "text": [
      " 18%|██████████████▏                                                                | 1618/9046 [03:02<22:17,  5.55it/s]"
     ]
    },
    {
     "name": "stdout",
     "output_type": "stream",
     "text": [
      "Invalid CIF file with no structures!\n"
     ]
    },
    {
     "name": "stderr",
     "output_type": "stream",
     "text": [
      " 19%|██████████████▌                                                                | 1674/9046 [03:05<14:43,  8.35it/s]"
     ]
    },
    {
     "name": "stdout",
     "output_type": "stream",
     "text": [
      "Invalid CIF file with no structures!\n",
      "Invalid CIF file with no structures!\n"
     ]
    },
    {
     "name": "stderr",
     "output_type": "stream",
     "text": [
      " 19%|██████████████▊                                                                | 1697/9046 [03:07<12:57,  9.45it/s]"
     ]
    },
    {
     "name": "stdout",
     "output_type": "stream",
     "text": [
      "Invalid CIF file with no structures!\n"
     ]
    },
    {
     "name": "stderr",
     "output_type": "stream",
     "text": [
      " 19%|███████████████                                                                | 1726/9046 [03:09<10:17, 11.86it/s]"
     ]
    },
    {
     "name": "stdout",
     "output_type": "stream",
     "text": [
      "Invalid CIF file with no structures!\n"
     ]
    },
    {
     "name": "stderr",
     "output_type": "stream",
     "text": [
      " 19%|███████████████▎                                                               | 1755/9046 [03:12<11:40, 10.40it/s]"
     ]
    },
    {
     "name": "stdout",
     "output_type": "stream",
     "text": [
      "Invalid CIF file with no structures!\n"
     ]
    },
    {
     "name": "stderr",
     "output_type": "stream",
     "text": [
      " 20%|███████████████▍                                                               | 1769/9046 [03:12<09:29, 12.79it/s]"
     ]
    },
    {
     "name": "stdout",
     "output_type": "stream",
     "text": [
      "Invalid CIF file with no structures!\n"
     ]
    },
    {
     "name": "stderr",
     "output_type": "stream",
     "text": [
      " 20%|███████████████▍                                                               | 1771/9046 [03:16<18:54,  6.41it/s]"
     ]
    },
    {
     "name": "stdout",
     "output_type": "stream",
     "text": [
      "Invalid CIF file with no structures!\n"
     ]
    },
    {
     "name": "stderr",
     "output_type": "stream",
     "text": [
      " 20%|███████████████▌                                                               | 1781/9046 [03:17<17:32,  6.90it/s]"
     ]
    },
    {
     "name": "stdout",
     "output_type": "stream",
     "text": [
      "Invalid CIF file with no structures!\n"
     ]
    },
    {
     "name": "stderr",
     "output_type": "stream",
     "text": [
      " 20%|███████████████▊                                                               | 1806/9046 [03:20<16:57,  7.12it/s]"
     ]
    },
    {
     "name": "stdout",
     "output_type": "stream",
     "text": [
      "Invalid CIF file with no structures!\n",
      "Invalid CIF file with no structures!\n",
      "Invalid CIF file with no structures!\n",
      "Invalid CIF file with no structures!"
     ]
    },
    {
     "name": "stderr",
     "output_type": "stream",
     "text": [
      " 20%|████████████████                                                               | 1834/9046 [03:25<18:16,  6.57it/s]"
     ]
    },
    {
     "name": "stdout",
     "output_type": "stream",
     "text": [
      "\n"
     ]
    },
    {
     "name": "stderr",
     "output_type": "stream",
     "text": [
      " 21%|████████████████▌                                                              | 1895/9046 [03:28<10:18, 11.55it/s]"
     ]
    },
    {
     "name": "stdout",
     "output_type": "stream",
     "text": [
      "Invalid CIF file with no structures!"
     ]
    },
    {
     "name": "stderr",
     "output_type": "stream",
     "text": [
      " 21%|████████████████▋                                                              | 1912/9046 [03:32<13:58,  8.51it/s]"
     ]
    },
    {
     "name": "stdout",
     "output_type": "stream",
     "text": [
      "\n"
     ]
    },
    {
     "name": "stderr",
     "output_type": "stream",
     "text": [
      " 22%|█████████████████                                                              | 1951/9046 [03:33<09:03, 13.06it/s]"
     ]
    },
    {
     "name": "stdout",
     "output_type": "stream",
     "text": [
      "Invalid CIF file with no structures!\n",
      "Invalid CIF file with no structures!\n",
      "Invalid CIF file with no structures!\n"
     ]
    },
    {
     "name": "stderr",
     "output_type": "stream",
     "text": [
      " 22%|█████████████████▏                                                             | 1961/9046 [03:34<09:54, 11.92it/s]"
     ]
    },
    {
     "name": "stdout",
     "output_type": "stream",
     "text": [
      "Invalid CIF file with no structures!\n",
      "Invalid CIF file with no structures!\n",
      "Invalid CIF file with no structures!"
     ]
    },
    {
     "name": "stderr",
     "output_type": "stream",
     "text": [
      " 22%|█████████████████▏                                                             | 1963/9046 [03:38<19:27,  6.07it/s]"
     ]
    },
    {
     "name": "stdout",
     "output_type": "stream",
     "text": [
      "\n"
     ]
    },
    {
     "name": "stderr",
     "output_type": "stream",
     "text": [
      " 22%|█████████████████▍                                                             | 1999/9046 [03:40<12:17,  9.55it/s]"
     ]
    },
    {
     "name": "stdout",
     "output_type": "stream",
     "text": [
      "Invalid CIF file with no structures!\n"
     ]
    },
    {
     "name": "stderr",
     "output_type": "stream",
     "text": [
      " 22%|█████████████████▌                                                             | 2004/9046 [03:42<17:24,  6.74it/s]"
     ]
    },
    {
     "name": "stdout",
     "output_type": "stream",
     "text": [
      "Invalid CIF file with no structures!\n",
      "Invalid CIF file with no structures!\n"
     ]
    },
    {
     "name": "stderr",
     "output_type": "stream",
     "text": [
      " 23%|█████████████████▊                                                             | 2039/9046 [03:45<12:35,  9.27it/s]/home/scai/phd/aiz218326/anaconda3/envs/crystal-llm/lib/python3.10/site-packages/pymatgen/io/cif.py:1079: UserWarning: Some occupancies ([2.0, 2.0]) sum to > 1! If they are within the occupancy_tolerance, they will be rescaled. The current occupancy_tolerance is set to: 1.0\n",
      "  warnings.warn(msg)\n",
      "/home/scai/phd/aiz218326/anaconda3/envs/crystal-llm/lib/python3.10/site-packages/pymatgen/io/cif.py:1283: UserWarning: No structure parsed for section 1 in CIF.\n",
      "Occupancy 2.0 exceeded tolerance.\n",
      "  warnings.warn(msg)\n",
      "/home/scai/phd/aiz218326/anaconda3/envs/crystal-llm/lib/python3.10/site-packages/pymatgen/io/cif.py:1287: UserWarning: Issues encountered while parsing CIF: Some occupancies ([2.0, 2.0]) sum to > 1! If they are within the occupancy_tolerance, they will be rescaled. The current occupancy_tolerance is set to: 1.0\n",
      "No structure parsed for section 1 in CIF.\n",
      "Occupancy 2.0 exceeded tolerance.\n",
      "  warnings.warn(\"Issues encountered while parsing CIF: \" + \"\\n\".join(self.warnings))\n"
     ]
    },
    {
     "name": "stdout",
     "output_type": "stream",
     "text": [
      "Invalid CIF file with no structures!\n",
      "Invalid CIF file with no structures!\n"
     ]
    },
    {
     "name": "stderr",
     "output_type": "stream",
     "text": [
      " 23%|██████████████████                                                             | 2070/9046 [03:49<12:11,  9.54it/s]"
     ]
    },
    {
     "name": "stdout",
     "output_type": "stream",
     "text": [
      "Invalid CIF file with no structures!\n"
     ]
    },
    {
     "name": "stderr",
     "output_type": "stream",
     "text": [
      " 23%|██████████████████▎                                                            | 2104/9046 [03:53<12:47,  9.04it/s]"
     ]
    },
    {
     "name": "stdout",
     "output_type": "stream",
     "text": [
      "Invalid CIF file with no structures!\n",
      "Invalid CIF file with no structures!\n"
     ]
    },
    {
     "name": "stderr",
     "output_type": "stream",
     "text": [
      " 24%|██████████████████▊                                                            | 2150/9046 [03:56<09:42, 11.85it/s]"
     ]
    },
    {
     "name": "stdout",
     "output_type": "stream",
     "text": [
      "Invalid CIF file with no structures!\n"
     ]
    },
    {
     "name": "stderr",
     "output_type": "stream",
     "text": [
      " 24%|██████████████████▊                                                            | 2154/9046 [03:57<11:29,  9.99it/s]"
     ]
    },
    {
     "name": "stdout",
     "output_type": "stream",
     "text": [
      "Invalid CIF file with no structures!\n",
      "Invalid CIF file with no structures!\n"
     ]
    },
    {
     "name": "stderr",
     "output_type": "stream",
     "text": [
      " 24%|██████████████████▊                                                            | 2159/9046 [04:00<18:46,  6.12it/s]"
     ]
    },
    {
     "name": "stdout",
     "output_type": "stream",
     "text": [
      "Invalid CIF file with no structures!\n",
      "Invalid CIF file with no structures!\n",
      "Invalid CIF file with no structures!\n"
     ]
    },
    {
     "name": "stderr",
     "output_type": "stream",
     "text": [
      " 24%|██████████████████▉                                                            | 2172/9046 [04:01<15:13,  7.53it/s]"
     ]
    },
    {
     "name": "stdout",
     "output_type": "stream",
     "text": [
      "Invalid CIF file with no structures!\n"
     ]
    },
    {
     "name": "stderr",
     "output_type": "stream",
     "text": [
      " 24%|██████████████████▉                                                            | 2175/9046 [04:05<30:13,  3.79it/s]"
     ]
    },
    {
     "name": "stdout",
     "output_type": "stream",
     "text": [
      "Invalid CIF file with no structures!\n",
      "Invalid CIF file with no structures!\n"
     ]
    },
    {
     "name": "stderr",
     "output_type": "stream",
     "text": [
      " 25%|███████████████████▌                                                           | 2234/9046 [04:07<10:20, 10.99it/s]"
     ]
    },
    {
     "name": "stdout",
     "output_type": "stream",
     "text": [
      "Invalid CIF file with no structures!\n"
     ]
    },
    {
     "name": "stderr",
     "output_type": "stream",
     "text": [
      " 25%|███████████████████▌                                                           | 2241/9046 [04:08<11:42,  9.69it/s]"
     ]
    },
    {
     "name": "stdout",
     "output_type": "stream",
     "text": [
      "Invalid CIF file with no structures!\n",
      "Invalid CIF file with no structures!\n"
     ]
    },
    {
     "name": "stderr",
     "output_type": "stream",
     "text": [
      " 25%|███████████████████▋                                                           | 2256/9046 [04:13<18:01,  6.28it/s]"
     ]
    },
    {
     "name": "stdout",
     "output_type": "stream",
     "text": [
      "Invalid CIF file with no structures!\n"
     ]
    },
    {
     "name": "stderr",
     "output_type": "stream",
     "text": [
      " 26%|████████████████████▏                                                          | 2312/9046 [04:14<08:47, 12.76it/s]"
     ]
    },
    {
     "name": "stdout",
     "output_type": "stream",
     "text": [
      "Invalid CIF file with no structures!\n",
      "Invalid CIF file with no structures!\n",
      "Invalid CIF file with no structures!\n"
     ]
    },
    {
     "name": "stderr",
     "output_type": "stream",
     "text": [
      " 26%|████████████████████▏                                                          | 2316/9046 [04:15<09:49, 11.41it/s]"
     ]
    },
    {
     "name": "stdout",
     "output_type": "stream",
     "text": [
      "Invalid CIF file with no structures!\n",
      "Invalid CIF file with no structures!\n",
      "Invalid CIF file with no structures!\n"
     ]
    },
    {
     "name": "stderr",
     "output_type": "stream",
     "text": [
      " 26%|████████████████████▋                                                          | 2371/9046 [04:20<09:07, 12.18it/s]"
     ]
    },
    {
     "name": "stdout",
     "output_type": "stream",
     "text": [
      "Invalid CIF file with no structures!\n",
      "Invalid CIF file with no structures!\n",
      "Invalid CIF file with no structures!\n",
      "Invalid CIF file with no structures!\n",
      "Invalid CIF file with no structures!\n"
     ]
    },
    {
     "name": "stderr",
     "output_type": "stream",
     "text": [
      " 26%|████████████████████▋                                                          | 2374/9046 [04:26<17:45,  6.26it/s]"
     ]
    },
    {
     "name": "stdout",
     "output_type": "stream",
     "text": [
      "Invalid CIF file with no structures!\n"
     ]
    },
    {
     "name": "stderr",
     "output_type": "stream",
     "text": [
      "/home/scai/phd/aiz218326/anaconda3/envs/crystal-llm/lib/python3.10/site-packages/pymatgen/io/cif.py:1079: UserWarning: Some occupancies ([2.0, 2.0]) sum to > 1! If they are within the occupancy_tolerance, they will be rescaled. The current occupancy_tolerance is set to: 1.0\n",
      "  warnings.warn(msg)\n",
      "/home/scai/phd/aiz218326/anaconda3/envs/crystal-llm/lib/python3.10/site-packages/pymatgen/io/cif.py:1283: UserWarning: No structure parsed for section 1 in CIF.\n",
      "Occupancy 2.0 exceeded tolerance.\n",
      "  warnings.warn(msg)\n",
      "/home/scai/phd/aiz218326/anaconda3/envs/crystal-llm/lib/python3.10/site-packages/pymatgen/io/cif.py:1287: UserWarning: Issues encountered while parsing CIF: Some occupancies ([2.0, 2.0]) sum to > 1! If they are within the occupancy_tolerance, they will be rescaled. The current occupancy_tolerance is set to: 1.0\n",
      "No structure parsed for section 1 in CIF.\n",
      "Occupancy 2.0 exceeded tolerance.\n",
      "  warnings.warn(\"Issues encountered while parsing CIF: \" + \"\\n\".join(self.warnings))\n"
     ]
    },
    {
     "name": "stdout",
     "output_type": "stream",
     "text": [
      "Invalid CIF file with no structures!\n"
     ]
    },
    {
     "name": "stderr",
     "output_type": "stream",
     "text": [
      " 27%|█████████████████████                                                          | 2417/9046 [04:28<10:06, 10.93it/s]"
     ]
    },
    {
     "name": "stdout",
     "output_type": "stream",
     "text": [
      "Invalid CIF file with no structures!\n",
      "Invalid CIF file with no structures!\n",
      "Invalid CIF file with no structures!\n",
      "Invalid CIF file with no structures!\n"
     ]
    },
    {
     "name": "stderr",
     "output_type": "stream",
     "text": [
      "/home/scai/phd/aiz218326/anaconda3/envs/crystal-llm/lib/python3.10/site-packages/pymatgen/io/cif.py:1079: UserWarning: Some occupancies ([2.0, 2.0]) sum to > 1! If they are within the occupancy_tolerance, they will be rescaled. The current occupancy_tolerance is set to: 1.0\n",
      "  warnings.warn(msg)\n",
      "/home/scai/phd/aiz218326/anaconda3/envs/crystal-llm/lib/python3.10/site-packages/pymatgen/io/cif.py:1283: UserWarning: No structure parsed for section 1 in CIF.\n",
      "Occupancy 2.0 exceeded tolerance.\n",
      "  warnings.warn(msg)\n",
      "/home/scai/phd/aiz218326/anaconda3/envs/crystal-llm/lib/python3.10/site-packages/pymatgen/io/cif.py:1287: UserWarning: Issues encountered while parsing CIF: Some occupancies ([2.0, 2.0]) sum to > 1! If they are within the occupancy_tolerance, they will be rescaled. The current occupancy_tolerance is set to: 1.0\n",
      "No structure parsed for section 1 in CIF.\n",
      "Occupancy 2.0 exceeded tolerance.\n",
      "  warnings.warn(\"Issues encountered while parsing CIF: \" + \"\\n\".join(self.warnings))\n"
     ]
    },
    {
     "name": "stdout",
     "output_type": "stream",
     "text": [
      "Invalid CIF file with no structures!\n"
     ]
    },
    {
     "name": "stderr",
     "output_type": "stream",
     "text": [
      " 27%|█████████████████████▏                                                         | 2424/9046 [04:33<19:14,  5.73it/s]"
     ]
    },
    {
     "name": "stdout",
     "output_type": "stream",
     "text": [
      "Invalid CIF file with no structures!\n"
     ]
    },
    {
     "name": "stderr",
     "output_type": "stream",
     "text": [
      " 27%|█████████████████████▌                                                         | 2466/9046 [04:34<10:02, 10.92it/s]"
     ]
    },
    {
     "name": "stdout",
     "output_type": "stream",
     "text": [
      "Invalid CIF file with no structures!\n",
      "Invalid CIF file with no structures!\n"
     ]
    },
    {
     "name": "stderr",
     "output_type": "stream",
     "text": [
      " 28%|█████████████████████▉                                                         | 2507/9046 [04:37<10:27, 10.42it/s]"
     ]
    },
    {
     "name": "stdout",
     "output_type": "stream",
     "text": [
      "Invalid CIF file with no structures!\n",
      "Invalid CIF file with no structures!\n",
      "Invalid CIF file with no structures!\n",
      "Invalid CIF file with no structures!\n",
      "Invalid CIF file with no structures!\n",
      "Invalid CIF file with no structures!\n"
     ]
    },
    {
     "name": "stderr",
     "output_type": "stream",
     "text": [
      " 28%|██████████████████████▏                                                        | 2540/9046 [04:41<11:19,  9.58it/s]"
     ]
    },
    {
     "name": "stdout",
     "output_type": "stream",
     "text": [
      "Invalid CIF file with no structures!\n",
      "Invalid CIF file with no structures!\n",
      "Invalid CIF file with no structures!\n"
     ]
    },
    {
     "name": "stderr",
     "output_type": "stream",
     "text": [
      " 29%|██████████████████████▋                                                        | 2601/9046 [04:47<08:05, 13.27it/s]"
     ]
    },
    {
     "name": "stdout",
     "output_type": "stream",
     "text": [
      "Invalid CIF file with no structures!\n",
      "Invalid CIF file with no structures!\n",
      "Invalid CIF file with no structures!\n"
     ]
    },
    {
     "name": "stderr",
     "output_type": "stream",
     "text": [
      " 29%|██████████████████████▊                                                        | 2617/9046 [04:51<12:47,  8.38it/s]"
     ]
    },
    {
     "name": "stdout",
     "output_type": "stream",
     "text": [
      "Invalid CIF file with no structures!\n",
      "Invalid CIF file with no structures!\n",
      "Invalid CIF file with no structures!\n"
     ]
    },
    {
     "name": "stderr",
     "output_type": "stream",
     "text": [
      " 29%|██████████████████████▉                                                        | 2622/9046 [04:53<14:16,  7.50it/s]"
     ]
    },
    {
     "name": "stdout",
     "output_type": "stream",
     "text": [
      "Invalid CIF file with no structures!\n",
      "Invalid CIF file with no structures!\n"
     ]
    },
    {
     "name": "stderr",
     "output_type": "stream",
     "text": [
      " 29%|███████████████████████▎                                                       | 2668/9046 [04:53<07:31, 14.14it/s]"
     ]
    },
    {
     "name": "stdout",
     "output_type": "stream",
     "text": [
      "Invalid CIF file with no structures!\n",
      "Invalid CIF file with no structures!\n"
     ]
    },
    {
     "name": "stderr",
     "output_type": "stream",
     "text": [
      " 30%|███████████████████████▌                                                       | 2698/9046 [04:56<08:16, 12.80it/s]"
     ]
    },
    {
     "name": "stdout",
     "output_type": "stream",
     "text": [
      "Invalid CIF file with no structures!\n",
      "Invalid CIF file with no structures!\n",
      "Invalid CIF file with no structures!\n",
      "Invalid CIF file with no structures!\n"
     ]
    },
    {
     "name": "stderr",
     "output_type": "stream",
     "text": [
      " 30%|███████████████████████▊                                                       | 2728/9046 [05:02<13:10,  7.99it/s]"
     ]
    },
    {
     "name": "stdout",
     "output_type": "stream",
     "text": [
      "Invalid CIF file with no structures!\n"
     ]
    },
    {
     "name": "stderr",
     "output_type": "stream",
     "text": [
      " 30%|████████████████████████                                                       | 2755/9046 [05:03<08:54, 11.76it/s]"
     ]
    },
    {
     "name": "stdout",
     "output_type": "stream",
     "text": [
      "Invalid CIF file with no structures!\n",
      "Invalid CIF file with no structures!\n",
      "Invalid CIF file with no structures!\n",
      "Invalid CIF file with no structures!\n",
      "Invalid CIF file with no structures!\n",
      "Invalid CIF file with no structures!\n"
     ]
    },
    {
     "name": "stderr",
     "output_type": "stream",
     "text": [
      "/home/scai/phd/aiz218326/anaconda3/envs/crystal-llm/lib/python3.10/site-packages/pymatgen/io/cif.py:1079: UserWarning: Some occupancies ([2.0, 2.0, 2.0, 2.0]) sum to > 1! If they are within the occupancy_tolerance, they will be rescaled. The current occupancy_tolerance is set to: 1.0\n",
      "  warnings.warn(msg)\n",
      "/home/scai/phd/aiz218326/anaconda3/envs/crystal-llm/lib/python3.10/site-packages/pymatgen/io/cif.py:1287: UserWarning: Issues encountered while parsing CIF: Some occupancies ([2.0, 2.0, 2.0, 2.0]) sum to > 1! If they are within the occupancy_tolerance, they will be rescaled. The current occupancy_tolerance is set to: 1.0\n",
      "No structure parsed for section 1 in CIF.\n",
      "Occupancy 2.0 exceeded tolerance.\n",
      "  warnings.warn(\"Issues encountered while parsing CIF: \" + \"\\n\".join(self.warnings))\n"
     ]
    },
    {
     "name": "stdout",
     "output_type": "stream",
     "text": [
      "Invalid CIF file with no structures!\n",
      "Invalid CIF file with no structures!\n"
     ]
    },
    {
     "name": "stderr",
     "output_type": "stream",
     "text": [
      " 31%|████████████████████████▏                                                      | 2769/9046 [05:13<26:23,  3.96it/s]"
     ]
    },
    {
     "name": "stdout",
     "output_type": "stream",
     "text": [
      "Invalid CIF file with no structures!\n",
      "Invalid CIF file with no structures!\n",
      "Invalid CIF file with no structures!\n"
     ]
    },
    {
     "name": "stderr",
     "output_type": "stream",
     "text": [
      " 31%|████████████████████████▊                                                      | 2835/9046 [05:15<11:35,  8.93it/s]"
     ]
    },
    {
     "name": "stdout",
     "output_type": "stream",
     "text": [
      "Invalid CIF file with no structures!"
     ]
    },
    {
     "name": "stderr",
     "output_type": "stream",
     "text": [
      " 32%|█████████████████████████                                                      | 2865/9046 [05:15<08:21, 12.32it/s]"
     ]
    },
    {
     "name": "stdout",
     "output_type": "stream",
     "text": [
      "\n",
      "Invalid CIF file with no structures!\n"
     ]
    },
    {
     "name": "stderr",
     "output_type": "stream",
     "text": [
      "/home/scai/phd/aiz218326/anaconda3/envs/crystal-llm/lib/python3.10/site-packages/pymatgen/io/cif.py:1079: UserWarning: Some occupancies ([2.0]) sum to > 1! If they are within the occupancy_tolerance, they will be rescaled. The current occupancy_tolerance is set to: 1.0\n",
      "  warnings.warn(msg)\n",
      "/home/scai/phd/aiz218326/anaconda3/envs/crystal-llm/lib/python3.10/site-packages/pymatgen/io/cif.py:1287: UserWarning: Issues encountered while parsing CIF: Some occupancies ([2.0]) sum to > 1! If they are within the occupancy_tolerance, they will be rescaled. The current occupancy_tolerance is set to: 1.0\n",
      "No structure parsed for section 1 in CIF.\n",
      "Occupancy 2.0 exceeded tolerance.\n",
      "  warnings.warn(\"Issues encountered while parsing CIF: \" + \"\\n\".join(self.warnings))\n"
     ]
    },
    {
     "name": "stdout",
     "output_type": "stream",
     "text": [
      "Invalid CIF file with no structures!\n"
     ]
    },
    {
     "name": "stderr",
     "output_type": "stream",
     "text": [
      " 32%|█████████████████████████▏                                                     | 2878/9046 [05:20<12:15,  8.38it/s]"
     ]
    },
    {
     "name": "stdout",
     "output_type": "stream",
     "text": [
      "Invalid CIF file with no structures!\n",
      "Invalid CIF file with no structures!\n",
      "Invalid CIF file with no structures!\n"
     ]
    },
    {
     "name": "stderr",
     "output_type": "stream",
     "text": [
      " 32%|█████████████████████████▍                                                     | 2910/9046 [05:23<11:22,  8.99it/s]/home/scai/phd/aiz218326/anaconda3/envs/crystal-llm/lib/python3.10/site-packages/pymatgen/io/cif.py:1079: UserWarning: Some occupancies ([2.0, 2.0]) sum to > 1! If they are within the occupancy_tolerance, they will be rescaled. The current occupancy_tolerance is set to: 1.0\n",
      "  warnings.warn(msg)\n",
      "/home/scai/phd/aiz218326/anaconda3/envs/crystal-llm/lib/python3.10/site-packages/pymatgen/io/cif.py:1283: UserWarning: No structure parsed for section 1 in CIF.\n",
      "Occupancy 2.0 exceeded tolerance.\n",
      "  warnings.warn(msg)\n",
      "/home/scai/phd/aiz218326/anaconda3/envs/crystal-llm/lib/python3.10/site-packages/pymatgen/io/cif.py:1287: UserWarning: Issues encountered while parsing CIF: Some occupancies ([2.0, 2.0]) sum to > 1! If they are within the occupancy_tolerance, they will be rescaled. The current occupancy_tolerance is set to: 1.0\n",
      "No structure parsed for section 1 in CIF.\n",
      "Occupancy 2.0 exceeded tolerance.\n",
      "  warnings.warn(\"Issues encountered while parsing CIF: \" + \"\\n\".join(self.warnings))\n"
     ]
    },
    {
     "name": "stdout",
     "output_type": "stream",
     "text": [
      "Invalid CIF file with no structures!\n"
     ]
    },
    {
     "name": "stderr",
     "output_type": "stream",
     "text": [
      " 33%|█████████████████████████▋                                                     | 2947/9046 [05:24<08:42, 11.68it/s]"
     ]
    },
    {
     "name": "stdout",
     "output_type": "stream",
     "text": [
      "Invalid CIF file with no structures!\n",
      "Invalid CIF file with no structures!Invalid CIF file with no structures!\n",
      "\n",
      "Invalid CIF file with no structures!\n",
      "Invalid CIF file with no structures!\n",
      "Invalid CIF file with no structures!\n",
      "Invalid CIF file with no structures!\n"
     ]
    },
    {
     "name": "stderr",
     "output_type": "stream",
     "text": [
      "/home/scai/phd/aiz218326/anaconda3/envs/crystal-llm/lib/python3.10/site-packages/pymatgen/io/cif.py:1079: UserWarning: Some occupancies ([2.0, 2.0]) sum to > 1! If they are within the occupancy_tolerance, they will be rescaled. The current occupancy_tolerance is set to: 1.0\n",
      "  warnings.warn(msg)\n",
      "/home/scai/phd/aiz218326/anaconda3/envs/crystal-llm/lib/python3.10/site-packages/pymatgen/io/cif.py:1287: UserWarning: Issues encountered while parsing CIF: Some occupancies ([2.0, 2.0]) sum to > 1! If they are within the occupancy_tolerance, they will be rescaled. The current occupancy_tolerance is set to: 1.0\n",
      "No structure parsed for section 1 in CIF.\n",
      "Occupancy 2.0 exceeded tolerance.\n",
      "  warnings.warn(\"Issues encountered while parsing CIF: \" + \"\\n\".join(self.warnings))\n"
     ]
    },
    {
     "name": "stdout",
     "output_type": "stream",
     "text": [
      "Invalid CIF file with no structures!\n",
      "Invalid CIF file with no structures!\n",
      "Invalid CIF file with no structures!\n"
     ]
    },
    {
     "name": "stderr",
     "output_type": "stream",
     "text": [
      " 33%|██████████████████████████                                                     | 2983/9046 [05:28<09:23, 10.76it/s]"
     ]
    },
    {
     "name": "stdout",
     "output_type": "stream",
     "text": [
      "Invalid CIF file with no structures!\n",
      "Invalid CIF file with no structures!\n",
      "Invalid CIF file with no structures!\n",
      "Invalid CIF file with no structures!\n",
      "Invalid CIF file with no structures!\n",
      "Invalid CIF file with no structures!\n",
      "Invalid CIF file with no structures!\n"
     ]
    },
    {
     "name": "stderr",
     "output_type": "stream",
     "text": [
      " 33%|██████████████████████████▏                                                    | 2993/9046 [05:35<16:28,  6.12it/s]"
     ]
    },
    {
     "name": "stdout",
     "output_type": "stream",
     "text": [
      "Invalid CIF file with no structures!\n",
      "Invalid CIF file with no structures!\n",
      "Invalid CIF file with no structures!Invalid CIF file with no structures!\n",
      "\n"
     ]
    },
    {
     "name": "stderr",
     "output_type": "stream",
     "text": [
      "/home/scai/phd/aiz218326/anaconda3/envs/crystal-llm/lib/python3.10/site-packages/pymatgen/io/cif.py:1079: UserWarning: Some occupancies ([2.0]) sum to > 1! If they are within the occupancy_tolerance, they will be rescaled. The current occupancy_tolerance is set to: 1.0\n",
      "  warnings.warn(msg)\n",
      "/home/scai/phd/aiz218326/anaconda3/envs/crystal-llm/lib/python3.10/site-packages/pymatgen/io/cif.py:1287: UserWarning: Issues encountered while parsing CIF: Some occupancies ([2.0]) sum to > 1! If they are within the occupancy_tolerance, they will be rescaled. The current occupancy_tolerance is set to: 1.0\n",
      "No structure parsed for section 1 in CIF.\n",
      "Occupancy 2.0 exceeded tolerance.\n",
      "  warnings.warn(\"Issues encountered while parsing CIF: \" + \"\\n\".join(self.warnings))\n"
     ]
    },
    {
     "name": "stdout",
     "output_type": "stream",
     "text": [
      "Invalid CIF file with no structures!\n"
     ]
    },
    {
     "name": "stderr",
     "output_type": "stream",
     "text": [
      " 34%|██████████████████████████▋                                                    | 3063/9046 [05:40<10:07,  9.85it/s]"
     ]
    },
    {
     "name": "stdout",
     "output_type": "stream",
     "text": [
      "Invalid CIF file with no structures!\n"
     ]
    },
    {
     "name": "stderr",
     "output_type": "stream",
     "text": [
      " 35%|███████████████████████████▎                                                   | 3134/9046 [05:41<05:23, 18.29it/s]"
     ]
    },
    {
     "name": "stdout",
     "output_type": "stream",
     "text": [
      "Invalid CIF file with no structures!\n",
      "Invalid CIF file with no structures!\n",
      "Invalid CIF file with no structures!\n",
      "Invalid CIF file with no structures!\n",
      "Invalid CIF file with no structures!\n"
     ]
    },
    {
     "name": "stderr",
     "output_type": "stream",
     "text": [
      " 35%|███████████████████████████▌                                                   | 3150/9046 [05:45<08:42, 11.28it/s]"
     ]
    },
    {
     "name": "stdout",
     "output_type": "stream",
     "text": [
      "Invalid CIF file with no structures!\n"
     ]
    },
    {
     "name": "stderr",
     "output_type": "stream",
     "text": [
      " 35%|███████████████████████████▉                                                   | 3196/9046 [05:49<08:40, 11.24it/s]"
     ]
    },
    {
     "name": "stdout",
     "output_type": "stream",
     "text": [
      "Invalid CIF file with no structures!\n",
      "Invalid CIF file with no structures!\n"
     ]
    },
    {
     "name": "stderr",
     "output_type": "stream",
     "text": [
      " 36%|████████████████████████████▏                                                  | 3224/9046 [05:52<08:36, 11.28it/s]"
     ]
    },
    {
     "name": "stdout",
     "output_type": "stream",
     "text": [
      "Invalid CIF file with no structures!\n",
      "Invalid CIF file with no structures!\n"
     ]
    },
    {
     "name": "stderr",
     "output_type": "stream",
     "text": [
      " 36%|████████████████████████████▏                                                  | 3227/9046 [05:52<08:45, 11.07it/s]/home/scai/phd/aiz218326/anaconda3/envs/crystal-llm/lib/python3.10/site-packages/pymatgen/io/cif.py:1079: UserWarning: Some occupancies ([2.0, 2.0]) sum to > 1! If they are within the occupancy_tolerance, they will be rescaled. The current occupancy_tolerance is set to: 1.0\n",
      "  warnings.warn(msg)\n",
      "/home/scai/phd/aiz218326/anaconda3/envs/crystal-llm/lib/python3.10/site-packages/pymatgen/io/cif.py:1283: UserWarning: No structure parsed for section 1 in CIF.\n",
      "Occupancy 2.0 exceeded tolerance.\n",
      "  warnings.warn(msg)\n",
      " 36%|████████████████████████████▎                                                  | 3241/9046 [05:53<08:15, 11.71it/s]/home/scai/phd/aiz218326/anaconda3/envs/crystal-llm/lib/python3.10/site-packages/pymatgen/io/cif.py:1287: UserWarning: Issues encountered while parsing CIF: Some occupancies ([2.0, 2.0]) sum to > 1! If they are within the occupancy_tolerance, they will be rescaled. The current occupancy_tolerance is set to: 1.0\n",
      "No structure parsed for section 1 in CIF.\n",
      "Occupancy 2.0 exceeded tolerance.\n",
      "  warnings.warn(\"Issues encountered while parsing CIF: \" + \"\\n\".join(self.warnings))\n"
     ]
    },
    {
     "name": "stdout",
     "output_type": "stream",
     "text": [
      "Invalid CIF file with no structures!Invalid CIF file with no structures!\n",
      "\n"
     ]
    },
    {
     "name": "stderr",
     "output_type": "stream",
     "text": [
      " 36%|████████████████████████████▎                                                  | 3245/9046 [05:54<08:05, 11.96it/s]"
     ]
    },
    {
     "name": "stdout",
     "output_type": "stream",
     "text": [
      "Invalid CIF file with no structures!\n"
     ]
    },
    {
     "name": "stderr",
     "output_type": "stream",
     "text": [
      " 36%|████████████████████████████▎                                                  | 3247/9046 [05:55<11:05,  8.71it/s]"
     ]
    },
    {
     "name": "stdout",
     "output_type": "stream",
     "text": [
      "Invalid CIF file with no structures!\n"
     ]
    },
    {
     "name": "stderr",
     "output_type": "stream",
     "text": [
      " 36%|████████████████████████████▌                                                  | 3274/9046 [05:58<10:59,  8.75it/s]"
     ]
    },
    {
     "name": "stdout",
     "output_type": "stream",
     "text": [
      "Invalid CIF file with no structures!\n",
      "Invalid CIF file with no structures!\n"
     ]
    },
    {
     "name": "stderr",
     "output_type": "stream",
     "text": [
      " 37%|████████████████████████████▊                                                  | 3306/9046 [06:00<07:00, 13.64it/s]"
     ]
    },
    {
     "name": "stdout",
     "output_type": "stream",
     "text": [
      "Invalid CIF file with no structures!\n",
      "Invalid CIF file with no structures!\n"
     ]
    },
    {
     "name": "stderr",
     "output_type": "stream",
     "text": [
      " 37%|████████████████████████████▉                                                  | 3310/9046 [06:00<08:08, 11.74it/s]"
     ]
    },
    {
     "name": "stdout",
     "output_type": "stream",
     "text": [
      "Invalid CIF file with no structures!\n"
     ]
    },
    {
     "name": "stderr",
     "output_type": "stream",
     "text": [
      " 37%|█████████████████████████████                                                  | 3333/9046 [06:04<11:33,  8.24it/s]"
     ]
    },
    {
     "name": "stdout",
     "output_type": "stream",
     "text": [
      "Invalid CIF file with no structures!\n"
     ]
    },
    {
     "name": "stderr",
     "output_type": "stream",
     "text": [
      " 37%|█████████████████████████████▏                                                 | 3340/9046 [06:06<17:43,  5.37it/s]"
     ]
    },
    {
     "name": "stdout",
     "output_type": "stream",
     "text": [
      "Invalid CIF file with no structures!\n",
      "Invalid CIF file with no structures!\n"
     ]
    },
    {
     "name": "stderr",
     "output_type": "stream",
     "text": [
      " 37%|█████████████████████████████▌                                                 | 3390/9046 [06:12<09:38,  9.78it/s]"
     ]
    },
    {
     "name": "stdout",
     "output_type": "stream",
     "text": [
      "Invalid CIF file with no structures!\n",
      "Invalid CIF file with no structures!\n",
      "Invalid CIF file with no structures!\n"
     ]
    },
    {
     "name": "stderr",
     "output_type": "stream",
     "text": [
      " 37%|█████████████████████████████▌                                                 | 3392/9046 [06:17<22:35,  4.17it/s]"
     ]
    },
    {
     "name": "stdout",
     "output_type": "stream",
     "text": [
      "Invalid CIF file with no structures!\n",
      "Invalid CIF file with no structures!\n",
      "Invalid CIF file with no structures!\n"
     ]
    },
    {
     "name": "stderr",
     "output_type": "stream",
     "text": [
      " 38%|██████████████████████████████▎                                                | 3465/9046 [06:22<08:55, 10.42it/s]"
     ]
    },
    {
     "name": "stdout",
     "output_type": "stream",
     "text": [
      "Invalid CIF file with no structures!\n"
     ]
    },
    {
     "name": "stderr",
     "output_type": "stream",
     "text": [
      "/home/scai/phd/aiz218326/anaconda3/envs/crystal-llm/lib/python3.10/site-packages/pymatgen/io/cif.py:1221: UserWarning: Missing elements H from PMG structure composition\n",
      "  warnings.warn(cif_failure_reason)\n"
     ]
    },
    {
     "name": "stdout",
     "output_type": "stream",
     "text": [
      "Invalid CIF file with no structures!\n",
      "Invalid CIF file with no structures!\n"
     ]
    },
    {
     "name": "stderr",
     "output_type": "stream",
     "text": [
      " 39%|██████████████████████████████▉                                                | 3544/9046 [06:31<08:12, 11.18it/s]"
     ]
    },
    {
     "name": "stdout",
     "output_type": "stream",
     "text": [
      "Invalid CIF file with no structures!\n"
     ]
    },
    {
     "name": "stderr",
     "output_type": "stream",
     "text": [
      " 40%|███████████████████████████████▏                                               | 3578/9046 [06:32<05:27, 16.70it/s]/home/scai/phd/aiz218326/anaconda3/envs/crystal-llm/lib/python3.10/site-packages/pymatgen/io/cif.py:1079: UserWarning: Some occupancies ([2.0, 2.0]) sum to > 1! If they are within the occupancy_tolerance, they will be rescaled. The current occupancy_tolerance is set to: 1.0\n",
      "  warnings.warn(msg)\n",
      "/home/scai/phd/aiz218326/anaconda3/envs/crystal-llm/lib/python3.10/site-packages/pymatgen/io/cif.py:1283: UserWarning: No structure parsed for section 1 in CIF.\n",
      "Occupancy 2.0 exceeded tolerance.\n",
      "  warnings.warn(msg)\n",
      "/home/scai/phd/aiz218326/anaconda3/envs/crystal-llm/lib/python3.10/site-packages/pymatgen/io/cif.py:1287: UserWarning: Issues encountered while parsing CIF: Some occupancies ([2.0, 2.0]) sum to > 1! If they are within the occupancy_tolerance, they will be rescaled. The current occupancy_tolerance is set to: 1.0\n",
      "No structure parsed for section 1 in CIF.\n",
      "Occupancy 2.0 exceeded tolerance.\n",
      "  warnings.warn(\"Issues encountered while parsing CIF: \" + \"\\n\".join(self.warnings))\n"
     ]
    },
    {
     "name": "stdout",
     "output_type": "stream",
     "text": [
      "Invalid CIF file with no structures!\n",
      "Invalid CIF file with no structures!\n"
     ]
    },
    {
     "name": "stderr",
     "output_type": "stream",
     "text": [
      " 40%|███████████████████████████████▎                                               | 3590/9046 [06:35<08:27, 10.75it/s]"
     ]
    },
    {
     "name": "stdout",
     "output_type": "stream",
     "text": [
      "Invalid CIF file with no structures!\n",
      "Invalid CIF file with no structures!\n",
      "Invalid CIF file with no structures!\n"
     ]
    },
    {
     "name": "stderr",
     "output_type": "stream",
     "text": [
      " 40%|███████████████████████████████▍                                               | 3606/9046 [06:38<11:51,  7.65it/s]"
     ]
    },
    {
     "name": "stdout",
     "output_type": "stream",
     "text": [
      "Invalid CIF file with no structures!\n",
      "Invalid CIF file with no structures!\n"
     ]
    },
    {
     "name": "stderr",
     "output_type": "stream",
     "text": [
      " 40%|███████████████████████████████▌                                               | 3608/9046 [06:42<20:42,  4.38it/s]"
     ]
    },
    {
     "name": "stdout",
     "output_type": "stream",
     "text": [
      "Invalid CIF file with no structures!\n",
      "Invalid CIF file with no structures!\n",
      "Invalid CIF file with no structures!\n"
     ]
    },
    {
     "name": "stderr",
     "output_type": "stream",
     "text": [
      " 40%|███████████████████████████████▉                                               | 3654/9046 [06:45<11:48,  7.61it/s]"
     ]
    },
    {
     "name": "stdout",
     "output_type": "stream",
     "text": [
      "Invalid CIF file with no structures!\n",
      "Invalid CIF file with no structures!\n",
      "Invalid CIF file with no structures!\n",
      "Invalid CIF file with no structures!\n",
      "Invalid CIF file with no structures!\n",
      "Invalid CIF file with no structures!\n",
      "Invalid CIF file with no structures!\n"
     ]
    },
    {
     "name": "stderr",
     "output_type": "stream",
     "text": [
      " 41%|████████████████████████████████▍                                              | 3717/9046 [06:48<07:38, 11.61it/s]"
     ]
    },
    {
     "name": "stdout",
     "output_type": "stream",
     "text": [
      "Invalid CIF file with no structures!\n",
      "Invalid CIF file with no structures!\n",
      "Invalid CIF file with no structures!\n"
     ]
    },
    {
     "name": "stderr",
     "output_type": "stream",
     "text": [
      " 41%|████████████████████████████████▌                                              | 3724/9046 [06:51<09:31,  9.32it/s]"
     ]
    },
    {
     "name": "stdout",
     "output_type": "stream",
     "text": [
      "Invalid CIF file with no structures!\n",
      "Invalid CIF file with no structures!\n",
      "Invalid CIF file with no structures!\n",
      "Invalid CIF file with no structures!\n",
      "Invalid CIF file with no structures!\n",
      "Invalid CIF file with no structures!"
     ]
    },
    {
     "name": "stderr",
     "output_type": "stream",
     "text": [
      " 41%|████████████████████████████████▋                                              | 3740/9046 [06:54<11:23,  7.76it/s]"
     ]
    },
    {
     "name": "stdout",
     "output_type": "stream",
     "text": [
      "\n"
     ]
    },
    {
     "name": "stderr",
     "output_type": "stream",
     "text": [
      " 42%|████████████████████████████████▉                                              | 3775/9046 [06:55<07:03, 12.43it/s]"
     ]
    },
    {
     "name": "stdout",
     "output_type": "stream",
     "text": [
      "Invalid CIF file with no structures!\n"
     ]
    },
    {
     "name": "stderr",
     "output_type": "stream",
     "text": [
      " 42%|█████████████████████████████████▎                                             | 3810/9046 [06:57<06:36, 13.19it/s]"
     ]
    },
    {
     "name": "stdout",
     "output_type": "stream",
     "text": [
      "Invalid CIF file with no structures!\n",
      "Invalid CIF file with no structures!\n"
     ]
    },
    {
     "name": "stderr",
     "output_type": "stream",
     "text": [
      " 42%|█████████████████████████████████▎                                             | 3821/9046 [06:59<07:03, 12.35it/s]/home/scai/phd/aiz218326/anaconda3/envs/crystal-llm/lib/python3.10/site-packages/pymatgen/io/cif.py:1079: UserWarning: Some occupancies ([2.0]) sum to > 1! If they are within the occupancy_tolerance, they will be rescaled. The current occupancy_tolerance is set to: 1.0\n",
      "  warnings.warn(msg)\n",
      "/home/scai/phd/aiz218326/anaconda3/envs/crystal-llm/lib/python3.10/site-packages/pymatgen/io/cif.py:1283: UserWarning: No structure parsed for section 1 in CIF.\n",
      "Occupancy 2.0 exceeded tolerance.\n",
      "  warnings.warn(msg)\n",
      "/home/scai/phd/aiz218326/anaconda3/envs/crystal-llm/lib/python3.10/site-packages/pymatgen/io/cif.py:1287: UserWarning: Issues encountered while parsing CIF: Some occupancies ([2.0]) sum to > 1! If they are within the occupancy_tolerance, they will be rescaled. The current occupancy_tolerance is set to: 1.0\n",
      "No structure parsed for section 1 in CIF.\n",
      "Occupancy 2.0 exceeded tolerance.\n",
      "  warnings.warn(\"Issues encountered while parsing CIF: \" + \"\\n\".join(self.warnings))\n"
     ]
    },
    {
     "name": "stdout",
     "output_type": "stream",
     "text": [
      "Invalid CIF file with no structures!\n"
     ]
    },
    {
     "name": "stderr",
     "output_type": "stream",
     "text": [
      " 42%|█████████████████████████████████▍                                             | 3825/9046 [07:01<12:15,  7.10it/s]"
     ]
    },
    {
     "name": "stdout",
     "output_type": "stream",
     "text": [
      "Invalid CIF file with no structures!\n",
      "Invalid CIF file with no structures!Invalid CIF file with no structures!\n",
      "\n",
      "Invalid CIF file with no structures!\n",
      "Invalid CIF file with no structures!\n"
     ]
    },
    {
     "name": "stderr",
     "output_type": "stream",
     "text": [
      " 42%|█████████████████████████████████▍                                             | 3834/9046 [07:07<25:08,  3.45it/s]"
     ]
    },
    {
     "name": "stdout",
     "output_type": "stream",
     "text": [
      "Invalid CIF file with no structures!\n",
      "Invalid CIF file with no structures!Invalid CIF file with no structures!\n",
      "\n"
     ]
    },
    {
     "name": "stderr",
     "output_type": "stream",
     "text": [
      " 43%|██████████████████████████████████▎                                            | 3925/9046 [07:09<05:16, 16.19it/s]"
     ]
    },
    {
     "name": "stdout",
     "output_type": "stream",
     "text": [
      "Invalid CIF file with no structures!\n",
      "Invalid CIF file with no structures!\n",
      "Invalid CIF file with no structures!\n",
      "Invalid CIF file with no structures!\n",
      "Invalid CIF file with no structures!\n"
     ]
    },
    {
     "name": "stderr",
     "output_type": "stream",
     "text": [
      " 44%|██████████████████████████████████▌                                            | 3960/9046 [07:16<09:57,  8.51it/s]"
     ]
    },
    {
     "name": "stdout",
     "output_type": "stream",
     "text": [
      "Invalid CIF file with no structures!\n",
      "Invalid CIF file with no structures!\n",
      "Invalid CIF file with no structures!\n"
     ]
    },
    {
     "name": "stderr",
     "output_type": "stream",
     "text": [
      " 44%|███████████████████████████████████                                            | 4018/9046 [07:18<05:28, 15.30it/s]"
     ]
    },
    {
     "name": "stdout",
     "output_type": "stream",
     "text": [
      "Invalid CIF file with no structures!\n",
      "Invalid CIF file with no structures!\n",
      "Invalid CIF file with no structures!\n",
      "Invalid CIF file with no structures!\n"
     ]
    },
    {
     "name": "stderr",
     "output_type": "stream",
     "text": [
      " 45%|███████████████████████████████████▎                                           | 4039/9046 [07:22<08:05, 10.31it/s]"
     ]
    },
    {
     "name": "stdout",
     "output_type": "stream",
     "text": [
      "Invalid CIF file with no structures!\n"
     ]
    },
    {
     "name": "stderr",
     "output_type": "stream",
     "text": [
      " 45%|███████████████████████████████████▍                                           | 4051/9046 [07:22<06:57, 11.97it/s]"
     ]
    },
    {
     "name": "stdout",
     "output_type": "stream",
     "text": [
      "Invalid CIF file with no structures!\n",
      "Invalid CIF file with no structures!\n"
     ]
    },
    {
     "name": "stderr",
     "output_type": "stream",
     "text": [
      " 45%|███████████████████████████████████▋                                           | 4088/9046 [07:27<08:15, 10.01it/s]"
     ]
    },
    {
     "name": "stdout",
     "output_type": "stream",
     "text": [
      "Invalid CIF file with no structures!\n",
      "Invalid CIF file with no structures!\n"
     ]
    },
    {
     "name": "stderr",
     "output_type": "stream",
     "text": [
      " 45%|███████████████████████████████████▊                                           | 4102/9046 [07:28<07:09, 11.52it/s]"
     ]
    },
    {
     "name": "stdout",
     "output_type": "stream",
     "text": [
      "Invalid CIF file with no structures!\n"
     ]
    },
    {
     "name": "stderr",
     "output_type": "stream",
     "text": [
      " 45%|███████████████████████████████████▉                                           | 4114/9046 [07:28<05:52, 13.97it/s]/home/scai/phd/aiz218326/anaconda3/envs/crystal-llm/lib/python3.10/site-packages/pymatgen/io/cif.py:1079: UserWarning: Some occupancies ([2.0]) sum to > 1! If they are within the occupancy_tolerance, they will be rescaled. The current occupancy_tolerance is set to: 1.0\n",
      "  warnings.warn(msg)\n",
      "/home/scai/phd/aiz218326/anaconda3/envs/crystal-llm/lib/python3.10/site-packages/pymatgen/io/cif.py:1287: UserWarning: Issues encountered while parsing CIF: Some occupancies ([2.0]) sum to > 1! If they are within the occupancy_tolerance, they will be rescaled. The current occupancy_tolerance is set to: 1.0\n",
      "No structure parsed for section 1 in CIF.\n",
      "Occupancy 2.0 exceeded tolerance.\n",
      "  warnings.warn(\"Issues encountered while parsing CIF: \" + \"\\n\".join(self.warnings))\n"
     ]
    },
    {
     "name": "stdout",
     "output_type": "stream",
     "text": [
      "Invalid CIF file with no structures!\n",
      "Invalid CIF file with no structures!\n"
     ]
    },
    {
     "name": "stderr",
     "output_type": "stream",
     "text": [
      " 46%|███████████████████████████████████▉                                           | 4117/9046 [07:31<12:03,  6.81it/s]"
     ]
    },
    {
     "name": "stdout",
     "output_type": "stream",
     "text": [
      "Invalid CIF file with no structures!\n"
     ]
    },
    {
     "name": "stderr",
     "output_type": "stream",
     "text": [
      " 46%|████████████████████████████████████▎                                          | 4152/9046 [07:33<08:11,  9.96it/s]"
     ]
    },
    {
     "name": "stdout",
     "output_type": "stream",
     "text": [
      "Invalid CIF file with no structures!\n"
     ]
    },
    {
     "name": "stderr",
     "output_type": "stream",
     "text": [
      " 46%|████████████████████████████████████▎                                          | 4158/9046 [07:35<09:16,  8.78it/s]"
     ]
    },
    {
     "name": "stdout",
     "output_type": "stream",
     "text": [
      "Invalid CIF file with no structures!\n"
     ]
    },
    {
     "name": "stderr",
     "output_type": "stream",
     "text": [
      " 46%|████████████████████████████████████▋                                          | 4198/9046 [07:38<06:46, 11.92it/s]"
     ]
    },
    {
     "name": "stdout",
     "output_type": "stream",
     "text": [
      "Invalid CIF file with no structures!\n",
      "Invalid CIF file with no structures!\n"
     ]
    },
    {
     "name": "stderr",
     "output_type": "stream",
     "text": [
      " 47%|████████████████████████████████████▉                                          | 4233/9046 [07:44<08:39,  9.26it/s]"
     ]
    },
    {
     "name": "stdout",
     "output_type": "stream",
     "text": [
      "Invalid CIF file with no structures!Invalid CIF file with no structures!\n",
      "\n"
     ]
    },
    {
     "name": "stderr",
     "output_type": "stream",
     "text": [
      " 47%|█████████████████████████████████████▏                                         | 4252/9046 [07:45<07:28, 10.68it/s]"
     ]
    },
    {
     "name": "stdout",
     "output_type": "stream",
     "text": [
      "Invalid CIF file with no structures!\n",
      "Invalid CIF file with no structures!\n",
      "Invalid CIF file with no structures!\n"
     ]
    },
    {
     "name": "stderr",
     "output_type": "stream",
     "text": [
      " 47%|█████████████████████████████████████▏                                         | 4254/9046 [07:50<17:28,  4.57it/s]"
     ]
    },
    {
     "name": "stdout",
     "output_type": "stream",
     "text": [
      "Invalid CIF file with no structures!\n",
      "Invalid CIF file with no structures!\n",
      "Invalid CIF file with no structures!\n"
     ]
    },
    {
     "name": "stderr",
     "output_type": "stream",
     "text": [
      " 47%|█████████████████████████████████████▍                                         | 4286/9046 [07:52<10:09,  7.81it/s]"
     ]
    },
    {
     "name": "stdout",
     "output_type": "stream",
     "text": [
      "Invalid CIF file with no structures!\n",
      "Invalid CIF file with no structures!\n"
     ]
    },
    {
     "name": "stderr",
     "output_type": "stream",
     "text": [
      " 48%|█████████████████████████████████████▋                                         | 4315/9046 [07:53<05:57, 13.25it/s]"
     ]
    },
    {
     "name": "stdout",
     "output_type": "stream",
     "text": [
      "Invalid CIF file with no structures!\n",
      "Invalid CIF file with no structures!\n",
      "Invalid CIF file with no structures!\n"
     ]
    },
    {
     "name": "stderr",
     "output_type": "stream",
     "text": [
      " 48%|██████████████████████████████████████                                         | 4363/9046 [07:57<06:27, 12.08it/s]"
     ]
    },
    {
     "name": "stdout",
     "output_type": "stream",
     "text": [
      "Invalid CIF file with no structures!\n"
     ]
    },
    {
     "name": "stderr",
     "output_type": "stream",
     "text": [
      " 48%|██████████████████████████████████████▏                                        | 4372/9046 [07:57<05:50, 13.34it/s]"
     ]
    },
    {
     "name": "stdout",
     "output_type": "stream",
     "text": [
      "Invalid CIF file with no structures!\n"
     ]
    },
    {
     "name": "stderr",
     "output_type": "stream",
     "text": [
      " 48%|██████████████████████████████████████▏                                        | 4378/9046 [07:58<05:49, 13.35it/s]"
     ]
    },
    {
     "name": "stdout",
     "output_type": "stream",
     "text": [
      "Invalid CIF file with no structures!\n"
     ]
    },
    {
     "name": "stderr",
     "output_type": "stream",
     "text": [
      " 48%|██████████████████████████████████████▎                                        | 4381/9046 [08:01<13:03,  5.95it/s]"
     ]
    },
    {
     "name": "stdout",
     "output_type": "stream",
     "text": [
      "Invalid CIF file with no structures!\n"
     ]
    },
    {
     "name": "stderr",
     "output_type": "stream",
     "text": [
      "/home/scai/phd/aiz218326/anaconda3/envs/crystal-llm/lib/python3.10/site-packages/pymatgen/io/cif.py:1079: UserWarning: Some occupancies ([2.0]) sum to > 1! If they are within the occupancy_tolerance, they will be rescaled. The current occupancy_tolerance is set to: 1.0\n",
      "  warnings.warn(msg)\n",
      "/home/scai/phd/aiz218326/anaconda3/envs/crystal-llm/lib/python3.10/site-packages/pymatgen/io/cif.py:1287: UserWarning: Issues encountered while parsing CIF: Some occupancies ([2.0]) sum to > 1! If they are within the occupancy_tolerance, they will be rescaled. The current occupancy_tolerance is set to: 1.0\n",
      "No structure parsed for section 1 in CIF.\n",
      "Occupancy 2.0 exceeded tolerance.\n",
      "  warnings.warn(\"Issues encountered while parsing CIF: \" + \"\\n\".join(self.warnings))\n"
     ]
    },
    {
     "name": "stdout",
     "output_type": "stream",
     "text": [
      "Invalid CIF file with no structures!\n",
      "Invalid CIF file with no structures!Invalid CIF file with no structures!\n",
      "\n"
     ]
    },
    {
     "name": "stderr",
     "output_type": "stream",
     "text": [
      " 49%|██████████████████████████████████████▌                                        | 4417/9046 [08:07<11:58,  6.45it/s]"
     ]
    },
    {
     "name": "stdout",
     "output_type": "stream",
     "text": [
      "Invalid CIF file with no structures!\n"
     ]
    },
    {
     "name": "stderr",
     "output_type": "stream",
     "text": [
      " 49%|██████████████████████████████████████▊                                        | 4448/9046 [08:08<08:44,  8.76it/s]"
     ]
    },
    {
     "name": "stdout",
     "output_type": "stream",
     "text": [
      "Invalid CIF file with no structures!\n",
      "Invalid CIF file with no structures!\n",
      "Invalid CIF file with no structures!\n",
      "Invalid CIF file with no structures!\n",
      "Invalid CIF file with no structures!\n"
     ]
    },
    {
     "name": "stderr",
     "output_type": "stream",
     "text": [
      " 50%|███████████████████████████████████████▌                                       | 4523/9046 [08:14<06:10, 12.20it/s]"
     ]
    },
    {
     "name": "stdout",
     "output_type": "stream",
     "text": [
      "Invalid CIF file with no structures!\n",
      "Invalid CIF file with no structures!"
     ]
    },
    {
     "name": "stderr",
     "output_type": "stream",
     "text": [
      " 50%|███████████████████████████████████████▌                                       | 4530/9046 [08:15<06:42, 11.23it/s]"
     ]
    },
    {
     "name": "stdout",
     "output_type": "stream",
     "text": [
      "\n",
      "Invalid CIF file with no structures!\n"
     ]
    },
    {
     "name": "stderr",
     "output_type": "stream",
     "text": [
      " 50%|███████████████████████████████████████▊                                       | 4557/9046 [08:18<07:25, 10.08it/s]"
     ]
    },
    {
     "name": "stdout",
     "output_type": "stream",
     "text": [
      "Invalid CIF file with no structures!\n",
      "Invalid CIF file with no structures!\n"
     ]
    },
    {
     "name": "stderr",
     "output_type": "stream",
     "text": [
      " 50%|███████████████████████████████████████▉                                       | 4568/9046 [08:20<08:42,  8.57it/s]"
     ]
    },
    {
     "name": "stdout",
     "output_type": "stream",
     "text": [
      "Invalid CIF file with no structures!\n",
      "Invalid CIF file with no structures!\n",
      "Invalid CIF file with no structures!\n",
      "Invalid CIF file with no structures!\n",
      "Invalid CIF file with no structures!\n",
      "Invalid CIF file with no structures!\n",
      "Invalid CIF file with no structures!\n",
      "Invalid CIF file with no structures!\n"
     ]
    },
    {
     "name": "stderr",
     "output_type": "stream",
     "text": [
      " 51%|████████████████████████████████████████                                       | 4594/9046 [08:27<12:29,  5.94it/s]"
     ]
    },
    {
     "name": "stdout",
     "output_type": "stream",
     "text": [
      "Invalid CIF file with no structures!\n",
      "Invalid CIF file with no structures!\n",
      "Invalid CIF file with no structures!\n",
      "Invalid CIF file with no structures!\n"
     ]
    },
    {
     "name": "stderr",
     "output_type": "stream",
     "text": [
      " 51%|████████████████████████████████████████▌                                      | 4643/9046 [08:31<09:29,  7.73it/s]"
     ]
    },
    {
     "name": "stdout",
     "output_type": "stream",
     "text": [
      "Invalid CIF file with no structures!\n"
     ]
    },
    {
     "name": "stderr",
     "output_type": "stream",
     "text": [
      " 53%|█████████████████████████████████████████▌                                     | 4761/9046 [08:40<05:42, 12.52it/s]"
     ]
    },
    {
     "name": "stdout",
     "output_type": "stream",
     "text": [
      "Invalid CIF file with no structures!\n",
      "Invalid CIF file with no structures!\n",
      "Invalid CIF file with no structures!\n",
      "Invalid CIF file with no structures!\n",
      "Invalid CIF file with no structures!\n"
     ]
    },
    {
     "name": "stderr",
     "output_type": "stream",
     "text": [
      " 53%|█████████████████████████████████████████▋                                     | 4780/9046 [08:44<09:08,  7.78it/s]"
     ]
    },
    {
     "name": "stdout",
     "output_type": "stream",
     "text": [
      "Invalid CIF file with no structures!\n",
      "Invalid CIF file with no structures!\n",
      "Invalid CIF file with no structures!\n"
     ]
    },
    {
     "name": "stderr",
     "output_type": "stream",
     "text": [
      " 53%|██████████████████████████████████████████                                     | 4822/9046 [08:47<06:49, 10.30it/s]"
     ]
    },
    {
     "name": "stdout",
     "output_type": "stream",
     "text": [
      "Invalid CIF file with no structures!\n",
      "Invalid CIF file with no structures!\n",
      "Invalid CIF file with no structures!\n"
     ]
    },
    {
     "name": "stderr",
     "output_type": "stream",
     "text": [
      " 54%|██████████████████████████████████████████▎                                    | 4842/9046 [08:49<06:54, 10.15it/s]"
     ]
    },
    {
     "name": "stdout",
     "output_type": "stream",
     "text": [
      "Invalid CIF file with no structures!\n",
      "Invalid CIF file with no structures!\n",
      "Invalid CIF file with no structures!\n",
      "Invalid CIF file with no structures!\n"
     ]
    },
    {
     "name": "stderr",
     "output_type": "stream",
     "text": [
      " 54%|██████████████████████████████████████████▍                                    | 4856/9046 [08:53<08:58,  7.78it/s]"
     ]
    },
    {
     "name": "stdout",
     "output_type": "stream",
     "text": [
      "Invalid CIF file with no structures!\n",
      "Invalid CIF file with no structures!\n"
     ]
    },
    {
     "name": "stderr",
     "output_type": "stream",
     "text": [
      " 55%|███████████████████████████████████████████                                    | 4935/9046 [08:55<04:25, 15.47it/s]"
     ]
    },
    {
     "name": "stdout",
     "output_type": "stream",
     "text": [
      "Invalid CIF file with no structures!\n",
      "Invalid CIF file with no structures!\n",
      "Invalid CIF file with no structures!\n"
     ]
    },
    {
     "name": "stderr",
     "output_type": "stream",
     "text": [
      " 55%|███████████████████████████████████████████▏                                   | 4943/9046 [08:59<07:19,  9.33it/s]"
     ]
    },
    {
     "name": "stdout",
     "output_type": "stream",
     "text": [
      "Invalid CIF file with no structures!\n"
     ]
    },
    {
     "name": "stderr",
     "output_type": "stream",
     "text": [
      " 55%|███████████████████████████████████████████▎                                   | 4956/9046 [09:05<12:18,  5.54it/s]"
     ]
    },
    {
     "name": "stdout",
     "output_type": "stream",
     "text": [
      "Invalid CIF file with no structures!\n"
     ]
    },
    {
     "name": "stderr",
     "output_type": "stream",
     "text": [
      " 55%|███████████████████████████████████████████▋                                   | 5009/9046 [09:06<05:55, 11.34it/s]"
     ]
    },
    {
     "name": "stdout",
     "output_type": "stream",
     "text": [
      "Invalid CIF file with no structures!\n",
      "Invalid CIF file with no structures!\n",
      "Invalid CIF file with no structures!\n",
      "Invalid CIF file with no structures!\n"
     ]
    },
    {
     "name": "stderr",
     "output_type": "stream",
     "text": [
      " 56%|████████████████████████████████████████████                                   | 5039/9046 [09:09<06:02, 11.06it/s]"
     ]
    },
    {
     "name": "stdout",
     "output_type": "stream",
     "text": [
      "Invalid CIF file with no structures!\n"
     ]
    },
    {
     "name": "stderr",
     "output_type": "stream",
     "text": [
      " 56%|████████████████████████████████████████████▏                                  | 5055/9046 [09:11<06:37, 10.04it/s]"
     ]
    },
    {
     "name": "stdout",
     "output_type": "stream",
     "text": [
      "Invalid CIF file with no structures!\n"
     ]
    },
    {
     "name": "stderr",
     "output_type": "stream",
     "text": [
      " 56%|████████████████████████████████████████████▍                                  | 5091/9046 [09:14<05:45, 11.44it/s]"
     ]
    },
    {
     "name": "stdout",
     "output_type": "stream",
     "text": [
      "Invalid CIF file with no structures!\n"
     ]
    },
    {
     "name": "stderr",
     "output_type": "stream",
     "text": [
      " 56%|████████████████████████████████████████████▌                                  | 5109/9046 [09:16<06:36,  9.94it/s]"
     ]
    },
    {
     "name": "stdout",
     "output_type": "stream",
     "text": [
      "Invalid CIF file with no structures!\n",
      "Invalid CIF file with no structures!\n"
     ]
    },
    {
     "name": "stderr",
     "output_type": "stream",
     "text": [
      " 57%|████████████████████████████████████████████▋                                  | 5114/9046 [09:18<08:26,  7.76it/s]"
     ]
    },
    {
     "name": "stdout",
     "output_type": "stream",
     "text": [
      "Invalid CIF file with no structures!\n",
      "Invalid CIF file with no structures!\n"
     ]
    },
    {
     "name": "stderr",
     "output_type": "stream",
     "text": [
      " 57%|████████████████████████████████████████████▉                                  | 5148/9046 [09:20<05:34, 11.64it/s]"
     ]
    },
    {
     "name": "stdout",
     "output_type": "stream",
     "text": [
      "Invalid CIF file with no structures!\n",
      "Invalid CIF file with no structures!\n",
      "Invalid CIF file with no structures!\n"
     ]
    },
    {
     "name": "stderr",
     "output_type": "stream",
     "text": [
      "/home/scai/phd/aiz218326/anaconda3/envs/crystal-llm/lib/python3.10/site-packages/pymatgen/io/cif.py:1079: UserWarning: Some occupancies ([2.0]) sum to > 1! If they are within the occupancy_tolerance, they will be rescaled. The current occupancy_tolerance is set to: 1.0\n",
      "  warnings.warn(msg)\n",
      "/home/scai/phd/aiz218326/anaconda3/envs/crystal-llm/lib/python3.10/site-packages/pymatgen/io/cif.py:1287: UserWarning: Issues encountered while parsing CIF: Some occupancies ([2.0]) sum to > 1! If they are within the occupancy_tolerance, they will be rescaled. The current occupancy_tolerance is set to: 1.0\n",
      "No structure parsed for section 1 in CIF.\n",
      "Occupancy 2.0 exceeded tolerance.\n",
      "  warnings.warn(\"Issues encountered while parsing CIF: \" + \"\\n\".join(self.warnings))\n"
     ]
    },
    {
     "name": "stdout",
     "output_type": "stream",
     "text": [
      "Invalid CIF file with no structures!\n"
     ]
    },
    {
     "name": "stderr",
     "output_type": "stream",
     "text": [
      " 57%|█████████████████████████████████████████████                                  | 5156/9046 [09:26<13:20,  4.86it/s]"
     ]
    },
    {
     "name": "stdout",
     "output_type": "stream",
     "text": [
      "Invalid CIF file with no structures!\n",
      "Invalid CIF file with no structures!Invalid CIF file with no structures!\n",
      "\n",
      "Invalid CIF file with no structures!\n"
     ]
    },
    {
     "name": "stderr",
     "output_type": "stream",
     "text": [
      " 58%|█████████████████████████████████████████████▍                                 | 5203/9046 [09:29<07:23,  8.66it/s]"
     ]
    },
    {
     "name": "stdout",
     "output_type": "stream",
     "text": [
      "Invalid CIF file with no structures!\n"
     ]
    },
    {
     "name": "stderr",
     "output_type": "stream",
     "text": [
      " 58%|█████████████████████████████████████████████▌                                 | 5223/9046 [09:30<05:52, 10.83it/s]"
     ]
    },
    {
     "name": "stdout",
     "output_type": "stream",
     "text": [
      "Invalid CIF file with no structures!\n"
     ]
    },
    {
     "name": "stderr",
     "output_type": "stream",
     "text": [
      " 58%|█████████████████████████████████████████████▊                                 | 5249/9046 [09:34<07:17,  8.68it/s]"
     ]
    },
    {
     "name": "stdout",
     "output_type": "stream",
     "text": [
      "Invalid CIF file with no structures!\n",
      "Invalid CIF file with no structures!\n",
      "Invalid CIF file with no structures!\n",
      "Invalid CIF file with no structures!\n"
     ]
    },
    {
     "name": "stderr",
     "output_type": "stream",
     "text": [
      " 58%|█████████████████████████████████████████████▉                                 | 5265/9046 [09:42<15:13,  4.14it/s]"
     ]
    },
    {
     "name": "stdout",
     "output_type": "stream",
     "text": [
      "Invalid CIF file with no structures!\n",
      "Invalid CIF file with no structures!\n",
      "Invalid CIF file with no structures!\n",
      "Invalid CIF file with no structures!\n",
      "Invalid CIF file with no structures!\n"
     ]
    },
    {
     "name": "stderr",
     "output_type": "stream",
     "text": [
      " 59%|██████████████████████████████████████████████▌                                | 5330/9046 [09:45<07:27,  8.31it/s]"
     ]
    },
    {
     "name": "stdout",
     "output_type": "stream",
     "text": [
      "Invalid CIF file with no structures!\n",
      "Invalid CIF file with no structures!\n"
     ]
    },
    {
     "name": "stderr",
     "output_type": "stream",
     "text": [
      " 59%|██████████████████████████████████████████████▋                                | 5350/9046 [09:48<07:26,  8.28it/s]"
     ]
    },
    {
     "name": "stdout",
     "output_type": "stream",
     "text": [
      "Invalid CIF file with no structures!\n",
      "Invalid CIF file with no structures!\n",
      "Invalid CIF file with no structures!\n",
      "Invalid CIF file with no structures!\n"
     ]
    },
    {
     "name": "stderr",
     "output_type": "stream",
     "text": [
      " 60%|███████████████████████████████████████████████▏                               | 5410/9046 [09:58<09:38,  6.28it/s]"
     ]
    },
    {
     "name": "stdout",
     "output_type": "stream",
     "text": [
      "Invalid CIF file with no structures!\n"
     ]
    },
    {
     "name": "stderr",
     "output_type": "stream",
     "text": [
      " 60%|███████████████████████████████████████████████▋                               | 5458/9046 [09:59<05:29, 10.89it/s]"
     ]
    },
    {
     "name": "stdout",
     "output_type": "stream",
     "text": [
      "Invalid CIF file with no structures!\n"
     ]
    },
    {
     "name": "stderr",
     "output_type": "stream",
     "text": [
      " 61%|████████████████████████████████████████████████                               | 5503/9046 [10:04<05:43, 10.33it/s]"
     ]
    },
    {
     "name": "stdout",
     "output_type": "stream",
     "text": [
      "Invalid CIF file with no structures!\n",
      "Invalid CIF file with no structures!\n"
     ]
    },
    {
     "name": "stderr",
     "output_type": "stream",
     "text": [
      " 61%|████████████████████████████████████████████████▏                              | 5518/9046 [10:06<06:25,  9.16it/s]"
     ]
    },
    {
     "name": "stdout",
     "output_type": "stream",
     "text": [
      "Invalid CIF file with no structures!\n",
      "Invalid CIF file with no structures!\n",
      "Invalid CIF file with no structures!\n",
      "Invalid CIF file with no structures!\n",
      "Invalid CIF file with no structures!\n",
      "Invalid CIF file with no structures!\n",
      "Invalid CIF file with no structures!\n",
      "Invalid CIF file with no structures!\n"
     ]
    },
    {
     "name": "stderr",
     "output_type": "stream",
     "text": [
      " 61%|████████████████████████████████████████████████▎                              | 5528/9046 [10:13<12:27,  4.71it/s]"
     ]
    },
    {
     "name": "stdout",
     "output_type": "stream",
     "text": [
      "Invalid CIF file with no structures!\n"
     ]
    },
    {
     "name": "stderr",
     "output_type": "stream",
     "text": [
      " 62%|████████████████████████████████████████████████▉                              | 5603/9046 [10:14<04:32, 12.64it/s]"
     ]
    },
    {
     "name": "stdout",
     "output_type": "stream",
     "text": [
      "Invalid CIF file with no structures!\n",
      "Invalid CIF file with no structures!\n"
     ]
    },
    {
     "name": "stderr",
     "output_type": "stream",
     "text": [
      " 62%|█████████████████████████████████████████████████                              | 5616/9046 [10:15<04:37, 12.34it/s]"
     ]
    },
    {
     "name": "stdout",
     "output_type": "stream",
     "text": [
      "Invalid CIF file with no structures!\n"
     ]
    },
    {
     "name": "stderr",
     "output_type": "stream",
     "text": [
      " 63%|█████████████████████████████████████████████████▍                             | 5657/9046 [10:20<05:14, 10.76it/s]"
     ]
    },
    {
     "name": "stdout",
     "output_type": "stream",
     "text": [
      "Invalid CIF file with no structures!\n"
     ]
    },
    {
     "name": "stderr",
     "output_type": "stream",
     "text": [
      " 63%|█████████████████████████████████████████████████▊                             | 5700/9046 [10:22<03:41, 15.10it/s]"
     ]
    },
    {
     "name": "stdout",
     "output_type": "stream",
     "text": [
      "Invalid CIF file with no structures!\n"
     ]
    },
    {
     "name": "stderr",
     "output_type": "stream",
     "text": [
      " 63%|██████████████████████████████████████████████████                             | 5738/9046 [10:27<04:56, 11.16it/s]"
     ]
    },
    {
     "name": "stdout",
     "output_type": "stream",
     "text": [
      "Invalid CIF file with no structures!\n",
      "Invalid CIF file with no structures!\n"
     ]
    },
    {
     "name": "stderr",
     "output_type": "stream",
     "text": [
      " 64%|██████████████████████████████████████████████████▎                            | 5755/9046 [10:29<05:06, 10.72it/s]"
     ]
    },
    {
     "name": "stdout",
     "output_type": "stream",
     "text": [
      "Invalid CIF file with no structures!\n",
      "Invalid CIF file with no structures!\n"
     ]
    },
    {
     "name": "stderr",
     "output_type": "stream",
     "text": [
      "/home/scai/phd/aiz218326/anaconda3/envs/crystal-llm/lib/python3.10/site-packages/pymatgen/io/cif.py:1079: UserWarning: Some occupancies ([3.0, 3.0, 2.0, 2.0, 2.0]) sum to > 1! If they are within the occupancy_tolerance, they will be rescaled. The current occupancy_tolerance is set to: 1.0\n",
      "  warnings.warn(msg)\n",
      "/home/scai/phd/aiz218326/anaconda3/envs/crystal-llm/lib/python3.10/site-packages/pymatgen/io/cif.py:1287: UserWarning: Issues encountered while parsing CIF: Some occupancies ([3.0, 3.0, 2.0, 2.0, 2.0]) sum to > 1! If they are within the occupancy_tolerance, they will be rescaled. The current occupancy_tolerance is set to: 1.0\n",
      "No structure parsed for section 1 in CIF.\n",
      "Occupancy 2.0 exceeded tolerance.\n",
      "  warnings.warn(\"Issues encountered while parsing CIF: \" + \"\\n\".join(self.warnings))\n"
     ]
    },
    {
     "name": "stdout",
     "output_type": "stream",
     "text": [
      "Invalid CIF file with no structures!\n"
     ]
    },
    {
     "name": "stderr",
     "output_type": "stream",
     "text": [
      " 64%|██████████████████████████████████████████████████▌                            | 5795/9046 [10:35<06:13,  8.71it/s]"
     ]
    },
    {
     "name": "stdout",
     "output_type": "stream",
     "text": [
      "Invalid CIF file with no structures!\n"
     ]
    },
    {
     "name": "stderr",
     "output_type": "stream",
     "text": [
      " 64%|██████████████████████████████████████████████████▋                            | 5805/9046 [10:36<06:16,  8.62it/s]"
     ]
    },
    {
     "name": "stdout",
     "output_type": "stream",
     "text": [
      "Invalid CIF file with no structures!\n"
     ]
    },
    {
     "name": "stderr",
     "output_type": "stream",
     "text": [
      " 64%|██████████████████████████████████████████████████▊                            | 5820/9046 [10:37<05:21, 10.04it/s]"
     ]
    },
    {
     "name": "stdout",
     "output_type": "stream",
     "text": [
      "Invalid CIF file with no structures!\n",
      "Invalid CIF file with no structures!\n",
      "Invalid CIF file with no structures!\n"
     ]
    },
    {
     "name": "stderr",
     "output_type": "stream",
     "text": [
      " 64%|██████████████████████████████████████████████████▉                            | 5828/9046 [10:38<05:28,  9.79it/s]"
     ]
    },
    {
     "name": "stdout",
     "output_type": "stream",
     "text": [
      "Invalid CIF file with no structures!\n"
     ]
    },
    {
     "name": "stderr",
     "output_type": "stream",
     "text": [
      " 65%|███████████████████████████████████████████████████                            | 5846/9046 [10:41<07:09,  7.45it/s]"
     ]
    },
    {
     "name": "stdout",
     "output_type": "stream",
     "text": [
      "Invalid CIF file with no structures!\n"
     ]
    },
    {
     "name": "stderr",
     "output_type": "stream",
     "text": [
      " 65%|███████████████████████████████████████████████████▍                           | 5896/9046 [10:43<03:14, 16.21it/s]"
     ]
    },
    {
     "name": "stdout",
     "output_type": "stream",
     "text": [
      "Invalid CIF file with no structures!\n",
      "Invalid CIF file with no structures!\n",
      "Invalid CIF file with no structures!\n",
      "Invalid CIF file with no structures!\n",
      "initial_value must be str or None, not tuple\n"
     ]
    },
    {
     "name": "stderr",
     "output_type": "stream",
     "text": [
      " 65%|███████████████████████████████████████████████████▋                           | 5918/9046 [10:45<04:04, 12.81it/s]"
     ]
    },
    {
     "name": "stdout",
     "output_type": "stream",
     "text": [
      "Invalid CIF file with no structures!\n",
      "Invalid CIF file with no structures!\n",
      "Invalid CIF file with no structures!\n",
      "Invalid CIF file with no structures!\n",
      "Invalid CIF file with no structures!Invalid CIF file with no structures!\n",
      "\n",
      "Invalid CIF file with no structures!\n",
      "Invalid CIF file with no structures!\n",
      "Invalid CIF file with no structures!\n",
      "Invalid CIF file with no structures!\n",
      "Invalid CIF file with no structures!\n"
     ]
    },
    {
     "name": "stderr",
     "output_type": "stream",
     "text": [
      " 66%|████████████████████████████████████████████████████▌                          | 6013/9046 [10:54<02:04, 24.32it/s]"
     ]
    },
    {
     "name": "stdout",
     "output_type": "stream",
     "text": [
      "Invalid CIF file with no structures!\n",
      "Invalid CIF file with no structures!\n"
     ]
    },
    {
     "name": "stderr",
     "output_type": "stream",
     "text": [
      " 67%|████████████████████████████████████████████████████▋                          | 6027/9046 [10:58<04:59, 10.07it/s]"
     ]
    },
    {
     "name": "stdout",
     "output_type": "stream",
     "text": [
      "Invalid CIF file with no structures!\n",
      "Invalid CIF file with no structures!\n",
      "Invalid CIF file with no structures!\n",
      "Invalid CIF file with no structures!\n",
      "Invalid CIF file with no structures!\n",
      "Invalid CIF file with no structures!\n",
      "Invalid CIF file with no structures!\n"
     ]
    },
    {
     "name": "stderr",
     "output_type": "stream",
     "text": [
      " 67%|████████████████████████████████████████████████████▋                          | 6038/9046 [11:06<11:32,  4.35it/s]"
     ]
    },
    {
     "name": "stdout",
     "output_type": "stream",
     "text": [
      "Invalid CIF file with no structures!\n"
     ]
    },
    {
     "name": "stderr",
     "output_type": "stream",
     "text": [
      " 68%|█████████████████████████████████████████████████████▋                         | 6143/9046 [11:10<03:29, 13.85it/s]"
     ]
    },
    {
     "name": "stdout",
     "output_type": "stream",
     "text": [
      "Invalid CIF file with no structures!\n"
     ]
    },
    {
     "name": "stderr",
     "output_type": "stream",
     "text": [
      " 68%|█████████████████████████████████████████████████████▋                         | 6153/9046 [11:12<04:41, 10.29it/s]"
     ]
    },
    {
     "name": "stdout",
     "output_type": "stream",
     "text": [
      "Invalid CIF file with no structures!Invalid CIF file with no structures!\n",
      "\n"
     ]
    },
    {
     "name": "stderr",
     "output_type": "stream",
     "text": [
      " 68%|█████████████████████████████████████████████████████▊                         | 6162/9046 [11:17<09:27,  5.08it/s]"
     ]
    },
    {
     "name": "stdout",
     "output_type": "stream",
     "text": [
      "Invalid CIF file with no structures!"
     ]
    },
    {
     "name": "stderr",
     "output_type": "stream",
     "text": [
      " 68%|█████████████████████████████████████████████████████▉                         | 6178/9046 [11:17<05:58,  8.01it/s]"
     ]
    },
    {
     "name": "stdout",
     "output_type": "stream",
     "text": [
      "\n",
      "Invalid CIF file with no structures!\n"
     ]
    },
    {
     "name": "stderr",
     "output_type": "stream",
     "text": [
      " 69%|██████████████████████████████████████████████████████▏                        | 6209/9046 [11:19<03:54, 12.10it/s]"
     ]
    },
    {
     "name": "stdout",
     "output_type": "stream",
     "text": [
      "Invalid CIF file with no structures!\n",
      "Invalid CIF file with no structures!\n"
     ]
    },
    {
     "name": "stderr",
     "output_type": "stream",
     "text": [
      "/home/scai/phd/aiz218326/anaconda3/envs/crystal-llm/lib/python3.10/site-packages/pymatgen/io/cif.py:1079: UserWarning: Some occupancies ([2.0]) sum to > 1! If they are within the occupancy_tolerance, they will be rescaled. The current occupancy_tolerance is set to: 1.0\n",
      "  warnings.warn(msg)\n",
      "/home/scai/phd/aiz218326/anaconda3/envs/crystal-llm/lib/python3.10/site-packages/pymatgen/io/cif.py:1287: UserWarning: Issues encountered while parsing CIF: Some occupancies ([2.0]) sum to > 1! If they are within the occupancy_tolerance, they will be rescaled. The current occupancy_tolerance is set to: 1.0\n",
      "No structure parsed for section 1 in CIF.\n",
      "Occupancy 2.0 exceeded tolerance.\n",
      "  warnings.warn(\"Issues encountered while parsing CIF: \" + \"\\n\".join(self.warnings))\n"
     ]
    },
    {
     "name": "stdout",
     "output_type": "stream",
     "text": [
      "Invalid CIF file with no structures!\n",
      "Invalid CIF file with no structures!\n",
      "Invalid CIF file with no structures!\n"
     ]
    },
    {
     "name": "stderr",
     "output_type": "stream",
     "text": [
      " 69%|██████████████████████████████████████████████████████▎                        | 6225/9046 [11:23<06:32,  7.18it/s]"
     ]
    },
    {
     "name": "stdout",
     "output_type": "stream",
     "text": [
      "Invalid CIF file with no structures!\n",
      "Invalid CIF file with no structures!"
     ]
    },
    {
     "name": "stderr",
     "output_type": "stream",
     "text": [
      " 69%|██████████████████████████████████████████████████████▌                        | 6244/9046 [11:26<06:46,  6.90it/s]"
     ]
    },
    {
     "name": "stdout",
     "output_type": "stream",
     "text": [
      "\n"
     ]
    },
    {
     "name": "stderr",
     "output_type": "stream",
     "text": [
      "/home/scai/phd/aiz218326/anaconda3/envs/crystal-llm/lib/python3.10/site-packages/pymatgen/io/cif.py:1079: UserWarning: Some occupancies ([2.0, 2.0, 2.0, 2.0]) sum to > 1! If they are within the occupancy_tolerance, they will be rescaled. The current occupancy_tolerance is set to: 1.0\n",
      "  warnings.warn(msg)\n",
      "/home/scai/phd/aiz218326/anaconda3/envs/crystal-llm/lib/python3.10/site-packages/pymatgen/io/cif.py:1283: UserWarning: No structure parsed for section 1 in CIF.\n",
      "Occupancy 2.0 exceeded tolerance.\n",
      "  warnings.warn(msg)\n",
      "/home/scai/phd/aiz218326/anaconda3/envs/crystal-llm/lib/python3.10/site-packages/pymatgen/io/cif.py:1287: UserWarning: Issues encountered while parsing CIF: Some occupancies ([2.0, 2.0, 2.0, 2.0]) sum to > 1! If they are within the occupancy_tolerance, they will be rescaled. The current occupancy_tolerance is set to: 1.0\n",
      "No structure parsed for section 1 in CIF.\n",
      "Occupancy 2.0 exceeded tolerance.\n",
      "  warnings.warn(\"Issues encountered while parsing CIF: \" + \"\\n\".join(self.warnings))\n"
     ]
    },
    {
     "name": "stdout",
     "output_type": "stream",
     "text": [
      "Invalid CIF file with no structures!\n",
      "Invalid CIF file with no structures!\n",
      "Invalid CIF file with no structures!\n",
      "Invalid CIF file with no structures!\n"
     ]
    },
    {
     "name": "stderr",
     "output_type": "stream",
     "text": [
      " 70%|███████████████████████████████████████████████████████▏                       | 6321/9046 [11:29<03:27, 13.13it/s]/home/scai/phd/aiz218326/anaconda3/envs/crystal-llm/lib/python3.10/site-packages/pymatgen/io/cif.py:1079: UserWarning: Some occupancies ([2.0, 2.0, 2.0]) sum to > 1! If they are within the occupancy_tolerance, they will be rescaled. The current occupancy_tolerance is set to: 1.0\n",
      "  warnings.warn(msg)\n",
      "/home/scai/phd/aiz218326/anaconda3/envs/crystal-llm/lib/python3.10/site-packages/pymatgen/io/cif.py:1287: UserWarning: Issues encountered while parsing CIF: Some occupancies ([2.0, 2.0, 2.0]) sum to > 1! If they are within the occupancy_tolerance, they will be rescaled. The current occupancy_tolerance is set to: 1.0\n",
      "No structure parsed for section 1 in CIF.\n",
      "Occupancy 2.0 exceeded tolerance.\n",
      "  warnings.warn(\"Issues encountered while parsing CIF: \" + \"\\n\".join(self.warnings))\n"
     ]
    },
    {
     "name": "stdout",
     "output_type": "stream",
     "text": [
      "Invalid CIF file with no structures!\n",
      "Invalid CIF file with no structures!\n"
     ]
    },
    {
     "name": "stderr",
     "output_type": "stream",
     "text": [
      " 70%|███████████████████████████████████████████████████████▏                       | 6324/9046 [11:32<05:01,  9.03it/s]"
     ]
    },
    {
     "name": "stdout",
     "output_type": "stream",
     "text": [
      "Invalid CIF file with no structures!\n"
     ]
    },
    {
     "name": "stderr",
     "output_type": "stream",
     "text": [
      " 70%|███████████████████████████████████████████████████████▍                       | 6349/9046 [11:33<03:58, 11.33it/s]"
     ]
    },
    {
     "name": "stdout",
     "output_type": "stream",
     "text": [
      "Invalid CIF file with no structures!\n",
      "Invalid CIF file with no structures!Invalid CIF file with no structures!\n",
      "\n",
      "Invalid CIF file with no structures!\n",
      "Invalid CIF file with no structures!\n"
     ]
    },
    {
     "name": "stderr",
     "output_type": "stream",
     "text": [
      " 70%|███████████████████████████████████████████████████████▌                       | 6359/9046 [11:35<04:38,  9.64it/s]"
     ]
    },
    {
     "name": "stdout",
     "output_type": "stream",
     "text": [
      "Invalid CIF file with no structures!\n"
     ]
    },
    {
     "name": "stderr",
     "output_type": "stream",
     "text": [
      " 71%|███████████████████████████████████████████████████████▉                       | 6407/9046 [11:38<03:23, 12.98it/s]"
     ]
    },
    {
     "name": "stdout",
     "output_type": "stream",
     "text": [
      "Invalid CIF file with no structures!\n"
     ]
    },
    {
     "name": "stderr",
     "output_type": "stream",
     "text": [
      " 71%|████████████████████████████████████████████████████████                       | 6423/9046 [11:40<04:07, 10.60it/s]"
     ]
    },
    {
     "name": "stdout",
     "output_type": "stream",
     "text": [
      "Invalid CIF file with no structures!\n"
     ]
    },
    {
     "name": "stderr",
     "output_type": "stream",
     "text": [
      " 71%|████████████████████████████████████████████████████████▏                      | 6430/9046 [11:41<04:09, 10.50it/s]"
     ]
    },
    {
     "name": "stdout",
     "output_type": "stream",
     "text": [
      "Invalid CIF file with no structures!\n"
     ]
    },
    {
     "name": "stderr",
     "output_type": "stream",
     "text": [
      " 71%|████████████████████████████████████████████████████████▎                      | 6454/9046 [11:43<03:52, 11.16it/s]"
     ]
    },
    {
     "name": "stdout",
     "output_type": "stream",
     "text": [
      "Invalid CIF file with no structures!\n"
     ]
    },
    {
     "name": "stderr",
     "output_type": "stream",
     "text": [
      " 72%|████████████████████████████████████████████████████████▌                      | 6471/9046 [11:45<04:01, 10.66it/s]"
     ]
    },
    {
     "name": "stdout",
     "output_type": "stream",
     "text": [
      "Invalid CIF file with no structures!\n",
      "Invalid CIF file with no structures!\n",
      "Invalid CIF file with no structures!\n"
     ]
    },
    {
     "name": "stderr",
     "output_type": "stream",
     "text": [
      " 72%|████████████████████████████████████████████████████████▌                      | 6474/9046 [11:48<06:23,  6.71it/s]"
     ]
    },
    {
     "name": "stdout",
     "output_type": "stream",
     "text": [
      "Invalid CIF file with no structures!\n"
     ]
    },
    {
     "name": "stderr",
     "output_type": "stream",
     "text": [
      " 72%|████████████████████████████████████████████████████████▋                      | 6497/9046 [11:51<06:00,  7.07it/s]"
     ]
    },
    {
     "name": "stdout",
     "output_type": "stream",
     "text": [
      "Invalid CIF file with no structures!\n",
      "Invalid CIF file with no structures!\n"
     ]
    },
    {
     "name": "stderr",
     "output_type": "stream",
     "text": [
      " 73%|█████████████████████████████████████████████████████████▎                     | 6559/9046 [11:54<03:45, 11.01it/s]"
     ]
    },
    {
     "name": "stdout",
     "output_type": "stream",
     "text": [
      "Invalid CIF file with no structures!\n",
      "Invalid CIF file with no structures!"
     ]
    },
    {
     "name": "stderr",
     "output_type": "stream",
     "text": [
      " 73%|█████████████████████████████████████████████████████████▎                     | 6561/9046 [11:55<04:23,  9.44it/s]"
     ]
    },
    {
     "name": "stdout",
     "output_type": "stream",
     "text": [
      "\n"
     ]
    },
    {
     "name": "stderr",
     "output_type": "stream",
     "text": [
      " 73%|█████████████████████████████████████████████████████████▌                     | 6591/9046 [11:57<03:47, 10.79it/s]"
     ]
    },
    {
     "name": "stdout",
     "output_type": "stream",
     "text": [
      "Invalid CIF file with no structures!\n"
     ]
    },
    {
     "name": "stderr",
     "output_type": "stream",
     "text": [
      " 73%|█████████████████████████████████████████████████████████▌                     | 6593/9046 [11:58<04:14,  9.65it/s]"
     ]
    },
    {
     "name": "stdout",
     "output_type": "stream",
     "text": [
      "Invalid CIF file with no structures!\n",
      "Invalid CIF file with no structures!\n",
      "Invalid CIF file with no structures!\n",
      "Invalid CIF file with no structures!\n"
     ]
    },
    {
     "name": "stderr",
     "output_type": "stream",
     "text": [
      " 73%|█████████████████████████████████████████████████████████▋                     | 6600/9046 [12:01<07:09,  5.70it/s]"
     ]
    },
    {
     "name": "stdout",
     "output_type": "stream",
     "text": [
      "Invalid CIF file with no structures!\n",
      "Invalid CIF file with no structures!\n",
      "Invalid CIF file with no structures!\n"
     ]
    },
    {
     "name": "stderr",
     "output_type": "stream",
     "text": [
      " 73%|█████████████████████████████████████████████████████████▉                     | 6638/9046 [12:02<03:24, 11.80it/s]"
     ]
    },
    {
     "name": "stdout",
     "output_type": "stream",
     "text": [
      "Invalid CIF file with no structures!\n"
     ]
    },
    {
     "name": "stderr",
     "output_type": "stream",
     "text": [
      " 74%|██████████████████████████████████████████████████████████▏                    | 6661/9046 [12:04<03:16, 12.16it/s]"
     ]
    },
    {
     "name": "stdout",
     "output_type": "stream",
     "text": [
      "Invalid CIF file with no structures!\n"
     ]
    },
    {
     "name": "stderr",
     "output_type": "stream",
     "text": [
      " 74%|██████████████████████████████████████████████████████████▏                    | 6663/9046 [12:05<04:02,  9.81it/s]"
     ]
    },
    {
     "name": "stdout",
     "output_type": "stream",
     "text": [
      "Invalid CIF file with no structures!\n"
     ]
    },
    {
     "name": "stderr",
     "output_type": "stream",
     "text": [
      " 74%|██████████████████████████████████████████████████████████▎                    | 6680/9046 [12:07<03:51, 10.21it/s]"
     ]
    },
    {
     "name": "stdout",
     "output_type": "stream",
     "text": [
      "Invalid CIF file with no structures!\n",
      "Invalid CIF file with no structures!\n"
     ]
    },
    {
     "name": "stderr",
     "output_type": "stream",
     "text": [
      " 74%|██████████████████████████████████████████████████████████▍                    | 6697/9046 [12:07<02:34, 15.25it/s]"
     ]
    },
    {
     "name": "stdout",
     "output_type": "stream",
     "text": [
      "Invalid CIF file with no structures!\n",
      "Invalid CIF file with no structures!\n",
      "Invalid CIF file with no structures!\n",
      "Invalid CIF file with no structures!\n",
      "Timer expired\n",
      "Invalid CIF file with no structures!\n"
     ]
    },
    {
     "name": "stderr",
     "output_type": "stream",
     "text": [
      " 74%|██████████████████████████████████████████████████████████▌                    | 6701/9046 [12:12<07:42,  5.07it/s]"
     ]
    },
    {
     "name": "stdout",
     "output_type": "stream",
     "text": [
      "Invalid CIF file with no structures!\n"
     ]
    },
    {
     "name": "stderr",
     "output_type": "stream",
     "text": [
      " 75%|██████████████████████████████████████████████████████████▉                    | 6755/9046 [12:15<03:42, 10.27it/s]"
     ]
    },
    {
     "name": "stdout",
     "output_type": "stream",
     "text": [
      "Invalid CIF file with no structures!Invalid CIF file with no structures!\n",
      "\n",
      "Invalid CIF file with no structures!\n",
      "Invalid CIF file with no structures!\n"
     ]
    },
    {
     "name": "stderr",
     "output_type": "stream",
     "text": [
      "/home/scai/phd/aiz218326/anaconda3/envs/crystal-llm/lib/python3.10/site-packages/pymatgen/io/cif.py:1079: UserWarning: Some occupancies ([2.0]) sum to > 1! If they are within the occupancy_tolerance, they will be rescaled. The current occupancy_tolerance is set to: 1.0\n",
      "  warnings.warn(msg)\n",
      "/home/scai/phd/aiz218326/anaconda3/envs/crystal-llm/lib/python3.10/site-packages/pymatgen/io/cif.py:1283: UserWarning: No structure parsed for section 1 in CIF.\n",
      "Occupancy 2.0 exceeded tolerance.\n",
      "  warnings.warn(msg)\n",
      "/home/scai/phd/aiz218326/anaconda3/envs/crystal-llm/lib/python3.10/site-packages/pymatgen/io/cif.py:1287: UserWarning: Issues encountered while parsing CIF: Some occupancies ([2.0]) sum to > 1! If they are within the occupancy_tolerance, they will be rescaled. The current occupancy_tolerance is set to: 1.0\n",
      "No structure parsed for section 1 in CIF.\n",
      "Occupancy 2.0 exceeded tolerance.\n",
      "  warnings.warn(\"Issues encountered while parsing CIF: \" + \"\\n\".join(self.warnings))\n"
     ]
    },
    {
     "name": "stdout",
     "output_type": "stream",
     "text": [
      "Invalid CIF file with no structures!\n"
     ]
    },
    {
     "name": "stderr",
     "output_type": "stream",
     "text": [
      " 75%|███████████████████████████████████████████████████████████                    | 6764/9046 [12:20<06:33,  5.80it/s]"
     ]
    },
    {
     "name": "stdout",
     "output_type": "stream",
     "text": [
      "Invalid CIF file with no structures!\n",
      "Invalid CIF file with no structures!\n",
      "Invalid CIF file with no structures!\n",
      "Invalid CIF file with no structures!\n"
     ]
    },
    {
     "name": "stderr",
     "output_type": "stream",
     "text": [
      " 76%|███████████████████████████████████████████████████████████▊                   | 6843/9046 [12:25<03:17, 11.14it/s]"
     ]
    },
    {
     "name": "stdout",
     "output_type": "stream",
     "text": [
      "Invalid CIF file with no structures!\n",
      "Invalid CIF file with no structures!\n"
     ]
    },
    {
     "name": "stderr",
     "output_type": "stream",
     "text": [
      " 76%|███████████████████████████████████████████████████████████▊                   | 6849/9046 [12:27<04:13,  8.67it/s]"
     ]
    },
    {
     "name": "stdout",
     "output_type": "stream",
     "text": [
      "Invalid CIF file with no structures!\n"
     ]
    },
    {
     "name": "stderr",
     "output_type": "stream",
     "text": [
      " 76%|████████████████████████████████████████████████████████████                   | 6877/9046 [12:27<02:47, 12.93it/s]"
     ]
    },
    {
     "name": "stdout",
     "output_type": "stream",
     "text": [
      "Invalid CIF file with no structures!\n"
     ]
    },
    {
     "name": "stderr",
     "output_type": "stream",
     "text": [
      " 76%|████████████████████████████████████████████████████████████▏                  | 6886/9046 [12:28<02:39, 13.53it/s]"
     ]
    },
    {
     "name": "stdout",
     "output_type": "stream",
     "text": [
      "Invalid CIF file with no structures!\n",
      "Invalid CIF file with no structures!\n",
      "Invalid CIF file with no structures!\n"
     ]
    },
    {
     "name": "stderr",
     "output_type": "stream",
     "text": [
      " 76%|████████████████████████████████████████████████████████████▎                  | 6905/9046 [12:30<03:16, 10.91it/s]"
     ]
    },
    {
     "name": "stdout",
     "output_type": "stream",
     "text": [
      "Invalid CIF file with no structures!\n",
      "Invalid CIF file with no structures!\n",
      "Invalid CIF file with no structures!\n"
     ]
    },
    {
     "name": "stderr",
     "output_type": "stream",
     "text": [
      " 76%|████████████████████████████████████████████████████████████▎                  | 6908/9046 [12:32<04:27,  7.99it/s]"
     ]
    },
    {
     "name": "stdout",
     "output_type": "stream",
     "text": [
      "Invalid CIF file with no structures!\n",
      "Invalid CIF file with no structures!\n"
     ]
    },
    {
     "name": "stderr",
     "output_type": "stream",
     "text": [
      " 77%|████████████████████████████████████████████████████████████▊                  | 6957/9046 [12:37<03:37,  9.60it/s]"
     ]
    },
    {
     "name": "stdout",
     "output_type": "stream",
     "text": [
      "Invalid CIF file with no structures!\n"
     ]
    },
    {
     "name": "stderr",
     "output_type": "stream",
     "text": [
      " 77%|████████████████████████████████████████████████████████████▊                  | 6962/9046 [12:37<03:28, 10.01it/s]"
     ]
    },
    {
     "name": "stdout",
     "output_type": "stream",
     "text": [
      "Invalid CIF file with no structures!\n",
      "Invalid CIF file with no structures!\n"
     ]
    },
    {
     "name": "stderr",
     "output_type": "stream",
     "text": [
      " 77%|████████████████████████████████████████████████████████████▉                  | 6977/9046 [12:41<05:25,  6.36it/s]"
     ]
    },
    {
     "name": "stdout",
     "output_type": "stream",
     "text": [
      "Invalid CIF file with no structures!\n"
     ]
    },
    {
     "name": "stderr",
     "output_type": "stream",
     "text": [
      " 77%|█████████████████████████████████████████████████████████████▏                 | 7005/9046 [12:43<03:24,  9.98it/s]"
     ]
    },
    {
     "name": "stdout",
     "output_type": "stream",
     "text": [
      "Invalid CIF file with no structures!\n",
      "Invalid CIF file with no structures!\n",
      "Invalid CIF file with no structures!\n"
     ]
    },
    {
     "name": "stderr",
     "output_type": "stream",
     "text": [
      " 78%|█████████████████████████████████████████████████████████████▎                 | 7027/9046 [12:48<05:10,  6.50it/s]"
     ]
    },
    {
     "name": "stdout",
     "output_type": "stream",
     "text": [
      "Invalid CIF file with no structures!\n",
      "Invalid CIF file with no structures!\n"
     ]
    },
    {
     "name": "stderr",
     "output_type": "stream",
     "text": [
      " 78%|█████████████████████████████████████████████████████████████▊                 | 7071/9046 [12:53<04:08,  7.94it/s]"
     ]
    },
    {
     "name": "stdout",
     "output_type": "stream",
     "text": [
      "Invalid CIF file with no structures!\n"
     ]
    },
    {
     "name": "stderr",
     "output_type": "stream",
     "text": [
      " 78%|█████████████████████████████████████████████████████████████▉                 | 7099/9046 [12:55<03:39,  8.86it/s]"
     ]
    },
    {
     "name": "stdout",
     "output_type": "stream",
     "text": [
      "Invalid CIF file with no structures!\n",
      "Invalid CIF file with no structures!\n"
     ]
    },
    {
     "name": "stderr",
     "output_type": "stream",
     "text": [
      " 79%|██████████████████████████████████████████████████████████████▎                | 7141/9046 [12:56<02:03, 15.38it/s]"
     ]
    },
    {
     "name": "stdout",
     "output_type": "stream",
     "text": [
      "Invalid CIF file with no structures!\n"
     ]
    },
    {
     "name": "stderr",
     "output_type": "stream",
     "text": [
      " 79%|██████████████████████████████████████████████████████████████▍                | 7146/9046 [12:58<02:43, 11.59it/s]"
     ]
    },
    {
     "name": "stdout",
     "output_type": "stream",
     "text": [
      "Invalid CIF file with no structures!\n",
      "Invalid CIF file with no structures!\n"
     ]
    },
    {
     "name": "stderr",
     "output_type": "stream",
     "text": [
      " 79%|██████████████████████████████████████████████████████████████▌                | 7164/9046 [13:00<02:57, 10.61it/s]"
     ]
    },
    {
     "name": "stdout",
     "output_type": "stream",
     "text": [
      "Invalid CIF file with no structures!\n",
      "Invalid CIF file with no structures!\n"
     ]
    },
    {
     "name": "stderr",
     "output_type": "stream",
     "text": [
      " 79%|██████████████████████████████████████████████████████████████▌                | 7170/9046 [13:04<05:20,  5.86it/s]/home/scai/phd/aiz218326/anaconda3/envs/crystal-llm/lib/python3.10/site-packages/pymatgen/io/cif.py:1079: UserWarning: Some occupancies ([2.0, 2.0]) sum to > 1! If they are within the occupancy_tolerance, they will be rescaled. The current occupancy_tolerance is set to: 1.0\n",
      "  warnings.warn(msg)\n",
      "/home/scai/phd/aiz218326/anaconda3/envs/crystal-llm/lib/python3.10/site-packages/pymatgen/io/cif.py:1283: UserWarning: No structure parsed for section 1 in CIF.\n",
      "Occupancy 2.0 exceeded tolerance.\n",
      "  warnings.warn(msg)\n",
      "/home/scai/phd/aiz218326/anaconda3/envs/crystal-llm/lib/python3.10/site-packages/pymatgen/io/cif.py:1287: UserWarning: Issues encountered while parsing CIF: Some occupancies ([2.0, 2.0]) sum to > 1! If they are within the occupancy_tolerance, they will be rescaled. The current occupancy_tolerance is set to: 1.0\n",
      "No structure parsed for section 1 in CIF.\n",
      "Occupancy 2.0 exceeded tolerance.\n",
      "  warnings.warn(\"Issues encountered while parsing CIF: \" + \"\\n\".join(self.warnings))\n"
     ]
    },
    {
     "name": "stdout",
     "output_type": "stream",
     "text": [
      "Invalid CIF file with no structures!\n"
     ]
    },
    {
     "name": "stderr",
     "output_type": "stream",
     "text": [
      " 80%|██████████████████████████████████████████████████████████████▊                | 7198/9046 [13:06<03:37,  8.49it/s]"
     ]
    },
    {
     "name": "stdout",
     "output_type": "stream",
     "text": [
      "Invalid CIF file with no structures!\n",
      "Invalid CIF file with no structures!\n",
      "Invalid CIF file with no structures!\n"
     ]
    },
    {
     "name": "stderr",
     "output_type": "stream",
     "text": [
      " 80%|███████████████████████████████████████████████████████████████                | 7215/9046 [13:08<03:34,  8.52it/s]"
     ]
    },
    {
     "name": "stdout",
     "output_type": "stream",
     "text": [
      "Invalid CIF file with no structures!\n",
      "Invalid CIF file with no structures!\n"
     ]
    },
    {
     "name": "stderr",
     "output_type": "stream",
     "text": [
      " 80%|███████████████████████████████████████████████████████████████▏               | 7234/9046 [13:08<02:44, 11.05it/s]"
     ]
    },
    {
     "name": "stdout",
     "output_type": "stream",
     "text": [
      "Invalid CIF file with no structures!\n"
     ]
    },
    {
     "name": "stderr",
     "output_type": "stream",
     "text": [
      " 80%|███████████████████████████████████████████████████████████████▍               | 7268/9046 [13:12<03:12,  9.25it/s]"
     ]
    },
    {
     "name": "stdout",
     "output_type": "stream",
     "text": [
      "Invalid CIF file with no structures!\n",
      "Invalid CIF file with no structures!\n",
      "Invalid CIF file with no structures!\n"
     ]
    },
    {
     "name": "stderr",
     "output_type": "stream",
     "text": [
      " 80%|███████████████████████████████████████████████████████████████▍               | 7271/9046 [13:12<03:17,  8.99it/s]"
     ]
    },
    {
     "name": "stdout",
     "output_type": "stream",
     "text": [
      "Invalid CIF file with no structures!\n"
     ]
    },
    {
     "name": "stderr",
     "output_type": "stream",
     "text": [
      " 81%|███████████████████████████████████████████████████████████████▋               | 7291/9046 [13:14<02:52, 10.19it/s]"
     ]
    },
    {
     "name": "stdout",
     "output_type": "stream",
     "text": [
      "Invalid CIF file with no structures!\n"
     ]
    },
    {
     "name": "stderr",
     "output_type": "stream",
     "text": [
      " 81%|███████████████████████████████████████████████████████████████▊               | 7305/9046 [13:16<03:14,  8.94it/s]"
     ]
    },
    {
     "name": "stdout",
     "output_type": "stream",
     "text": [
      "Invalid CIF file with no structures!\n"
     ]
    },
    {
     "name": "stderr",
     "output_type": "stream",
     "text": [
      " 81%|████████████████████████████████████████████████████████████████▏              | 7343/9046 [13:21<03:21,  8.45it/s]"
     ]
    },
    {
     "name": "stdout",
     "output_type": "stream",
     "text": [
      "Invalid CIF file with no structures!\n"
     ]
    },
    {
     "name": "stderr",
     "output_type": "stream",
     "text": [
      "/home/scai/phd/aiz218326/anaconda3/envs/crystal-llm/lib/python3.10/site-packages/pymatgen/io/cif.py:1079: UserWarning: Some occupancies ([2.0]) sum to > 1! If they are within the occupancy_tolerance, they will be rescaled. The current occupancy_tolerance is set to: 1.0\n",
      "  warnings.warn(msg)\n",
      "/home/scai/phd/aiz218326/anaconda3/envs/crystal-llm/lib/python3.10/site-packages/pymatgen/io/cif.py:1287: UserWarning: Issues encountered while parsing CIF: Some occupancies ([2.0]) sum to > 1! If they are within the occupancy_tolerance, they will be rescaled. The current occupancy_tolerance is set to: 1.0\n",
      "No structure parsed for section 1 in CIF.\n",
      "Occupancy 2.0 exceeded tolerance.\n",
      "  warnings.warn(\"Issues encountered while parsing CIF: \" + \"\\n\".join(self.warnings))\n"
     ]
    },
    {
     "name": "stdout",
     "output_type": "stream",
     "text": [
      "Invalid CIF file with no structures!\n"
     ]
    },
    {
     "name": "stderr",
     "output_type": "stream",
     "text": [
      " 81%|████████████████████████████████████████████████████████████████▎              | 7360/9046 [13:24<04:09,  6.75it/s]"
     ]
    },
    {
     "name": "stdout",
     "output_type": "stream",
     "text": [
      "Invalid CIF file with no structures!\n",
      "Invalid CIF file with no structures!\n",
      "Invalid CIF file with no structures!\n",
      "Invalid CIF file with no structures!\n",
      "Invalid CIF file with no structures!\n"
     ]
    },
    {
     "name": "stderr",
     "output_type": "stream",
     "text": [
      " 82%|████████████████████████████████████████████████████████████████▊              | 7418/9046 [13:28<02:11, 12.41it/s]"
     ]
    },
    {
     "name": "stdout",
     "output_type": "stream",
     "text": [
      "Invalid CIF file with no structures!\n",
      "Invalid CIF file with no structures!\n"
     ]
    },
    {
     "name": "stderr",
     "output_type": "stream",
     "text": [
      " 82%|████████████████████████████████████████████████████████████████▊              | 7421/9046 [13:31<04:00,  6.75it/s]"
     ]
    },
    {
     "name": "stdout",
     "output_type": "stream",
     "text": [
      "Invalid CIF file with no structures!\n"
     ]
    },
    {
     "name": "stderr",
     "output_type": "stream",
     "text": [
      " 83%|█████████████████████████████████████████████████████████████████▎             | 7475/9046 [13:35<02:44,  9.54it/s]"
     ]
    },
    {
     "name": "stdout",
     "output_type": "stream",
     "text": [
      "Invalid CIF file with no structures!\n",
      "Invalid CIF file with no structures!\n",
      "Invalid CIF file with no structures!\n",
      "Invalid CIF file with no structures!\n"
     ]
    },
    {
     "name": "stderr",
     "output_type": "stream",
     "text": [
      " 83%|█████████████████████████████████████████████████████████████████▎             | 7481/9046 [13:38<03:55,  6.65it/s]"
     ]
    },
    {
     "name": "stdout",
     "output_type": "stream",
     "text": [
      "Invalid CIF file with no structures!\n",
      "Invalid CIF file with no structures!\n",
      "Invalid CIF file with no structures!\n"
     ]
    },
    {
     "name": "stderr",
     "output_type": "stream",
     "text": [
      " 83%|█████████████████████████████████████████████████████████████████▊             | 7537/9046 [13:42<02:16, 11.02it/s]"
     ]
    },
    {
     "name": "stdout",
     "output_type": "stream",
     "text": [
      "Invalid CIF file with no structures!\n",
      "Invalid CIF file with no structures!\n",
      "Invalid CIF file with no structures!\n",
      "Invalid CIF file with no structures!\n"
     ]
    },
    {
     "name": "stderr",
     "output_type": "stream",
     "text": [
      " 84%|█████████████████████████████████████████████████████████████████▉             | 7555/9046 [13:46<03:13,  7.72it/s]"
     ]
    },
    {
     "name": "stdout",
     "output_type": "stream",
     "text": [
      "Invalid CIF file with no structures!\n",
      "Invalid CIF file with no structures!\n"
     ]
    },
    {
     "name": "stderr",
     "output_type": "stream",
     "text": [
      " 84%|██████████████████████████████████████████████████████████████████▎            | 7596/9046 [13:51<02:50,  8.51it/s]"
     ]
    },
    {
     "name": "stdout",
     "output_type": "stream",
     "text": [
      "Invalid CIF file with no structures!\n",
      "Invalid CIF file with no structures!\n",
      "Invalid CIF file with no structures!\n",
      "Invalid CIF file with no structures!\n"
     ]
    },
    {
     "name": "stderr",
     "output_type": "stream",
     "text": [
      " 84%|██████████████████████████████████████████████████████████████████▍            | 7604/9046 [13:55<04:06,  5.85it/s]"
     ]
    },
    {
     "name": "stdout",
     "output_type": "stream",
     "text": [
      "Invalid CIF file with no structures!\n",
      "Invalid CIF file with no structures!\n",
      "Invalid CIF file with no structures!"
     ]
    },
    {
     "name": "stderr",
     "output_type": "stream",
     "text": [
      " 85%|██████████████████████████████████████████████████████████████████▉            | 7668/9046 [13:58<02:20,  9.81it/s]"
     ]
    },
    {
     "name": "stdout",
     "output_type": "stream",
     "text": [
      "\n",
      "Invalid CIF file with no structures!\n",
      "Invalid CIF file with no structures!\n",
      "Invalid CIF file with no structures!\n"
     ]
    },
    {
     "name": "stderr",
     "output_type": "stream",
     "text": [
      " 85%|███████████████████████████████████████████████████████████████████            | 7676/9046 [14:04<03:25,  6.65it/s]"
     ]
    },
    {
     "name": "stdout",
     "output_type": "stream",
     "text": [
      "Invalid CIF file with no structures!\n",
      "Invalid CIF file with no structures!\n"
     ]
    },
    {
     "name": "stderr",
     "output_type": "stream",
     "text": [
      " 86%|███████████████████████████████████████████████████████████████████▊           | 7765/9046 [14:08<01:49, 11.70it/s]"
     ]
    },
    {
     "name": "stdout",
     "output_type": "stream",
     "text": [
      "Invalid CIF file with no structures!\n"
     ]
    },
    {
     "name": "stderr",
     "output_type": "stream",
     "text": [
      "/home/scai/phd/aiz218326/anaconda3/envs/crystal-llm/lib/python3.10/site-packages/pymatgen/io/cif.py:1079: UserWarning: Some occupancies ([2.0, 2.0]) sum to > 1! If they are within the occupancy_tolerance, they will be rescaled. The current occupancy_tolerance is set to: 1.0\n",
      "  warnings.warn(msg)\n",
      "/home/scai/phd/aiz218326/anaconda3/envs/crystal-llm/lib/python3.10/site-packages/pymatgen/io/cif.py:1283: UserWarning: No structure parsed for section 1 in CIF.\n",
      "Occupancy 2.0 exceeded tolerance.\n",
      "  warnings.warn(msg)\n",
      "/home/scai/phd/aiz218326/anaconda3/envs/crystal-llm/lib/python3.10/site-packages/pymatgen/io/cif.py:1287: UserWarning: Issues encountered while parsing CIF: Some occupancies ([2.0, 2.0]) sum to > 1! If they are within the occupancy_tolerance, they will be rescaled. The current occupancy_tolerance is set to: 1.0\n",
      "No structure parsed for section 1 in CIF.\n",
      "Occupancy 2.0 exceeded tolerance.\n",
      "  warnings.warn(\"Issues encountered while parsing CIF: \" + \"\\n\".join(self.warnings))\n"
     ]
    },
    {
     "name": "stdout",
     "output_type": "stream",
     "text": [
      "Invalid CIF file with no structures!\n",
      "Invalid CIF file with no structures!\n",
      "Invalid CIF file with no structures!\n",
      "Invalid CIF file with no structures!\n",
      "Invalid CIF file with no structures!\n",
      "Invalid CIF file with no structures!\n",
      "Invalid CIF file with no structures!\n"
     ]
    },
    {
     "name": "stderr",
     "output_type": "stream",
     "text": [
      " 86%|███████████████████████████████████████████████████████████████████▉           | 7773/9046 [14:11<02:29,  8.51it/s]"
     ]
    },
    {
     "name": "stdout",
     "output_type": "stream",
     "text": [
      "Invalid CIF file with no structures!\n"
     ]
    },
    {
     "name": "stderr",
     "output_type": "stream",
     "text": [
      " 86%|████████████████████████████████████████████████████████████████████▏          | 7805/9046 [14:12<01:41, 12.22it/s]"
     ]
    },
    {
     "name": "stdout",
     "output_type": "stream",
     "text": [
      "Invalid CIF file with no structures!\n",
      "Invalid CIF file with no structures!\n",
      "Invalid CIF file with no structures!\n"
     ]
    },
    {
     "name": "stderr",
     "output_type": "stream",
     "text": [
      " 86%|████████████████████████████████████████████████████████████████████▏          | 7808/9046 [14:13<01:56, 10.63it/s]"
     ]
    },
    {
     "name": "stdout",
     "output_type": "stream",
     "text": [
      "Invalid CIF file with no structures!\n"
     ]
    },
    {
     "name": "stderr",
     "output_type": "stream",
     "text": [
      " 87%|████████████████████████████████████████████████████████████████████▍          | 7830/9046 [14:14<01:32, 13.15it/s]"
     ]
    },
    {
     "name": "stdout",
     "output_type": "stream",
     "text": [
      "Invalid CIF file with no structures!\n"
     ]
    },
    {
     "name": "stderr",
     "output_type": "stream",
     "text": [
      " 87%|████████████████████████████████████████████████████████████████████▊          | 7886/9046 [14:21<02:37,  7.38it/s]"
     ]
    },
    {
     "name": "stdout",
     "output_type": "stream",
     "text": [
      "Invalid CIF file with no structures!\n",
      "Invalid CIF file with no structures!\n"
     ]
    },
    {
     "name": "stderr",
     "output_type": "stream",
     "text": [
      " 87%|█████████████████████████████████████████████████████████████████████          | 7908/9046 [14:23<02:29,  7.64it/s]"
     ]
    },
    {
     "name": "stdout",
     "output_type": "stream",
     "text": [
      "Invalid CIF file with no structures!\n",
      "Invalid CIF file with no structures!\n"
     ]
    },
    {
     "name": "stderr",
     "output_type": "stream",
     "text": [
      " 88%|█████████████████████████████████████████████████████████████████████▎         | 7932/9046 [14:25<02:04,  8.93it/s]"
     ]
    },
    {
     "name": "stdout",
     "output_type": "stream",
     "text": [
      "Invalid CIF file with no structures!\n",
      "Invalid CIF file with no structures!\n"
     ]
    },
    {
     "name": "stderr",
     "output_type": "stream",
     "text": [
      "/home/scai/phd/aiz218326/anaconda3/envs/crystal-llm/lib/python3.10/site-packages/pymatgen/io/cif.py:1221: UserWarning: Missing elements H from PMG structure composition\n",
      "  warnings.warn(cif_failure_reason)\n",
      " 88%|█████████████████████████████████████████████████████████████████████▍         | 7948/9046 [14:30<03:04,  5.95it/s]"
     ]
    },
    {
     "name": "stdout",
     "output_type": "stream",
     "text": [
      "Invalid CIF file with no structures!\n",
      "Timer expired\n",
      "Invalid CIF file with no structures!\n",
      "Invalid CIF file with no structures!\n"
     ]
    },
    {
     "name": "stderr",
     "output_type": "stream",
     "text": [
      " 88%|█████████████████████████████████████████████████████████████████████▊         | 7989/9046 [14:33<02:03,  8.53it/s]"
     ]
    },
    {
     "name": "stdout",
     "output_type": "stream",
     "text": [
      "Invalid CIF file with no structures!\n"
     ]
    },
    {
     "name": "stderr",
     "output_type": "stream",
     "text": [
      " 89%|██████████████████████████████████████████████████████████████████████         | 8023/9046 [14:34<01:22, 12.37it/s]"
     ]
    },
    {
     "name": "stdout",
     "output_type": "stream",
     "text": [
      "Invalid CIF file with no structures!\n",
      "Invalid CIF file with no structures!\n"
     ]
    },
    {
     "name": "stderr",
     "output_type": "stream",
     "text": [
      " 89%|██████████████████████████████████████████████████████████████████████▌        | 8081/9046 [14:41<01:25, 11.30it/s]/home/scai/phd/aiz218326/anaconda3/envs/crystal-llm/lib/python3.10/site-packages/pymatgen/io/cif.py:1079: UserWarning: Some occupancies ([2.0, 2.0]) sum to > 1! If they are within the occupancy_tolerance, they will be rescaled. The current occupancy_tolerance is set to: 1.0\n",
      "  warnings.warn(msg)\n",
      "/home/scai/phd/aiz218326/anaconda3/envs/crystal-llm/lib/python3.10/site-packages/pymatgen/io/cif.py:1283: UserWarning: No structure parsed for section 1 in CIF.\n",
      "Occupancy 2.0 exceeded tolerance.\n",
      "  warnings.warn(msg)\n",
      "/home/scai/phd/aiz218326/anaconda3/envs/crystal-llm/lib/python3.10/site-packages/pymatgen/io/cif.py:1287: UserWarning: Issues encountered while parsing CIF: Some occupancies ([2.0, 2.0]) sum to > 1! If they are within the occupancy_tolerance, they will be rescaled. The current occupancy_tolerance is set to: 1.0\n",
      "No structure parsed for section 1 in CIF.\n",
      "Occupancy 2.0 exceeded tolerance.\n",
      "  warnings.warn(\"Issues encountered while parsing CIF: \" + \"\\n\".join(self.warnings))\n"
     ]
    },
    {
     "name": "stdout",
     "output_type": "stream",
     "text": [
      "Invalid CIF file with no structures!\n"
     ]
    },
    {
     "name": "stderr",
     "output_type": "stream",
     "text": [
      " 89%|██████████████████████████████████████████████████████████████████████▌        | 8087/9046 [14:42<01:35, 10.08it/s]"
     ]
    },
    {
     "name": "stdout",
     "output_type": "stream",
     "text": [
      "Invalid CIF file with no structures!\n",
      "Invalid CIF file with no structures!\n",
      "Invalid CIF file with no structures!\n",
      "Invalid CIF file with no structures!\n"
     ]
    },
    {
     "name": "stderr",
     "output_type": "stream",
     "text": [
      " 90%|██████████████████████████████████████████████████████████████████████▉        | 8121/9046 [14:46<01:27, 10.52it/s]/home/scai/phd/aiz218326/anaconda3/envs/crystal-llm/lib/python3.10/site-packages/pymatgen/io/cif.py:1079: UserWarning: Some occupancies ([2.0, 2.0]) sum to > 1! If they are within the occupancy_tolerance, they will be rescaled. The current occupancy_tolerance is set to: 1.0\n",
      "  warnings.warn(msg)\n",
      "/home/scai/phd/aiz218326/anaconda3/envs/crystal-llm/lib/python3.10/site-packages/pymatgen/io/cif.py:1283: UserWarning: No structure parsed for section 1 in CIF.\n",
      "Occupancy 2.0 exceeded tolerance.\n",
      "  warnings.warn(msg)\n",
      "/home/scai/phd/aiz218326/anaconda3/envs/crystal-llm/lib/python3.10/site-packages/pymatgen/io/cif.py:1287: UserWarning: Issues encountered while parsing CIF: Some occupancies ([2.0, 2.0]) sum to > 1! If they are within the occupancy_tolerance, they will be rescaled. The current occupancy_tolerance is set to: 1.0\n",
      "No structure parsed for section 1 in CIF.\n",
      "Occupancy 2.0 exceeded tolerance.\n",
      "  warnings.warn(\"Issues encountered while parsing CIF: \" + \"\\n\".join(self.warnings))\n"
     ]
    },
    {
     "name": "stdout",
     "output_type": "stream",
     "text": [
      "Invalid CIF file with no structures!\n"
     ]
    },
    {
     "name": "stderr",
     "output_type": "stream",
     "text": [
      " 90%|███████████████████████████████████████████████████████████████████████▎       | 8164/9046 [14:50<01:33,  9.46it/s]"
     ]
    },
    {
     "name": "stdout",
     "output_type": "stream",
     "text": [
      "Invalid CIF file with no structures!\n"
     ]
    },
    {
     "name": "stderr",
     "output_type": "stream",
     "text": [
      " 90%|███████████████████████████████████████████████████████████████████████▍       | 8174/9046 [14:51<01:33,  9.37it/s]"
     ]
    },
    {
     "name": "stdout",
     "output_type": "stream",
     "text": [
      "Invalid CIF file with no structures!\n",
      "Invalid CIF file with no structures!\n",
      "Invalid CIF file with no structures!\n",
      "Invalid CIF file with no structures!\n"
     ]
    },
    {
     "name": "stderr",
     "output_type": "stream",
     "text": [
      " 90%|███████████████████████████████████████████████████████████████████████▍       | 8182/9046 [14:53<02:06,  6.83it/s]"
     ]
    },
    {
     "name": "stdout",
     "output_type": "stream",
     "text": [
      "Invalid CIF file with no structures!\n"
     ]
    },
    {
     "name": "stderr",
     "output_type": "stream",
     "text": [
      " 91%|███████████████████████████████████████████████████████████████████████▋       | 8204/9046 [14:56<01:47,  7.84it/s]"
     ]
    },
    {
     "name": "stdout",
     "output_type": "stream",
     "text": [
      "Invalid CIF file with no structures!\n",
      "Invalid CIF file with no structures!\n"
     ]
    },
    {
     "name": "stderr",
     "output_type": "stream",
     "text": [
      " 91%|████████████████████████████████████████████████████████████████████████▏      | 8261/9046 [15:01<01:20,  9.71it/s]"
     ]
    },
    {
     "name": "stdout",
     "output_type": "stream",
     "text": [
      "Invalid CIF file with no structures!Invalid CIF file with no structures!\n",
      "\n",
      "Invalid CIF file with no structures!\n",
      "Invalid CIF file with no structures!Invalid CIF file with no structures!\n",
      "\n",
      "Invalid CIF file with no structures!\n"
     ]
    },
    {
     "name": "stderr",
     "output_type": "stream",
     "text": [
      " 92%|████████████████████████████████████████████████████████████████████████▌      | 8305/9046 [15:05<01:04, 11.42it/s]"
     ]
    },
    {
     "name": "stdout",
     "output_type": "stream",
     "text": [
      "Invalid CIF file with no structures!\n",
      "Invalid CIF file with no structures!\n",
      "Invalid CIF file with no structures!\n"
     ]
    },
    {
     "name": "stderr",
     "output_type": "stream",
     "text": [
      " 92%|████████████████████████████████████████████████████████████████████████▋      | 8317/9046 [15:07<01:22,  8.83it/s]"
     ]
    },
    {
     "name": "stdout",
     "output_type": "stream",
     "text": [
      "Invalid CIF file with no structures!\n"
     ]
    },
    {
     "name": "stderr",
     "output_type": "stream",
     "text": [
      " 93%|█████████████████████████████████████████████████████████████████████████      | 8369/9046 [15:08<00:37, 18.25it/s]"
     ]
    },
    {
     "name": "stdout",
     "output_type": "stream",
     "text": [
      "Invalid CIF file with no structures!\n",
      "Invalid CIF file with no structures!\n"
     ]
    },
    {
     "name": "stderr",
     "output_type": "stream",
     "text": [
      " 93%|█████████████████████████████████████████████████████████████████████████▏     | 8375/9046 [15:10<00:55, 12.00it/s]"
     ]
    },
    {
     "name": "stdout",
     "output_type": "stream",
     "text": [
      "Invalid CIF file with no structures!\n",
      "Invalid CIF file with no structures!\n"
     ]
    },
    {
     "name": "stderr",
     "output_type": "stream",
     "text": [
      "/home/scai/phd/aiz218326/anaconda3/envs/crystal-llm/lib/python3.10/site-packages/pymatgen/io/cif.py:1079: UserWarning: Some occupancies ([2.0, 2.0, 2.0, 2.0]) sum to > 1! If they are within the occupancy_tolerance, they will be rescaled. The current occupancy_tolerance is set to: 1.0\n",
      "  warnings.warn(msg)\n",
      "/home/scai/phd/aiz218326/anaconda3/envs/crystal-llm/lib/python3.10/site-packages/pymatgen/io/cif.py:1287: UserWarning: Issues encountered while parsing CIF: Some occupancies ([2.0, 2.0, 2.0, 2.0]) sum to > 1! If they are within the occupancy_tolerance, they will be rescaled. The current occupancy_tolerance is set to: 1.0\n",
      "No structure parsed for section 1 in CIF.\n",
      "Occupancy 2.0 exceeded tolerance.\n",
      "  warnings.warn(\"Issues encountered while parsing CIF: \" + \"\\n\".join(self.warnings))\n"
     ]
    },
    {
     "name": "stdout",
     "output_type": "stream",
     "text": [
      "Invalid CIF file with no structures!"
     ]
    },
    {
     "name": "stderr",
     "output_type": "stream",
     "text": [
      " 93%|█████████████████████████████████████████████████████████████████████████▎     | 8399/9046 [15:12<01:00, 10.61it/s]"
     ]
    },
    {
     "name": "stdout",
     "output_type": "stream",
     "text": [
      "Invalid CIF file with no structures!\n",
      "\n",
      "Invalid CIF file with no structures!\n",
      "Invalid CIF file with no structures!Invalid CIF file with no structures!\n",
      "\n"
     ]
    },
    {
     "name": "stderr",
     "output_type": "stream",
     "text": [
      " 93%|█████████████████████████████████████████████████████████████████████████▍     | 8403/9046 [15:15<01:36,  6.69it/s]"
     ]
    },
    {
     "name": "stdout",
     "output_type": "stream",
     "text": [
      "Invalid CIF file with no structures!\n"
     ]
    },
    {
     "name": "stderr",
     "output_type": "stream",
     "text": [
      " 93%|█████████████████████████████████████████████████████████████████████████▋     | 8440/9046 [15:18<01:02,  9.66it/s]"
     ]
    },
    {
     "name": "stdout",
     "output_type": "stream",
     "text": [
      "Invalid CIF file with no structures!\n",
      "Invalid CIF file with no structures!\n",
      "Invalid CIF file with no structures!\n",
      "Invalid CIF file with no structures!\n"
     ]
    },
    {
     "name": "stderr",
     "output_type": "stream",
     "text": [
      " 94%|██████████████████████████████████████████████████████████████████████████▏    | 8489/9046 [15:25<01:09,  8.06it/s]"
     ]
    },
    {
     "name": "stdout",
     "output_type": "stream",
     "text": [
      "Invalid CIF file with no structures!Invalid CIF file with no structures!\n",
      "\n",
      "Invalid CIF file with no structures!\n",
      "Invalid CIF file with no structures!\n",
      "Invalid CIF file with no structures!\n"
     ]
    },
    {
     "name": "stderr",
     "output_type": "stream",
     "text": [
      " 94%|██████████████████████████████████████████████████████████████████████████▎    | 8510/9046 [15:26<00:57,  9.26it/s]/home/scai/phd/aiz218326/anaconda3/envs/crystal-llm/lib/python3.10/site-packages/pymatgen/core/lattice.py:426: RuntimeWarning: invalid value encountered in scalar divide\n",
      "  val = (cos_alpha * cos_beta - cos_gamma) / (sin_alpha * sin_beta)\n"
     ]
    },
    {
     "name": "stdout",
     "output_type": "stream",
     "text": [
      "cannot convert float NaN to integer\n"
     ]
    },
    {
     "name": "stderr",
     "output_type": "stream",
     "text": [
      " 94%|██████████████████████████████████████████████████████████████████████████▍    | 8519/9046 [15:27<00:54,  9.69it/s]"
     ]
    },
    {
     "name": "stdout",
     "output_type": "stream",
     "text": [
      "Invalid CIF file with no structures!\n",
      "Invalid CIF file with no structures!\n",
      "Invalid CIF file with no structures!\n",
      "Invalid CIF file with no structures!\n"
     ]
    },
    {
     "name": "stderr",
     "output_type": "stream",
     "text": [
      " 94%|██████████████████████████████████████████████████████████████████████████▍    | 8525/9046 [15:33<02:19,  3.72it/s]"
     ]
    },
    {
     "name": "stdout",
     "output_type": "stream",
     "text": [
      "Invalid CIF file with no structures!\n",
      "Invalid CIF file with no structures!\n",
      "Invalid CIF file with no structures!\n",
      "Invalid CIF file with no structures!\n"
     ]
    },
    {
     "name": "stderr",
     "output_type": "stream",
     "text": [
      " 95%|██████████████████████████████████████████████████████████████████████████▊    | 8572/9046 [15:38<01:17,  6.13it/s]"
     ]
    },
    {
     "name": "stdout",
     "output_type": "stream",
     "text": [
      "Invalid CIF file with no structures!\n"
     ]
    },
    {
     "name": "stderr",
     "output_type": "stream",
     "text": [
      " 96%|███████████████████████████████████████████████████████████████████████████▌   | 8647/9046 [15:43<00:38, 10.50it/s]"
     ]
    },
    {
     "name": "stdout",
     "output_type": "stream",
     "text": [
      "Invalid CIF file with no structures!\n",
      "Invalid CIF file with no structures!\n",
      "Invalid CIF file with no structures!Invalid CIF file with no structures!\n",
      "\n",
      "Invalid CIF file with no structures!\n",
      "Invalid CIF file with no structures!\n",
      "Invalid CIF file with no structures!\n",
      "Invalid CIF file with no structures!\n",
      "Invalid CIF file with no structures!\n",
      "Invalid CIF file with no structures!\n",
      "Invalid CIF file with no structures!\n",
      "Invalid CIF file with no structures!\n",
      "Invalid CIF file with no structures!\n",
      "Invalid CIF file with no structures!\n",
      "Invalid CIF file with no structures!\n"
     ]
    },
    {
     "name": "stderr",
     "output_type": "stream",
     "text": [
      " 96%|████████████████████████████████████████████████████████████████████████████   | 8713/9046 [15:50<00:28, 11.75it/s]"
     ]
    },
    {
     "name": "stdout",
     "output_type": "stream",
     "text": [
      "Invalid CIF file with no structures!\n",
      "Invalid CIF file with no structures!\n",
      "Invalid CIF file with no structures!\n",
      "Invalid CIF file with no structures!\n",
      "Invalid CIF file with no structures!\n",
      "Invalid CIF file with no structures!\n"
     ]
    },
    {
     "name": "stderr",
     "output_type": "stream",
     "text": [
      " 96%|████████████████████████████████████████████████████████████████████████████▏  | 8718/9046 [15:54<00:43,  7.62it/s]"
     ]
    },
    {
     "name": "stdout",
     "output_type": "stream",
     "text": [
      "Invalid CIF file with no structures!\n",
      "Invalid CIF file with no structures!\n"
     ]
    },
    {
     "name": "stderr",
     "output_type": "stream",
     "text": [
      " 97%|████████████████████████████████████████████████████████████████████████████▌  | 8771/9046 [15:56<00:23, 11.57it/s]"
     ]
    },
    {
     "name": "stdout",
     "output_type": "stream",
     "text": [
      "Invalid CIF file with no structures!\n"
     ]
    },
    {
     "name": "stderr",
     "output_type": "stream",
     "text": [
      " 97%|████████████████████████████████████████████████████████████████████████████▋  | 8778/9046 [15:57<00:24, 11.15it/s]"
     ]
    },
    {
     "name": "stdout",
     "output_type": "stream",
     "text": [
      "Invalid CIF file with no structures!\n",
      "Invalid CIF file with no structures!\n"
     ]
    },
    {
     "name": "stderr",
     "output_type": "stream",
     "text": [
      " 97%|████████████████████████████████████████████████████████████████████████████▊  | 8790/9046 [15:59<00:28,  9.14it/s]"
     ]
    },
    {
     "name": "stdout",
     "output_type": "stream",
     "text": [
      "Invalid CIF file with no structures!\n",
      "Invalid CIF file with no structures!\n"
     ]
    },
    {
     "name": "stderr",
     "output_type": "stream",
     "text": [
      " 97%|████████████████████████████████████████████████████████████████████████████▊  | 8797/9046 [16:01<00:29,  8.44it/s]"
     ]
    },
    {
     "name": "stdout",
     "output_type": "stream",
     "text": [
      "Invalid CIF file with no structures!\n",
      "Invalid CIF file with no structures!\n"
     ]
    },
    {
     "name": "stderr",
     "output_type": "stream",
     "text": [
      " 98%|█████████████████████████████████████████████████████████████████████████████  | 8820/9046 [16:03<00:25,  8.96it/s]/home/scai/phd/aiz218326/anaconda3/envs/crystal-llm/lib/python3.10/site-packages/pymatgen/core/periodic_table.py:289: UserWarning: No Pauling electronegativity for He. Setting to NaN. This has no physical meaning, and is mainly done to avoid errors caused by the code expecting a float.\n",
      "  warnings.warn(\n",
      " 98%|█████████████████████████████████████████████████████████████████████████████▍ | 8869/9046 [16:05<00:12, 14.64it/s]"
     ]
    },
    {
     "name": "stdout",
     "output_type": "stream",
     "text": [
      "Invalid CIF file with no structures!\n"
     ]
    },
    {
     "name": "stderr",
     "output_type": "stream",
     "text": [
      " 98%|█████████████████████████████████████████████████████████████████████████████▋ | 8900/9046 [16:08<00:11, 12.50it/s]"
     ]
    },
    {
     "name": "stdout",
     "output_type": "stream",
     "text": [
      "Invalid CIF file with no structures!\n",
      "Invalid CIF file with no structures!\n",
      "Invalid CIF file with no structures!\n",
      "Invalid CIF file with no structures!\n",
      "Invalid CIF file with no structures!\n"
     ]
    },
    {
     "name": "stderr",
     "output_type": "stream",
     "text": [
      " 98%|█████████████████████████████████████████████████████████████████████████████▊ | 8907/9046 [16:11<00:17,  7.99it/s]"
     ]
    },
    {
     "name": "stdout",
     "output_type": "stream",
     "text": [
      "Invalid CIF file with no structures!\n"
     ]
    },
    {
     "name": "stderr",
     "output_type": "stream",
     "text": [
      "100%|███████████████████████████████████████████████████████████████████████████████| 9046/9046 [16:17<00:00,  9.25it/s]\n"
     ]
    }
   ],
   "source": [
    "# fname = f\"pred_{samples_path[:-4]}.pkl\";\n",
    "fname = f\"all_congen_pred_{samples_path[:-4]}.pkl\";\n",
    "# if 'pred_crys_17k_14k_cif.pkl' not in os.listdir():\n",
    "if fname not in os.listdir():\n",
    "    pred_crys = [x for x in p_map(cif_str_to_crystal, pred_cifs) if x is not None]\n",
    "    with open(fname,'wb') as f:\n",
    "        pickle.dump(pred_crys, f)\n",
    "    f.close()\n",
    "else:\n",
    "    print(f'loading {fname}')\n",
    "    with open(fname,'rb') as f:\n",
    "        pred_crys = pickle.load(f)\n",
    "    f.close()"
   ]
  },
  {
   "cell_type": "code",
   "execution_count": 21,
   "id": "24a73878-4284-48a7-88f8-a74efb3b8c13",
   "metadata": {},
   "outputs": [],
   "source": [
    "import cloudpickle as pickle\n",
    "# with open(fname,'wb') as f:\n",
    "#    pickle.dump(pred_crys, f)\n",
    "# f.close()\n",
    "from copy import copy\n",
    "pred_crystal = copy(pred_crys)\n",
    "# with open(fname, 'rb') as f:\n",
    "#     pred_crystal = pickle.load(f)"
   ]
  },
  {
   "cell_type": "code",
   "execution_count": 22,
   "id": "1c4c2ed3-1cd1-4080-8bba-1b18d7424360",
   "metadata": {},
   "outputs": [],
   "source": [
    "# nsamps = 10000\n",
    "nsamps = 9046\n",
    "if len(pred_crystal) > nsamps:\n",
    "    # random_idx = np.random.choice(len(pred_crystal), 10000)\n",
    "    # pred_crys = [pred_crystal[x] for x in random_idx]\n",
    "    pred_crys = pred_crystal[:nsamps]"
   ]
  },
  {
   "cell_type": "code",
   "execution_count": 23,
   "id": "12bd03f5-97f2-4352-93a3-edcaf4eebbf4",
   "metadata": {},
   "outputs": [
    {
     "data": {
      "text/plain": [
       "8274"
      ]
     },
     "execution_count": 23,
     "metadata": {},
     "output_type": "execute_result"
    }
   ],
   "source": [
    "len(pred_crys)"
   ]
  },
  {
   "cell_type": "code",
   "execution_count": 24,
   "id": "f50fbe94-fb49-49ca-bd11-d16e446cde0a",
   "metadata": {},
   "outputs": [],
   "source": [
    "# if len(pred_crys) > 10000:\n",
    "#     random_idx = np.random.choice(len(pred_crys), 10000)\n",
    "#     pred_crys = [pred_crys[x] for x in random_idx]"
   ]
  },
  {
   "cell_type": "code",
   "execution_count": 25,
   "id": "43d79f3f-fbfb-4c37-b721-0afc07589e40",
   "metadata": {},
   "outputs": [
    {
     "data": {
      "text/plain": [
       "'llamat2_9064_llamat2_1758654262.csv'"
      ]
     },
     "execution_count": 25,
     "metadata": {},
     "output_type": "execute_result"
    }
   ],
   "source": [
    "samples_path"
   ]
  },
  {
   "cell_type": "code",
   "execution_count": 26,
   "id": "3f64166a-5155-44b9-a8bf-ec3942bf36ab",
   "metadata": {},
   "outputs": [],
   "source": [
    "os.makedirs(samples_path[:-4], exist_ok=True)"
   ]
  },
  {
   "cell_type": "code",
   "execution_count": 27,
   "id": "67eabc18-7ed9-4b14-aaba-16a2e2328688",
   "metadata": {},
   "outputs": [],
   "source": [
    "from tqdm import tqdm"
   ]
  },
  {
   "cell_type": "code",
   "execution_count": 28,
   "id": "b9128d6e-0b4e-4445-8a1e-5ef0571ca970",
   "metadata": {},
   "outputs": [
    {
     "data": {
      "text/plain": [
       "'/home/scai/phd/aiz218326/github/crystal-text-llm'"
      ]
     },
     "execution_count": 28,
     "metadata": {},
     "output_type": "execute_result"
    }
   ],
   "source": [
    "pwd"
   ]
  },
  {
   "cell_type": "code",
   "execution_count": 29,
   "id": "4a4b0bb8-12ad-4634-b6e2-cdbadbf56dbd",
   "metadata": {
    "scrolled": true
   },
   "outputs": [
    {
     "name": "stderr",
     "output_type": "stream",
     "text": [
      "8167it [01:03, 139.09it/s]/home/scai/phd/aiz218326/anaconda3/envs/crystal-llm/lib/python3.10/site-packages/pymatgen/core/periodic_table.py:289: UserWarning: No Pauling electronegativity for He. Setting to NaN. This has no physical meaning, and is mainly done to avoid errors caused by the code expecting a float.\n",
      "  warnings.warn(\n",
      "8274it [01:04, 128.50it/s]\n"
     ]
    }
   ],
   "source": [
    "for i, cc in tqdm(enumerate(pred_crys)):\n",
    "    cc.structure.to_file(f'./{samples_path[:-4]}/{i}.cif')"
   ]
  },
  {
   "cell_type": "code",
   "execution_count": 53,
   "id": "c77d5d2f-785a-4fd2-96d4-cf6c61eabc2e",
   "metadata": {},
   "outputs": [
    {
     "name": "stdout",
     "output_type": "stream",
     "text": [
      "2 ./llamat3_cif_adapter_cleaned-valids/2.cif\n",
      "10 ./llamat3_cif_adapter_cleaned-valids/10.cif\n",
      "13 ./llamat3_cif_adapter_cleaned-valids/13.cif\n",
      "17 ./llamat3_cif_adapter_cleaned-valids/17.cif\n",
      "18 ./llamat3_cif_adapter_cleaned-valids/18.cif\n",
      "21 ./llamat3_cif_adapter_cleaned-valids/21.cif\n",
      "22 ./llamat3_cif_adapter_cleaned-valids/22.cif\n",
      "23 ./llamat3_cif_adapter_cleaned-valids/23.cif\n",
      "24 ./llamat3_cif_adapter_cleaned-valids/24.cif\n",
      "25 ./llamat3_cif_adapter_cleaned-valids/25.cif\n"
     ]
    }
   ],
   "source": [
    "validss = []\n",
    "os.makedirs(f\"{samples_path[:-4]}-valids\", exist_ok=True)\n",
    "for idx, cc in enumerate(pred_crys):\n",
    "    if len(validss)<10:\n",
    "        if cc.struct_valid & cc.comp_valid:\n",
    "            \n",
    "            \n",
    "            cc.structure.to_file(f'./{samples_path[:-4]}-valids/{idx}.cif')\n",
    "            validss.append(cc)\n",
    "            print(idx, f'./{samples_path[:-4]}-valids/{idx}.cif')\n"
   ]
  },
  {
   "cell_type": "code",
   "execution_count": 30,
   "id": "57435059-0147-4346-a3bb-165c5d664ff2",
   "metadata": {},
   "outputs": [
    {
     "data": {
      "text/plain": [
       "'llamat2_9064_llamat2_1758654262.csv'"
      ]
     },
     "execution_count": 30,
     "metadata": {},
     "output_type": "execute_result"
    }
   ],
   "source": [
    "samples_path"
   ]
  },
  {
   "cell_type": "code",
   "execution_count": null,
   "id": "65032d25-7cf2-4d79-ae00-c857e610b5d3",
   "metadata": {},
   "outputs": [],
   "source": []
  },
  {
   "cell_type": "code",
   "execution_count": 31,
   "id": "062b5a03-c980-4b3e-aada-f24696d47e17",
   "metadata": {},
   "outputs": [],
   "source": [
    "import ase"
   ]
  },
  {
   "cell_type": "code",
   "execution_count": 32,
   "id": "15b3360f-6bbd-4122-a09c-0360291c34c4",
   "metadata": {},
   "outputs": [
    {
     "data": {
      "text/plain": [
       "<function ase.io.formats.read(filename: Union[str, pathlib.PurePath, IO], index: Any = None, format: Optional[str] = None, parallel: bool = True, do_not_split_by_at_sign: bool = False, **kwargs) -> Union[ase.atoms.Atoms, List[ase.atoms.Atoms]]>"
      ]
     },
     "execution_count": 32,
     "metadata": {},
     "output_type": "execute_result"
    }
   ],
   "source": [
    "ase.io.read"
   ]
  },
  {
   "cell_type": "code",
   "execution_count": 34,
   "id": "9341864e-3302-4ce8-9335-79f39b86f4dd",
   "metadata": {},
   "outputs": [],
   "source": [
    "# ase.io.read('checkme.cif')"
   ]
  },
  {
   "cell_type": "code",
   "execution_count": null,
   "id": "a88c5aae-7e47-4cf0-9ca6-39b03c9651b0",
   "metadata": {},
   "outputs": [],
   "source": []
  },
  {
   "cell_type": "code",
   "execution_count": null,
   "id": "dbd3e26a-569d-484a-994c-b5261b2749c3",
   "metadata": {},
   "outputs": [],
   "source": []
  },
  {
   "cell_type": "code",
   "execution_count": 35,
   "id": "92354f2b-a68b-4d9b-b767-62100bcfc3b5",
   "metadata": {},
   "outputs": [],
   "source": [
    "test_cov_path = 'data/basic/test.csv'"
   ]
  },
  {
   "cell_type": "code",
   "execution_count": null,
   "id": "3201c6a3-6d26-4265-bae6-6c8fc7600390",
   "metadata": {},
   "outputs": [],
   "source": []
  },
  {
   "cell_type": "code",
   "execution_count": 36,
   "id": "b4d590c6-48c2-4ac7-806c-029174dc31c3",
   "metadata": {},
   "outputs": [],
   "source": [
    "gt_cov_cifs = pd.read_csv(test_cov_path)[\"cif\"]\n",
    "\n",
    "gt_cov_crys_fn = test_cov_path.replace(\".csv\", \"_cached.pkl\")"
   ]
  },
  {
   "cell_type": "code",
   "execution_count": 37,
   "id": "8fa872b8-11d0-4607-b8e3-ab932fa5e54a",
   "metadata": {
    "scrolled": true
   },
   "outputs": [
    {
     "name": "stderr",
     "output_type": "stream",
     "text": [
      "  0%|                                                                                          | 0/9046 [00:00<?, ?it/s]/home/scai/phd/aiz218326/anaconda3/envs/crystal-llm/lib/python3.10/site-packages/pymatgen/io/cif.py:1287: UserWarning: Issues encountered while parsing CIF: 16 fractional coordinates rounded to ideal values to avoid issues with finite precision.\n",
      "  warnings.warn(\"Issues encountered while parsing CIF: \" + \"\\n\".join(self.warnings))\n",
      "/home/scai/phd/aiz218326/anaconda3/envs/crystal-llm/lib/python3.10/site-packages/pymatgen/io/cif.py:1287: UserWarning: Issues encountered while parsing CIF: 2 fractional coordinates rounded to ideal values to avoid issues with finite precision.\n",
      "  warnings.warn(\"Issues encountered while parsing CIF: \" + \"\\n\".join(self.warnings))\n",
      "/home/scai/phd/aiz218326/anaconda3/envs/crystal-llm/lib/python3.10/site-packages/pymatgen/io/cif.py:1287: UserWarning: Issues encountered while parsing CIF: 8 fractional coordinates rounded to ideal values to avoid issues with finite precision.\n",
      "  warnings.warn(\"Issues encountered while parsing CIF: \" + \"\\n\".join(self.warnings))\n",
      "/home/scai/phd/aiz218326/anaconda3/envs/crystal-llm/lib/python3.10/site-packages/pymatgen/io/cif.py:1287: UserWarning: Issues encountered while parsing CIF: 8 fractional coordinates rounded to ideal values to avoid issues with finite precision.\n",
      "  warnings.warn(\"Issues encountered while parsing CIF: \" + \"\\n\".join(self.warnings))\n",
      "/home/scai/phd/aiz218326/anaconda3/envs/crystal-llm/lib/python3.10/site-packages/pymatgen/io/cif.py:1287: UserWarning: Issues encountered while parsing CIF: 4 fractional coordinates rounded to ideal values to avoid issues with finite precision.\n",
      "  warnings.warn(\"Issues encountered while parsing CIF: \" + \"\\n\".join(self.warnings))\n",
      "/home/scai/phd/aiz218326/anaconda3/envs/crystal-llm/lib/python3.10/site-packages/pymatgen/io/cif.py:1287: UserWarning: Issues encountered while parsing CIF: 4 fractional coordinates rounded to ideal values to avoid issues with finite precision.\n",
      "  warnings.warn(\"Issues encountered while parsing CIF: \" + \"\\n\".join(self.warnings))\n",
      "/home/scai/phd/aiz218326/anaconda3/envs/crystal-llm/lib/python3.10/site-packages/pymatgen/io/cif.py:1287: UserWarning: Issues encountered while parsing CIF: 8 fractional coordinates rounded to ideal values to avoid issues with finite precision.\n",
      "  warnings.warn(\"Issues encountered while parsing CIF: \" + \"\\n\".join(self.warnings))\n",
      "/home/scai/phd/aiz218326/anaconda3/envs/crystal-llm/lib/python3.10/site-packages/pymatgen/io/cif.py:1287: UserWarning: Issues encountered while parsing CIF: 8 fractional coordinates rounded to ideal values to avoid issues with finite precision.\n",
      "  warnings.warn(\"Issues encountered while parsing CIF: \" + \"\\n\".join(self.warnings))\n",
      "/home/scai/phd/aiz218326/anaconda3/envs/crystal-llm/lib/python3.10/site-packages/pymatgen/io/cif.py:1287: UserWarning: Issues encountered while parsing CIF: 16 fractional coordinates rounded to ideal values to avoid issues with finite precision.\n",
      "  warnings.warn(\"Issues encountered while parsing CIF: \" + \"\\n\".join(self.warnings))\n",
      "/home/scai/phd/aiz218326/anaconda3/envs/crystal-llm/lib/python3.10/site-packages/pymatgen/analysis/local_env.py:4151: UserWarning: No oxidation states specified on sites! For better results, set the site oxidation states in the structure.\n",
      "  warnings.warn(\n",
      "/home/scai/phd/aiz218326/anaconda3/envs/crystal-llm/lib/python3.10/site-packages/pymatgen/analysis/local_env.py:4151: UserWarning: No oxidation states specified on sites! For better results, set the site oxidation states in the structure.\n",
      "  warnings.warn(\n",
      "/home/scai/phd/aiz218326/anaconda3/envs/crystal-llm/lib/python3.10/site-packages/pymatgen/analysis/local_env.py:4151: UserWarning: No oxidation states specified on sites! For better results, set the site oxidation states in the structure.\n",
      "  warnings.warn(\n",
      "/home/scai/phd/aiz218326/anaconda3/envs/crystal-llm/lib/python3.10/site-packages/pymatgen/analysis/local_env.py:4151: UserWarning: No oxidation states specified on sites! For better results, set the site oxidation states in the structure.\n",
      "  warnings.warn(\n",
      "/home/scai/phd/aiz218326/anaconda3/envs/crystal-llm/lib/python3.10/site-packages/pymatgen/analysis/local_env.py:4151: UserWarning: No oxidation states specified on sites! For better results, set the site oxidation states in the structure.\n",
      "  warnings.warn(\n",
      "/home/scai/phd/aiz218326/anaconda3/envs/crystal-llm/lib/python3.10/site-packages/pymatgen/analysis/local_env.py:4151: UserWarning: No oxidation states specified on sites! For better results, set the site oxidation states in the structure.\n",
      "  warnings.warn(\n",
      "/home/scai/phd/aiz218326/anaconda3/envs/crystal-llm/lib/python3.10/site-packages/pymatgen/analysis/local_env.py:4151: UserWarning: No oxidation states specified on sites! For better results, set the site oxidation states in the structure.\n",
      "  warnings.warn(\n",
      "/home/scai/phd/aiz218326/anaconda3/envs/crystal-llm/lib/python3.10/site-packages/pymatgen/analysis/local_env.py:3944: UserWarning: CrystalNN: cannot locate an appropriate radius, covalent or atomic radii will be used, this can lead to non-optimal results.\n",
      "  warnings.warn(\n",
      "/home/scai/phd/aiz218326/anaconda3/envs/crystal-llm/lib/python3.10/site-packages/pymatgen/analysis/local_env.py:3944: UserWarning: CrystalNN: cannot locate an appropriate radius, covalent or atomic radii will be used, this can lead to non-optimal results.\n",
      "  warnings.warn(\n",
      "/home/scai/phd/aiz218326/anaconda3/envs/crystal-llm/lib/python3.10/site-packages/pymatgen/analysis/local_env.py:4151: UserWarning: No oxidation states specified on sites! For better results, set the site oxidation states in the structure.\n",
      "  warnings.warn(\n",
      "/home/scai/phd/aiz218326/anaconda3/envs/crystal-llm/lib/python3.10/site-packages/pymatgen/analysis/local_env.py:4151: UserWarning: No oxidation states specified on sites! For better results, set the site oxidation states in the structure.\n",
      "  warnings.warn(\n",
      "/home/scai/phd/aiz218326/anaconda3/envs/crystal-llm/lib/python3.10/site-packages/pymatgen/analysis/local_env.py:4151: UserWarning: No oxidation states specified on sites! For better results, set the site oxidation states in the structure.\n",
      "  warnings.warn(\n",
      "/home/scai/phd/aiz218326/anaconda3/envs/crystal-llm/lib/python3.10/site-packages/pymatgen/analysis/local_env.py:4151: UserWarning: No oxidation states specified on sites! For better results, set the site oxidation states in the structure.\n",
      "  warnings.warn(\n",
      "/home/scai/phd/aiz218326/anaconda3/envs/crystal-llm/lib/python3.10/site-packages/pymatgen/analysis/local_env.py:3944: UserWarning: CrystalNN: cannot locate an appropriate radius, covalent or atomic radii will be used, this can lead to non-optimal results.\n",
      "  warnings.warn(\n",
      "/home/scai/phd/aiz218326/anaconda3/envs/crystal-llm/lib/python3.10/site-packages/pymatgen/analysis/local_env.py:4151: UserWarning: No oxidation states specified on sites! For better results, set the site oxidation states in the structure.\n",
      "  warnings.warn(\n",
      "/home/scai/phd/aiz218326/anaconda3/envs/crystal-llm/lib/python3.10/site-packages/pymatgen/analysis/local_env.py:3944: UserWarning: CrystalNN: cannot locate an appropriate radius, covalent or atomic radii will be used, this can lead to non-optimal results.\n",
      "  warnings.warn(\n",
      "/home/scai/phd/aiz218326/anaconda3/envs/crystal-llm/lib/python3.10/site-packages/pymatgen/analysis/local_env.py:4151: UserWarning: No oxidation states specified on sites! For better results, set the site oxidation states in the structure.\n",
      "  warnings.warn(\n",
      "/home/scai/phd/aiz218326/anaconda3/envs/crystal-llm/lib/python3.10/site-packages/pymatgen/analysis/local_env.py:3944: UserWarning: CrystalNN: cannot locate an appropriate radius, covalent or atomic radii will be used, this can lead to non-optimal results.\n",
      "  warnings.warn(\n",
      "/home/scai/phd/aiz218326/anaconda3/envs/crystal-llm/lib/python3.10/site-packages/pymatgen/analysis/local_env.py:3944: UserWarning: CrystalNN: cannot locate an appropriate radius, covalent or atomic radii will be used, this can lead to non-optimal results.\n",
      "  warnings.warn(\n",
      "/home/scai/phd/aiz218326/anaconda3/envs/crystal-llm/lib/python3.10/site-packages/pymatgen/analysis/local_env.py:3944: UserWarning: CrystalNN: cannot locate an appropriate radius, covalent or atomic radii will be used, this can lead to non-optimal results.\n",
      "  warnings.warn(\n",
      "/home/scai/phd/aiz218326/anaconda3/envs/crystal-llm/lib/python3.10/site-packages/pymatgen/analysis/local_env.py:4151: UserWarning: No oxidation states specified on sites! For better results, set the site oxidation states in the structure.\n",
      "  warnings.warn(\n",
      "/home/scai/phd/aiz218326/anaconda3/envs/crystal-llm/lib/python3.10/site-packages/pymatgen/analysis/local_env.py:4151: UserWarning: No oxidation states specified on sites! For better results, set the site oxidation states in the structure.\n",
      "  warnings.warn(\n",
      "/home/scai/phd/aiz218326/anaconda3/envs/crystal-llm/lib/python3.10/site-packages/pymatgen/analysis/local_env.py:4151: UserWarning: No oxidation states specified on sites! For better results, set the site oxidation states in the structure.\n",
      "  warnings.warn(\n",
      "/home/scai/phd/aiz218326/anaconda3/envs/crystal-llm/lib/python3.10/site-packages/pymatgen/analysis/local_env.py:4151: UserWarning: No oxidation states specified on sites! For better results, set the site oxidation states in the structure.\n",
      "  warnings.warn(\n",
      "/home/scai/phd/aiz218326/anaconda3/envs/crystal-llm/lib/python3.10/site-packages/pymatgen/analysis/local_env.py:4151: UserWarning: No oxidation states specified on sites! For better results, set the site oxidation states in the structure.\n",
      "  warnings.warn(\n",
      "/home/scai/phd/aiz218326/anaconda3/envs/crystal-llm/lib/python3.10/site-packages/pymatgen/analysis/local_env.py:4151: UserWarning: No oxidation states specified on sites! For better results, set the site oxidation states in the structure.\n",
      "  warnings.warn(\n",
      "/home/scai/phd/aiz218326/anaconda3/envs/crystal-llm/lib/python3.10/site-packages/pymatgen/analysis/local_env.py:4151: UserWarning: No oxidation states specified on sites! For better results, set the site oxidation states in the structure.\n",
      "  warnings.warn(\n",
      "/home/scai/phd/aiz218326/anaconda3/envs/crystal-llm/lib/python3.10/site-packages/pymatgen/analysis/local_env.py:4151: UserWarning: No oxidation states specified on sites! For better results, set the site oxidation states in the structure.\n",
      "  warnings.warn(\n",
      "/home/scai/phd/aiz218326/anaconda3/envs/crystal-llm/lib/python3.10/site-packages/pymatgen/analysis/local_env.py:4151: UserWarning: No oxidation states specified on sites! For better results, set the site oxidation states in the structure.\n",
      "  warnings.warn(\n",
      "/home/scai/phd/aiz218326/anaconda3/envs/crystal-llm/lib/python3.10/site-packages/pymatgen/analysis/local_env.py:3944: UserWarning: CrystalNN: cannot locate an appropriate radius, covalent or atomic radii will be used, this can lead to non-optimal results.\n",
      "  warnings.warn(\n",
      "/home/scai/phd/aiz218326/anaconda3/envs/crystal-llm/lib/python3.10/site-packages/pymatgen/analysis/local_env.py:3944: UserWarning: CrystalNN: cannot locate an appropriate radius, covalent or atomic radii will be used, this can lead to non-optimal results.\n",
      "  warnings.warn(\n",
      "/home/scai/phd/aiz218326/anaconda3/envs/crystal-llm/lib/python3.10/site-packages/pymatgen/analysis/local_env.py:4151: UserWarning: No oxidation states specified on sites! For better results, set the site oxidation states in the structure.\n",
      "  warnings.warn(\n",
      "/home/scai/phd/aiz218326/anaconda3/envs/crystal-llm/lib/python3.10/site-packages/pymatgen/analysis/local_env.py:3944: UserWarning: CrystalNN: cannot locate an appropriate radius, covalent or atomic radii will be used, this can lead to non-optimal results.\n",
      "  warnings.warn(\n",
      "/home/scai/phd/aiz218326/anaconda3/envs/crystal-llm/lib/python3.10/site-packages/pymatgen/analysis/local_env.py:4151: UserWarning: No oxidation states specified on sites! For better results, set the site oxidation states in the structure.\n",
      "  warnings.warn(\n",
      "/home/scai/phd/aiz218326/anaconda3/envs/crystal-llm/lib/python3.10/site-packages/pymatgen/analysis/local_env.py:4151: UserWarning: No oxidation states specified on sites! For better results, set the site oxidation states in the structure.\n",
      "  warnings.warn(\n",
      "/home/scai/phd/aiz218326/anaconda3/envs/crystal-llm/lib/python3.10/site-packages/pymatgen/analysis/local_env.py:3944: UserWarning: CrystalNN: cannot locate an appropriate radius, covalent or atomic radii will be used, this can lead to non-optimal results.\n",
      "  warnings.warn(\n",
      "/home/scai/phd/aiz218326/anaconda3/envs/crystal-llm/lib/python3.10/site-packages/pymatgen/analysis/local_env.py:3944: UserWarning: CrystalNN: cannot locate an appropriate radius, covalent or atomic radii will be used, this can lead to non-optimal results.\n",
      "  warnings.warn(\n",
      "/home/scai/phd/aiz218326/anaconda3/envs/crystal-llm/lib/python3.10/site-packages/pymatgen/analysis/local_env.py:3944: UserWarning: CrystalNN: cannot locate an appropriate radius, covalent or atomic radii will be used, this can lead to non-optimal results.\n",
      "  warnings.warn(\n",
      "/home/scai/phd/aiz218326/anaconda3/envs/crystal-llm/lib/python3.10/site-packages/pymatgen/analysis/local_env.py:4151: UserWarning: No oxidation states specified on sites! For better results, set the site oxidation states in the structure.\n",
      "  warnings.warn(\n",
      "/home/scai/phd/aiz218326/anaconda3/envs/crystal-llm/lib/python3.10/site-packages/pymatgen/analysis/local_env.py:3944: UserWarning: CrystalNN: cannot locate an appropriate radius, covalent or atomic radii will be used, this can lead to non-optimal results.\n",
      "  warnings.warn(\n",
      "/home/scai/phd/aiz218326/anaconda3/envs/crystal-llm/lib/python3.10/site-packages/pymatgen/analysis/local_env.py:3944: UserWarning: CrystalNN: cannot locate an appropriate radius, covalent or atomic radii will be used, this can lead to non-optimal results.\n",
      "  warnings.warn(\n",
      "/home/scai/phd/aiz218326/anaconda3/envs/crystal-llm/lib/python3.10/site-packages/pymatgen/analysis/local_env.py:3944: UserWarning: CrystalNN: cannot locate an appropriate radius, covalent or atomic radii will be used, this can lead to non-optimal results.\n",
      "  warnings.warn(\n",
      "/home/scai/phd/aiz218326/anaconda3/envs/crystal-llm/lib/python3.10/site-packages/pymatgen/analysis/local_env.py:3944: UserWarning: CrystalNN: cannot locate an appropriate radius, covalent or atomic radii will be used, this can lead to non-optimal results.\n",
      "  warnings.warn(\n",
      "/home/scai/phd/aiz218326/anaconda3/envs/crystal-llm/lib/python3.10/site-packages/pymatgen/analysis/local_env.py:3944: UserWarning: CrystalNN: cannot locate an appropriate radius, covalent or atomic radii will be used, this can lead to non-optimal results.\n",
      "  warnings.warn(\n",
      "/home/scai/phd/aiz218326/anaconda3/envs/crystal-llm/lib/python3.10/site-packages/pymatgen/analysis/local_env.py:4151: UserWarning: No oxidation states specified on sites! For better results, set the site oxidation states in the structure.\n",
      "  warnings.warn(\n",
      "/home/scai/phd/aiz218326/anaconda3/envs/crystal-llm/lib/python3.10/site-packages/pymatgen/analysis/local_env.py:4151: UserWarning: No oxidation states specified on sites! For better results, set the site oxidation states in the structure.\n",
      "  warnings.warn(\n",
      "/home/scai/phd/aiz218326/anaconda3/envs/crystal-llm/lib/python3.10/site-packages/pymatgen/analysis/local_env.py:3944: UserWarning: CrystalNN: cannot locate an appropriate radius, covalent or atomic radii will be used, this can lead to non-optimal results.\n",
      "  warnings.warn(\n",
      "/home/scai/phd/aiz218326/anaconda3/envs/crystal-llm/lib/python3.10/site-packages/pymatgen/analysis/local_env.py:3944: UserWarning: CrystalNN: cannot locate an appropriate radius, covalent or atomic radii will be used, this can lead to non-optimal results.\n",
      "  warnings.warn(\n",
      "/home/scai/phd/aiz218326/anaconda3/envs/crystal-llm/lib/python3.10/site-packages/pymatgen/analysis/local_env.py:4151: UserWarning: No oxidation states specified on sites! For better results, set the site oxidation states in the structure.\n",
      "  warnings.warn(\n",
      "/home/scai/phd/aiz218326/anaconda3/envs/crystal-llm/lib/python3.10/site-packages/pymatgen/analysis/local_env.py:4151: UserWarning: No oxidation states specified on sites! For better results, set the site oxidation states in the structure.\n",
      "  warnings.warn(\n",
      "/home/scai/phd/aiz218326/anaconda3/envs/crystal-llm/lib/python3.10/site-packages/pymatgen/analysis/local_env.py:3944: UserWarning: CrystalNN: cannot locate an appropriate radius, covalent or atomic radii will be used, this can lead to non-optimal results.\n",
      "  warnings.warn(\n",
      "/home/scai/phd/aiz218326/anaconda3/envs/crystal-llm/lib/python3.10/site-packages/pymatgen/analysis/local_env.py:4151: UserWarning: No oxidation states specified on sites! For better results, set the site oxidation states in the structure.\n",
      "  warnings.warn(\n",
      "/home/scai/phd/aiz218326/anaconda3/envs/crystal-llm/lib/python3.10/site-packages/pymatgen/analysis/local_env.py:3944: UserWarning: CrystalNN: cannot locate an appropriate radius, covalent or atomic radii will be used, this can lead to non-optimal results.\n",
      "  warnings.warn(\n",
      "/home/scai/phd/aiz218326/anaconda3/envs/crystal-llm/lib/python3.10/site-packages/pymatgen/analysis/local_env.py:4151: UserWarning: No oxidation states specified on sites! For better results, set the site oxidation states in the structure.\n",
      "  warnings.warn(\n",
      "/home/scai/phd/aiz218326/anaconda3/envs/crystal-llm/lib/python3.10/site-packages/pymatgen/analysis/local_env.py:3944: UserWarning: CrystalNN: cannot locate an appropriate radius, covalent or atomic radii will be used, this can lead to non-optimal results.\n",
      "  warnings.warn(\n",
      "/home/scai/phd/aiz218326/anaconda3/envs/crystal-llm/lib/python3.10/site-packages/pymatgen/analysis/local_env.py:3944: UserWarning: CrystalNN: cannot locate an appropriate radius, covalent or atomic radii will be used, this can lead to non-optimal results.\n",
      "  warnings.warn(\n",
      "/home/scai/phd/aiz218326/anaconda3/envs/crystal-llm/lib/python3.10/site-packages/pymatgen/analysis/local_env.py:3944: UserWarning: CrystalNN: cannot locate an appropriate radius, covalent or atomic radii will be used, this can lead to non-optimal results.\n",
      "  warnings.warn(\n",
      "/home/scai/phd/aiz218326/anaconda3/envs/crystal-llm/lib/python3.10/site-packages/pymatgen/analysis/local_env.py:3944: UserWarning: CrystalNN: cannot locate an appropriate radius, covalent or atomic radii will be used, this can lead to non-optimal results.\n",
      "  warnings.warn(\n",
      "/home/scai/phd/aiz218326/anaconda3/envs/crystal-llm/lib/python3.10/site-packages/pymatgen/analysis/local_env.py:3944: UserWarning: CrystalNN: cannot locate an appropriate radius, covalent or atomic radii will be used, this can lead to non-optimal results.\n",
      "  warnings.warn(\n",
      "/home/scai/phd/aiz218326/anaconda3/envs/crystal-llm/lib/python3.10/site-packages/pymatgen/analysis/local_env.py:3944: UserWarning: CrystalNN: cannot locate an appropriate radius, covalent or atomic radii will be used, this can lead to non-optimal results.\n",
      "  warnings.warn(\n",
      "/home/scai/phd/aiz218326/anaconda3/envs/crystal-llm/lib/python3.10/site-packages/pymatgen/analysis/local_env.py:3944: UserWarning: CrystalNN: cannot locate an appropriate radius, covalent or atomic radii will be used, this can lead to non-optimal results.\n",
      "  warnings.warn(\n",
      "/home/scai/phd/aiz218326/anaconda3/envs/crystal-llm/lib/python3.10/site-packages/pymatgen/analysis/local_env.py:3944: UserWarning: CrystalNN: cannot locate an appropriate radius, covalent or atomic radii will be used, this can lead to non-optimal results.\n",
      "  warnings.warn(\n",
      "/home/scai/phd/aiz218326/anaconda3/envs/crystal-llm/lib/python3.10/site-packages/pymatgen/analysis/local_env.py:3944: UserWarning: CrystalNN: cannot locate an appropriate radius, covalent or atomic radii will be used, this can lead to non-optimal results.\n",
      "  warnings.warn(\n",
      "/home/scai/phd/aiz218326/anaconda3/envs/crystal-llm/lib/python3.10/site-packages/pymatgen/analysis/local_env.py:3944: UserWarning: CrystalNN: cannot locate an appropriate radius, covalent or atomic radii will be used, this can lead to non-optimal results.\n",
      "  warnings.warn(\n",
      "  0%|                                                                                | 1/9046 [00:03<7:37:51,  3.04s/it]/home/scai/phd/aiz218326/anaconda3/envs/crystal-llm/lib/python3.10/site-packages/pymatgen/io/cif.py:1287: UserWarning: Issues encountered while parsing CIF: 4 fractional coordinates rounded to ideal values to avoid issues with finite precision.\n",
      "  warnings.warn(\"Issues encountered while parsing CIF: \" + \"\\n\".join(self.warnings))\n",
      "  0%|                                                                                | 4/9046 [00:03<1:58:51,  1.27it/s]/home/scai/phd/aiz218326/anaconda3/envs/crystal-llm/lib/python3.10/site-packages/pymatgen/io/cif.py:1287: UserWarning: Issues encountered while parsing CIF: 16 fractional coordinates rounded to ideal values to avoid issues with finite precision.\n",
      "  warnings.warn(\"Issues encountered while parsing CIF: \" + \"\\n\".join(self.warnings))\n",
      "/home/scai/phd/aiz218326/anaconda3/envs/crystal-llm/lib/python3.10/site-packages/pymatgen/io/cif.py:1287: UserWarning: Issues encountered while parsing CIF: 8 fractional coordinates rounded to ideal values to avoid issues with finite precision.\n",
      "  warnings.warn(\"Issues encountered while parsing CIF: \" + \"\\n\".join(self.warnings))\n",
      "/home/scai/phd/aiz218326/anaconda3/envs/crystal-llm/lib/python3.10/site-packages/pymatgen/io/cif.py:1287: UserWarning: Issues encountered while parsing CIF: 4 fractional coordinates rounded to ideal values to avoid issues with finite precision.\n",
      "  warnings.warn(\"Issues encountered while parsing CIF: \" + \"\\n\".join(self.warnings))\n",
      "/home/scai/phd/aiz218326/anaconda3/envs/crystal-llm/lib/python3.10/site-packages/pymatgen/io/cif.py:1287: UserWarning: Issues encountered while parsing CIF: 8 fractional coordinates rounded to ideal values to avoid issues with finite precision.\n",
      "  warnings.warn(\"Issues encountered while parsing CIF: \" + \"\\n\".join(self.warnings))\n",
      "/home/scai/phd/aiz218326/anaconda3/envs/crystal-llm/lib/python3.10/site-packages/pymatgen/io/cif.py:1287: UserWarning: Issues encountered while parsing CIF: 4 fractional coordinates rounded to ideal values to avoid issues with finite precision.\n",
      "  warnings.warn(\"Issues encountered while parsing CIF: \" + \"\\n\".join(self.warnings))\n",
      "/home/scai/phd/aiz218326/anaconda3/envs/crystal-llm/lib/python3.10/site-packages/pymatgen/io/cif.py:1287: UserWarning: Issues encountered while parsing CIF: 8 fractional coordinates rounded to ideal values to avoid issues with finite precision.\n",
      "  warnings.warn(\"Issues encountered while parsing CIF: \" + \"\\n\".join(self.warnings))\n",
      "/home/scai/phd/aiz218326/anaconda3/envs/crystal-llm/lib/python3.10/site-packages/pymatgen/io/cif.py:1287: UserWarning: Issues encountered while parsing CIF: 12 fractional coordinates rounded to ideal values to avoid issues with finite precision.\n",
      "  warnings.warn(\"Issues encountered while parsing CIF: \" + \"\\n\".join(self.warnings))\n",
      "/home/scai/phd/aiz218326/anaconda3/envs/crystal-llm/lib/python3.10/site-packages/pymatgen/io/cif.py:1287: UserWarning: Issues encountered while parsing CIF: 4 fractional coordinates rounded to ideal values to avoid issues with finite precision.\n",
      "  warnings.warn(\"Issues encountered while parsing CIF: \" + \"\\n\".join(self.warnings))\n",
      "/home/scai/phd/aiz218326/anaconda3/envs/crystal-llm/lib/python3.10/site-packages/pymatgen/io/cif.py:1287: UserWarning: Issues encountered while parsing CIF: 4 fractional coordinates rounded to ideal values to avoid issues with finite precision.\n",
      "  warnings.warn(\"Issues encountered while parsing CIF: \" + \"\\n\".join(self.warnings))\n",
      "/home/scai/phd/aiz218326/anaconda3/envs/crystal-llm/lib/python3.10/site-packages/pymatgen/io/cif.py:1287: UserWarning: Issues encountered while parsing CIF: 4 fractional coordinates rounded to ideal values to avoid issues with finite precision.\n",
      "  warnings.warn(\"Issues encountered while parsing CIF: \" + \"\\n\".join(self.warnings))\n",
      "/home/scai/phd/aiz218326/anaconda3/envs/crystal-llm/lib/python3.10/site-packages/pymatgen/io/cif.py:1287: UserWarning: Issues encountered while parsing CIF: 4 fractional coordinates rounded to ideal values to avoid issues with finite precision.\n",
      "  warnings.warn(\"Issues encountered while parsing CIF: \" + \"\\n\".join(self.warnings))\n",
      "  0%|▎                                                                                | 28/9046 [00:10<27:28,  5.47it/s]/home/scai/phd/aiz218326/anaconda3/envs/crystal-llm/lib/python3.10/site-packages/pymatgen/io/cif.py:1287: UserWarning: Issues encountered while parsing CIF: 4 fractional coordinates rounded to ideal values to avoid issues with finite precision.\n",
      "  warnings.warn(\"Issues encountered while parsing CIF: \" + \"\\n\".join(self.warnings))\n",
      "/home/scai/phd/aiz218326/anaconda3/envs/crystal-llm/lib/python3.10/site-packages/pymatgen/io/cif.py:1287: UserWarning: Issues encountered while parsing CIF: 4 fractional coordinates rounded to ideal values to avoid issues with finite precision.\n",
      "  warnings.warn(\"Issues encountered while parsing CIF: \" + \"\\n\".join(self.warnings))\n",
      "  0%|▎                                                                                | 30/9046 [00:10<26:06,  5.75it/s]/home/scai/phd/aiz218326/anaconda3/envs/crystal-llm/lib/python3.10/site-packages/pymatgen/io/cif.py:1287: UserWarning: Issues encountered while parsing CIF: 4 fractional coordinates rounded to ideal values to avoid issues with finite precision.\n",
      "  warnings.warn(\"Issues encountered while parsing CIF: \" + \"\\n\".join(self.warnings))\n",
      "/home/scai/phd/aiz218326/anaconda3/envs/crystal-llm/lib/python3.10/site-packages/pymatgen/io/cif.py:1287: UserWarning: Issues encountered while parsing CIF: 12 fractional coordinates rounded to ideal values to avoid issues with finite precision.\n",
      "  warnings.warn(\"Issues encountered while parsing CIF: \" + \"\\n\".join(self.warnings))\n",
      "/home/scai/phd/aiz218326/anaconda3/envs/crystal-llm/lib/python3.10/site-packages/pymatgen/io/cif.py:1287: UserWarning: Issues encountered while parsing CIF: 10 fractional coordinates rounded to ideal values to avoid issues with finite precision.\n",
      "  warnings.warn(\"Issues encountered while parsing CIF: \" + \"\\n\".join(self.warnings))\n",
      "/home/scai/phd/aiz218326/anaconda3/envs/crystal-llm/lib/python3.10/site-packages/pymatgen/io/cif.py:1287: UserWarning: Issues encountered while parsing CIF: 8 fractional coordinates rounded to ideal values to avoid issues with finite precision.\n",
      "  warnings.warn(\"Issues encountered while parsing CIF: \" + \"\\n\".join(self.warnings))\n",
      "/home/scai/phd/aiz218326/anaconda3/envs/crystal-llm/lib/python3.10/site-packages/pymatgen/io/cif.py:1287: UserWarning: Issues encountered while parsing CIF: 4 fractional coordinates rounded to ideal values to avoid issues with finite precision.\n",
      "  warnings.warn(\"Issues encountered while parsing CIF: \" + \"\\n\".join(self.warnings))\n",
      "/home/scai/phd/aiz218326/anaconda3/envs/crystal-llm/lib/python3.10/site-packages/pymatgen/io/cif.py:1287: UserWarning: Issues encountered while parsing CIF: 4 fractional coordinates rounded to ideal values to avoid issues with finite precision.\n",
      "  warnings.warn(\"Issues encountered while parsing CIF: \" + \"\\n\".join(self.warnings))\n",
      "  0%|▎                                                                                | 36/9046 [00:12<35:55,  4.18it/s]/home/scai/phd/aiz218326/anaconda3/envs/crystal-llm/lib/python3.10/site-packages/pymatgen/io/cif.py:1287: UserWarning: Issues encountered while parsing CIF: 2 fractional coordinates rounded to ideal values to avoid issues with finite precision.\n",
      "  warnings.warn(\"Issues encountered while parsing CIF: \" + \"\\n\".join(self.warnings))\n",
      "  1%|▍                                                                                | 52/9046 [00:13<20:56,  7.16it/s]/home/scai/phd/aiz218326/anaconda3/envs/crystal-llm/lib/python3.10/site-packages/pymatgen/io/cif.py:1287: UserWarning: Issues encountered while parsing CIF: 4 fractional coordinates rounded to ideal values to avoid issues with finite precision.\n",
      "  warnings.warn(\"Issues encountered while parsing CIF: \" + \"\\n\".join(self.warnings))\n",
      "/home/scai/phd/aiz218326/anaconda3/envs/crystal-llm/lib/python3.10/site-packages/pymatgen/io/cif.py:1287: UserWarning: Issues encountered while parsing CIF: 8 fractional coordinates rounded to ideal values to avoid issues with finite precision.\n",
      "  warnings.warn(\"Issues encountered while parsing CIF: \" + \"\\n\".join(self.warnings))\n",
      "  1%|▍                                                                                | 55/9046 [00:13<21:30,  6.97it/s]/home/scai/phd/aiz218326/anaconda3/envs/crystal-llm/lib/python3.10/site-packages/pymatgen/io/cif.py:1287: UserWarning: Issues encountered while parsing CIF: 12 fractional coordinates rounded to ideal values to avoid issues with finite precision.\n",
      "  warnings.warn(\"Issues encountered while parsing CIF: \" + \"\\n\".join(self.warnings))\n",
      "/home/scai/phd/aiz218326/anaconda3/envs/crystal-llm/lib/python3.10/site-packages/pymatgen/io/cif.py:1287: UserWarning: Issues encountered while parsing CIF: 12 fractional coordinates rounded to ideal values to avoid issues with finite precision.\n",
      "  warnings.warn(\"Issues encountered while parsing CIF: \" + \"\\n\".join(self.warnings))\n",
      "  1%|▊                                                                                | 93/9046 [00:16<12:30, 11.93it/s]/home/scai/phd/aiz218326/anaconda3/envs/crystal-llm/lib/python3.10/site-packages/pymatgen/io/cif.py:1287: UserWarning: Issues encountered while parsing CIF: 4 fractional coordinates rounded to ideal values to avoid issues with finite precision.\n",
      "  warnings.warn(\"Issues encountered while parsing CIF: \" + \"\\n\".join(self.warnings))\n",
      "  1%|▉                                                                               | 105/9046 [00:21<24:41,  6.04it/s]/home/scai/phd/aiz218326/anaconda3/envs/crystal-llm/lib/python3.10/site-packages/pymatgen/io/cif.py:1287: UserWarning: Issues encountered while parsing CIF: 4 fractional coordinates rounded to ideal values to avoid issues with finite precision.\n",
      "  warnings.warn(\"Issues encountered while parsing CIF: \" + \"\\n\".join(self.warnings))\n",
      "  1%|█                                                                               | 118/9046 [00:22<21:19,  6.98it/s]/home/scai/phd/aiz218326/anaconda3/envs/crystal-llm/lib/python3.10/site-packages/pymatgen/io/cif.py:1287: UserWarning: Issues encountered while parsing CIF: 4 fractional coordinates rounded to ideal values to avoid issues with finite precision.\n",
      "  warnings.warn(\"Issues encountered while parsing CIF: \" + \"\\n\".join(self.warnings))\n",
      "  2%|█▏                                                                              | 139/9046 [00:23<16:02,  9.26it/s]/home/scai/phd/aiz218326/anaconda3/envs/crystal-llm/lib/python3.10/site-packages/pymatgen/io/cif.py:1287: UserWarning: Issues encountered while parsing CIF: 4 fractional coordinates rounded to ideal values to avoid issues with finite precision.\n",
      "  warnings.warn(\"Issues encountered while parsing CIF: \" + \"\\n\".join(self.warnings))\n",
      "  2%|█▍                                                                              | 161/9046 [00:23<10:31, 14.06it/s]/home/scai/phd/aiz218326/anaconda3/envs/crystal-llm/lib/python3.10/site-packages/pymatgen/io/cif.py:1287: UserWarning: Issues encountered while parsing CIF: 8 fractional coordinates rounded to ideal values to avoid issues with finite precision.\n",
      "  warnings.warn(\"Issues encountered while parsing CIF: \" + \"\\n\".join(self.warnings))\n",
      "  2%|█▍                                                                              | 169/9046 [00:24<09:15, 15.97it/s]/home/scai/phd/aiz218326/anaconda3/envs/crystal-llm/lib/python3.10/site-packages/pymatgen/io/cif.py:1287: UserWarning: Issues encountered while parsing CIF: 8 fractional coordinates rounded to ideal values to avoid issues with finite precision.\n",
      "  warnings.warn(\"Issues encountered while parsing CIF: \" + \"\\n\".join(self.warnings))\n",
      "  2%|█▋                                                                              | 189/9046 [00:25<09:41, 15.24it/s]/home/scai/phd/aiz218326/anaconda3/envs/crystal-llm/lib/python3.10/site-packages/pymatgen/io/cif.py:1287: UserWarning: Issues encountered while parsing CIF: 2 fractional coordinates rounded to ideal values to avoid issues with finite precision.\n",
      "  warnings.warn(\"Issues encountered while parsing CIF: \" + \"\\n\".join(self.warnings))\n",
      "/home/scai/phd/aiz218326/anaconda3/envs/crystal-llm/lib/python3.10/site-packages/pymatgen/io/cif.py:1287: UserWarning: Issues encountered while parsing CIF: 4 fractional coordinates rounded to ideal values to avoid issues with finite precision.\n",
      "  warnings.warn(\"Issues encountered while parsing CIF: \" + \"\\n\".join(self.warnings))\n",
      "/home/scai/phd/aiz218326/anaconda3/envs/crystal-llm/lib/python3.10/site-packages/pymatgen/io/cif.py:1287: UserWarning: Issues encountered while parsing CIF: 4 fractional coordinates rounded to ideal values to avoid issues with finite precision.\n",
      "  warnings.warn(\"Issues encountered while parsing CIF: \" + \"\\n\".join(self.warnings))\n",
      "  2%|█▊                                                                              | 210/9046 [00:30<22:42,  6.49it/s]/home/scai/phd/aiz218326/anaconda3/envs/crystal-llm/lib/python3.10/site-packages/pymatgen/io/cif.py:1287: UserWarning: Issues encountered while parsing CIF: 4 fractional coordinates rounded to ideal values to avoid issues with finite precision.\n",
      "  warnings.warn(\"Issues encountered while parsing CIF: \" + \"\\n\".join(self.warnings))\n",
      "/home/scai/phd/aiz218326/anaconda3/envs/crystal-llm/lib/python3.10/site-packages/pymatgen/io/cif.py:1287: UserWarning: Issues encountered while parsing CIF: 8 fractional coordinates rounded to ideal values to avoid issues with finite precision.\n",
      "  warnings.warn(\"Issues encountered while parsing CIF: \" + \"\\n\".join(self.warnings))\n",
      "  3%|██                                                                              | 240/9046 [00:31<10:03, 14.58it/s]/home/scai/phd/aiz218326/anaconda3/envs/crystal-llm/lib/python3.10/site-packages/pymatgen/io/cif.py:1287: UserWarning: Issues encountered while parsing CIF: 12 fractional coordinates rounded to ideal values to avoid issues with finite precision.\n",
      "  warnings.warn(\"Issues encountered while parsing CIF: \" + \"\\n\".join(self.warnings))\n",
      "  3%|██▏                                                                             | 244/9046 [00:34<22:40,  6.47it/s]/home/scai/phd/aiz218326/anaconda3/envs/crystal-llm/lib/python3.10/site-packages/pymatgen/io/cif.py:1287: UserWarning: Issues encountered while parsing CIF: 8 fractional coordinates rounded to ideal values to avoid issues with finite precision.\n",
      "  warnings.warn(\"Issues encountered while parsing CIF: \" + \"\\n\".join(self.warnings))\n",
      "/home/scai/phd/aiz218326/anaconda3/envs/crystal-llm/lib/python3.10/site-packages/pymatgen/io/cif.py:1287: UserWarning: Issues encountered while parsing CIF: 4 fractional coordinates rounded to ideal values to avoid issues with finite precision.\n",
      "  warnings.warn(\"Issues encountered while parsing CIF: \" + \"\\n\".join(self.warnings))\n",
      "  3%|██▌                                                                             | 292/9046 [00:38<12:12, 11.95it/s]/home/scai/phd/aiz218326/anaconda3/envs/crystal-llm/lib/python3.10/site-packages/pymatgen/io/cif.py:1287: UserWarning: Issues encountered while parsing CIF: 4 fractional coordinates rounded to ideal values to avoid issues with finite precision.\n",
      "  warnings.warn(\"Issues encountered while parsing CIF: \" + \"\\n\".join(self.warnings))\n",
      "  4%|██▊                                                                             | 319/9046 [00:42<15:52,  9.17it/s]/home/scai/phd/aiz218326/anaconda3/envs/crystal-llm/lib/python3.10/site-packages/pymatgen/io/cif.py:1287: UserWarning: Issues encountered while parsing CIF: 8 fractional coordinates rounded to ideal values to avoid issues with finite precision.\n",
      "  warnings.warn(\"Issues encountered while parsing CIF: \" + \"\\n\".join(self.warnings))\n",
      "/home/scai/phd/aiz218326/anaconda3/envs/crystal-llm/lib/python3.10/site-packages/pymatgen/io/cif.py:1287: UserWarning: Issues encountered while parsing CIF: 4 fractional coordinates rounded to ideal values to avoid issues with finite precision.\n",
      "  warnings.warn(\"Issues encountered while parsing CIF: \" + \"\\n\".join(self.warnings))\n",
      "  4%|██▉                                                                             | 337/9046 [00:46<20:54,  6.94it/s]/home/scai/phd/aiz218326/anaconda3/envs/crystal-llm/lib/python3.10/site-packages/pymatgen/io/cif.py:1287: UserWarning: Issues encountered while parsing CIF: 8 fractional coordinates rounded to ideal values to avoid issues with finite precision.\n",
      "  warnings.warn(\"Issues encountered while parsing CIF: \" + \"\\n\".join(self.warnings))\n",
      "  4%|███▎                                                                            | 375/9046 [00:48<13:27, 10.73it/s]/home/scai/phd/aiz218326/anaconda3/envs/crystal-llm/lib/python3.10/site-packages/pymatgen/io/cif.py:1287: UserWarning: Issues encountered while parsing CIF: 6 fractional coordinates rounded to ideal values to avoid issues with finite precision.\n",
      "  warnings.warn(\"Issues encountered while parsing CIF: \" + \"\\n\".join(self.warnings))\n",
      "/home/scai/phd/aiz218326/anaconda3/envs/crystal-llm/lib/python3.10/site-packages/pymatgen/io/cif.py:1287: UserWarning: Issues encountered while parsing CIF: 8 fractional coordinates rounded to ideal values to avoid issues with finite precision.\n",
      "  warnings.warn(\"Issues encountered while parsing CIF: \" + \"\\n\".join(self.warnings))\n",
      "  4%|███▍                                                                            | 390/9046 [00:49<14:15, 10.11it/s]/home/scai/phd/aiz218326/anaconda3/envs/crystal-llm/lib/python3.10/site-packages/pymatgen/io/cif.py:1287: UserWarning: Issues encountered while parsing CIF: 16 fractional coordinates rounded to ideal values to avoid issues with finite precision.\n",
      "  warnings.warn(\"Issues encountered while parsing CIF: \" + \"\\n\".join(self.warnings))\n",
      "/home/scai/phd/aiz218326/anaconda3/envs/crystal-llm/lib/python3.10/site-packages/pymatgen/io/cif.py:1287: UserWarning: Issues encountered while parsing CIF: 2 fractional coordinates rounded to ideal values to avoid issues with finite precision.\n",
      "  warnings.warn(\"Issues encountered while parsing CIF: \" + \"\\n\".join(self.warnings))\n",
      "/home/scai/phd/aiz218326/anaconda3/envs/crystal-llm/lib/python3.10/site-packages/pymatgen/io/cif.py:1287: UserWarning: Issues encountered while parsing CIF: 14 fractional coordinates rounded to ideal values to avoid issues with finite precision.\n",
      "  warnings.warn(\"Issues encountered while parsing CIF: \" + \"\\n\".join(self.warnings))\n",
      "  5%|████                                                                            | 461/9046 [00:55<09:40, 14.79it/s]/home/scai/phd/aiz218326/anaconda3/envs/crystal-llm/lib/python3.10/site-packages/pymatgen/io/cif.py:1287: UserWarning: Issues encountered while parsing CIF: 8 fractional coordinates rounded to ideal values to avoid issues with finite precision.\n",
      "  warnings.warn(\"Issues encountered while parsing CIF: \" + \"\\n\".join(self.warnings))\n",
      "/home/scai/phd/aiz218326/anaconda3/envs/crystal-llm/lib/python3.10/site-packages/pymatgen/io/cif.py:1287: UserWarning: Issues encountered while parsing CIF: 2 fractional coordinates rounded to ideal values to avoid issues with finite precision.\n",
      "  warnings.warn(\"Issues encountered while parsing CIF: \" + \"\\n\".join(self.warnings))\n",
      "/home/scai/phd/aiz218326/anaconda3/envs/crystal-llm/lib/python3.10/site-packages/pymatgen/io/cif.py:1287: UserWarning: Issues encountered while parsing CIF: 8 fractional coordinates rounded to ideal values to avoid issues with finite precision.\n",
      "  warnings.warn(\"Issues encountered while parsing CIF: \" + \"\\n\".join(self.warnings))\n",
      "  5%|████▏                                                                           | 471/9046 [00:56<10:11, 14.03it/s]/home/scai/phd/aiz218326/anaconda3/envs/crystal-llm/lib/python3.10/site-packages/pymatgen/io/cif.py:1287: UserWarning: Issues encountered while parsing CIF: 8 fractional coordinates rounded to ideal values to avoid issues with finite precision.\n",
      "  warnings.warn(\"Issues encountered while parsing CIF: \" + \"\\n\".join(self.warnings))\n",
      "  6%|████▌                                                                           | 522/9046 [01:03<15:54,  8.93it/s]/home/scai/phd/aiz218326/anaconda3/envs/crystal-llm/lib/python3.10/site-packages/pymatgen/io/cif.py:1287: UserWarning: Issues encountered while parsing CIF: 4 fractional coordinates rounded to ideal values to avoid issues with finite precision.\n",
      "  warnings.warn(\"Issues encountered while parsing CIF: \" + \"\\n\".join(self.warnings))\n",
      "  6%|████▊                                                                           | 539/9046 [01:06<17:02,  8.32it/s]/home/scai/phd/aiz218326/anaconda3/envs/crystal-llm/lib/python3.10/site-packages/pymatgen/io/cif.py:1287: UserWarning: Issues encountered while parsing CIF: 8 fractional coordinates rounded to ideal values to avoid issues with finite precision.\n",
      "  warnings.warn(\"Issues encountered while parsing CIF: \" + \"\\n\".join(self.warnings))\n",
      "  6%|████▉                                                                           | 563/9046 [01:09<19:14,  7.35it/s]/home/scai/phd/aiz218326/anaconda3/envs/crystal-llm/lib/python3.10/site-packages/pymatgen/io/cif.py:1287: UserWarning: Issues encountered while parsing CIF: 12 fractional coordinates rounded to ideal values to avoid issues with finite precision.\n",
      "  warnings.warn(\"Issues encountered while parsing CIF: \" + \"\\n\".join(self.warnings))\n",
      "/home/scai/phd/aiz218326/anaconda3/envs/crystal-llm/lib/python3.10/site-packages/pymatgen/io/cif.py:1287: UserWarning: Issues encountered while parsing CIF: 4 fractional coordinates rounded to ideal values to avoid issues with finite precision.\n",
      "  warnings.warn(\"Issues encountered while parsing CIF: \" + \"\\n\".join(self.warnings))\n",
      "/home/scai/phd/aiz218326/anaconda3/envs/crystal-llm/lib/python3.10/site-packages/pymatgen/io/cif.py:1287: UserWarning: Issues encountered while parsing CIF: 10 fractional coordinates rounded to ideal values to avoid issues with finite precision.\n",
      "  warnings.warn(\"Issues encountered while parsing CIF: \" + \"\\n\".join(self.warnings))\n",
      "/home/scai/phd/aiz218326/anaconda3/envs/crystal-llm/lib/python3.10/site-packages/pymatgen/io/cif.py:1287: UserWarning: Issues encountered while parsing CIF: 12 fractional coordinates rounded to ideal values to avoid issues with finite precision.\n",
      "  warnings.warn(\"Issues encountered while parsing CIF: \" + \"\\n\".join(self.warnings))\n",
      "  7%|█████▌                                                                          | 625/9046 [01:13<10:44, 13.06it/s]/home/scai/phd/aiz218326/anaconda3/envs/crystal-llm/lib/python3.10/site-packages/pymatgen/io/cif.py:1287: UserWarning: Issues encountered while parsing CIF: 16 fractional coordinates rounded to ideal values to avoid issues with finite precision.\n",
      "  warnings.warn(\"Issues encountered while parsing CIF: \" + \"\\n\".join(self.warnings))\n",
      "  7%|█████▌                                                                          | 630/9046 [01:14<12:08, 11.56it/s]/home/scai/phd/aiz218326/anaconda3/envs/crystal-llm/lib/python3.10/site-packages/pymatgen/io/cif.py:1287: UserWarning: Issues encountered while parsing CIF: 12 fractional coordinates rounded to ideal values to avoid issues with finite precision.\n",
      "  warnings.warn(\"Issues encountered while parsing CIF: \" + \"\\n\".join(self.warnings))\n",
      "  7%|█████▌                                                                          | 632/9046 [01:14<12:18, 11.39it/s]/home/scai/phd/aiz218326/anaconda3/envs/crystal-llm/lib/python3.10/site-packages/pymatgen/io/cif.py:1287: UserWarning: Issues encountered while parsing CIF: 8 fractional coordinates rounded to ideal values to avoid issues with finite precision.\n",
      "  warnings.warn(\"Issues encountered while parsing CIF: \" + \"\\n\".join(self.warnings))\n",
      "/home/scai/phd/aiz218326/anaconda3/envs/crystal-llm/lib/python3.10/site-packages/pymatgen/io/cif.py:1287: UserWarning: Issues encountered while parsing CIF: 8 fractional coordinates rounded to ideal values to avoid issues with finite precision.\n",
      "  warnings.warn(\"Issues encountered while parsing CIF: \" + \"\\n\".join(self.warnings))\n",
      "  7%|█████▋                                                                          | 637/9046 [01:16<20:36,  6.80it/s]/home/scai/phd/aiz218326/anaconda3/envs/crystal-llm/lib/python3.10/site-packages/pymatgen/io/cif.py:1287: UserWarning: Issues encountered while parsing CIF: 4 fractional coordinates rounded to ideal values to avoid issues with finite precision.\n",
      "  warnings.warn(\"Issues encountered while parsing CIF: \" + \"\\n\".join(self.warnings))\n",
      "  7%|█████▉                                                                          | 674/9046 [01:20<16:34,  8.42it/s]/home/scai/phd/aiz218326/anaconda3/envs/crystal-llm/lib/python3.10/site-packages/pymatgen/io/cif.py:1287: UserWarning: Issues encountered while parsing CIF: 4 fractional coordinates rounded to ideal values to avoid issues with finite precision.\n",
      "  warnings.warn(\"Issues encountered while parsing CIF: \" + \"\\n\".join(self.warnings))\n",
      "  8%|██████                                                                          | 687/9046 [01:21<13:05, 10.65it/s]/home/scai/phd/aiz218326/anaconda3/envs/crystal-llm/lib/python3.10/site-packages/pymatgen/io/cif.py:1287: UserWarning: Issues encountered while parsing CIF: 12 fractional coordinates rounded to ideal values to avoid issues with finite precision.\n",
      "  warnings.warn(\"Issues encountered while parsing CIF: \" + \"\\n\".join(self.warnings))\n",
      "  8%|██████▏                                                                         | 701/9046 [01:22<11:21, 12.25it/s]/home/scai/phd/aiz218326/anaconda3/envs/crystal-llm/lib/python3.10/site-packages/pymatgen/io/cif.py:1287: UserWarning: Issues encountered while parsing CIF: 10 fractional coordinates rounded to ideal values to avoid issues with finite precision.\n",
      "  warnings.warn(\"Issues encountered while parsing CIF: \" + \"\\n\".join(self.warnings))\n",
      "/home/scai/phd/aiz218326/anaconda3/envs/crystal-llm/lib/python3.10/site-packages/pymatgen/io/cif.py:1287: UserWarning: Issues encountered while parsing CIF: 4 fractional coordinates rounded to ideal values to avoid issues with finite precision.\n",
      "  warnings.warn(\"Issues encountered while parsing CIF: \" + \"\\n\".join(self.warnings))\n",
      "  8%|██████▎                                                                         | 711/9046 [01:25<21:49,  6.37it/s]/home/scai/phd/aiz218326/anaconda3/envs/crystal-llm/lib/python3.10/site-packages/pymatgen/io/cif.py:1287: UserWarning: Issues encountered while parsing CIF: 24 fractional coordinates rounded to ideal values to avoid issues with finite precision.\n",
      "  warnings.warn(\"Issues encountered while parsing CIF: \" + \"\\n\".join(self.warnings))\n",
      "/home/scai/phd/aiz218326/anaconda3/envs/crystal-llm/lib/python3.10/site-packages/pymatgen/io/cif.py:1287: UserWarning: Issues encountered while parsing CIF: 12 fractional coordinates rounded to ideal values to avoid issues with finite precision.\n",
      "  warnings.warn(\"Issues encountered while parsing CIF: \" + \"\\n\".join(self.warnings))\n",
      "  8%|██████▋                                                                         | 761/9046 [01:31<17:12,  8.03it/s]/home/scai/phd/aiz218326/anaconda3/envs/crystal-llm/lib/python3.10/site-packages/pymatgen/io/cif.py:1287: UserWarning: Issues encountered while parsing CIF: 12 fractional coordinates rounded to ideal values to avoid issues with finite precision.\n",
      "  warnings.warn(\"Issues encountered while parsing CIF: \" + \"\\n\".join(self.warnings))\n",
      "  9%|███████                                                                         | 795/9046 [01:33<14:04,  9.77it/s]/home/scai/phd/aiz218326/anaconda3/envs/crystal-llm/lib/python3.10/site-packages/pymatgen/io/cif.py:1287: UserWarning: Issues encountered while parsing CIF: 6 fractional coordinates rounded to ideal values to avoid issues with finite precision.\n",
      "  warnings.warn(\"Issues encountered while parsing CIF: \" + \"\\n\".join(self.warnings))\n",
      "  9%|███████▍                                                                        | 834/9046 [01:39<18:55,  7.23it/s]/home/scai/phd/aiz218326/anaconda3/envs/crystal-llm/lib/python3.10/site-packages/pymatgen/io/cif.py:1287: UserWarning: Issues encountered while parsing CIF: 8 fractional coordinates rounded to ideal values to avoid issues with finite precision.\n",
      "  warnings.warn(\"Issues encountered while parsing CIF: \" + \"\\n\".join(self.warnings))\n",
      "/home/scai/phd/aiz218326/anaconda3/envs/crystal-llm/lib/python3.10/site-packages/pymatgen/io/cif.py:1287: UserWarning: Issues encountered while parsing CIF: 2 fractional coordinates rounded to ideal values to avoid issues with finite precision.\n",
      "  warnings.warn(\"Issues encountered while parsing CIF: \" + \"\\n\".join(self.warnings))\n",
      "/home/scai/phd/aiz218326/anaconda3/envs/crystal-llm/lib/python3.10/site-packages/pymatgen/io/cif.py:1287: UserWarning: Issues encountered while parsing CIF: 2 fractional coordinates rounded to ideal values to avoid issues with finite precision.\n",
      "  warnings.warn(\"Issues encountered while parsing CIF: \" + \"\\n\".join(self.warnings))\n",
      "/home/scai/phd/aiz218326/anaconda3/envs/crystal-llm/lib/python3.10/site-packages/pymatgen/io/cif.py:1287: UserWarning: Issues encountered while parsing CIF: 8 fractional coordinates rounded to ideal values to avoid issues with finite precision.\n",
      "  warnings.warn(\"Issues encountered while parsing CIF: \" + \"\\n\".join(self.warnings))\n",
      " 10%|███████▌                                                                        | 860/9046 [01:44<21:00,  6.49it/s]/home/scai/phd/aiz218326/anaconda3/envs/crystal-llm/lib/python3.10/site-packages/pymatgen/io/cif.py:1287: UserWarning: Issues encountered while parsing CIF: 6 fractional coordinates rounded to ideal values to avoid issues with finite precision.\n",
      "  warnings.warn(\"Issues encountered while parsing CIF: \" + \"\\n\".join(self.warnings))\n",
      " 10%|████████▏                                                                       | 925/9046 [01:47<12:30, 10.82it/s]/home/scai/phd/aiz218326/anaconda3/envs/crystal-llm/lib/python3.10/site-packages/pymatgen/io/cif.py:1287: UserWarning: Issues encountered while parsing CIF: 24 fractional coordinates rounded to ideal values to avoid issues with finite precision.\n",
      "  warnings.warn(\"Issues encountered while parsing CIF: \" + \"\\n\".join(self.warnings))\n",
      "/home/scai/phd/aiz218326/anaconda3/envs/crystal-llm/lib/python3.10/site-packages/pymatgen/io/cif.py:1287: UserWarning: Issues encountered while parsing CIF: 12 fractional coordinates rounded to ideal values to avoid issues with finite precision.\n",
      "  warnings.warn(\"Issues encountered while parsing CIF: \" + \"\\n\".join(self.warnings))\n",
      "/home/scai/phd/aiz218326/anaconda3/envs/crystal-llm/lib/python3.10/site-packages/pymatgen/io/cif.py:1287: UserWarning: Issues encountered while parsing CIF: 4 fractional coordinates rounded to ideal values to avoid issues with finite precision.\n",
      "  warnings.warn(\"Issues encountered while parsing CIF: \" + \"\\n\".join(self.warnings))\n",
      "/home/scai/phd/aiz218326/anaconda3/envs/crystal-llm/lib/python3.10/site-packages/pymatgen/io/cif.py:1287: UserWarning: Issues encountered while parsing CIF: 12 fractional coordinates rounded to ideal values to avoid issues with finite precision.\n",
      "  warnings.warn(\"Issues encountered while parsing CIF: \" + \"\\n\".join(self.warnings))\n",
      " 11%|████████▋                                                                       | 985/9046 [01:51<08:52, 15.14it/s]/home/scai/phd/aiz218326/anaconda3/envs/crystal-llm/lib/python3.10/site-packages/pymatgen/io/cif.py:1287: UserWarning: Issues encountered while parsing CIF: 2 fractional coordinates rounded to ideal values to avoid issues with finite precision.\n",
      "  warnings.warn(\"Issues encountered while parsing CIF: \" + \"\\n\".join(self.warnings))\n",
      "/home/scai/phd/aiz218326/anaconda3/envs/crystal-llm/lib/python3.10/site-packages/pymatgen/io/cif.py:1287: UserWarning: Issues encountered while parsing CIF: 3 fractional coordinates rounded to ideal values to avoid issues with finite precision.\n",
      "  warnings.warn(\"Issues encountered while parsing CIF: \" + \"\\n\".join(self.warnings))\n",
      " 11%|████████▉                                                                      | 1026/9046 [01:56<12:22, 10.81it/s]/home/scai/phd/aiz218326/anaconda3/envs/crystal-llm/lib/python3.10/site-packages/pymatgen/io/cif.py:1287: UserWarning: Issues encountered while parsing CIF: 16 fractional coordinates rounded to ideal values to avoid issues with finite precision.\n",
      "  warnings.warn(\"Issues encountered while parsing CIF: \" + \"\\n\".join(self.warnings))\n",
      " 12%|█████████                                                                      | 1043/9046 [02:01<18:41,  7.14it/s]/home/scai/phd/aiz218326/anaconda3/envs/crystal-llm/lib/python3.10/site-packages/pymatgen/io/cif.py:1287: UserWarning: Issues encountered while parsing CIF: 24 fractional coordinates rounded to ideal values to avoid issues with finite precision.\n",
      "  warnings.warn(\"Issues encountered while parsing CIF: \" + \"\\n\".join(self.warnings))\n",
      "/home/scai/phd/aiz218326/anaconda3/envs/crystal-llm/lib/python3.10/site-packages/pymatgen/io/cif.py:1287: UserWarning: Issues encountered while parsing CIF: 4 fractional coordinates rounded to ideal values to avoid issues with finite precision.\n",
      "  warnings.warn(\"Issues encountered while parsing CIF: \" + \"\\n\".join(self.warnings))\n",
      "/home/scai/phd/aiz218326/anaconda3/envs/crystal-llm/lib/python3.10/site-packages/pymatgen/io/cif.py:1287: UserWarning: Issues encountered while parsing CIF: 8 fractional coordinates rounded to ideal values to avoid issues with finite precision.\n",
      "  warnings.warn(\"Issues encountered while parsing CIF: \" + \"\\n\".join(self.warnings))\n",
      " 12%|█████████▋                                                                     | 1103/9046 [02:05<11:47, 11.23it/s]/home/scai/phd/aiz218326/anaconda3/envs/crystal-llm/lib/python3.10/site-packages/pymatgen/io/cif.py:1287: UserWarning: Issues encountered while parsing CIF: 4 fractional coordinates rounded to ideal values to avoid issues with finite precision.\n",
      "  warnings.warn(\"Issues encountered while parsing CIF: \" + \"\\n\".join(self.warnings))\n",
      "/home/scai/phd/aiz218326/anaconda3/envs/crystal-llm/lib/python3.10/site-packages/pymatgen/io/cif.py:1287: UserWarning: Issues encountered while parsing CIF: 8 fractional coordinates rounded to ideal values to avoid issues with finite precision.\n",
      "  warnings.warn(\"Issues encountered while parsing CIF: \" + \"\\n\".join(self.warnings))\n",
      " 13%|█████████▉                                                                     | 1142/9046 [02:07<10:16, 12.82it/s]/home/scai/phd/aiz218326/anaconda3/envs/crystal-llm/lib/python3.10/site-packages/pymatgen/io/cif.py:1287: UserWarning: Issues encountered while parsing CIF: 12 fractional coordinates rounded to ideal values to avoid issues with finite precision.\n",
      "  warnings.warn(\"Issues encountered while parsing CIF: \" + \"\\n\".join(self.warnings))\n",
      "/home/scai/phd/aiz218326/anaconda3/envs/crystal-llm/lib/python3.10/site-packages/pymatgen/io/cif.py:1287: UserWarning: Issues encountered while parsing CIF: 8 fractional coordinates rounded to ideal values to avoid issues with finite precision.\n",
      "  warnings.warn(\"Issues encountered while parsing CIF: \" + \"\\n\".join(self.warnings))\n",
      " 13%|█████████▉                                                                     | 1145/9046 [02:10<24:18,  5.42it/s]/home/scai/phd/aiz218326/anaconda3/envs/crystal-llm/lib/python3.10/site-packages/pymatgen/io/cif.py:1287: UserWarning: Issues encountered while parsing CIF: 12 fractional coordinates rounded to ideal values to avoid issues with finite precision.\n",
      "  warnings.warn(\"Issues encountered while parsing CIF: \" + \"\\n\".join(self.warnings))\n",
      "/home/scai/phd/aiz218326/anaconda3/envs/crystal-llm/lib/python3.10/site-packages/pymatgen/io/cif.py:1287: UserWarning: Issues encountered while parsing CIF: 8 fractional coordinates rounded to ideal values to avoid issues with finite precision.\n",
      "  warnings.warn(\"Issues encountered while parsing CIF: \" + \"\\n\".join(self.warnings))\n",
      " 13%|██████████                                                                     | 1150/9046 [02:12<32:31,  4.05it/s]/home/scai/phd/aiz218326/anaconda3/envs/crystal-llm/lib/python3.10/site-packages/pymatgen/io/cif.py:1287: UserWarning: Issues encountered while parsing CIF: 12 fractional coordinates rounded to ideal values to avoid issues with finite precision.\n",
      "  warnings.warn(\"Issues encountered while parsing CIF: \" + \"\\n\".join(self.warnings))\n",
      " 13%|██████████▏                                                                    | 1167/9046 [02:14<19:22,  6.78it/s]/home/scai/phd/aiz218326/anaconda3/envs/crystal-llm/lib/python3.10/site-packages/pymatgen/io/cif.py:1287: UserWarning: Issues encountered while parsing CIF: 24 fractional coordinates rounded to ideal values to avoid issues with finite precision.\n",
      "  warnings.warn(\"Issues encountered while parsing CIF: \" + \"\\n\".join(self.warnings))\n",
      " 13%|██████████▏                                                                    | 1172/9046 [02:15<18:18,  7.17it/s]/home/scai/phd/aiz218326/anaconda3/envs/crystal-llm/lib/python3.10/site-packages/pymatgen/io/cif.py:1287: UserWarning: Issues encountered while parsing CIF: 2 fractional coordinates rounded to ideal values to avoid issues with finite precision.\n",
      "  warnings.warn(\"Issues encountered while parsing CIF: \" + \"\\n\".join(self.warnings))\n",
      " 13%|██████████▍                                                                    | 1200/9046 [02:15<08:42, 15.01it/s]/home/scai/phd/aiz218326/anaconda3/envs/crystal-llm/lib/python3.10/site-packages/pymatgen/io/cif.py:1287: UserWarning: Issues encountered while parsing CIF: 1 fractional coordinates rounded to ideal values to avoid issues with finite precision.\n",
      "  warnings.warn(\"Issues encountered while parsing CIF: \" + \"\\n\".join(self.warnings))\n",
      "/home/scai/phd/aiz218326/anaconda3/envs/crystal-llm/lib/python3.10/site-packages/pymatgen/io/cif.py:1287: UserWarning: Issues encountered while parsing CIF: 8 fractional coordinates rounded to ideal values to avoid issues with finite precision.\n",
      "  warnings.warn(\"Issues encountered while parsing CIF: \" + \"\\n\".join(self.warnings))\n",
      "/home/scai/phd/aiz218326/anaconda3/envs/crystal-llm/lib/python3.10/site-packages/pymatgen/io/cif.py:1287: UserWarning: Issues encountered while parsing CIF: 6 fractional coordinates rounded to ideal values to avoid issues with finite precision.\n",
      "  warnings.warn(\"Issues encountered while parsing CIF: \" + \"\\n\".join(self.warnings))\n",
      " 13%|██████████▌                                                                    | 1207/9046 [02:20<28:18,  4.62it/s]/home/scai/phd/aiz218326/anaconda3/envs/crystal-llm/lib/python3.10/site-packages/pymatgen/io/cif.py:1287: UserWarning: Issues encountered while parsing CIF: 8 fractional coordinates rounded to ideal values to avoid issues with finite precision.\n",
      "  warnings.warn(\"Issues encountered while parsing CIF: \" + \"\\n\".join(self.warnings))\n",
      "/home/scai/phd/aiz218326/anaconda3/envs/crystal-llm/lib/python3.10/site-packages/pymatgen/io/cif.py:1287: UserWarning: Issues encountered while parsing CIF: 2 fractional coordinates rounded to ideal values to avoid issues with finite precision.\n",
      "  warnings.warn(\"Issues encountered while parsing CIF: \" + \"\\n\".join(self.warnings))\n",
      "/home/scai/phd/aiz218326/anaconda3/envs/crystal-llm/lib/python3.10/site-packages/pymatgen/io/cif.py:1287: UserWarning: Issues encountered while parsing CIF: 5 fractional coordinates rounded to ideal values to avoid issues with finite precision.\n",
      "  warnings.warn(\"Issues encountered while parsing CIF: \" + \"\\n\".join(self.warnings))\n",
      " 14%|███████████▏                                                                   | 1277/9046 [02:22<07:26, 17.40it/s]/home/scai/phd/aiz218326/anaconda3/envs/crystal-llm/lib/python3.10/site-packages/pymatgen/io/cif.py:1287: UserWarning: Issues encountered while parsing CIF: 1 fractional coordinates rounded to ideal values to avoid issues with finite precision.\n",
      "  warnings.warn(\"Issues encountered while parsing CIF: \" + \"\\n\".join(self.warnings))\n",
      " 14%|███████████▏                                                                   | 1283/9046 [02:23<09:51, 13.13it/s]/home/scai/phd/aiz218326/anaconda3/envs/crystal-llm/lib/python3.10/site-packages/pymatgen/io/cif.py:1287: UserWarning: Issues encountered while parsing CIF: 4 fractional coordinates rounded to ideal values to avoid issues with finite precision.\n",
      "  warnings.warn(\"Issues encountered while parsing CIF: \" + \"\\n\".join(self.warnings))\n",
      " 14%|███████████▎                                                                   | 1299/9046 [02:27<15:16,  8.46it/s]/home/scai/phd/aiz218326/anaconda3/envs/crystal-llm/lib/python3.10/site-packages/pymatgen/io/cif.py:1287: UserWarning: Issues encountered while parsing CIF: 12 fractional coordinates rounded to ideal values to avoid issues with finite precision.\n",
      "  warnings.warn(\"Issues encountered while parsing CIF: \" + \"\\n\".join(self.warnings))\n",
      " 15%|████████████                                                                   | 1379/9046 [02:32<08:29, 15.04it/s]/home/scai/phd/aiz218326/anaconda3/envs/crystal-llm/lib/python3.10/site-packages/pymatgen/io/cif.py:1287: UserWarning: Issues encountered while parsing CIF: 6 fractional coordinates rounded to ideal values to avoid issues with finite precision.\n",
      "  warnings.warn(\"Issues encountered while parsing CIF: \" + \"\\n\".join(self.warnings))\n",
      " 16%|████████████▎                                                                  | 1416/9046 [02:37<11:43, 10.85it/s]/home/scai/phd/aiz218326/anaconda3/envs/crystal-llm/lib/python3.10/site-packages/pymatgen/io/cif.py:1287: UserWarning: Issues encountered while parsing CIF: 8 fractional coordinates rounded to ideal values to avoid issues with finite precision.\n",
      "  warnings.warn(\"Issues encountered while parsing CIF: \" + \"\\n\".join(self.warnings))\n",
      " 16%|████████████▍                                                                  | 1418/9046 [02:39<18:51,  6.74it/s]/home/scai/phd/aiz218326/anaconda3/envs/crystal-llm/lib/python3.10/site-packages/pymatgen/io/cif.py:1287: UserWarning: Issues encountered while parsing CIF: 12 fractional coordinates rounded to ideal values to avoid issues with finite precision.\n",
      "  warnings.warn(\"Issues encountered while parsing CIF: \" + \"\\n\".join(self.warnings))\n",
      " 16%|████████████▊                                                                  | 1463/9046 [02:41<09:31, 13.27it/s]/home/scai/phd/aiz218326/anaconda3/envs/crystal-llm/lib/python3.10/site-packages/pymatgen/io/cif.py:1287: UserWarning: Issues encountered while parsing CIF: 10 fractional coordinates rounded to ideal values to avoid issues with finite precision.\n",
      "  warnings.warn(\"Issues encountered while parsing CIF: \" + \"\\n\".join(self.warnings))\n",
      "/home/scai/phd/aiz218326/anaconda3/envs/crystal-llm/lib/python3.10/site-packages/pymatgen/io/cif.py:1287: UserWarning: Issues encountered while parsing CIF: 2 fractional coordinates rounded to ideal values to avoid issues with finite precision.\n",
      "  warnings.warn(\"Issues encountered while parsing CIF: \" + \"\\n\".join(self.warnings))\n",
      " 17%|█████████████                                                                  | 1501/9046 [02:43<07:27, 16.84it/s]/home/scai/phd/aiz218326/anaconda3/envs/crystal-llm/lib/python3.10/site-packages/pymatgen/io/cif.py:1287: UserWarning: Issues encountered while parsing CIF: 12 fractional coordinates rounded to ideal values to avoid issues with finite precision.\n",
      "  warnings.warn(\"Issues encountered while parsing CIF: \" + \"\\n\".join(self.warnings))\n",
      " 17%|█████████████▊                                                                 | 1580/9046 [02:52<10:15, 12.13it/s]/home/scai/phd/aiz218326/anaconda3/envs/crystal-llm/lib/python3.10/site-packages/pymatgen/io/cif.py:1287: UserWarning: Issues encountered while parsing CIF: 6 fractional coordinates rounded to ideal values to avoid issues with finite precision.\n",
      "  warnings.warn(\"Issues encountered while parsing CIF: \" + \"\\n\".join(self.warnings))\n",
      "/home/scai/phd/aiz218326/anaconda3/envs/crystal-llm/lib/python3.10/site-packages/pymatgen/io/cif.py:1287: UserWarning: Issues encountered while parsing CIF: 12 fractional coordinates rounded to ideal values to avoid issues with finite precision.\n",
      "  warnings.warn(\"Issues encountered while parsing CIF: \" + \"\\n\".join(self.warnings))\n",
      " 18%|██████████████                                                                 | 1608/9046 [02:57<12:53,  9.61it/s]/home/scai/phd/aiz218326/anaconda3/envs/crystal-llm/lib/python3.10/site-packages/pymatgen/io/cif.py:1287: UserWarning: Issues encountered while parsing CIF: 12 fractional coordinates rounded to ideal values to avoid issues with finite precision.\n",
      "  warnings.warn(\"Issues encountered while parsing CIF: \" + \"\\n\".join(self.warnings))\n",
      " 18%|██████████████▏                                                                | 1631/9046 [02:59<12:15, 10.08it/s]/home/scai/phd/aiz218326/anaconda3/envs/crystal-llm/lib/python3.10/site-packages/pymatgen/io/cif.py:1287: UserWarning: Issues encountered while parsing CIF: 24 fractional coordinates rounded to ideal values to avoid issues with finite precision.\n",
      "  warnings.warn(\"Issues encountered while parsing CIF: \" + \"\\n\".join(self.warnings))\n",
      " 19%|███████████████                                                                | 1727/9046 [03:09<09:54, 12.30it/s]/home/scai/phd/aiz218326/anaconda3/envs/crystal-llm/lib/python3.10/site-packages/pymatgen/io/cif.py:1287: UserWarning: Issues encountered while parsing CIF: 8 fractional coordinates rounded to ideal values to avoid issues with finite precision.\n",
      "  warnings.warn(\"Issues encountered while parsing CIF: \" + \"\\n\".join(self.warnings))\n",
      " 20%|███████████████▍                                                               | 1771/9046 [03:14<10:48, 11.22it/s]/home/scai/phd/aiz218326/anaconda3/envs/crystal-llm/lib/python3.10/site-packages/pymatgen/io/cif.py:1287: UserWarning: Issues encountered while parsing CIF: 2 fractional coordinates rounded to ideal values to avoid issues with finite precision.\n",
      "  warnings.warn(\"Issues encountered while parsing CIF: \" + \"\\n\".join(self.warnings))\n",
      " 20%|████████████████                                                               | 1836/9046 [03:19<08:29, 14.15it/s]/home/scai/phd/aiz218326/anaconda3/envs/crystal-llm/lib/python3.10/site-packages/pymatgen/io/cif.py:1287: UserWarning: Issues encountered while parsing CIF: 8 fractional coordinates rounded to ideal values to avoid issues with finite precision.\n",
      "  warnings.warn(\"Issues encountered while parsing CIF: \" + \"\\n\".join(self.warnings))\n",
      " 21%|████████████████▍                                                              | 1884/9046 [03:25<11:06, 10.74it/s]/home/scai/phd/aiz218326/anaconda3/envs/crystal-llm/lib/python3.10/site-packages/pymatgen/io/cif.py:1287: UserWarning: Issues encountered while parsing CIF: 1 fractional coordinates rounded to ideal values to avoid issues with finite precision.\n",
      "  warnings.warn(\"Issues encountered while parsing CIF: \" + \"\\n\".join(self.warnings))\n",
      " 21%|████████████████▊                                                              | 1927/9046 [03:28<08:37, 13.77it/s]/home/scai/phd/aiz218326/anaconda3/envs/crystal-llm/lib/python3.10/site-packages/pymatgen/io/cif.py:1287: UserWarning: Issues encountered while parsing CIF: 5 fractional coordinates rounded to ideal values to avoid issues with finite precision.\n",
      "  warnings.warn(\"Issues encountered while parsing CIF: \" + \"\\n\".join(self.warnings))\n",
      " 21%|████████████████▉                                                              | 1934/9046 [03:31<15:02,  7.88it/s]/home/scai/phd/aiz218326/anaconda3/envs/crystal-llm/lib/python3.10/site-packages/pymatgen/io/cif.py:1287: UserWarning: Issues encountered while parsing CIF: 6 fractional coordinates rounded to ideal values to avoid issues with finite precision.\n",
      "  warnings.warn(\"Issues encountered while parsing CIF: \" + \"\\n\".join(self.warnings))\n",
      " 22%|█████████████████▌                                                             | 2016/9046 [03:37<09:19, 12.57it/s]/home/scai/phd/aiz218326/anaconda3/envs/crystal-llm/lib/python3.10/site-packages/pymatgen/io/cif.py:1287: UserWarning: Issues encountered while parsing CIF: 24 fractional coordinates rounded to ideal values to avoid issues with finite precision.\n",
      "  warnings.warn(\"Issues encountered while parsing CIF: \" + \"\\n\".join(self.warnings))\n",
      "/home/scai/phd/aiz218326/anaconda3/envs/crystal-llm/lib/python3.10/site-packages/pymatgen/io/cif.py:1287: UserWarning: Issues encountered while parsing CIF: 12 fractional coordinates rounded to ideal values to avoid issues with finite precision.\n",
      "  warnings.warn(\"Issues encountered while parsing CIF: \" + \"\\n\".join(self.warnings))\n",
      "/home/scai/phd/aiz218326/anaconda3/envs/crystal-llm/lib/python3.10/site-packages/pymatgen/io/cif.py:1287: UserWarning: Issues encountered while parsing CIF: 8 fractional coordinates rounded to ideal values to avoid issues with finite precision.\n",
      "  warnings.warn(\"Issues encountered while parsing CIF: \" + \"\\n\".join(self.warnings))\n",
      "/home/scai/phd/aiz218326/anaconda3/envs/crystal-llm/lib/python3.10/site-packages/pymatgen/io/cif.py:1287: UserWarning: Issues encountered while parsing CIF: 24 fractional coordinates rounded to ideal values to avoid issues with finite precision.\n",
      "  warnings.warn(\"Issues encountered while parsing CIF: \" + \"\\n\".join(self.warnings))\n",
      " 24%|██████████████████▊                                                            | 2150/9046 [03:53<15:12,  7.56it/s]/home/scai/phd/aiz218326/anaconda3/envs/crystal-llm/lib/python3.10/site-packages/pymatgen/io/cif.py:1287: UserWarning: Issues encountered while parsing CIF: 6 fractional coordinates rounded to ideal values to avoid issues with finite precision.\n",
      "  warnings.warn(\"Issues encountered while parsing CIF: \" + \"\\n\".join(self.warnings))\n",
      " 24%|██████████████████▊                                                            | 2154/9046 [03:54<15:39,  7.34it/s]/home/scai/phd/aiz218326/anaconda3/envs/crystal-llm/lib/python3.10/site-packages/pymatgen/io/cif.py:1287: UserWarning: Issues encountered while parsing CIF: 6 fractional coordinates rounded to ideal values to avoid issues with finite precision.\n",
      "  warnings.warn(\"Issues encountered while parsing CIF: \" + \"\\n\".join(self.warnings))\n",
      " 25%|███████████████████▉                                                           | 2289/9046 [04:08<18:50,  5.98it/s]/home/scai/phd/aiz218326/anaconda3/envs/crystal-llm/lib/python3.10/site-packages/pymatgen/core/periodic_table.py:289: UserWarning: No Pauling electronegativity for Ar. Setting to NaN. This has no physical meaning, and is mainly done to avoid errors caused by the code expecting a float.\n",
      "  warnings.warn(\n",
      " 26%|████████████████████▎                                                          | 2328/9046 [04:12<14:40,  7.63it/s]/home/scai/phd/aiz218326/anaconda3/envs/crystal-llm/lib/python3.10/site-packages/pymatgen/io/cif.py:1287: UserWarning: Issues encountered while parsing CIF: 24 fractional coordinates rounded to ideal values to avoid issues with finite precision.\n",
      "  warnings.warn(\"Issues encountered while parsing CIF: \" + \"\\n\".join(self.warnings))\n",
      "/home/scai/phd/aiz218326/anaconda3/envs/crystal-llm/lib/python3.10/site-packages/pymatgen/io/cif.py:1287: UserWarning: Issues encountered while parsing CIF: 16 fractional coordinates rounded to ideal values to avoid issues with finite precision.\n",
      "  warnings.warn(\"Issues encountered while parsing CIF: \" + \"\\n\".join(self.warnings))\n",
      " 26%|████████████████████▋                                                          | 2373/9046 [04:16<10:01, 11.09it/s]/home/scai/phd/aiz218326/anaconda3/envs/crystal-llm/lib/python3.10/site-packages/pymatgen/io/cif.py:1287: UserWarning: Issues encountered while parsing CIF: 6 fractional coordinates rounded to ideal values to avoid issues with finite precision.\n",
      "  warnings.warn(\"Issues encountered while parsing CIF: \" + \"\\n\".join(self.warnings))\n",
      " 26%|████████████████████▊                                                          | 2377/9046 [04:17<11:54,  9.33it/s]/home/scai/phd/aiz218326/anaconda3/envs/crystal-llm/lib/python3.10/site-packages/pymatgen/io/cif.py:1287: UserWarning: Issues encountered while parsing CIF: 2 fractional coordinates rounded to ideal values to avoid issues with finite precision.\n",
      "  warnings.warn(\"Issues encountered while parsing CIF: \" + \"\\n\".join(self.warnings))\n",
      " 28%|█████████████████████▊                                                         | 2501/9046 [04:30<11:06,  9.82it/s]/home/scai/phd/aiz218326/anaconda3/envs/crystal-llm/lib/python3.10/site-packages/pymatgen/io/cif.py:1287: UserWarning: Issues encountered while parsing CIF: 16 fractional coordinates rounded to ideal values to avoid issues with finite precision.\n",
      "  warnings.warn(\"Issues encountered while parsing CIF: \" + \"\\n\".join(self.warnings))\n",
      " 28%|██████████████████████▎                                                        | 2561/9046 [04:37<11:11,  9.65it/s]"
     ]
    },
    {
     "name": "stdout",
     "output_type": "stream",
     "text": [
      "Timer expired\n"
     ]
    },
    {
     "name": "stderr",
     "output_type": "stream",
     "text": [
      " 29%|██████████████████████▌                                                        | 2588/9046 [04:42<13:30,  7.97it/s]/home/scai/phd/aiz218326/anaconda3/envs/crystal-llm/lib/python3.10/site-packages/pymatgen/io/cif.py:1287: UserWarning: Issues encountered while parsing CIF: 12 fractional coordinates rounded to ideal values to avoid issues with finite precision.\n",
      "  warnings.warn(\"Issues encountered while parsing CIF: \" + \"\\n\".join(self.warnings))\n",
      " 30%|███████████████████████▋                                                       | 2709/9046 [04:49<06:42, 15.73it/s]/home/scai/phd/aiz218326/anaconda3/envs/crystal-llm/lib/python3.10/site-packages/pymatgen/io/cif.py:1287: UserWarning: Issues encountered while parsing CIF: 12 fractional coordinates rounded to ideal values to avoid issues with finite precision.\n",
      "  warnings.warn(\"Issues encountered while parsing CIF: \" + \"\\n\".join(self.warnings))\n",
      " 30%|███████████████████████▊                                                       | 2722/9046 [04:51<07:39, 13.76it/s]/home/scai/phd/aiz218326/anaconda3/envs/crystal-llm/lib/python3.10/site-packages/pymatgen/io/cif.py:1287: UserWarning: Issues encountered while parsing CIF: 16 fractional coordinates rounded to ideal values to avoid issues with finite precision.\n",
      "  warnings.warn(\"Issues encountered while parsing CIF: \" + \"\\n\".join(self.warnings))\n",
      " 32%|█████████████████████████                                                      | 2865/9046 [05:06<07:35, 13.57it/s]/home/scai/phd/aiz218326/anaconda3/envs/crystal-llm/lib/python3.10/site-packages/pymatgen/io/cif.py:1287: UserWarning: Issues encountered while parsing CIF: 6 fractional coordinates rounded to ideal values to avoid issues with finite precision.\n",
      "  warnings.warn(\"Issues encountered while parsing CIF: \" + \"\\n\".join(self.warnings))\n"
     ]
    },
    {
     "name": "stdout",
     "output_type": "stream",
     "text": [
      "Timer expired\n"
     ]
    },
    {
     "name": "stderr",
     "output_type": "stream",
     "text": [
      " 32%|█████████████████████████                                                      | 2871/9046 [05:10<17:30,  5.88it/s]/home/scai/phd/aiz218326/anaconda3/envs/crystal-llm/lib/python3.10/site-packages/pymatgen/io/cif.py:1287: UserWarning: Issues encountered while parsing CIF: 24 fractional coordinates rounded to ideal values to avoid issues with finite precision.\n",
      "  warnings.warn(\"Issues encountered while parsing CIF: \" + \"\\n\".join(self.warnings))\n",
      " 33%|█████████████████████████▋                                                     | 2946/9046 [05:15<07:53, 12.89it/s]"
     ]
    },
    {
     "name": "stdout",
     "output_type": "stream",
     "text": [
      "Timer expired\n"
     ]
    },
    {
     "name": "stderr",
     "output_type": "stream",
     "text": [
      " 33%|█████████████████████████▉                                                     | 2966/9046 [05:18<09:54, 10.23it/s]"
     ]
    },
    {
     "name": "stdout",
     "output_type": "stream",
     "text": [
      "Timer expired\n"
     ]
    },
    {
     "name": "stderr",
     "output_type": "stream",
     "text": [
      " 34%|███████████████████████████▏                                                   | 3120/9046 [05:31<08:02, 12.28it/s]/home/scai/phd/aiz218326/anaconda3/envs/crystal-llm/lib/python3.10/site-packages/pymatgen/io/cif.py:1287: UserWarning: Issues encountered while parsing CIF: 2 fractional coordinates rounded to ideal values to avoid issues with finite precision.\n",
      "  warnings.warn(\"Issues encountered while parsing CIF: \" + \"\\n\".join(self.warnings))\n",
      " 35%|███████████████████████████▌                                                   | 3150/9046 [05:39<20:19,  4.84it/s]/home/scai/phd/aiz218326/anaconda3/envs/crystal-llm/lib/python3.10/site-packages/pymatgen/io/cif.py:1287: UserWarning: Issues encountered while parsing CIF: 8 fractional coordinates rounded to ideal values to avoid issues with finite precision.\n",
      "  warnings.warn(\"Issues encountered while parsing CIF: \" + \"\\n\".join(self.warnings))\n",
      " 35%|███████████████████████████▉                                                   | 3196/9046 [05:41<09:20, 10.43it/s]/home/scai/phd/aiz218326/anaconda3/envs/crystal-llm/lib/python3.10/site-packages/pymatgen/io/cif.py:1287: UserWarning: Issues encountered while parsing CIF: 6 fractional coordinates rounded to ideal values to avoid issues with finite precision.\n",
      "  warnings.warn(\"Issues encountered while parsing CIF: \" + \"\\n\".join(self.warnings))\n",
      "/home/scai/phd/aiz218326/anaconda3/envs/crystal-llm/lib/python3.10/site-packages/pymatgen/io/cif.py:1287: UserWarning: Issues encountered while parsing CIF: 10 fractional coordinates rounded to ideal values to avoid issues with finite precision.\n",
      "  warnings.warn(\"Issues encountered while parsing CIF: \" + \"\\n\".join(self.warnings))\n",
      " 36%|████████████████████████████▌                                                  | 3271/9046 [05:47<07:10, 13.42it/s]/home/scai/phd/aiz218326/anaconda3/envs/crystal-llm/lib/python3.10/site-packages/pymatgen/io/cif.py:1287: UserWarning: Issues encountered while parsing CIF: 2 fractional coordinates rounded to ideal values to avoid issues with finite precision.\n",
      "  warnings.warn(\"Issues encountered while parsing CIF: \" + \"\\n\".join(self.warnings))\n",
      " 36%|████████████████████████████▋                                                  | 3286/9046 [05:49<08:20, 11.51it/s]/home/scai/phd/aiz218326/anaconda3/envs/crystal-llm/lib/python3.10/site-packages/pymatgen/io/cif.py:1287: UserWarning: Issues encountered while parsing CIF: 20 fractional coordinates rounded to ideal values to avoid issues with finite precision.\n",
      "  warnings.warn(\"Issues encountered while parsing CIF: \" + \"\\n\".join(self.warnings))\n",
      "/home/scai/phd/aiz218326/anaconda3/envs/crystal-llm/lib/python3.10/site-packages/pymatgen/io/cif.py:1287: UserWarning: Issues encountered while parsing CIF: 6 fractional coordinates rounded to ideal values to avoid issues with finite precision.\n",
      "  warnings.warn(\"Issues encountered while parsing CIF: \" + \"\\n\".join(self.warnings))\n",
      " 37%|█████████████████████████████▏                                                 | 3345/9046 [05:56<09:04, 10.48it/s]"
     ]
    },
    {
     "name": "stdout",
     "output_type": "stream",
     "text": [
      "Timer expired\n"
     ]
    },
    {
     "name": "stderr",
     "output_type": "stream",
     "text": [
      " 37%|█████████████████████████████▎                                                 | 3358/9046 [05:59<11:52,  7.98it/s]/home/scai/phd/aiz218326/anaconda3/envs/crystal-llm/lib/python3.10/site-packages/pymatgen/io/cif.py:1287: UserWarning: Issues encountered while parsing CIF: 9 fractional coordinates rounded to ideal values to avoid issues with finite precision.\n",
      "  warnings.warn(\"Issues encountered while parsing CIF: \" + \"\\n\".join(self.warnings))\n"
     ]
    },
    {
     "name": "stdout",
     "output_type": "stream",
     "text": [
      "Timer expired\n"
     ]
    },
    {
     "name": "stderr",
     "output_type": "stream",
     "text": [
      " 37%|█████████████████████████████▍                                                 | 3367/9046 [06:03<16:41,  5.67it/s]"
     ]
    },
    {
     "name": "stdout",
     "output_type": "stream",
     "text": [
      "Timer expired\n"
     ]
    },
    {
     "name": "stderr",
     "output_type": "stream",
     "text": [
      " 38%|█████████████████████████████▉                                                 | 3433/9046 [06:04<06:26, 14.53it/s]"
     ]
    },
    {
     "name": "stdout",
     "output_type": "stream",
     "text": [
      "Timer expired\n"
     ]
    },
    {
     "name": "stderr",
     "output_type": "stream",
     "text": [
      " 38%|██████████████████████████████▎                                                | 3468/9046 [06:11<12:20,  7.53it/s]/home/scai/phd/aiz218326/anaconda3/envs/crystal-llm/lib/python3.10/site-packages/pymatgen/io/cif.py:1287: UserWarning: Issues encountered while parsing CIF: 18 fractional coordinates rounded to ideal values to avoid issues with finite precision.\n",
      "  warnings.warn(\"Issues encountered while parsing CIF: \" + \"\\n\".join(self.warnings))\n"
     ]
    },
    {
     "name": "stdout",
     "output_type": "stream",
     "text": [
      "Timer expired\n"
     ]
    },
    {
     "name": "stderr",
     "output_type": "stream",
     "text": [
      " 39%|██████████████████████████████▌                                                | 3500/9046 [06:17<15:12,  6.07it/s]/home/scai/phd/aiz218326/anaconda3/envs/crystal-llm/lib/python3.10/site-packages/pymatgen/io/cif.py:1287: UserWarning: Issues encountered while parsing CIF: 12 fractional coordinates rounded to ideal values to avoid issues with finite precision.\n",
      "  warnings.warn(\"Issues encountered while parsing CIF: \" + \"\\n\".join(self.warnings))\n"
     ]
    },
    {
     "name": "stdout",
     "output_type": "stream",
     "text": [
      "Timer expired\n"
     ]
    },
    {
     "name": "stderr",
     "output_type": "stream",
     "text": [
      " 39%|██████████████████████████████▊                                                | 3526/9046 [06:17<09:42,  9.48it/s]/home/scai/phd/aiz218326/anaconda3/envs/crystal-llm/lib/python3.10/site-packages/pymatgen/io/cif.py:1287: UserWarning: Issues encountered while parsing CIF: 16 fractional coordinates rounded to ideal values to avoid issues with finite precision.\n",
      "  warnings.warn(\"Issues encountered while parsing CIF: \" + \"\\n\".join(self.warnings))\n"
     ]
    },
    {
     "name": "stdout",
     "output_type": "stream",
     "text": [
      "Timer expired\n"
     ]
    },
    {
     "name": "stderr",
     "output_type": "stream",
     "text": [
      " 39%|██████████████████████████████▉                                                | 3544/9046 [06:21<11:44,  7.81it/s]"
     ]
    },
    {
     "name": "stdout",
     "output_type": "stream",
     "text": [
      "Timer expired\n",
      "Timer expired\n"
     ]
    },
    {
     "name": "stderr",
     "output_type": "stream",
     "text": [
      " 39%|██████████████████████████████▉                                                | 3546/9046 [06:24<19:42,  4.65it/s]"
     ]
    },
    {
     "name": "stdout",
     "output_type": "stream",
     "text": [
      "Timer expired\n"
     ]
    },
    {
     "name": "stderr",
     "output_type": "stream",
     "text": [
      " 40%|███████████████████████████████▊                                               | 3640/9046 [06:30<08:10, 11.02it/s]/home/scai/phd/aiz218326/anaconda3/envs/crystal-llm/lib/python3.10/site-packages/pymatgen/io/cif.py:1287: UserWarning: Issues encountered while parsing CIF: 2 fractional coordinates rounded to ideal values to avoid issues with finite precision.\n",
      "  warnings.warn(\"Issues encountered while parsing CIF: \" + \"\\n\".join(self.warnings))\n",
      " 41%|████████████████████████████████▏                                              | 3680/9046 [06:32<06:28, 13.82it/s]/home/scai/phd/aiz218326/anaconda3/envs/crystal-llm/lib/python3.10/site-packages/pymatgen/io/cif.py:1287: UserWarning: Issues encountered while parsing CIF: 10 fractional coordinates rounded to ideal values to avoid issues with finite precision.\n",
      "  warnings.warn(\"Issues encountered while parsing CIF: \" + \"\\n\".join(self.warnings))\n"
     ]
    },
    {
     "name": "stdout",
     "output_type": "stream",
     "text": [
      "Timer expired\n"
     ]
    },
    {
     "name": "stderr",
     "output_type": "stream",
     "text": [
      " 41%|████████████████████████████████▏                                              | 3687/9046 [06:40<14:23,  6.21it/s]"
     ]
    },
    {
     "name": "stdout",
     "output_type": "stream",
     "text": [
      "Timer expired\n"
     ]
    },
    {
     "name": "stderr",
     "output_type": "stream",
     "text": [
      "/home/scai/phd/aiz218326/anaconda3/envs/crystal-llm/lib/python3.10/site-packages/pymatgen/io/cif.py:1287: UserWarning: Issues encountered while parsing CIF: 1 fractional coordinates rounded to ideal values to avoid issues with finite precision.\n",
      "  warnings.warn(\"Issues encountered while parsing CIF: \" + \"\\n\".join(self.warnings))\n",
      " 42%|████████████████████████████████▉                                              | 3778/9046 [06:41<05:39, 15.50it/s]/home/scai/phd/aiz218326/anaconda3/envs/crystal-llm/lib/python3.10/site-packages/pymatgen/io/cif.py:1287: UserWarning: Issues encountered while parsing CIF: 24 fractional coordinates rounded to ideal values to avoid issues with finite precision.\n",
      "  warnings.warn(\"Issues encountered while parsing CIF: \" + \"\\n\".join(self.warnings))\n",
      "/home/scai/phd/aiz218326/anaconda3/envs/crystal-llm/lib/python3.10/site-packages/pymatgen/io/cif.py:1287: UserWarning: Issues encountered while parsing CIF: 8 fractional coordinates rounded to ideal values to avoid issues with finite precision.\n",
      "  warnings.warn(\"Issues encountered while parsing CIF: \" + \"\\n\".join(self.warnings))\n",
      "/home/scai/phd/aiz218326/anaconda3/envs/crystal-llm/lib/python3.10/site-packages/pymatgen/io/cif.py:1287: UserWarning: Issues encountered while parsing CIF: 24 fractional coordinates rounded to ideal values to avoid issues with finite precision.\n",
      "  warnings.warn(\"Issues encountered while parsing CIF: \" + \"\\n\".join(self.warnings))\n",
      " 42%|█████████████████████████████████▏                                             | 3802/9046 [06:48<11:11,  7.81it/s]/home/scai/phd/aiz218326/anaconda3/envs/crystal-llm/lib/python3.10/site-packages/pymatgen/io/cif.py:1287: UserWarning: Issues encountered while parsing CIF: 12 fractional coordinates rounded to ideal values to avoid issues with finite precision.\n",
      "  warnings.warn(\"Issues encountered while parsing CIF: \" + \"\\n\".join(self.warnings))\n",
      " 42%|█████████████████████████████████▎                                             | 3809/9046 [06:48<10:37,  8.21it/s]/home/scai/phd/aiz218326/anaconda3/envs/crystal-llm/lib/python3.10/site-packages/pymatgen/io/cif.py:1287: UserWarning: Issues encountered while parsing CIF: 20 fractional coordinates rounded to ideal values to avoid issues with finite precision.\n",
      "  warnings.warn(\"Issues encountered while parsing CIF: \" + \"\\n\".join(self.warnings))\n",
      " 42%|█████████████████████████████████▎                                             | 3820/9046 [06:51<13:47,  6.31it/s]"
     ]
    },
    {
     "name": "stdout",
     "output_type": "stream",
     "text": [
      "Timer expired\n"
     ]
    },
    {
     "name": "stderr",
     "output_type": "stream",
     "text": [
      " 42%|█████████████████████████████████▍                                             | 3824/9046 [06:51<13:46,  6.32it/s]"
     ]
    },
    {
     "name": "stdout",
     "output_type": "stream",
     "text": [
      "Timer expired\n"
     ]
    },
    {
     "name": "stderr",
     "output_type": "stream",
     "text": [
      " 42%|█████████████████████████████████▍                                             | 3835/9046 [06:55<20:20,  4.27it/s]"
     ]
    },
    {
     "name": "stdout",
     "output_type": "stream",
     "text": [
      "Timer expired\n"
     ]
    },
    {
     "name": "stderr",
     "output_type": "stream",
     "text": [
      " 43%|█████████████████████████████████▉                                             | 3888/9046 [06:59<09:13,  9.32it/s]/home/scai/phd/aiz218326/anaconda3/envs/crystal-llm/lib/python3.10/site-packages/pymatgen/io/cif.py:1287: UserWarning: Issues encountered while parsing CIF: 10 fractional coordinates rounded to ideal values to avoid issues with finite precision.\n",
      "  warnings.warn(\"Issues encountered while parsing CIF: \" + \"\\n\".join(self.warnings))\n"
     ]
    },
    {
     "name": "stdout",
     "output_type": "stream",
     "text": [
      "Timer expired\n"
     ]
    },
    {
     "name": "stderr",
     "output_type": "stream",
     "text": [
      " 43%|██████████████████████████████████▎                                            | 3931/9046 [07:06<11:37,  7.34it/s]"
     ]
    },
    {
     "name": "stdout",
     "output_type": "stream",
     "text": [
      "Timer expired\n"
     ]
    },
    {
     "name": "stderr",
     "output_type": "stream",
     "text": [
      " 44%|██████████████████████████████████▌                                            | 3955/9046 [07:07<08:45,  9.69it/s]"
     ]
    },
    {
     "name": "stdout",
     "output_type": "stream",
     "text": [
      "Timer expired\n"
     ]
    },
    {
     "name": "stderr",
     "output_type": "stream",
     "text": [
      " 44%|██████████████████████████████████▊                                            | 3985/9046 [07:09<07:05, 11.89it/s]"
     ]
    },
    {
     "name": "stdout",
     "output_type": "stream",
     "text": [
      "Timer expired\n"
     ]
    },
    {
     "name": "stderr",
     "output_type": "stream",
     "text": [
      " 44%|██████████████████████████████████▉                                            | 3997/9046 [07:11<08:30,  9.90it/s]"
     ]
    },
    {
     "name": "stdout",
     "output_type": "stream",
     "text": [
      "Timer expired\n"
     ]
    },
    {
     "name": "stderr",
     "output_type": "stream",
     "text": [
      " 44%|██████████████████████████████████▉                                            | 4006/9046 [07:13<10:02,  8.37it/s]"
     ]
    },
    {
     "name": "stdout",
     "output_type": "stream",
     "text": [
      "Timer expired\n"
     ]
    },
    {
     "name": "stderr",
     "output_type": "stream",
     "text": [
      " 45%|███████████████████████████████████▏                                           | 4029/9046 [07:14<08:01, 10.41it/s]"
     ]
    },
    {
     "name": "stdout",
     "output_type": "stream",
     "text": [
      "Timer expired\n",
      "Timer expired"
     ]
    },
    {
     "name": "stderr",
     "output_type": "stream",
     "text": [
      " 45%|███████████████████████████████████▍                                           | 4054/9046 [07:15<06:40, 12.46it/s]"
     ]
    },
    {
     "name": "stdout",
     "output_type": "stream",
     "text": [
      "\n"
     ]
    },
    {
     "name": "stderr",
     "output_type": "stream",
     "text": [
      "/home/scai/phd/aiz218326/anaconda3/envs/crystal-llm/lib/python3.10/site-packages/pymatgen/io/cif.py:1287: UserWarning: Issues encountered while parsing CIF: 3 fractional coordinates rounded to ideal values to avoid issues with finite precision.\n",
      "  warnings.warn(\"Issues encountered while parsing CIF: \" + \"\\n\".join(self.warnings))\n",
      " 45%|███████████████████████████████████▋                                           | 4093/9046 [07:18<05:41, 14.52it/s]"
     ]
    },
    {
     "name": "stdout",
     "output_type": "stream",
     "text": [
      "Timer expired\n"
     ]
    },
    {
     "name": "stderr",
     "output_type": "stream",
     "text": [
      " 45%|███████████████████████████████████▊                                           | 4095/9046 [07:19<07:38, 10.79it/s]/home/scai/phd/aiz218326/anaconda3/envs/crystal-llm/lib/python3.10/site-packages/pymatgen/io/cif.py:1287: UserWarning: Issues encountered while parsing CIF: 3 fractional coordinates rounded to ideal values to avoid issues with finite precision.\n",
      "  warnings.warn(\"Issues encountered while parsing CIF: \" + \"\\n\".join(self.warnings))\n",
      " 46%|███████████████████████████████████▉                                           | 4116/9046 [07:23<11:41,  7.03it/s]"
     ]
    },
    {
     "name": "stdout",
     "output_type": "stream",
     "text": [
      "Timer expired\n"
     ]
    },
    {
     "name": "stderr",
     "output_type": "stream",
     "text": [
      " 46%|████████████████████████████████████                                           | 4127/9046 [07:27<16:50,  4.87it/s]/home/scai/phd/aiz218326/anaconda3/envs/crystal-llm/lib/python3.10/site-packages/pymatgen/io/cif.py:1287: UserWarning: Issues encountered while parsing CIF: 1 fractional coordinates rounded to ideal values to avoid issues with finite precision.\n",
      "  warnings.warn(\"Issues encountered while parsing CIF: \" + \"\\n\".join(self.warnings))\n"
     ]
    },
    {
     "name": "stdout",
     "output_type": "stream",
     "text": [
      "Timer expired\n"
     ]
    },
    {
     "name": "stderr",
     "output_type": "stream",
     "text": [
      " 46%|████████████████████████████████████▌                                          | 4193/9046 [07:35<11:33,  7.00it/s]/home/scai/phd/aiz218326/anaconda3/envs/crystal-llm/lib/python3.10/site-packages/pymatgen/io/cif.py:1287: UserWarning: Issues encountered while parsing CIF: 2 fractional coordinates rounded to ideal values to avoid issues with finite precision.\n",
      "  warnings.warn(\"Issues encountered while parsing CIF: \" + \"\\n\".join(self.warnings))\n",
      " 47%|████████████████████████████████████▊                                          | 4219/9046 [07:36<08:53,  9.05it/s]/home/scai/phd/aiz218326/anaconda3/envs/crystal-llm/lib/python3.10/site-packages/pymatgen/io/cif.py:1287: UserWarning: Issues encountered while parsing CIF: 10 fractional coordinates rounded to ideal values to avoid issues with finite precision.\n",
      "  warnings.warn(\"Issues encountered while parsing CIF: \" + \"\\n\".join(self.warnings))\n",
      " 47%|████████████████████████████████████▉                                          | 4227/9046 [07:37<09:54,  8.11it/s]"
     ]
    },
    {
     "name": "stdout",
     "output_type": "stream",
     "text": [
      "Timer expired\n"
     ]
    },
    {
     "name": "stderr",
     "output_type": "stream",
     "text": [
      " 48%|██████████████████████████████████████▎                                        | 4380/9046 [07:52<07:42, 10.08it/s]/home/scai/phd/aiz218326/anaconda3/envs/crystal-llm/lib/python3.10/site-packages/pymatgen/io/cif.py:1287: UserWarning: Issues encountered while parsing CIF: 1 fractional coordinates rounded to ideal values to avoid issues with finite precision.\n",
      "  warnings.warn(\"Issues encountered while parsing CIF: \" + \"\\n\".join(self.warnings))\n",
      " 49%|██████████████████████████████████████▋                                        | 4428/9046 [07:55<06:12, 12.41it/s]/home/scai/phd/aiz218326/anaconda3/envs/crystal-llm/lib/python3.10/site-packages/pymatgen/io/cif.py:1287: UserWarning: Issues encountered while parsing CIF: 6 fractional coordinates rounded to ideal values to avoid issues with finite precision.\n",
      "  warnings.warn(\"Issues encountered while parsing CIF: \" + \"\\n\".join(self.warnings))\n",
      " 49%|██████████████████████████████████████▊                                        | 4446/9046 [07:56<06:10, 12.43it/s]/home/scai/phd/aiz218326/anaconda3/envs/crystal-llm/lib/python3.10/site-packages/pymatgen/io/cif.py:1287: UserWarning: Issues encountered while parsing CIF: 24 fractional coordinates rounded to ideal values to avoid issues with finite precision.\n",
      "  warnings.warn(\"Issues encountered while parsing CIF: \" + \"\\n\".join(self.warnings))\n",
      " 51%|████████████████████████████████████████                                       | 4593/9046 [08:12<05:08, 14.42it/s]/home/scai/phd/aiz218326/anaconda3/envs/crystal-llm/lib/python3.10/site-packages/pymatgen/io/cif.py:1287: UserWarning: Issues encountered while parsing CIF: 1 fractional coordinates rounded to ideal values to avoid issues with finite precision.\n",
      "  warnings.warn(\"Issues encountered while parsing CIF: \" + \"\\n\".join(self.warnings))\n",
      " 52%|████████████████████████████████████████▊                                      | 4668/9046 [08:20<06:19, 11.53it/s]/home/scai/phd/aiz218326/anaconda3/envs/crystal-llm/lib/python3.10/site-packages/pymatgen/io/cif.py:1287: UserWarning: Issues encountered while parsing CIF: 20 fractional coordinates rounded to ideal values to avoid issues with finite precision.\n",
      "  warnings.warn(\"Issues encountered while parsing CIF: \" + \"\\n\".join(self.warnings))\n",
      "/home/scai/phd/aiz218326/anaconda3/envs/crystal-llm/lib/python3.10/site-packages/pymatgen/io/cif.py:1287: UserWarning: Issues encountered while parsing CIF: 24 fractional coordinates rounded to ideal values to avoid issues with finite precision.\n",
      "  warnings.warn(\"Issues encountered while parsing CIF: \" + \"\\n\".join(self.warnings))\n",
      " 54%|██████████████████████████████████████████▌                                    | 4875/9046 [08:41<06:52, 10.11it/s]/home/scai/phd/aiz218326/anaconda3/envs/crystal-llm/lib/python3.10/site-packages/pymatgen/io/cif.py:1287: UserWarning: Issues encountered while parsing CIF: 7 fractional coordinates rounded to ideal values to avoid issues with finite precision.\n",
      "  warnings.warn(\"Issues encountered while parsing CIF: \" + \"\\n\".join(self.warnings))\n",
      " 55%|███████████████████████████████████████████▏                                   | 4948/9046 [08:48<10:06,  6.76it/s]/home/scai/phd/aiz218326/anaconda3/envs/crystal-llm/lib/python3.10/site-packages/pymatgen/io/cif.py:1287: UserWarning: Issues encountered while parsing CIF: 10 fractional coordinates rounded to ideal values to avoid issues with finite precision.\n",
      "  warnings.warn(\"Issues encountered while parsing CIF: \" + \"\\n\".join(self.warnings))\n",
      " 55%|███████████████████████████████████████████▋                                   | 5002/9046 [08:53<05:38, 11.93it/s]/home/scai/phd/aiz218326/anaconda3/envs/crystal-llm/lib/python3.10/site-packages/pymatgen/io/cif.py:1287: UserWarning: Issues encountered while parsing CIF: 16 fractional coordinates rounded to ideal values to avoid issues with finite precision.\n",
      "  warnings.warn(\"Issues encountered while parsing CIF: \" + \"\\n\".join(self.warnings))\n",
      " 55%|███████████████████████████████████████████▋                                   | 5009/9046 [08:57<11:34,  5.81it/s]/home/scai/phd/aiz218326/anaconda3/envs/crystal-llm/lib/python3.10/site-packages/pymatgen/io/cif.py:1287: UserWarning: Issues encountered while parsing CIF: 16 fractional coordinates rounded to ideal values to avoid issues with finite precision.\n",
      "  warnings.warn(\"Issues encountered while parsing CIF: \" + \"\\n\".join(self.warnings))\n",
      " 56%|████████████████████████████████████████████▍                                  | 5084/9046 [09:04<07:39,  8.63it/s]/home/scai/phd/aiz218326/anaconda3/envs/crystal-llm/lib/python3.10/site-packages/pymatgen/io/cif.py:1287: UserWarning: Issues encountered while parsing CIF: 16 fractional coordinates rounded to ideal values to avoid issues with finite precision.\n",
      "  warnings.warn(\"Issues encountered while parsing CIF: \" + \"\\n\".join(self.warnings))\n",
      "/home/scai/phd/aiz218326/anaconda3/envs/crystal-llm/lib/python3.10/site-packages/pymatgen/io/cif.py:1287: UserWarning: Issues encountered while parsing CIF: 12 fractional coordinates rounded to ideal values to avoid issues with finite precision.\n",
      "  warnings.warn(\"Issues encountered while parsing CIF: \" + \"\\n\".join(self.warnings))\n",
      " 56%|████████████████████████████████████████████▌                                  | 5098/9046 [09:05<07:51,  8.38it/s]/home/scai/phd/aiz218326/anaconda3/envs/crystal-llm/lib/python3.10/site-packages/pymatgen/io/cif.py:1287: UserWarning: Issues encountered while parsing CIF: 6 fractional coordinates rounded to ideal values to avoid issues with finite precision.\n",
      "  warnings.warn(\"Issues encountered while parsing CIF: \" + \"\\n\".join(self.warnings))\n",
      " 56%|████████████████████████████████████████████▌                                  | 5101/9046 [09:07<11:11,  5.87it/s]/home/scai/phd/aiz218326/anaconda3/envs/crystal-llm/lib/python3.10/site-packages/pymatgen/io/cif.py:1287: UserWarning: Issues encountered while parsing CIF: 16 fractional coordinates rounded to ideal values to avoid issues with finite precision.\n",
      "  warnings.warn(\"Issues encountered while parsing CIF: \" + \"\\n\".join(self.warnings))\n",
      " 57%|█████████████████████████████████████████████▎                                 | 5189/9046 [09:14<05:05, 12.62it/s]/home/scai/phd/aiz218326/anaconda3/envs/crystal-llm/lib/python3.10/site-packages/pymatgen/io/cif.py:1287: UserWarning: Issues encountered while parsing CIF: 2 fractional coordinates rounded to ideal values to avoid issues with finite precision.\n",
      "  warnings.warn(\"Issues encountered while parsing CIF: \" + \"\\n\".join(self.warnings))\n",
      " 58%|█████████████████████████████████████████████▊                                 | 5244/9046 [09:20<07:20,  8.64it/s]/home/scai/phd/aiz218326/anaconda3/envs/crystal-llm/lib/python3.10/site-packages/pymatgen/io/cif.py:1287: UserWarning: Issues encountered while parsing CIF: 16 fractional coordinates rounded to ideal values to avoid issues with finite precision.\n",
      "  warnings.warn(\"Issues encountered while parsing CIF: \" + \"\\n\".join(self.warnings))\n",
      "/home/scai/phd/aiz218326/anaconda3/envs/crystal-llm/lib/python3.10/site-packages/pymatgen/io/cif.py:1287: UserWarning: Issues encountered while parsing CIF: 12 fractional coordinates rounded to ideal values to avoid issues with finite precision.\n",
      "  warnings.warn(\"Issues encountered while parsing CIF: \" + \"\\n\".join(self.warnings))\n",
      "/home/scai/phd/aiz218326/anaconda3/envs/crystal-llm/lib/python3.10/site-packages/pymatgen/io/cif.py:1287: UserWarning: Issues encountered while parsing CIF: 2 fractional coordinates rounded to ideal values to avoid issues with finite precision.\n",
      "  warnings.warn(\"Issues encountered while parsing CIF: \" + \"\\n\".join(self.warnings))\n",
      "/home/scai/phd/aiz218326/anaconda3/envs/crystal-llm/lib/python3.10/site-packages/pymatgen/io/cif.py:1287: UserWarning: Issues encountered while parsing CIF: 2 fractional coordinates rounded to ideal values to avoid issues with finite precision.\n",
      "  warnings.warn(\"Issues encountered while parsing CIF: \" + \"\\n\".join(self.warnings))\n",
      " 58%|█████████████████████████████████████████████▉                                 | 5259/9046 [09:23<08:49,  7.16it/s]/home/scai/phd/aiz218326/anaconda3/envs/crystal-llm/lib/python3.10/site-packages/pymatgen/io/cif.py:1287: UserWarning: Issues encountered while parsing CIF: 12 fractional coordinates rounded to ideal values to avoid issues with finite precision.\n",
      "  warnings.warn(\"Issues encountered while parsing CIF: \" + \"\\n\".join(self.warnings))\n",
      " 58%|██████████████████████████████████████████████                                 | 5268/9046 [09:24<08:08,  7.74it/s]/home/scai/phd/aiz218326/anaconda3/envs/crystal-llm/lib/python3.10/site-packages/pymatgen/io/cif.py:1287: UserWarning: Issues encountered while parsing CIF: 24 fractional coordinates rounded to ideal values to avoid issues with finite precision.\n",
      "  warnings.warn(\"Issues encountered while parsing CIF: \" + \"\\n\".join(self.warnings))\n",
      " 59%|██████████████████████████████████████████████▌                                | 5330/9046 [09:30<05:27, 11.34it/s]/home/scai/phd/aiz218326/anaconda3/envs/crystal-llm/lib/python3.10/site-packages/pymatgen/io/cif.py:1287: UserWarning: Issues encountered while parsing CIF: 3 fractional coordinates rounded to ideal values to avoid issues with finite precision.\n",
      "  warnings.warn(\"Issues encountered while parsing CIF: \" + \"\\n\".join(self.warnings))\n",
      " 60%|███████████████████████████████████████████████▍                               | 5427/9046 [09:40<05:00, 12.02it/s]/home/scai/phd/aiz218326/anaconda3/envs/crystal-llm/lib/python3.10/site-packages/pymatgen/io/cif.py:1287: UserWarning: Issues encountered while parsing CIF: 20 fractional coordinates rounded to ideal values to avoid issues with finite precision.\n",
      "  warnings.warn(\"Issues encountered while parsing CIF: \" + \"\\n\".join(self.warnings))\n",
      " 60%|███████████████████████████████████████████████▌                               | 5451/9046 [09:42<05:37, 10.65it/s]/home/scai/phd/aiz218326/anaconda3/envs/crystal-llm/lib/python3.10/site-packages/pymatgen/io/cif.py:1287: UserWarning: Issues encountered while parsing CIF: 10 fractional coordinates rounded to ideal values to avoid issues with finite precision.\n",
      "  warnings.warn(\"Issues encountered while parsing CIF: \" + \"\\n\".join(self.warnings))\n",
      " 61%|███████████████████████████████████████████████▉                               | 5486/9046 [09:46<04:54, 12.09it/s]/home/scai/phd/aiz218326/anaconda3/envs/crystal-llm/lib/python3.10/site-packages/pymatgen/io/cif.py:1287: UserWarning: Issues encountered while parsing CIF: 1 fractional coordinates rounded to ideal values to avoid issues with finite precision.\n",
      "  warnings.warn(\"Issues encountered while parsing CIF: \" + \"\\n\".join(self.warnings))\n",
      " 61%|████████████████████████████████████████████████                               | 5502/9046 [09:48<06:13,  9.48it/s]/home/scai/phd/aiz218326/anaconda3/envs/crystal-llm/lib/python3.10/site-packages/pymatgen/io/cif.py:1287: UserWarning: Issues encountered while parsing CIF: 12 fractional coordinates rounded to ideal values to avoid issues with finite precision.\n",
      "  warnings.warn(\"Issues encountered while parsing CIF: \" + \"\\n\".join(self.warnings))\n",
      " 62%|████████████████████████████████████████████████▊                              | 5583/9046 [09:58<05:05, 11.33it/s]/home/scai/phd/aiz218326/anaconda3/envs/crystal-llm/lib/python3.10/site-packages/pymatgen/io/cif.py:1287: UserWarning: Issues encountered while parsing CIF: 16 fractional coordinates rounded to ideal values to avoid issues with finite precision.\n",
      "  warnings.warn(\"Issues encountered while parsing CIF: \" + \"\\n\".join(self.warnings))\n",
      " 62%|████████████████████████████████████████████████▊                              | 5588/9046 [10:00<06:35,  8.74it/s]/home/scai/phd/aiz218326/anaconda3/envs/crystal-llm/lib/python3.10/site-packages/pymatgen/io/cif.py:1287: UserWarning: Issues encountered while parsing CIF: 12 fractional coordinates rounded to ideal values to avoid issues with finite precision.\n",
      "  warnings.warn(\"Issues encountered while parsing CIF: \" + \"\\n\".join(self.warnings))\n",
      " 62%|█████████████████████████████████████████████████▎                             | 5645/9046 [10:03<03:46, 15.01it/s]/home/scai/phd/aiz218326/anaconda3/envs/crystal-llm/lib/python3.10/site-packages/pymatgen/io/cif.py:1287: UserWarning: Issues encountered while parsing CIF: 24 fractional coordinates rounded to ideal values to avoid issues with finite precision.\n",
      "  warnings.warn(\"Issues encountered while parsing CIF: \" + \"\\n\".join(self.warnings))\n",
      " 64%|██████████████████████████████████████████████████▎                            | 5755/9046 [10:14<03:31, 15.55it/s]/home/scai/phd/aiz218326/anaconda3/envs/crystal-llm/lib/python3.10/site-packages/pymatgen/io/cif.py:1287: UserWarning: Issues encountered while parsing CIF: 6 fractional coordinates rounded to ideal values to avoid issues with finite precision.\n",
      "  warnings.warn(\"Issues encountered while parsing CIF: \" + \"\\n\".join(self.warnings))\n",
      " 65%|███████████████████████████████████████████████████▋                           | 5918/9046 [10:33<06:07,  8.52it/s]/home/scai/phd/aiz218326/anaconda3/envs/crystal-llm/lib/python3.10/site-packages/pymatgen/io/cif.py:1287: UserWarning: Issues encountered while parsing CIF: 24 fractional coordinates rounded to ideal values to avoid issues with finite precision.\n",
      "  warnings.warn(\"Issues encountered while parsing CIF: \" + \"\\n\".join(self.warnings))\n",
      " 66%|████████████████████████████████████████████████████▏                          | 5974/9046 [10:38<05:09,  9.92it/s]/home/scai/phd/aiz218326/anaconda3/envs/crystal-llm/lib/python3.10/site-packages/pymatgen/io/cif.py:1287: UserWarning: Issues encountered while parsing CIF: 20 fractional coordinates rounded to ideal values to avoid issues with finite precision.\n",
      "  warnings.warn(\"Issues encountered while parsing CIF: \" + \"\\n\".join(self.warnings))\n",
      " 67%|█████████████████████████████████████████████████████                          | 6083/9046 [10:50<04:50, 10.21it/s]/home/scai/phd/aiz218326/anaconda3/envs/crystal-llm/lib/python3.10/site-packages/pymatgen/io/cif.py:1287: UserWarning: Issues encountered while parsing CIF: 18 fractional coordinates rounded to ideal values to avoid issues with finite precision.\n",
      "  warnings.warn(\"Issues encountered while parsing CIF: \" + \"\\n\".join(self.warnings))\n",
      "/home/scai/phd/aiz218326/anaconda3/envs/crystal-llm/lib/python3.10/site-packages/pymatgen/io/cif.py:1287: UserWarning: Issues encountered while parsing CIF: 5 fractional coordinates rounded to ideal values to avoid issues with finite precision.\n",
      "  warnings.warn(\"Issues encountered while parsing CIF: \" + \"\\n\".join(self.warnings))\n",
      " 70%|███████████████████████████████████████████████████████▏                       | 6324/9046 [11:17<06:31,  6.96it/s]/home/scai/phd/aiz218326/anaconda3/envs/crystal-llm/lib/python3.10/site-packages/pymatgen/io/cif.py:1287: UserWarning: Issues encountered while parsing CIF: 1 fractional coordinates rounded to ideal values to avoid issues with finite precision.\n",
      "  warnings.warn(\"Issues encountered while parsing CIF: \" + \"\\n\".join(self.warnings))\n",
      " 71%|███████████████████████████████████████████████████████▊                       | 6384/9046 [11:20<03:30, 12.64it/s]/home/scai/phd/aiz218326/anaconda3/envs/crystal-llm/lib/python3.10/site-packages/pymatgen/io/cif.py:1287: UserWarning: Issues encountered while parsing CIF: 16 fractional coordinates rounded to ideal values to avoid issues with finite precision.\n",
      "  warnings.warn(\"Issues encountered while parsing CIF: \" + \"\\n\".join(self.warnings))\n",
      " 71%|███████████████████████████████████████████████████████▉                       | 6407/9046 [11:24<05:23,  8.17it/s]/home/scai/phd/aiz218326/anaconda3/envs/crystal-llm/lib/python3.10/site-packages/pymatgen/io/cif.py:1287: UserWarning: Issues encountered while parsing CIF: 2 fractional coordinates rounded to ideal values to avoid issues with finite precision.\n",
      "  warnings.warn(\"Issues encountered while parsing CIF: \" + \"\\n\".join(self.warnings))\n",
      "/home/scai/phd/aiz218326/anaconda3/envs/crystal-llm/lib/python3.10/site-packages/pymatgen/io/cif.py:1287: UserWarning: Issues encountered while parsing CIF: 1 fractional coordinates rounded to ideal values to avoid issues with finite precision.\n",
      "  warnings.warn(\"Issues encountered while parsing CIF: \" + \"\\n\".join(self.warnings))\n"
     ]
    },
    {
     "name": "stdout",
     "output_type": "stream",
     "text": [
      "Timer expired\n"
     ]
    },
    {
     "name": "stderr",
     "output_type": "stream",
     "text": [
      "/home/scai/phd/aiz218326/anaconda3/envs/crystal-llm/lib/python3.10/site-packages/pymatgen/io/cif.py:1287: UserWarning: Issues encountered while parsing CIF: 20 fractional coordinates rounded to ideal values to avoid issues with finite precision.\n",
      "  warnings.warn(\"Issues encountered while parsing CIF: \" + \"\\n\".join(self.warnings))\n",
      "/home/scai/phd/aiz218326/anaconda3/envs/crystal-llm/lib/python3.10/site-packages/pymatgen/io/cif.py:1287: UserWarning: Issues encountered while parsing CIF: 16 fractional coordinates rounded to ideal values to avoid issues with finite precision.\n",
      "  warnings.warn(\"Issues encountered while parsing CIF: \" + \"\\n\".join(self.warnings))\n",
      " 72%|████████████████████████████████████████████████████████▋                      | 6485/9046 [11:30<03:14, 13.18it/s]/home/scai/phd/aiz218326/anaconda3/envs/crystal-llm/lib/python3.10/site-packages/pymatgen/io/cif.py:1287: UserWarning: Issues encountered while parsing CIF: 24 fractional coordinates rounded to ideal values to avoid issues with finite precision.\n",
      "  warnings.warn(\"Issues encountered while parsing CIF: \" + \"\\n\".join(self.warnings))\n",
      " 74%|██████████████████████████████████████████████████████████▌                    | 6712/9046 [11:56<05:31,  7.05it/s]/home/scai/phd/aiz218326/anaconda3/envs/crystal-llm/lib/python3.10/site-packages/pymatgen/io/cif.py:1287: UserWarning: Issues encountered while parsing CIF: 16 fractional coordinates rounded to ideal values to avoid issues with finite precision.\n",
      "  warnings.warn(\"Issues encountered while parsing CIF: \" + \"\\n\".join(self.warnings))\n",
      " 76%|███████████████████████████████████████████████████████████▊                   | 6852/9046 [12:09<03:39, 10.01it/s]/home/scai/phd/aiz218326/anaconda3/envs/crystal-llm/lib/python3.10/site-packages/pymatgen/core/periodic_table.py:289: UserWarning: No Pauling electronegativity for Ar. Setting to NaN. This has no physical meaning, and is mainly done to avoid errors caused by the code expecting a float.\n",
      "  warnings.warn(\n",
      " 77%|████████████████████████████████████████████████████████████▉                  | 6978/9046 [12:21<02:40, 12.90it/s]/home/scai/phd/aiz218326/anaconda3/envs/crystal-llm/lib/python3.10/site-packages/pymatgen/io/cif.py:1287: UserWarning: Issues encountered while parsing CIF: 1 fractional coordinates rounded to ideal values to avoid issues with finite precision.\n",
      "  warnings.warn(\"Issues encountered while parsing CIF: \" + \"\\n\".join(self.warnings))\n"
     ]
    },
    {
     "name": "stdout",
     "output_type": "stream",
     "text": [
      "Timer expired\n"
     ]
    },
    {
     "name": "stderr",
     "output_type": "stream",
     "text": [
      " 77%|█████████████████████████████████████████████████████████████                  | 6993/9046 [12:24<03:59,  8.57it/s]/home/scai/phd/aiz218326/anaconda3/envs/crystal-llm/lib/python3.10/site-packages/pymatgen/io/cif.py:1287: UserWarning: Issues encountered while parsing CIF: 2 fractional coordinates rounded to ideal values to avoid issues with finite precision.\n",
      "  warnings.warn(\"Issues encountered while parsing CIF: \" + \"\\n\".join(self.warnings))\n",
      " 81%|███████████████████████████████████████████████████████████████▋               | 7290/9046 [12:58<04:00,  7.30it/s]/home/scai/phd/aiz218326/anaconda3/envs/crystal-llm/lib/python3.10/site-packages/pymatgen/io/cif.py:1287: UserWarning: Issues encountered while parsing CIF: 1 fractional coordinates rounded to ideal values to avoid issues with finite precision.\n",
      "  warnings.warn(\"Issues encountered while parsing CIF: \" + \"\\n\".join(self.warnings))\n",
      " 81%|████████████████████████████████████████████████████████████████               | 7331/9046 [13:02<03:17,  8.69it/s]/home/scai/phd/aiz218326/anaconda3/envs/crystal-llm/lib/python3.10/site-packages/pymatgen/io/cif.py:1287: UserWarning: Issues encountered while parsing CIF: 16 fractional coordinates rounded to ideal values to avoid issues with finite precision.\n",
      "  warnings.warn(\"Issues encountered while parsing CIF: \" + \"\\n\".join(self.warnings))\n",
      "/home/scai/phd/aiz218326/anaconda3/envs/crystal-llm/lib/python3.10/site-packages/pymatgen/io/cif.py:1287: UserWarning: Issues encountered while parsing CIF: 3 fractional coordinates rounded to ideal values to avoid issues with finite precision.\n",
      "  warnings.warn(\"Issues encountered while parsing CIF: \" + \"\\n\".join(self.warnings))\n",
      " 83%|█████████████████████████████████████████████████████████████████▎             | 7478/9046 [13:16<02:27, 10.63it/s]/home/scai/phd/aiz218326/anaconda3/envs/crystal-llm/lib/python3.10/site-packages/pymatgen/io/cif.py:1287: UserWarning: Issues encountered while parsing CIF: 24 fractional coordinates rounded to ideal values to avoid issues with finite precision.\n",
      "  warnings.warn(\"Issues encountered while parsing CIF: \" + \"\\n\".join(self.warnings))\n",
      " 83%|█████████████████████████████████████████████████████████████████▌             | 7501/9046 [13:19<02:39,  9.71it/s]/home/scai/phd/aiz218326/anaconda3/envs/crystal-llm/lib/python3.10/site-packages/pymatgen/io/cif.py:1287: UserWarning: Issues encountered while parsing CIF: 6 fractional coordinates rounded to ideal values to avoid issues with finite precision.\n",
      "  warnings.warn(\"Issues encountered while parsing CIF: \" + \"\\n\".join(self.warnings))\n",
      " 83%|█████████████████████████████████████████████████████████████████▉             | 7544/9046 [13:23<01:47, 14.04it/s]/home/scai/phd/aiz218326/anaconda3/envs/crystal-llm/lib/python3.10/site-packages/pymatgen/io/cif.py:1287: UserWarning: Issues encountered while parsing CIF: 7 fractional coordinates rounded to ideal values to avoid issues with finite precision.\n",
      "  warnings.warn(\"Issues encountered while parsing CIF: \" + \"\\n\".join(self.warnings))\n",
      "/home/scai/phd/aiz218326/anaconda3/envs/crystal-llm/lib/python3.10/site-packages/pymatgen/io/cif.py:1287: UserWarning: Issues encountered while parsing CIF: 6 fractional coordinates rounded to ideal values to avoid issues with finite precision.\n",
      "  warnings.warn(\"Issues encountered while parsing CIF: \" + \"\\n\".join(self.warnings))\n",
      "/home/scai/phd/aiz218326/anaconda3/envs/crystal-llm/lib/python3.10/site-packages/pymatgen/io/cif.py:1287: UserWarning: Issues encountered while parsing CIF: 24 fractional coordinates rounded to ideal values to avoid issues with finite precision.\n",
      "  warnings.warn(\"Issues encountered while parsing CIF: \" + \"\\n\".join(self.warnings))\n",
      " 84%|██████████████████████████████████████████████████████████████████▎            | 7596/9046 [13:31<02:46,  8.71it/s]/home/scai/phd/aiz218326/anaconda3/envs/crystal-llm/lib/python3.10/site-packages/pymatgen/io/cif.py:1287: UserWarning: Issues encountered while parsing CIF: 24 fractional coordinates rounded to ideal values to avoid issues with finite precision.\n",
      "  warnings.warn(\"Issues encountered while parsing CIF: \" + \"\\n\".join(self.warnings))\n"
     ]
    },
    {
     "name": "stdout",
     "output_type": "stream",
     "text": [
      "Timer expired\n"
     ]
    },
    {
     "name": "stderr",
     "output_type": "stream",
     "text": [
      " 85%|███████████████████████████████████████████████████████████████████            | 7680/9046 [13:38<02:07, 10.70it/s]/home/scai/phd/aiz218326/anaconda3/envs/crystal-llm/lib/python3.10/site-packages/pymatgen/io/cif.py:1287: UserWarning: Issues encountered while parsing CIF: 6 fractional coordinates rounded to ideal values to avoid issues with finite precision.\n",
      "  warnings.warn(\"Issues encountered while parsing CIF: \" + \"\\n\".join(self.warnings))\n",
      "/home/scai/phd/aiz218326/anaconda3/envs/crystal-llm/lib/python3.10/site-packages/pymatgen/io/cif.py:1287: UserWarning: Issues encountered while parsing CIF: 3 fractional coordinates rounded to ideal values to avoid issues with finite precision.\n",
      "  warnings.warn(\"Issues encountered while parsing CIF: \" + \"\\n\".join(self.warnings))\n",
      " 86%|███████████████████████████████████████████████████████████████████▊           | 7760/9046 [13:48<02:35,  8.29it/s]/home/scai/phd/aiz218326/anaconda3/envs/crystal-llm/lib/python3.10/site-packages/pymatgen/io/cif.py:1287: UserWarning: Issues encountered while parsing CIF: 16 fractional coordinates rounded to ideal values to avoid issues with finite precision.\n",
      "  warnings.warn(\"Issues encountered while parsing CIF: \" + \"\\n\".join(self.warnings))\n",
      "/home/scai/phd/aiz218326/anaconda3/envs/crystal-llm/lib/python3.10/site-packages/pymatgen/io/cif.py:1287: UserWarning: Issues encountered while parsing CIF: 6 fractional coordinates rounded to ideal values to avoid issues with finite precision.\n",
      "  warnings.warn(\"Issues encountered while parsing CIF: \" + \"\\n\".join(self.warnings))\n",
      " 87%|████████████████████████████████████████████████████████████████████▌          | 7856/9046 [13:56<01:26, 13.80it/s]/home/scai/phd/aiz218326/anaconda3/envs/crystal-llm/lib/python3.10/site-packages/pymatgen/io/cif.py:1287: UserWarning: Issues encountered while parsing CIF: 20 fractional coordinates rounded to ideal values to avoid issues with finite precision.\n",
      "  warnings.warn(\"Issues encountered while parsing CIF: \" + \"\\n\".join(self.warnings))\n",
      " 87%|████████████████████████████████████████████████████████████████████▋          | 7864/9046 [13:56<01:19, 14.94it/s]/home/scai/phd/aiz218326/anaconda3/envs/crystal-llm/lib/python3.10/site-packages/pymatgen/io/cif.py:1287: UserWarning: Issues encountered while parsing CIF: 16 fractional coordinates rounded to ideal values to avoid issues with finite precision.\n",
      "  warnings.warn(\"Issues encountered while parsing CIF: \" + \"\\n\".join(self.warnings))\n",
      "/home/scai/phd/aiz218326/anaconda3/envs/crystal-llm/lib/python3.10/site-packages/pymatgen/io/cif.py:1287: UserWarning: Issues encountered while parsing CIF: 11 fractional coordinates rounded to ideal values to avoid issues with finite precision.\n",
      "  warnings.warn(\"Issues encountered while parsing CIF: \" + \"\\n\".join(self.warnings))\n",
      " 87%|█████████████████████████████████████████████████████████████████████          | 7908/9046 [14:05<02:09,  8.76it/s]"
     ]
    },
    {
     "name": "stdout",
     "output_type": "stream",
     "text": [
      "Timer expired\n"
     ]
    },
    {
     "name": "stderr",
     "output_type": "stream",
     "text": [
      "/home/scai/phd/aiz218326/anaconda3/envs/crystal-llm/lib/python3.10/site-packages/pymatgen/io/cif.py:1287: UserWarning: Issues encountered while parsing CIF: 16 fractional coordinates rounded to ideal values to avoid issues with finite precision.\n",
      "  warnings.warn(\"Issues encountered while parsing CIF: \" + \"\\n\".join(self.warnings))\n"
     ]
    },
    {
     "name": "stdout",
     "output_type": "stream",
     "text": [
      "Timer expired\n"
     ]
    },
    {
     "name": "stderr",
     "output_type": "stream",
     "text": [
      " 87%|█████████████████████████████████████████████████████████████████████          | 7913/9046 [14:08<03:51,  4.90it/s]"
     ]
    },
    {
     "name": "stdout",
     "output_type": "stream",
     "text": [
      "Timer expired\n",
      "Timer expired\n"
     ]
    },
    {
     "name": "stderr",
     "output_type": "stream",
     "text": [
      " 88%|█████████████████████████████████████████████████████████████████████▊         | 7987/9046 [14:11<01:10, 15.08it/s]"
     ]
    },
    {
     "name": "stdout",
     "output_type": "stream",
     "text": [
      "Timer expired\n"
     ]
    },
    {
     "name": "stderr",
     "output_type": "stream",
     "text": [
      "/home/scai/phd/aiz218326/anaconda3/envs/crystal-llm/lib/python3.10/site-packages/pymatgen/io/cif.py:1287: UserWarning: Issues encountered while parsing CIF: 1 fractional coordinates rounded to ideal values to avoid issues with finite precision.\n",
      "  warnings.warn(\"Issues encountered while parsing CIF: \" + \"\\n\".join(self.warnings))\n"
     ]
    },
    {
     "name": "stdout",
     "output_type": "stream",
     "text": [
      "Timer expired\n",
      "Timer expired\n"
     ]
    },
    {
     "name": "stderr",
     "output_type": "stream",
     "text": [
      " 90%|██████████████████████████████████████████████████████████████████████▋        | 8098/9046 [14:24<01:24, 11.21it/s]"
     ]
    },
    {
     "name": "stdout",
     "output_type": "stream",
     "text": [
      "Timer expired\n"
     ]
    },
    {
     "name": "stderr",
     "output_type": "stream",
     "text": [
      " 90%|██████████████████████████████████████████████████████████████████████▉        | 8116/9046 [14:26<01:20, 11.53it/s]/home/scai/phd/aiz218326/anaconda3/envs/crystal-llm/lib/python3.10/site-packages/pymatgen/io/cif.py:1287: UserWarning: Issues encountered while parsing CIF: 28 fractional coordinates rounded to ideal values to avoid issues with finite precision.\n",
      "  warnings.warn(\"Issues encountered while parsing CIF: \" + \"\\n\".join(self.warnings))\n"
     ]
    },
    {
     "name": "stdout",
     "output_type": "stream",
     "text": [
      "Timer expired\n"
     ]
    },
    {
     "name": "stderr",
     "output_type": "stream",
     "text": [
      " 90%|███████████████████████████████████████████████████████████████████████▎       | 8165/9046 [14:29<01:03, 13.77it/s]/home/scai/phd/aiz218326/anaconda3/envs/crystal-llm/lib/python3.10/site-packages/pymatgen/io/cif.py:1287: UserWarning: Issues encountered while parsing CIF: 5 fractional coordinates rounded to ideal values to avoid issues with finite precision.\n",
      "  warnings.warn(\"Issues encountered while parsing CIF: \" + \"\\n\".join(self.warnings))\n",
      "/home/scai/phd/aiz218326/anaconda3/envs/crystal-llm/lib/python3.10/site-packages/pymatgen/io/cif.py:1287: UserWarning: Issues encountered while parsing CIF: 16 fractional coordinates rounded to ideal values to avoid issues with finite precision.\n",
      "  warnings.warn(\"Issues encountered while parsing CIF: \" + \"\\n\".join(self.warnings))\n"
     ]
    },
    {
     "name": "stdout",
     "output_type": "stream",
     "text": [
      "Timer expired\n"
     ]
    },
    {
     "name": "stderr",
     "output_type": "stream",
     "text": [
      " 91%|███████████████████████████████████████████████████████████████████████▋       | 8204/9046 [14:36<01:29,  9.41it/s]"
     ]
    },
    {
     "name": "stdout",
     "output_type": "stream",
     "text": [
      "Timer expired\n"
     ]
    },
    {
     "name": "stderr",
     "output_type": "stream",
     "text": [
      " 92%|████████████████████████████████████████████████████████████████████████▉      | 8355/9046 [14:49<00:58, 11.79it/s]/home/scai/phd/aiz218326/anaconda3/envs/crystal-llm/lib/python3.10/site-packages/pymatgen/io/cif.py:1287: UserWarning: Issues encountered while parsing CIF: 6 fractional coordinates rounded to ideal values to avoid issues with finite precision.\n",
      "  warnings.warn(\"Issues encountered while parsing CIF: \" + \"\\n\".join(self.warnings))\n",
      " 93%|█████████████████████████████████████████████████████████████████████████▏     | 8383/9046 [14:53<01:17,  8.53it/s]/home/scai/phd/aiz218326/anaconda3/envs/crystal-llm/lib/python3.10/site-packages/pymatgen/io/cif.py:1287: UserWarning: Issues encountered while parsing CIF: 5 fractional coordinates rounded to ideal values to avoid issues with finite precision.\n",
      "  warnings.warn(\"Issues encountered while parsing CIF: \" + \"\\n\".join(self.warnings))\n"
     ]
    },
    {
     "name": "stdout",
     "output_type": "stream",
     "text": [
      "Timer expired\n"
     ]
    },
    {
     "name": "stderr",
     "output_type": "stream",
     "text": [
      " 93%|█████████████████████████████████████████████████████████████████████████▊     | 8456/9046 [14:59<00:48, 12.18it/s]/home/scai/phd/aiz218326/anaconda3/envs/crystal-llm/lib/python3.10/site-packages/pymatgen/io/cif.py:1287: UserWarning: Issues encountered while parsing CIF: 16 fractional coordinates rounded to ideal values to avoid issues with finite precision.\n",
      "  warnings.warn(\"Issues encountered while parsing CIF: \" + \"\\n\".join(self.warnings))\n",
      " 94%|██████████████████████████████████████████████████████████████████████████     | 8484/9046 [15:03<01:03,  8.87it/s]/home/scai/phd/aiz218326/anaconda3/envs/crystal-llm/lib/python3.10/site-packages/pymatgen/io/cif.py:1287: UserWarning: Issues encountered while parsing CIF: 18 fractional coordinates rounded to ideal values to avoid issues with finite precision.\n",
      "  warnings.warn(\"Issues encountered while parsing CIF: \" + \"\\n\".join(self.warnings))\n",
      " 94%|██████████████████████████████████████████████████████████████████████████▏    | 8502/9046 [15:06<01:13,  7.41it/s]"
     ]
    },
    {
     "name": "stdout",
     "output_type": "stream",
     "text": [
      "Timer expired\n"
     ]
    },
    {
     "name": "stderr",
     "output_type": "stream",
     "text": [
      " 94%|██████████████████████████████████████████████████████████████████████████▍    | 8519/9046 [15:10<01:22,  6.39it/s]/home/scai/phd/aiz218326/anaconda3/envs/crystal-llm/lib/python3.10/site-packages/pymatgen/io/cif.py:1287: UserWarning: Issues encountered while parsing CIF: 5 fractional coordinates rounded to ideal values to avoid issues with finite precision.\n",
      "  warnings.warn(\"Issues encountered while parsing CIF: \" + \"\\n\".join(self.warnings))\n"
     ]
    },
    {
     "name": "stdout",
     "output_type": "stream",
     "text": [
      "Timer expired\n"
     ]
    },
    {
     "name": "stderr",
     "output_type": "stream",
     "text": [
      " 94%|██████████████████████████████████████████████████████████████████████████▌    | 8533/9046 [15:11<01:12,  7.10it/s]"
     ]
    },
    {
     "name": "stdout",
     "output_type": "stream",
     "text": [
      "Timer expired\n",
      "Timer expired\n",
      "Timer expired\n",
      "Timer expired\n",
      "Timer expired\n"
     ]
    },
    {
     "name": "stderr",
     "output_type": "stream",
     "text": [
      " 95%|██████████████████████████████████████████████████████████████████████████▉    | 8587/9046 [15:15<00:43, 10.55it/s]"
     ]
    },
    {
     "name": "stdout",
     "output_type": "stream",
     "text": [
      "Timer expired\n"
     ]
    },
    {
     "name": "stderr",
     "output_type": "stream",
     "text": [
      " 95%|███████████████████████████████████████████████████████████████████████████▍   | 8636/9046 [15:21<00:38, 10.61it/s]/home/scai/phd/aiz218326/anaconda3/envs/crystal-llm/lib/python3.10/site-packages/pymatgen/io/cif.py:1287: UserWarning: Issues encountered while parsing CIF: 6 fractional coordinates rounded to ideal values to avoid issues with finite precision.\n",
      "  warnings.warn(\"Issues encountered while parsing CIF: \" + \"\\n\".join(self.warnings))\n",
      " 96%|███████████████████████████████████████████████████████████████████████████▊   | 8688/9046 [15:28<00:34, 10.41it/s]"
     ]
    },
    {
     "name": "stdout",
     "output_type": "stream",
     "text": [
      "Timer expired\n"
     ]
    },
    {
     "name": "stderr",
     "output_type": "stream",
     "text": [
      " 96%|████████████████████████████████████████████████████████████████████████████▏  | 8727/9046 [15:32<00:31,  9.99it/s]"
     ]
    },
    {
     "name": "stdout",
     "output_type": "stream",
     "text": [
      "Timer expired\n",
      "Timer expired\n"
     ]
    },
    {
     "name": "stderr",
     "output_type": "stream",
     "text": [
      " 97%|████████████████████████████████████████████████████████████████████████████▎  | 8732/9046 [15:35<01:01,  5.12it/s]"
     ]
    },
    {
     "name": "stdout",
     "output_type": "stream",
     "text": [
      "Timer expired\n"
     ]
    },
    {
     "name": "stderr",
     "output_type": "stream",
     "text": [
      " 98%|█████████████████████████████████████████████████████████████████████████████▎ | 8859/9046 [15:45<00:17, 10.91it/s]/home/scai/phd/aiz218326/anaconda3/envs/crystal-llm/lib/python3.10/site-packages/pymatgen/io/cif.py:1287: UserWarning: Issues encountered while parsing CIF: 2 fractional coordinates rounded to ideal values to avoid issues with finite precision.\n",
      "  warnings.warn(\"Issues encountered while parsing CIF: \" + \"\\n\".join(self.warnings))\n",
      "/home/scai/phd/aiz218326/anaconda3/envs/crystal-llm/lib/python3.10/site-packages/pymatgen/core/periodic_table.py:289: UserWarning: No Pauling electronegativity for He. Setting to NaN. This has no physical meaning, and is mainly done to avoid errors caused by the code expecting a float.\n",
      "  warnings.warn(\n",
      " 98%|█████████████████████████████████████████████████████████████████████████████▋ | 8892/9046 [15:51<00:19,  7.91it/s]"
     ]
    },
    {
     "name": "stdout",
     "output_type": "stream",
     "text": [
      "Timer expired\n"
     ]
    },
    {
     "name": "stderr",
     "output_type": "stream",
     "text": [
      " 99%|█████████████████████████████████████████████████████████████████████████████▉ | 8928/9046 [15:54<00:12,  9.70it/s]"
     ]
    },
    {
     "name": "stdout",
     "output_type": "stream",
     "text": [
      "Timer expired\n"
     ]
    },
    {
     "name": "stderr",
     "output_type": "stream",
     "text": [
      " 99%|██████████████████████████████████████████████████████████████████████████████ | 8935/9046 [15:54<00:10, 10.51it/s]/home/scai/phd/aiz218326/anaconda3/envs/crystal-llm/lib/python3.10/site-packages/pymatgen/io/cif.py:1287: UserWarning: Issues encountered while parsing CIF: 24 fractional coordinates rounded to ideal values to avoid issues with finite precision.\n",
      "  warnings.warn(\"Issues encountered while parsing CIF: \" + \"\\n\".join(self.warnings))\n",
      " 99%|██████████████████████████████████████████████████████████████████████████████▍| 8983/9046 [15:58<00:05, 11.24it/s]"
     ]
    },
    {
     "name": "stdout",
     "output_type": "stream",
     "text": [
      "Timer expired\n"
     ]
    },
    {
     "name": "stderr",
     "output_type": "stream",
     "text": [
      "100%|███████████████████████████████████████████████████████████████████████████████| 9046/9046 [16:01<00:00,  9.41it/s]\n"
     ]
    },
    {
     "name": "stdout",
     "output_type": "stream",
     "text": [
      "saved\n"
     ]
    }
   ],
   "source": [
    "if not os.path.exists(gt_cov_crys_fn):\n",
    "    gt_cov_crys = p_map(cif_str_to_crystal, gt_cov_cifs)\n",
    "    pickle.dump(gt_cov_crys, open(gt_cov_crys_fn, \"wb\"))\n",
    "    print('saved')\n",
    "else:\n",
    "    print('loading ',gt_cov_crys_fn)\n",
    "    gt_cov_crys = pickle.load(open(gt_cov_crys_fn, \"rb\"))"
   ]
  },
  {
   "cell_type": "code",
   "execution_count": 38,
   "id": "7ffdcd81-749f-4c3e-9c5f-01120b5f1980",
   "metadata": {},
   "outputs": [],
   "source": [
    "test_novelty_path = 'data/basic/train.csv'\n",
    "gt_novelty_cifs = pd.read_csv(test_novelty_path)[\"cif\"]"
   ]
  },
  {
   "cell_type": "code",
   "execution_count": 44,
   "id": "53ec2b82-4286-4069-9791-a4d186fe91a4",
   "metadata": {},
   "outputs": [],
   "source": [
    "gt_novelty_cifs = pd.read_csv(test_novelty_path)[\"cif\"]\n",
    "\n",
    "gt_novelty_crys_fn = test_novelty_path.replace(\".csv\", \"_cached.pkl\")"
   ]
  },
  {
   "cell_type": "code",
   "execution_count": 48,
   "id": "86dbf800-b55f-4f1c-b594-433af76ceee1",
   "metadata": {
    "scrolled": true
   },
   "outputs": [
    {
     "name": "stdout",
     "output_type": "stream",
     "text": [
      "loading\n",
      "loaded from data/basic/train_cached.pkl\n"
     ]
    }
   ],
   "source": [
    "if not os.path.exists(gt_novelty_crys_fn):\n",
    "    gt_novelty_crys = p_map(cif_str_to_crystal, gt_novelty_cifs)\n",
    "    pickle.dump(gt_novelty_crys, open(gt_novelty_crys_fn, \"wb\"))\n",
    "    print('saved')\n",
    "else:\n",
    "    print('loading')\n",
    "    gt_novelty_crys = pickle.load(open(gt_novelty_crys_fn, \"rb\"))\n",
    "    print('loaded from',gt_novelty_crys_fn)"
   ]
  },
  {
   "cell_type": "code",
   "execution_count": 49,
   "id": "53bfb9c8-04fa-468e-8225-18b7c54c3398",
   "metadata": {},
   "outputs": [
    {
     "data": {
      "text/plain": [
       "list"
      ]
     },
     "execution_count": 49,
     "metadata": {},
     "output_type": "execute_result"
    }
   ],
   "source": [
    "type(gt_novelty_crys)"
   ]
  },
  {
   "cell_type": "code",
   "execution_count": 50,
   "id": "b47750d1-8fde-4d19-be46-9fe8d6d218d1",
   "metadata": {},
   "outputs": [
    {
     "name": "stdout",
     "output_type": "stream",
     "text": [
      "Number of pred crystals:  8274\n",
      "Number of valid crystals:  7252\n",
      "ratio 0.8764805414551607\n"
     ]
    }
   ],
   "source": [
    "valid_crys = [x for x in pred_crys if x.valid]\n",
    "\n",
    "print(\"Number of pred crystals: \", len(pred_crys))\n",
    "print(\"Number of valid crystals: \", len(valid_crys))\n",
    "print(\"ratio\", len(valid_crys)/len(pred_crys))"
   ]
  },
  {
   "cell_type": "code",
   "execution_count": 65,
   "id": "b2f683db-c109-4327-b4b1-2433d7baf758",
   "metadata": {},
   "outputs": [
    {
     "data": {
      "text/plain": [
       "(0.994, 0.8732394366197183)"
      ]
     },
     "execution_count": 65,
     "metadata": {},
     "output_type": "execute_result"
    }
   ],
   "source": [
    "994/1000, 868/994 #llamat-2-cif-congen"
   ]
  },
  {
   "cell_type": "code",
   "execution_count": 66,
   "id": "65448824-545b-4c23-bba2-83eec8a3fefe",
   "metadata": {},
   "outputs": [
    {
     "data": {
      "text/plain": [
       "(0.491, 0.4256619144602851)"
      ]
     },
     "execution_count": 66,
     "metadata": {},
     "output_type": "execute_result"
    }
   ],
   "source": [
    "491/1000, 209/491 #llamat-3-cif-congen"
   ]
  },
  {
   "cell_type": "code",
   "execution_count": 25,
   "id": "a29d8638-552e-4270-ad52-9d7c3043ac9d",
   "metadata": {},
   "outputs": [
    {
     "data": {
      "text/plain": [
       "(0.9958, 0.865, 0.8686483229564169)"
      ]
     },
     "execution_count": 25,
     "metadata": {},
     "output_type": "execute_result"
    }
   ],
   "source": [
    "9958/10000, 8650/10000, 8650/9958"
   ]
  },
  {
   "cell_type": "code",
   "execution_count": 51,
   "id": "8a18403b-d89f-4f2d-89b0-4b1c91b39c8d",
   "metadata": {},
   "outputs": [],
   "source": [
    "metrics = CDVAEGenEval(\n",
    "        pred_crys, \n",
    "        gt_cov_crys,\n",
    "        gt_novelty_crys,\n",
    "        n_samples=len(valid_crys), \n",
    "        eval_model_name='mp20'\n",
    "    )#.get_metrics()"
   ]
  },
  {
   "cell_type": "code",
   "execution_count": null,
   "id": "07cc2c1b-733f-4a91-a801-674c917c694b",
   "metadata": {},
   "outputs": [],
   "source": []
  },
  {
   "cell_type": "code",
   "execution_count": 52,
   "id": "e1f9af08-549a-4a5e-b9fb-86000c1e36da",
   "metadata": {},
   "outputs": [
    {
     "data": {
      "text/plain": [
       "{'comp_valid': 0.8954556441866086,\n",
       " 'struct_valid': 0.9772782209330433,\n",
       " 'valid': 0.8764805414551607,\n",
       " 'comp_div': 15.520819779408347,\n",
       " 'struct_div': 0.9002762982343132,\n",
       " 'wdist_density': 0.17426589733296383,\n",
       " 'wdist_num_elems': 0.01680809819371447,\n",
       " 'cov_recall': 0.9938837920489296,\n",
       " 'cov_precision': 0.9951737451737451,\n",
       " 'amsd_recall': 0.11372955840352154,\n",
       " 'amsd_precision': 0.133831247137884,\n",
       " 'amcd_recall': 0.5117096469684149,\n",
       " 'amcd_precision': 0.20458088840637634,\n",
       " 'struc_novelty': 0.5124103695532267,\n",
       " 'comp_novelty': 0.34624931053502483,\n",
       " 'novelty': 0.6840871483728627}"
      ]
     },
     "execution_count": 52,
     "metadata": {},
     "output_type": "execute_result"
    }
   ],
   "source": [
    "metrics.get_metrics()"
   ]
  },
  {
   "cell_type": "code",
   "execution_count": null,
   "id": "f9599e59-7aa7-4f0c-a33c-6de9902235e4",
   "metadata": {},
   "outputs": [],
   "source": []
  },
  {
   "cell_type": "code",
   "execution_count": null,
   "id": "5a6497a9-5e51-45a3-9fd3-c974d429ddbb",
   "metadata": {},
   "outputs": [],
   "source": []
  },
  {
   "cell_type": "code",
   "execution_count": 60,
   "id": "dd46099a-ff27-425d-8e81-7492366f16da",
   "metadata": {},
   "outputs": [],
   "source": [
    "metrics = {'comp_valid': 0.6505,\n",
    " 'struct_valid': 0.7281,\n",
    " 'valid': 0.5199,\n",
    " 'comp_div': 15.049131375700867,\n",
    " 'struct_div': 0.646087535174593,\n",
    " 'wdist_density': 10.404570939360589,\n",
    " 'wdist_num_elems': 0.12935201105231345,\n",
    " 'cov_recall': 0.9593515903229768,\n",
    " 'cov_precision': 0.9824966339680707,\n",
    " 'amsd_recall': 0.19431147943564403,\n",
    " 'amsd_precision': 0.21623487953435078,\n",
    " 'amcd_recall': 4.174398269649543,\n",
    " 'amcd_precision': 3.7243309433717013,\n",
    " 'struc_novelty': 0.8726678207347567,\n",
    " 'comp_novelty': 0.7357184073860358,\n",
    " 'novelty': 0.9224850932871707}"
   ]
  },
  {
   "cell_type": "code",
   "execution_count": 61,
   "id": "c988439c-1a4d-4cf5-9d83-ee9f93eafada",
   "metadata": {},
   "outputs": [],
   "source": [
    "metrics_llamat3 = {'comp_valid': 0.6028574617702869,\n",
    " 'struct_valid': 0.6742940060274584,\n",
    " 'valid': 0.45563120884027236,\n",
    " 'comp_div': 14.813907952342776,\n",
    " 'struct_div': 0.5931430120303295,\n",
    " 'wdist_density': 12.35512616311076,\n",
    " 'wdist_num_elems': 0.2607242443028679,\n",
    " 'cov_recall': 0.9247206189365099,\n",
    " 'cov_precision': 0.9936305732484076,\n",
    " 'amsd_recall': 0.21367498510494704,\n",
    " 'amsd_precision': 0.22137167569311592,\n",
    " 'amcd_recall': 4.792127000566393,\n",
    " 'amcd_precision': 3.9909140918141657,\n",
    " 'struc_novelty': 0.9152376286134248,\n",
    " 'comp_novelty': 0.7893189612934836,\n",
    " 'novelty': 0.9468397844194023}"
   ]
  },
  {
   "cell_type": "code",
   "execution_count": 62,
   "id": "564638c1-0035-4677-9127-be99d287d35f",
   "metadata": {},
   "outputs": [],
   "source": [
    "metrics_llamat2 = {'comp_valid': 0.8783,\n",
    " 'struct_valid': 0.9951,\n",
    " 'valid': 0.8755,\n",
    " 'comp_div': 15.537416884939825,\n",
    " 'struct_div': 0.9754777500902315,\n",
    " 'wdist_density': 0.6225818111254449,\n",
    " 'wdist_num_elems': 0.022798721630026456,\n",
    " 'cov_recall': 0.9863686601989439,\n",
    " 'cov_precision': 0.99565962307253,\n",
    " 'amsd_recall': 0.13205219925068698,\n",
    " 'amsd_precision': 0.11404735865757508,\n",
    " 'amcd_recall': 3.237658132946266,\n",
    " 'amcd_precision': 2.5953085459418874,\n",
    " 'struc_novelty': 0.39771559109080523,\n",
    " 'comp_novelty': 0.36070816676185036,\n",
    " 'novelty': 0.5888063963449457}"
   ]
  },
  {
   "cell_type": "code",
   "execution_count": 75,
   "id": "13a66f4e-9fac-4603-8c9c-0126a42d228a",
   "metadata": {},
   "outputs": [],
   "source": [
    "metrics_old = {'comp_valid': 0.8726651938140189,\n",
    " 'struct_valid': 0.9945772243422374,\n",
    " 'valid': 0.8686483229564169,\n",
    " 'comp_div': 15.435847558071819,\n",
    " 'struct_div': 0.997068275992884,\n",
    " 'wdist_density': 0.6633393952088423,\n",
    " 'wdist_num_elems': 0.07941215035802868,\n",
    " 'cov_recall': 0.9878423185558148,\n",
    " 'cov_precision': 0.9922543352601156,\n",
    " 'amsd_recall': 0.12996201483321324,\n",
    " 'amsd_precision': 0.11859335672718942,\n",
    " 'amcd_recall': 3.002275575248583,\n",
    " 'amcd_precision': 2.6840815605625474,\n",
    " 'struc_novelty': 0.41063583815028903,\n",
    " 'comp_novelty': 0.41132947976878614,\n",
    " 'novelty': 0.6338728323699422}\n",
    "for key in metrics.keys():\n",
    "    metrics[key] = round(metrics[key], 3);\n",
    "    metrics_llamat2[key] = round(metrics_llamat2[key], 3);\n",
    "    metrics_llamat3[key] = round(metrics_llamat3[key], 3);\n"
   ]
  },
  {
   "cell_type": "code",
   "execution_count": 63,
   "id": "bf971af1-3e47-43e4-9b25-ef7c4e773020",
   "metadata": {},
   "outputs": [],
   "source": [
    "metrics_llamat2_congen = {'comp_valid': 0.65,\n",
    " 'struct_valid': 0.728,\n",
    " 'valid': 0.52,\n",
    " 'comp_div': 15.049,\n",
    " 'struct_div': 0.646,\n",
    " 'wdist_density': 10.405,\n",
    " 'wdist_num_elems': 0.129,\n",
    " 'cov_recall': 0.959,\n",
    " 'cov_precision': 0.982,\n",
    " 'amsd_recall': 0.194,\n",
    " 'amsd_precision': 0.216,\n",
    " 'amcd_recall': 4.174,\n",
    " 'amcd_precision': 3.724,\n",
    " 'struc_novelty': 0.873,\n",
    " 'comp_novelty': 0.736,\n",
    " 'novelty': 0.922,\n",
    " 'method': 'llamat2-conditional'}\n",
    "\n",
    "# {'comp_valid': 0.8782696177062375,\n",
    "#  'struct_valid': 0.9929577464788732,\n",
    "#  'valid': 0.8732394366197183,\n",
    "#  'comp_div': 15.571199340292052,\n",
    "#  'struct_div': 0.9869229138181784,\n",
    "#  'wdist_density': 0.6994115001718545,\n",
    "#  'wdist_num_elems': 0.07296959421940691,\n",
    "#  'cov_recall': 0.9292643988701953,\n",
    "#  'cov_precision': 0.9976958525345622,\n",
    "#  'amsd_recall': 0.1893616040611489,\n",
    "#  'amsd_precision': 0.11334040556446105,\n",
    "#  'amcd_recall': 5.15971819523058,\n",
    "#  'amcd_precision': 2.630082032588238,\n",
    "#  'struc_novelty': 0.402073732718894,\n",
    "#  'comp_novelty': 0.3444700460829493,\n",
    "#  'novelty': 0.5841013824884793}"
   ]
  },
  {
   "cell_type": "code",
   "execution_count": 64,
   "id": "fd22be65-f726-4768-8aa2-1fc3ee955bec",
   "metadata": {},
   "outputs": [
    {
     "data": {
      "text/plain": [
       "['relaxed_2250.cif',\n",
       " 'relaxed_569.cif',\n",
       " 'relaxed_6132.cif',\n",
       " 'relaxed_3167.cif',\n",
       " 'relaxed_3702.cif']"
      ]
     },
     "execution_count": 64,
     "metadata": {},
     "output_type": "execute_result"
    }
   ],
   "source": [
    "os.listdir('./relaxed/relaxed_structures_llamat2_m3gnet_str/')[:5]"
   ]
  },
  {
   "cell_type": "code",
   "execution_count": 65,
   "id": "d12ae70c-662d-4311-8d1e-e6bcbc9dce87",
   "metadata": {},
   "outputs": [],
   "source": [
    "ffff = ase.io.read('./relaxed/relaxed_structures_llamat2_m3gnet_str/relaxed_2250.cif')"
   ]
  },
  {
   "cell_type": "code",
   "execution_count": 66,
   "id": "c79f2b9b-1528-4ef7-9f19-d6f7c57f50d9",
   "metadata": {},
   "outputs": [
    {
     "data": {
      "text/plain": [
       "'Be4GaRu'"
      ]
     },
     "execution_count": 66,
     "metadata": {},
     "output_type": "execute_result"
    }
   ],
   "source": [
    "ffff.get_chemical_formula()"
   ]
  },
  {
   "cell_type": "code",
   "execution_count": 67,
   "id": "cfc4b763-805b-4233-aec1-6e370b8fcd9a",
   "metadata": {},
   "outputs": [],
   "source": [
    "metrics_llamat3_congen = {'comp_valid': 0.6162117452440034,\n",
    " 'struct_valid': 0.8112489660876757,\n",
    " 'valid': 0.5062034739454094,\n",
    " 'comp_div': 15.28758984347853,\n",
    " 'struct_div': 0.4821768826321802,\n",
    " 'wdist_density': 4.394579753143331,\n",
    " 'wdist_num_elems': 0.2793940628797764,\n",
    " 'cov_recall': 0.9360244648318042,\n",
    " 'cov_precision': 0.996078431372549,\n",
    " 'amsd_recall': 0.1957761116921352,\n",
    " 'amsd_precision': 0.20102959815274782,\n",
    " 'amcd_recall': 3.761770727043405,\n",
    " 'amcd_precision': 2.6059243799555727,\n",
    " 'struc_novelty': 0.9274509803921569,\n",
    " 'comp_novelty': 0.6186274509803922,\n",
    " 'novelty': 0.953921568627451,\n",
    "  'method': 'llamat3-conditional'}\n",
    "\n",
    "\n",
    "# {'comp_valid': 0.5621181262729125,\n",
    "#  'struct_valid': 0.6659877800407332,\n",
    "#  'valid': 0.4256619144602851,\n",
    "#  'comp_div': 15.04533186738125,\n",
    "#  'struct_div': 0.5125635516680817,\n",
    "#  'wdist_density': 11.791204907329718,\n",
    "#  'wdist_num_elems': 0.31365524639085507,\n",
    "#  'cov_recall': 0.5012894510622621,\n",
    "#  'cov_precision': 1.0,\n",
    "#  'amsd_recall': 0.39510580924426775,\n",
    "#  'amsd_precision': 0.2147817139006082,\n",
    "#  'amcd_recall': 7.651830772483437,\n",
    "#  'amcd_precision': 4.144427428076488,\n",
    "#  'struc_novelty': 0.9521531100478469,\n",
    "#  'comp_novelty': 0.8277511961722488,\n",
    "#  'novelty': 0.9665071770334929}"
   ]
  },
  {
   "cell_type": "code",
   "execution_count": 68,
   "id": "2a5c489b-e245-4b4e-8d7c-46f87a2caf4d",
   "metadata": {},
   "outputs": [],
   "source": [
    "# metriccs = metrics = {k: v for k,v in metrics.items()}\n",
    "# metrics['method'] = '17k_14k_cif'\n",
    "metrics['method'] = 'llamat3_1400_cif'\n",
    "metrics_llamat3['method'] = 'llamat3_cif'\n",
    "metrics_llamat2['method'] = 'llamat2_cif';\n",
    "metrics_llamat3_congen['method'] = 'llamat3_cif_congen'\n",
    "metrics_llamat2_congen['method'] = 'llamat2_cif_congen'"
   ]
  },
  {
   "cell_type": "code",
   "execution_count": 70,
   "id": "d16fd88f-37fa-4ce1-83fd-8fcf36a0cf66",
   "metadata": {},
   "outputs": [],
   "source": [
    "# metrics"
   ]
  },
  {
   "cell_type": "code",
   "execution_count": 72,
   "id": "70e427c7-d2bc-4758-ae8c-836fc2ab398a",
   "metadata": {
    "scrolled": true
   },
   "outputs": [],
   "source": [
    "results_df_fn = 'generative_model_results_17k_14k.csv'\n",
    "results_df = pd.read_csv(results_df_fn)\n",
    "\n",
    "results_df = pd.concat([\n",
    "    results_df,\n",
    "    pd.DataFrame([metrics_llamat2]),\n",
    "    pd.DataFrame([metrics_llamat3]),\n",
    "    pd.DataFrame([metrics]),\n",
    "    pd.DataFrame([metrics_llamat2_congen]),\n",
    "    pd.DataFrame([metrics_llamat3_congen])\n",
    "], ignore_index = True)\n",
    "\n"
   ]
  },
  {
   "cell_type": "code",
   "execution_count": 73,
   "id": "47121238-bded-40d2-9b8f-b09b91b6304a",
   "metadata": {},
   "outputs": [
    {
     "data": {
      "text/html": [
       "<div>\n",
       "<style scoped>\n",
       "    .dataframe tbody tr th:only-of-type {\n",
       "        vertical-align: middle;\n",
       "    }\n",
       "\n",
       "    .dataframe tbody tr th {\n",
       "        vertical-align: top;\n",
       "    }\n",
       "\n",
       "    .dataframe thead th {\n",
       "        text-align: right;\n",
       "    }\n",
       "</style>\n",
       "<table border=\"1\" class=\"dataframe\">\n",
       "  <thead>\n",
       "    <tr style=\"text-align: right;\">\n",
       "      <th></th>\n",
       "      <th>method</th>\n",
       "      <th>struct_valid</th>\n",
       "      <th>comp_valid</th>\n",
       "      <th>cov_recall</th>\n",
       "      <th>cov_precision</th>\n",
       "      <th>wdist_density</th>\n",
       "      <th>wdist_num_elems</th>\n",
       "      <th>valid</th>\n",
       "      <th>comp_div</th>\n",
       "      <th>struct_div</th>\n",
       "      <th>amsd_recall</th>\n",
       "      <th>amsd_precision</th>\n",
       "      <th>amcd_recall</th>\n",
       "      <th>amcd_precision</th>\n",
       "      <th>struc_novelty</th>\n",
       "      <th>comp_novelty</th>\n",
       "      <th>novelty</th>\n",
       "    </tr>\n",
       "  </thead>\n",
       "  <tbody>\n",
       "    <tr>\n",
       "      <th>0</th>\n",
       "      <td>Train</td>\n",
       "      <td>1.000000</td>\n",
       "      <td>0.911300</td>\n",
       "      <td>1.000000</td>\n",
       "      <td>1.000000</td>\n",
       "      <td>0.051000</td>\n",
       "      <td>0.016000</td>\n",
       "      <td>NaN</td>\n",
       "      <td>NaN</td>\n",
       "      <td>NaN</td>\n",
       "      <td>NaN</td>\n",
       "      <td>NaN</td>\n",
       "      <td>NaN</td>\n",
       "      <td>NaN</td>\n",
       "      <td>NaN</td>\n",
       "      <td>NaN</td>\n",
       "      <td>NaN</td>\n",
       "    </tr>\n",
       "    <tr>\n",
       "      <th>1</th>\n",
       "      <td>FTCP</td>\n",
       "      <td>0.015500</td>\n",
       "      <td>0.483700</td>\n",
       "      <td>0.047000</td>\n",
       "      <td>0.000900</td>\n",
       "      <td>23.710000</td>\n",
       "      <td>0.736000</td>\n",
       "      <td>NaN</td>\n",
       "      <td>NaN</td>\n",
       "      <td>NaN</td>\n",
       "      <td>NaN</td>\n",
       "      <td>NaN</td>\n",
       "      <td>NaN</td>\n",
       "      <td>NaN</td>\n",
       "      <td>NaN</td>\n",
       "      <td>NaN</td>\n",
       "      <td>NaN</td>\n",
       "    </tr>\n",
       "    <tr>\n",
       "      <th>2</th>\n",
       "      <td>GSchNet</td>\n",
       "      <td>0.996500</td>\n",
       "      <td>0.759600</td>\n",
       "      <td>0.383300</td>\n",
       "      <td>0.995700</td>\n",
       "      <td>3.034000</td>\n",
       "      <td>0.641000</td>\n",
       "      <td>NaN</td>\n",
       "      <td>NaN</td>\n",
       "      <td>NaN</td>\n",
       "      <td>NaN</td>\n",
       "      <td>NaN</td>\n",
       "      <td>NaN</td>\n",
       "      <td>NaN</td>\n",
       "      <td>NaN</td>\n",
       "      <td>NaN</td>\n",
       "      <td>NaN</td>\n",
       "    </tr>\n",
       "    <tr>\n",
       "      <th>3</th>\n",
       "      <td>PGSchNet</td>\n",
       "      <td>0.775100</td>\n",
       "      <td>0.764000</td>\n",
       "      <td>0.419300</td>\n",
       "      <td>0.997400</td>\n",
       "      <td>4.040000</td>\n",
       "      <td>0.623000</td>\n",
       "      <td>NaN</td>\n",
       "      <td>NaN</td>\n",
       "      <td>NaN</td>\n",
       "      <td>NaN</td>\n",
       "      <td>NaN</td>\n",
       "      <td>NaN</td>\n",
       "      <td>NaN</td>\n",
       "      <td>NaN</td>\n",
       "      <td>NaN</td>\n",
       "      <td>NaN</td>\n",
       "    </tr>\n",
       "    <tr>\n",
       "      <th>4</th>\n",
       "      <td>CDVAE</td>\n",
       "      <td>1.000000</td>\n",
       "      <td>0.867000</td>\n",
       "      <td>0.991500</td>\n",
       "      <td>0.994900</td>\n",
       "      <td>0.688000</td>\n",
       "      <td>1.432000</td>\n",
       "      <td>NaN</td>\n",
       "      <td>NaN</td>\n",
       "      <td>NaN</td>\n",
       "      <td>NaN</td>\n",
       "      <td>NaN</td>\n",
       "      <td>NaN</td>\n",
       "      <td>NaN</td>\n",
       "      <td>NaN</td>\n",
       "      <td>NaN</td>\n",
       "      <td>NaN</td>\n",
       "    </tr>\n",
       "    <tr>\n",
       "      <th>5</th>\n",
       "      <td>LM-CH</td>\n",
       "      <td>0.848100</td>\n",
       "      <td>0.835500</td>\n",
       "      <td>0.992500</td>\n",
       "      <td>0.978900</td>\n",
       "      <td>0.864000</td>\n",
       "      <td>0.132000</td>\n",
       "      <td>NaN</td>\n",
       "      <td>NaN</td>\n",
       "      <td>NaN</td>\n",
       "      <td>NaN</td>\n",
       "      <td>NaN</td>\n",
       "      <td>NaN</td>\n",
       "      <td>NaN</td>\n",
       "      <td>NaN</td>\n",
       "      <td>NaN</td>\n",
       "      <td>NaN</td>\n",
       "    </tr>\n",
       "    <tr>\n",
       "      <th>6</th>\n",
       "      <td>LM-AC</td>\n",
       "      <td>0.958100</td>\n",
       "      <td>0.888700</td>\n",
       "      <td>0.996000</td>\n",
       "      <td>0.985500</td>\n",
       "      <td>0.696000</td>\n",
       "      <td>0.092000</td>\n",
       "      <td>NaN</td>\n",
       "      <td>NaN</td>\n",
       "      <td>NaN</td>\n",
       "      <td>NaN</td>\n",
       "      <td>NaN</td>\n",
       "      <td>NaN</td>\n",
       "      <td>NaN</td>\n",
       "      <td>NaN</td>\n",
       "      <td>NaN</td>\n",
       "      <td>NaN</td>\n",
       "    </tr>\n",
       "    <tr>\n",
       "      <th>7</th>\n",
       "      <td>llamat2_cif</td>\n",
       "      <td>0.995100</td>\n",
       "      <td>0.878300</td>\n",
       "      <td>0.986369</td>\n",
       "      <td>0.995660</td>\n",
       "      <td>0.622582</td>\n",
       "      <td>0.022799</td>\n",
       "      <td>0.875500</td>\n",
       "      <td>15.537417</td>\n",
       "      <td>0.975478</td>\n",
       "      <td>0.132052</td>\n",
       "      <td>0.114047</td>\n",
       "      <td>3.237658</td>\n",
       "      <td>2.595309</td>\n",
       "      <td>0.397716</td>\n",
       "      <td>0.360708</td>\n",
       "      <td>0.588806</td>\n",
       "    </tr>\n",
       "    <tr>\n",
       "      <th>8</th>\n",
       "      <td>llamat3_cif</td>\n",
       "      <td>0.674294</td>\n",
       "      <td>0.602857</td>\n",
       "      <td>0.924721</td>\n",
       "      <td>0.993631</td>\n",
       "      <td>12.355126</td>\n",
       "      <td>0.260724</td>\n",
       "      <td>0.455631</td>\n",
       "      <td>14.813908</td>\n",
       "      <td>0.593143</td>\n",
       "      <td>0.213675</td>\n",
       "      <td>0.221372</td>\n",
       "      <td>4.792127</td>\n",
       "      <td>3.990914</td>\n",
       "      <td>0.915238</td>\n",
       "      <td>0.789319</td>\n",
       "      <td>0.946840</td>\n",
       "    </tr>\n",
       "    <tr>\n",
       "      <th>9</th>\n",
       "      <td>llamat3_1400_cif</td>\n",
       "      <td>0.728100</td>\n",
       "      <td>0.650500</td>\n",
       "      <td>0.959352</td>\n",
       "      <td>0.982497</td>\n",
       "      <td>10.404571</td>\n",
       "      <td>0.129352</td>\n",
       "      <td>0.519900</td>\n",
       "      <td>15.049131</td>\n",
       "      <td>0.646088</td>\n",
       "      <td>0.194311</td>\n",
       "      <td>0.216235</td>\n",
       "      <td>4.174398</td>\n",
       "      <td>3.724331</td>\n",
       "      <td>0.872668</td>\n",
       "      <td>0.735718</td>\n",
       "      <td>0.922485</td>\n",
       "    </tr>\n",
       "    <tr>\n",
       "      <th>10</th>\n",
       "      <td>llamat2_cif_congen</td>\n",
       "      <td>0.728000</td>\n",
       "      <td>0.650000</td>\n",
       "      <td>0.959000</td>\n",
       "      <td>0.982000</td>\n",
       "      <td>10.405000</td>\n",
       "      <td>0.129000</td>\n",
       "      <td>0.520000</td>\n",
       "      <td>15.049000</td>\n",
       "      <td>0.646000</td>\n",
       "      <td>0.194000</td>\n",
       "      <td>0.216000</td>\n",
       "      <td>4.174000</td>\n",
       "      <td>3.724000</td>\n",
       "      <td>0.873000</td>\n",
       "      <td>0.736000</td>\n",
       "      <td>0.922000</td>\n",
       "    </tr>\n",
       "    <tr>\n",
       "      <th>11</th>\n",
       "      <td>llamat3_cif_congen</td>\n",
       "      <td>0.811249</td>\n",
       "      <td>0.616212</td>\n",
       "      <td>0.936024</td>\n",
       "      <td>0.996078</td>\n",
       "      <td>4.394580</td>\n",
       "      <td>0.279394</td>\n",
       "      <td>0.506203</td>\n",
       "      <td>15.287590</td>\n",
       "      <td>0.482177</td>\n",
       "      <td>0.195776</td>\n",
       "      <td>0.201030</td>\n",
       "      <td>3.761771</td>\n",
       "      <td>2.605924</td>\n",
       "      <td>0.927451</td>\n",
       "      <td>0.618627</td>\n",
       "      <td>0.953922</td>\n",
       "    </tr>\n",
       "  </tbody>\n",
       "</table>\n",
       "</div>"
      ],
      "text/plain": [
       "                method  struct_valid  comp_valid  cov_recall  cov_precision  \\\n",
       "0                Train      1.000000    0.911300    1.000000       1.000000   \n",
       "1                 FTCP      0.015500    0.483700    0.047000       0.000900   \n",
       "2              GSchNet      0.996500    0.759600    0.383300       0.995700   \n",
       "3             PGSchNet      0.775100    0.764000    0.419300       0.997400   \n",
       "4                CDVAE      1.000000    0.867000    0.991500       0.994900   \n",
       "5                LM-CH      0.848100    0.835500    0.992500       0.978900   \n",
       "6                LM-AC      0.958100    0.888700    0.996000       0.985500   \n",
       "7          llamat2_cif      0.995100    0.878300    0.986369       0.995660   \n",
       "8          llamat3_cif      0.674294    0.602857    0.924721       0.993631   \n",
       "9     llamat3_1400_cif      0.728100    0.650500    0.959352       0.982497   \n",
       "10  llamat2_cif_congen      0.728000    0.650000    0.959000       0.982000   \n",
       "11  llamat3_cif_congen      0.811249    0.616212    0.936024       0.996078   \n",
       "\n",
       "    wdist_density  wdist_num_elems     valid   comp_div  struct_div  \\\n",
       "0        0.051000         0.016000       NaN        NaN         NaN   \n",
       "1       23.710000         0.736000       NaN        NaN         NaN   \n",
       "2        3.034000         0.641000       NaN        NaN         NaN   \n",
       "3        4.040000         0.623000       NaN        NaN         NaN   \n",
       "4        0.688000         1.432000       NaN        NaN         NaN   \n",
       "5        0.864000         0.132000       NaN        NaN         NaN   \n",
       "6        0.696000         0.092000       NaN        NaN         NaN   \n",
       "7        0.622582         0.022799  0.875500  15.537417    0.975478   \n",
       "8       12.355126         0.260724  0.455631  14.813908    0.593143   \n",
       "9       10.404571         0.129352  0.519900  15.049131    0.646088   \n",
       "10      10.405000         0.129000  0.520000  15.049000    0.646000   \n",
       "11       4.394580         0.279394  0.506203  15.287590    0.482177   \n",
       "\n",
       "    amsd_recall  amsd_precision  amcd_recall  amcd_precision  struc_novelty  \\\n",
       "0           NaN             NaN          NaN             NaN            NaN   \n",
       "1           NaN             NaN          NaN             NaN            NaN   \n",
       "2           NaN             NaN          NaN             NaN            NaN   \n",
       "3           NaN             NaN          NaN             NaN            NaN   \n",
       "4           NaN             NaN          NaN             NaN            NaN   \n",
       "5           NaN             NaN          NaN             NaN            NaN   \n",
       "6           NaN             NaN          NaN             NaN            NaN   \n",
       "7      0.132052        0.114047     3.237658        2.595309       0.397716   \n",
       "8      0.213675        0.221372     4.792127        3.990914       0.915238   \n",
       "9      0.194311        0.216235     4.174398        3.724331       0.872668   \n",
       "10     0.194000        0.216000     4.174000        3.724000       0.873000   \n",
       "11     0.195776        0.201030     3.761771        2.605924       0.927451   \n",
       "\n",
       "    comp_novelty   novelty  \n",
       "0            NaN       NaN  \n",
       "1            NaN       NaN  \n",
       "2            NaN       NaN  \n",
       "3            NaN       NaN  \n",
       "4            NaN       NaN  \n",
       "5            NaN       NaN  \n",
       "6            NaN       NaN  \n",
       "7       0.360708  0.588806  \n",
       "8       0.789319  0.946840  \n",
       "9       0.735718  0.922485  \n",
       "10      0.736000  0.922000  \n",
       "11      0.618627  0.953922  "
      ]
     },
     "execution_count": 73,
     "metadata": {},
     "output_type": "execute_result"
    }
   ],
   "source": [
    "results_df"
   ]
  },
  {
   "cell_type": "code",
   "execution_count": 36,
   "id": "8420b130-dde3-45c1-b942-befeba0803d0",
   "metadata": {},
   "outputs": [
    {
     "data": {
      "text/html": [
       "<div>\n",
       "<style scoped>\n",
       "    .dataframe tbody tr th:only-of-type {\n",
       "        vertical-align: middle;\n",
       "    }\n",
       "\n",
       "    .dataframe tbody tr th {\n",
       "        vertical-align: top;\n",
       "    }\n",
       "\n",
       "    .dataframe thead th {\n",
       "        text-align: right;\n",
       "    }\n",
       "</style>\n",
       "<table border=\"1\" class=\"dataframe\">\n",
       "  <thead>\n",
       "    <tr style=\"text-align: right;\">\n",
       "      <th></th>\n",
       "      <th>method</th>\n",
       "      <th>struct_valid</th>\n",
       "      <th>comp_valid</th>\n",
       "      <th>cov_recall</th>\n",
       "      <th>cov_precision</th>\n",
       "      <th>wdist_density</th>\n",
       "      <th>wdist_num_elems</th>\n",
       "      <th>valid</th>\n",
       "      <th>comp_div</th>\n",
       "      <th>struct_div</th>\n",
       "      <th>amsd_recall</th>\n",
       "      <th>amsd_precision</th>\n",
       "      <th>amcd_recall</th>\n",
       "      <th>amcd_precision</th>\n",
       "      <th>struc_novelty</th>\n",
       "      <th>comp_novelty</th>\n",
       "      <th>novelty</th>\n",
       "    </tr>\n",
       "  </thead>\n",
       "  <tbody>\n",
       "    <tr>\n",
       "      <th>0</th>\n",
       "      <td>Train</td>\n",
       "      <td>1.0000</td>\n",
       "      <td>0.9113</td>\n",
       "      <td>1.0000</td>\n",
       "      <td>1.0000</td>\n",
       "      <td>0.051</td>\n",
       "      <td>0.016</td>\n",
       "      <td>NaN</td>\n",
       "      <td>NaN</td>\n",
       "      <td>NaN</td>\n",
       "      <td>NaN</td>\n",
       "      <td>NaN</td>\n",
       "      <td>NaN</td>\n",
       "      <td>NaN</td>\n",
       "      <td>NaN</td>\n",
       "      <td>NaN</td>\n",
       "      <td>NaN</td>\n",
       "    </tr>\n",
       "    <tr>\n",
       "      <th>1</th>\n",
       "      <td>FTCP</td>\n",
       "      <td>0.0155</td>\n",
       "      <td>0.4837</td>\n",
       "      <td>0.0470</td>\n",
       "      <td>0.0009</td>\n",
       "      <td>23.710</td>\n",
       "      <td>0.736</td>\n",
       "      <td>NaN</td>\n",
       "      <td>NaN</td>\n",
       "      <td>NaN</td>\n",
       "      <td>NaN</td>\n",
       "      <td>NaN</td>\n",
       "      <td>NaN</td>\n",
       "      <td>NaN</td>\n",
       "      <td>NaN</td>\n",
       "      <td>NaN</td>\n",
       "      <td>NaN</td>\n",
       "    </tr>\n",
       "    <tr>\n",
       "      <th>2</th>\n",
       "      <td>GSchNet</td>\n",
       "      <td>0.9965</td>\n",
       "      <td>0.7596</td>\n",
       "      <td>0.3833</td>\n",
       "      <td>0.9957</td>\n",
       "      <td>3.034</td>\n",
       "      <td>0.641</td>\n",
       "      <td>NaN</td>\n",
       "      <td>NaN</td>\n",
       "      <td>NaN</td>\n",
       "      <td>NaN</td>\n",
       "      <td>NaN</td>\n",
       "      <td>NaN</td>\n",
       "      <td>NaN</td>\n",
       "      <td>NaN</td>\n",
       "      <td>NaN</td>\n",
       "      <td>NaN</td>\n",
       "    </tr>\n",
       "    <tr>\n",
       "      <th>3</th>\n",
       "      <td>PGSchNet</td>\n",
       "      <td>0.7751</td>\n",
       "      <td>0.7640</td>\n",
       "      <td>0.4193</td>\n",
       "      <td>0.9974</td>\n",
       "      <td>4.040</td>\n",
       "      <td>0.623</td>\n",
       "      <td>NaN</td>\n",
       "      <td>NaN</td>\n",
       "      <td>NaN</td>\n",
       "      <td>NaN</td>\n",
       "      <td>NaN</td>\n",
       "      <td>NaN</td>\n",
       "      <td>NaN</td>\n",
       "      <td>NaN</td>\n",
       "      <td>NaN</td>\n",
       "      <td>NaN</td>\n",
       "    </tr>\n",
       "    <tr>\n",
       "      <th>4</th>\n",
       "      <td>CDVAE</td>\n",
       "      <td>1.0000</td>\n",
       "      <td>0.8670</td>\n",
       "      <td>0.9915</td>\n",
       "      <td>0.9949</td>\n",
       "      <td>0.688</td>\n",
       "      <td>1.432</td>\n",
       "      <td>NaN</td>\n",
       "      <td>NaN</td>\n",
       "      <td>NaN</td>\n",
       "      <td>NaN</td>\n",
       "      <td>NaN</td>\n",
       "      <td>NaN</td>\n",
       "      <td>NaN</td>\n",
       "      <td>NaN</td>\n",
       "      <td>NaN</td>\n",
       "      <td>NaN</td>\n",
       "    </tr>\n",
       "    <tr>\n",
       "      <th>5</th>\n",
       "      <td>LM-CH</td>\n",
       "      <td>0.8481</td>\n",
       "      <td>0.8355</td>\n",
       "      <td>0.9925</td>\n",
       "      <td>0.9789</td>\n",
       "      <td>0.864</td>\n",
       "      <td>0.132</td>\n",
       "      <td>NaN</td>\n",
       "      <td>NaN</td>\n",
       "      <td>NaN</td>\n",
       "      <td>NaN</td>\n",
       "      <td>NaN</td>\n",
       "      <td>NaN</td>\n",
       "      <td>NaN</td>\n",
       "      <td>NaN</td>\n",
       "      <td>NaN</td>\n",
       "      <td>NaN</td>\n",
       "    </tr>\n",
       "    <tr>\n",
       "      <th>6</th>\n",
       "      <td>LM-AC</td>\n",
       "      <td>0.9581</td>\n",
       "      <td>0.8887</td>\n",
       "      <td>0.9960</td>\n",
       "      <td>0.9855</td>\n",
       "      <td>0.696</td>\n",
       "      <td>0.092</td>\n",
       "      <td>NaN</td>\n",
       "      <td>NaN</td>\n",
       "      <td>NaN</td>\n",
       "      <td>NaN</td>\n",
       "      <td>NaN</td>\n",
       "      <td>NaN</td>\n",
       "      <td>NaN</td>\n",
       "      <td>NaN</td>\n",
       "      <td>NaN</td>\n",
       "      <td>NaN</td>\n",
       "    </tr>\n",
       "    <tr>\n",
       "      <th>7</th>\n",
       "      <td>llamat2_cif</td>\n",
       "      <td>0.9950</td>\n",
       "      <td>0.8780</td>\n",
       "      <td>0.9860</td>\n",
       "      <td>0.9960</td>\n",
       "      <td>0.623</td>\n",
       "      <td>0.023</td>\n",
       "      <td>0.875</td>\n",
       "      <td>15.537</td>\n",
       "      <td>0.975</td>\n",
       "      <td>0.132</td>\n",
       "      <td>0.114</td>\n",
       "      <td>3.238</td>\n",
       "      <td>2.595</td>\n",
       "      <td>0.398</td>\n",
       "      <td>0.361</td>\n",
       "      <td>0.589</td>\n",
       "    </tr>\n",
       "    <tr>\n",
       "      <th>8</th>\n",
       "      <td>llamat3_cif</td>\n",
       "      <td>0.6740</td>\n",
       "      <td>0.6030</td>\n",
       "      <td>0.9250</td>\n",
       "      <td>0.9940</td>\n",
       "      <td>12.355</td>\n",
       "      <td>0.261</td>\n",
       "      <td>0.456</td>\n",
       "      <td>14.814</td>\n",
       "      <td>0.593</td>\n",
       "      <td>0.214</td>\n",
       "      <td>0.221</td>\n",
       "      <td>4.792</td>\n",
       "      <td>3.991</td>\n",
       "      <td>0.915</td>\n",
       "      <td>0.789</td>\n",
       "      <td>0.947</td>\n",
       "    </tr>\n",
       "    <tr>\n",
       "      <th>9</th>\n",
       "      <td>llamat3_1400_cif</td>\n",
       "      <td>0.7280</td>\n",
       "      <td>0.6500</td>\n",
       "      <td>0.9590</td>\n",
       "      <td>0.9820</td>\n",
       "      <td>10.405</td>\n",
       "      <td>0.129</td>\n",
       "      <td>0.520</td>\n",
       "      <td>15.049</td>\n",
       "      <td>0.646</td>\n",
       "      <td>0.194</td>\n",
       "      <td>0.216</td>\n",
       "      <td>4.174</td>\n",
       "      <td>3.724</td>\n",
       "      <td>0.873</td>\n",
       "      <td>0.736</td>\n",
       "      <td>0.922</td>\n",
       "    </tr>\n",
       "  </tbody>\n",
       "</table>\n",
       "</div>"
      ],
      "text/plain": [
       "             method  struct_valid  comp_valid  cov_recall  cov_precision  \\\n",
       "0             Train        1.0000      0.9113      1.0000         1.0000   \n",
       "1              FTCP        0.0155      0.4837      0.0470         0.0009   \n",
       "2           GSchNet        0.9965      0.7596      0.3833         0.9957   \n",
       "3          PGSchNet        0.7751      0.7640      0.4193         0.9974   \n",
       "4             CDVAE        1.0000      0.8670      0.9915         0.9949   \n",
       "5             LM-CH        0.8481      0.8355      0.9925         0.9789   \n",
       "6             LM-AC        0.9581      0.8887      0.9960         0.9855   \n",
       "7       llamat2_cif        0.9950      0.8780      0.9860         0.9960   \n",
       "8       llamat3_cif        0.6740      0.6030      0.9250         0.9940   \n",
       "9  llamat3_1400_cif        0.7280      0.6500      0.9590         0.9820   \n",
       "\n",
       "   wdist_density  wdist_num_elems  valid  comp_div  struct_div  amsd_recall  \\\n",
       "0          0.051            0.016    NaN       NaN         NaN          NaN   \n",
       "1         23.710            0.736    NaN       NaN         NaN          NaN   \n",
       "2          3.034            0.641    NaN       NaN         NaN          NaN   \n",
       "3          4.040            0.623    NaN       NaN         NaN          NaN   \n",
       "4          0.688            1.432    NaN       NaN         NaN          NaN   \n",
       "5          0.864            0.132    NaN       NaN         NaN          NaN   \n",
       "6          0.696            0.092    NaN       NaN         NaN          NaN   \n",
       "7          0.623            0.023  0.875    15.537       0.975        0.132   \n",
       "8         12.355            0.261  0.456    14.814       0.593        0.214   \n",
       "9         10.405            0.129  0.520    15.049       0.646        0.194   \n",
       "\n",
       "   amsd_precision  amcd_recall  amcd_precision  struc_novelty  comp_novelty  \\\n",
       "0             NaN          NaN             NaN            NaN           NaN   \n",
       "1             NaN          NaN             NaN            NaN           NaN   \n",
       "2             NaN          NaN             NaN            NaN           NaN   \n",
       "3             NaN          NaN             NaN            NaN           NaN   \n",
       "4             NaN          NaN             NaN            NaN           NaN   \n",
       "5             NaN          NaN             NaN            NaN           NaN   \n",
       "6             NaN          NaN             NaN            NaN           NaN   \n",
       "7           0.114        3.238           2.595          0.398         0.361   \n",
       "8           0.221        4.792           3.991          0.915         0.789   \n",
       "9           0.216        4.174           3.724          0.873         0.736   \n",
       "\n",
       "   novelty  \n",
       "0      NaN  \n",
       "1      NaN  \n",
       "2      NaN  \n",
       "3      NaN  \n",
       "4      NaN  \n",
       "5      NaN  \n",
       "6      NaN  \n",
       "7    0.589  \n",
       "8    0.947  \n",
       "9    0.922  "
      ]
     },
     "execution_count": 36,
     "metadata": {},
     "output_type": "execute_result"
    }
   ],
   "source": [
    "results_df"
   ]
  },
  {
   "cell_type": "code",
   "execution_count": 85,
   "id": "eff88539-aedf-4944-bc43-c354ef8c8bb6",
   "metadata": {},
   "outputs": [],
   "source": [
    "results_df_fn = 'final_results_with_congen.csv'\n",
    "results_df.to_csv(results_df_fn, index=False)\n",
    "# results_df_fn = 'llamat2_cif_results.csv'"
   ]
  },
  {
   "cell_type": "code",
   "execution_count": 38,
   "id": "1fe9e765-0764-4009-99fb-ad0230a8bb76",
   "metadata": {},
   "outputs": [
    {
     "data": {
      "text/html": [
       "<div>\n",
       "<style scoped>\n",
       "    .dataframe tbody tr th:only-of-type {\n",
       "        vertical-align: middle;\n",
       "    }\n",
       "\n",
       "    .dataframe tbody tr th {\n",
       "        vertical-align: top;\n",
       "    }\n",
       "\n",
       "    .dataframe thead th {\n",
       "        text-align: right;\n",
       "    }\n",
       "</style>\n",
       "<table border=\"1\" class=\"dataframe\">\n",
       "  <thead>\n",
       "    <tr style=\"text-align: right;\">\n",
       "      <th></th>\n",
       "      <th>method</th>\n",
       "      <th>struct_valid</th>\n",
       "      <th>comp_valid</th>\n",
       "      <th>cov_recall</th>\n",
       "      <th>cov_precision</th>\n",
       "      <th>wdist_density</th>\n",
       "      <th>wdist_num_elems</th>\n",
       "      <th>valid</th>\n",
       "      <th>comp_div</th>\n",
       "      <th>struct_div</th>\n",
       "      <th>amsd_recall</th>\n",
       "      <th>amsd_precision</th>\n",
       "      <th>amcd_recall</th>\n",
       "      <th>amcd_precision</th>\n",
       "      <th>struc_novelty</th>\n",
       "      <th>comp_novelty</th>\n",
       "      <th>novelty</th>\n",
       "    </tr>\n",
       "  </thead>\n",
       "  <tbody>\n",
       "    <tr>\n",
       "      <th>0</th>\n",
       "      <td>Train</td>\n",
       "      <td>1.0000</td>\n",
       "      <td>0.9113</td>\n",
       "      <td>1.0000</td>\n",
       "      <td>1.0000</td>\n",
       "      <td>0.051</td>\n",
       "      <td>0.016</td>\n",
       "      <td>NaN</td>\n",
       "      <td>NaN</td>\n",
       "      <td>NaN</td>\n",
       "      <td>NaN</td>\n",
       "      <td>NaN</td>\n",
       "      <td>NaN</td>\n",
       "      <td>NaN</td>\n",
       "      <td>NaN</td>\n",
       "      <td>NaN</td>\n",
       "      <td>NaN</td>\n",
       "    </tr>\n",
       "    <tr>\n",
       "      <th>1</th>\n",
       "      <td>FTCP</td>\n",
       "      <td>0.0155</td>\n",
       "      <td>0.4837</td>\n",
       "      <td>0.0470</td>\n",
       "      <td>0.0009</td>\n",
       "      <td>23.710</td>\n",
       "      <td>0.736</td>\n",
       "      <td>NaN</td>\n",
       "      <td>NaN</td>\n",
       "      <td>NaN</td>\n",
       "      <td>NaN</td>\n",
       "      <td>NaN</td>\n",
       "      <td>NaN</td>\n",
       "      <td>NaN</td>\n",
       "      <td>NaN</td>\n",
       "      <td>NaN</td>\n",
       "      <td>NaN</td>\n",
       "    </tr>\n",
       "    <tr>\n",
       "      <th>2</th>\n",
       "      <td>GSchNet</td>\n",
       "      <td>0.9965</td>\n",
       "      <td>0.7596</td>\n",
       "      <td>0.3833</td>\n",
       "      <td>0.9957</td>\n",
       "      <td>3.034</td>\n",
       "      <td>0.641</td>\n",
       "      <td>NaN</td>\n",
       "      <td>NaN</td>\n",
       "      <td>NaN</td>\n",
       "      <td>NaN</td>\n",
       "      <td>NaN</td>\n",
       "      <td>NaN</td>\n",
       "      <td>NaN</td>\n",
       "      <td>NaN</td>\n",
       "      <td>NaN</td>\n",
       "      <td>NaN</td>\n",
       "    </tr>\n",
       "    <tr>\n",
       "      <th>3</th>\n",
       "      <td>PGSchNet</td>\n",
       "      <td>0.7751</td>\n",
       "      <td>0.7640</td>\n",
       "      <td>0.4193</td>\n",
       "      <td>0.9974</td>\n",
       "      <td>4.040</td>\n",
       "      <td>0.623</td>\n",
       "      <td>NaN</td>\n",
       "      <td>NaN</td>\n",
       "      <td>NaN</td>\n",
       "      <td>NaN</td>\n",
       "      <td>NaN</td>\n",
       "      <td>NaN</td>\n",
       "      <td>NaN</td>\n",
       "      <td>NaN</td>\n",
       "      <td>NaN</td>\n",
       "      <td>NaN</td>\n",
       "    </tr>\n",
       "    <tr>\n",
       "      <th>4</th>\n",
       "      <td>CDVAE</td>\n",
       "      <td>1.0000</td>\n",
       "      <td>0.8670</td>\n",
       "      <td>0.9915</td>\n",
       "      <td>0.9949</td>\n",
       "      <td>0.688</td>\n",
       "      <td>1.432</td>\n",
       "      <td>NaN</td>\n",
       "      <td>NaN</td>\n",
       "      <td>NaN</td>\n",
       "      <td>NaN</td>\n",
       "      <td>NaN</td>\n",
       "      <td>NaN</td>\n",
       "      <td>NaN</td>\n",
       "      <td>NaN</td>\n",
       "      <td>NaN</td>\n",
       "      <td>NaN</td>\n",
       "    </tr>\n",
       "    <tr>\n",
       "      <th>5</th>\n",
       "      <td>LM-CH</td>\n",
       "      <td>0.8481</td>\n",
       "      <td>0.8355</td>\n",
       "      <td>0.9925</td>\n",
       "      <td>0.9789</td>\n",
       "      <td>0.864</td>\n",
       "      <td>0.132</td>\n",
       "      <td>NaN</td>\n",
       "      <td>NaN</td>\n",
       "      <td>NaN</td>\n",
       "      <td>NaN</td>\n",
       "      <td>NaN</td>\n",
       "      <td>NaN</td>\n",
       "      <td>NaN</td>\n",
       "      <td>NaN</td>\n",
       "      <td>NaN</td>\n",
       "      <td>NaN</td>\n",
       "    </tr>\n",
       "    <tr>\n",
       "      <th>6</th>\n",
       "      <td>LM-AC</td>\n",
       "      <td>0.9581</td>\n",
       "      <td>0.8887</td>\n",
       "      <td>0.9960</td>\n",
       "      <td>0.9855</td>\n",
       "      <td>0.696</td>\n",
       "      <td>0.092</td>\n",
       "      <td>NaN</td>\n",
       "      <td>NaN</td>\n",
       "      <td>NaN</td>\n",
       "      <td>NaN</td>\n",
       "      <td>NaN</td>\n",
       "      <td>NaN</td>\n",
       "      <td>NaN</td>\n",
       "      <td>NaN</td>\n",
       "      <td>NaN</td>\n",
       "      <td>NaN</td>\n",
       "    </tr>\n",
       "    <tr>\n",
       "      <th>7</th>\n",
       "      <td>llamat2_cif</td>\n",
       "      <td>0.9950</td>\n",
       "      <td>0.8780</td>\n",
       "      <td>0.9860</td>\n",
       "      <td>0.9960</td>\n",
       "      <td>0.623</td>\n",
       "      <td>0.023</td>\n",
       "      <td>0.875</td>\n",
       "      <td>15.537</td>\n",
       "      <td>0.975</td>\n",
       "      <td>0.132</td>\n",
       "      <td>0.114</td>\n",
       "      <td>3.238</td>\n",
       "      <td>2.595</td>\n",
       "      <td>0.398</td>\n",
       "      <td>0.361</td>\n",
       "      <td>0.589</td>\n",
       "    </tr>\n",
       "    <tr>\n",
       "      <th>8</th>\n",
       "      <td>llamat3_cif</td>\n",
       "      <td>0.6740</td>\n",
       "      <td>0.6030</td>\n",
       "      <td>0.9250</td>\n",
       "      <td>0.9940</td>\n",
       "      <td>12.355</td>\n",
       "      <td>0.261</td>\n",
       "      <td>0.456</td>\n",
       "      <td>14.814</td>\n",
       "      <td>0.593</td>\n",
       "      <td>0.214</td>\n",
       "      <td>0.221</td>\n",
       "      <td>4.792</td>\n",
       "      <td>3.991</td>\n",
       "      <td>0.915</td>\n",
       "      <td>0.789</td>\n",
       "      <td>0.947</td>\n",
       "    </tr>\n",
       "    <tr>\n",
       "      <th>9</th>\n",
       "      <td>llamat3_1400_cif</td>\n",
       "      <td>0.7280</td>\n",
       "      <td>0.6500</td>\n",
       "      <td>0.9590</td>\n",
       "      <td>0.9820</td>\n",
       "      <td>10.405</td>\n",
       "      <td>0.129</td>\n",
       "      <td>0.520</td>\n",
       "      <td>15.049</td>\n",
       "      <td>0.646</td>\n",
       "      <td>0.194</td>\n",
       "      <td>0.216</td>\n",
       "      <td>4.174</td>\n",
       "      <td>3.724</td>\n",
       "      <td>0.873</td>\n",
       "      <td>0.736</td>\n",
       "      <td>0.922</td>\n",
       "    </tr>\n",
       "  </tbody>\n",
       "</table>\n",
       "</div>"
      ],
      "text/plain": [
       "             method  struct_valid  comp_valid  cov_recall  cov_precision  \\\n",
       "0             Train        1.0000      0.9113      1.0000         1.0000   \n",
       "1              FTCP        0.0155      0.4837      0.0470         0.0009   \n",
       "2           GSchNet        0.9965      0.7596      0.3833         0.9957   \n",
       "3          PGSchNet        0.7751      0.7640      0.4193         0.9974   \n",
       "4             CDVAE        1.0000      0.8670      0.9915         0.9949   \n",
       "5             LM-CH        0.8481      0.8355      0.9925         0.9789   \n",
       "6             LM-AC        0.9581      0.8887      0.9960         0.9855   \n",
       "7       llamat2_cif        0.9950      0.8780      0.9860         0.9960   \n",
       "8       llamat3_cif        0.6740      0.6030      0.9250         0.9940   \n",
       "9  llamat3_1400_cif        0.7280      0.6500      0.9590         0.9820   \n",
       "\n",
       "   wdist_density  wdist_num_elems  valid  comp_div  struct_div  amsd_recall  \\\n",
       "0          0.051            0.016    NaN       NaN         NaN          NaN   \n",
       "1         23.710            0.736    NaN       NaN         NaN          NaN   \n",
       "2          3.034            0.641    NaN       NaN         NaN          NaN   \n",
       "3          4.040            0.623    NaN       NaN         NaN          NaN   \n",
       "4          0.688            1.432    NaN       NaN         NaN          NaN   \n",
       "5          0.864            0.132    NaN       NaN         NaN          NaN   \n",
       "6          0.696            0.092    NaN       NaN         NaN          NaN   \n",
       "7          0.623            0.023  0.875    15.537       0.975        0.132   \n",
       "8         12.355            0.261  0.456    14.814       0.593        0.214   \n",
       "9         10.405            0.129  0.520    15.049       0.646        0.194   \n",
       "\n",
       "   amsd_precision  amcd_recall  amcd_precision  struc_novelty  comp_novelty  \\\n",
       "0             NaN          NaN             NaN            NaN           NaN   \n",
       "1             NaN          NaN             NaN            NaN           NaN   \n",
       "2             NaN          NaN             NaN            NaN           NaN   \n",
       "3             NaN          NaN             NaN            NaN           NaN   \n",
       "4             NaN          NaN             NaN            NaN           NaN   \n",
       "5             NaN          NaN             NaN            NaN           NaN   \n",
       "6             NaN          NaN             NaN            NaN           NaN   \n",
       "7           0.114        3.238           2.595          0.398         0.361   \n",
       "8           0.221        4.792           3.991          0.915         0.789   \n",
       "9           0.216        4.174           3.724          0.873         0.736   \n",
       "\n",
       "   novelty  \n",
       "0      NaN  \n",
       "1      NaN  \n",
       "2      NaN  \n",
       "3      NaN  \n",
       "4      NaN  \n",
       "5      NaN  \n",
       "6      NaN  \n",
       "7    0.589  \n",
       "8    0.947  \n",
       "9    0.922  "
      ]
     },
     "execution_count": 38,
     "metadata": {},
     "output_type": "execute_result"
    }
   ],
   "source": [
    "results_df"
   ]
  },
  {
   "cell_type": "code",
   "execution_count": 86,
   "id": "e82df611-2e6f-4a56-b8ff-74f18930ad1c",
   "metadata": {},
   "outputs": [],
   "source": [
    "dfcgenl3 = pd.read_csv('llamat3_cif_adapter_cleaned.csv')\n",
    "dfcgenl2 = pd.read_csv('llamat2_cif_adapter_cleaned.csv')"
   ]
  },
  {
   "cell_type": "code",
   "execution_count": 88,
   "id": "6cd87e47-f7b7-4e14-8607-2b73bf2fead7",
   "metadata": {},
   "outputs": [],
   "source": [
    "dfgentest = pd.read_csv(\"data/with_tags/test.csv\").drop_duplicates().rename(columns={\"spacegroup.number\": \"spacegroup_number\"})"
   ]
  },
  {
   "cell_type": "code",
   "execution_count": 89,
   "id": "a479c2a1-ea1b-49b8-bda2-b825407b50c1",
   "metadata": {},
   "outputs": [
    {
     "data": {
      "text/html": [
       "<div>\n",
       "<style scoped>\n",
       "    .dataframe tbody tr th:only-of-type {\n",
       "        vertical-align: middle;\n",
       "    }\n",
       "\n",
       "    .dataframe tbody tr th {\n",
       "        vertical-align: top;\n",
       "    }\n",
       "\n",
       "    .dataframe thead th {\n",
       "        text-align: right;\n",
       "    }\n",
       "</style>\n",
       "<table border=\"1\" class=\"dataframe\">\n",
       "  <thead>\n",
       "    <tr style=\"text-align: right;\">\n",
       "      <th></th>\n",
       "      <th>Unnamed: 0</th>\n",
       "      <th>material_id</th>\n",
       "      <th>formation_energy_per_atom</th>\n",
       "      <th>band_gap</th>\n",
       "      <th>pretty_formula</th>\n",
       "      <th>e_above_hull</th>\n",
       "      <th>elements</th>\n",
       "      <th>cif</th>\n",
       "      <th>spacegroup_number</th>\n",
       "    </tr>\n",
       "  </thead>\n",
       "  <tbody>\n",
       "    <tr>\n",
       "      <th>0</th>\n",
       "      <td>6000</td>\n",
       "      <td>mp-10009</td>\n",
       "      <td>-0.575092</td>\n",
       "      <td>0.898</td>\n",
       "      <td>GaTe</td>\n",
       "      <td>0.000000</td>\n",
       "      <td>['Ga', 'Te']</td>\n",
       "      <td># generated using pymatgen\\ndata_GaTe\\n_symmet...</td>\n",
       "      <td>194</td>\n",
       "    </tr>\n",
       "    <tr>\n",
       "      <th>1</th>\n",
       "      <td>37702</td>\n",
       "      <td>mp-1218989</td>\n",
       "      <td>-0.942488</td>\n",
       "      <td>0.000</td>\n",
       "      <td>SmThCN</td>\n",
       "      <td>0.044109</td>\n",
       "      <td>['C', 'N', 'Sm', 'Th']</td>\n",
       "      <td># generated using pymatgen\\ndata_SmThCN\\n_symm...</td>\n",
       "      <td>160</td>\n",
       "    </tr>\n",
       "    <tr>\n",
       "      <th>2</th>\n",
       "      <td>42245</td>\n",
       "      <td>mp-1225695</td>\n",
       "      <td>0.064863</td>\n",
       "      <td>0.000</td>\n",
       "      <td>CuNi</td>\n",
       "      <td>0.064863</td>\n",
       "      <td>['Cu', 'Ni']</td>\n",
       "      <td># generated using pymatgen\\ndata_CuNi\\n_symmet...</td>\n",
       "      <td>65</td>\n",
       "    </tr>\n",
       "    <tr>\n",
       "      <th>3</th>\n",
       "      <td>780</td>\n",
       "      <td>mp-1220884</td>\n",
       "      <td>-1.456116</td>\n",
       "      <td>0.000</td>\n",
       "      <td>NaTiVS4</td>\n",
       "      <td>0.000000</td>\n",
       "      <td>['Na', 'S', 'Ti', 'V']</td>\n",
       "      <td># generated using pymatgen\\ndata_NaTiVS4\\n_sym...</td>\n",
       "      <td>8</td>\n",
       "    </tr>\n",
       "    <tr>\n",
       "      <th>4</th>\n",
       "      <td>35749</td>\n",
       "      <td>mp-1224266</td>\n",
       "      <td>0.024139</td>\n",
       "      <td>0.000</td>\n",
       "      <td>Ho3TmMn8</td>\n",
       "      <td>0.036496</td>\n",
       "      <td>['Ho', 'Mn', 'Tm']</td>\n",
       "      <td># generated using pymatgen\\ndata_Ho3TmMn8\\n_sy...</td>\n",
       "      <td>8</td>\n",
       "    </tr>\n",
       "  </tbody>\n",
       "</table>\n",
       "</div>"
      ],
      "text/plain": [
       "   Unnamed: 0 material_id  formation_energy_per_atom  band_gap pretty_formula  \\\n",
       "0        6000    mp-10009                  -0.575092     0.898           GaTe   \n",
       "1       37702  mp-1218989                  -0.942488     0.000         SmThCN   \n",
       "2       42245  mp-1225695                   0.064863     0.000           CuNi   \n",
       "3         780  mp-1220884                  -1.456116     0.000        NaTiVS4   \n",
       "4       35749  mp-1224266                   0.024139     0.000       Ho3TmMn8   \n",
       "\n",
       "   e_above_hull                elements  \\\n",
       "0      0.000000            ['Ga', 'Te']   \n",
       "1      0.044109  ['C', 'N', 'Sm', 'Th']   \n",
       "2      0.064863            ['Cu', 'Ni']   \n",
       "3      0.000000  ['Na', 'S', 'Ti', 'V']   \n",
       "4      0.036496      ['Ho', 'Mn', 'Tm']   \n",
       "\n",
       "                                                 cif  spacegroup_number  \n",
       "0  # generated using pymatgen\\ndata_GaTe\\n_symmet...                194  \n",
       "1  # generated using pymatgen\\ndata_SmThCN\\n_symm...                160  \n",
       "2  # generated using pymatgen\\ndata_CuNi\\n_symmet...                 65  \n",
       "3  # generated using pymatgen\\ndata_NaTiVS4\\n_sym...                  8  \n",
       "4  # generated using pymatgen\\ndata_Ho3TmMn8\\n_sy...                  8  "
      ]
     },
     "execution_count": 89,
     "metadata": {},
     "output_type": "execute_result"
    }
   ],
   "source": [
    "dfgentest.head()"
   ]
  },
  {
   "cell_type": "code",
   "execution_count": 93,
   "id": "e18afa67-9c29-4eaa-a424-080a10be0a25",
   "metadata": {},
   "outputs": [
    {
     "data": {
      "text/plain": [
       "Atoms(symbols='Pr2Ti2O6', pbc=True, cell=[[8.1, 0.0, 0.0], [6.113147599804454, 5.314078134823108, 0.0], [-7.014805770653953, -2.622728407209111, 3.0860647598549114]], spacegroup_kinds=...)"
      ]
     },
     "execution_count": 93,
     "metadata": {},
     "output_type": "execute_result"
    }
   ],
   "source": [
    "ase.io.read('./llamat2_cif_adapter_cleaned/1.cif')"
   ]
  },
  {
   "cell_type": "code",
   "execution_count": 94,
   "id": "36e67eef-01d8-4a36-b5c9-1397550ef145",
   "metadata": {},
   "outputs": [
    {
     "data": {
      "text/html": [
       "<div>\n",
       "<style scoped>\n",
       "    .dataframe tbody tr th:only-of-type {\n",
       "        vertical-align: middle;\n",
       "    }\n",
       "\n",
       "    .dataframe tbody tr th {\n",
       "        vertical-align: top;\n",
       "    }\n",
       "\n",
       "    .dataframe thead th {\n",
       "        text-align: right;\n",
       "    }\n",
       "</style>\n",
       "<table border=\"1\" class=\"dataframe\">\n",
       "  <thead>\n",
       "    <tr style=\"text-align: right;\">\n",
       "      <th></th>\n",
       "      <th>Unnamed: 0</th>\n",
       "      <th>material_id</th>\n",
       "      <th>formation_energy_per_atom</th>\n",
       "      <th>band_gap</th>\n",
       "      <th>pretty_formula</th>\n",
       "      <th>e_above_hull</th>\n",
       "      <th>elements</th>\n",
       "      <th>cif</th>\n",
       "      <th>spacegroup_number</th>\n",
       "    </tr>\n",
       "  </thead>\n",
       "  <tbody>\n",
       "  </tbody>\n",
       "</table>\n",
       "</div>"
      ],
      "text/plain": [
       "Empty DataFrame\n",
       "Columns: [Unnamed: 0, material_id, formation_energy_per_atom, band_gap, pretty_formula, e_above_hull, elements, cif, spacegroup_number]\n",
       "Index: []"
      ]
     },
     "execution_count": 94,
     "metadata": {},
     "output_type": "execute_result"
    }
   ],
   "source": [
    "dfgentest[dfgentest.pretty_formula=='Pr2Ti2O6']"
   ]
  },
  {
   "cell_type": "code",
   "execution_count": null,
   "id": "0af08964-99ff-4079-87c9-4dbd7dbadf70",
   "metadata": {},
   "outputs": [],
   "source": [
    "\n",
    "# def main(args):\n",
    "    \n",
    "    \n",
    "\n",
    "    \n",
    "\n",
    "    \n",
    "    \n",
    "    \n",
    "    \n",
    "   \n",
    "    \n",
    "\n",
    "    \n",
    "\n",
    "    metrics = CDVAEGenEval(\n",
    "        pred_crys, \n",
    "        gt_cov_crys,\n",
    "        gt_novelty_crys,\n",
    "        n_samples=len(valid_crys), \n",
    "        eval_model_name='mp20'\n",
    "    ).get_metrics()\n",
    "\n",
    "    metrics = {k: v for k,v in metrics.items()}\n",
    "    metrics['method'] = args.model_name\n",
    "\n",
    "    results_df = pd.read_csv(results_df_fn)\n",
    "\n",
    "    results_df = pd.concat([\n",
    "        results_df,\n",
    "        pd.DataFrame([metrics])\n",
    "    ])\n",
    "\n",
    "    results_df.to_csv(results_df_fn, index=False)\n",
    "\n",
    "    print(results_df)\n",
    "\n",
    "if __name__ == \"__main__\":\n",
    "    parser = argparse.ArgumentParser()\n",
    "    parser.add_argument(\"--model_name\", type=str, required=True)\n",
    "    parser.add_argument(\"--test_cov_path\", type=str, default='data/basic/test.csv')\n",
    "    parser.add_argument(\"--test_novelty_path\", type=str, default='data/basic/train.csv')\n",
    "    parser.add_argument(\"--samples_path\", type=str, required=True)\n",
    "    args = parser.parse_args()\n",
    "\n",
    "    with warnings.catch_warnings():\n",
    "        warnings.simplefilter(\"ignore\")\n",
    "        main(args)"
   ]
  },
  {
   "cell_type": "code",
   "execution_count": 18,
   "id": "1c98c905-86de-4a83-8a7a-e4fd343bbfbc",
   "metadata": {},
   "outputs": [
    {
     "name": "stdout",
     "output_type": "stream",
     "text": [
      "        file_name  mat_sci_micro_f1  mat_sci_macro_f1  english_micro_f1  \\\n",
      "0    LLaMa3chat_1            77.344            69.767            86.118   \n",
      "1        LLaMa3_1            85.895            79.106            86.233   \n",
      "2       LLaMaT3_1            84.584            77.141            84.260   \n",
      "3    LLama2chat_1            86.601            80.700            83.900   \n",
      "4        LLama2_1            87.103            81.217            83.830   \n",
      "5   LLaMaT2chat_1            88.976            83.565            84.542   \n",
      "6       LLaMaT2_1            88.152            82.324            82.360   \n",
      "7   LLaMaT3chat_1            89.059            83.183            87.738   \n",
      "8    LLaMa3chat_2            84.715            78.406            87.145   \n",
      "9       LLaMaT2_2            91.614            86.414            85.245   \n",
      "10       LLaMa3_2            88.810            82.742            87.602   \n",
      "11      LLaMaT3_2            89.611            83.883            86.227   \n",
      "12       LLama2_2            91.330            85.533            86.517   \n",
      "13   LLama2chat_2            91.162            85.866            86.338   \n",
      "14  LLaMaT3chat_2            92.394            87.414            87.300   \n",
      "15  LLaMaT2chat_2            92.207            87.096            86.727   \n",
      "\n",
      "    english_macro_f1  \n",
      "0             81.703  \n",
      "1             81.627  \n",
      "2             79.565  \n",
      "3             79.208  \n",
      "4             79.430  \n",
      "5             79.845  \n",
      "6             77.673  \n",
      "7             83.290  \n",
      "8             82.915  \n",
      "9             80.845  \n",
      "10            83.290  \n",
      "11            81.900  \n",
      "12            82.220  \n",
      "13            82.007  \n",
      "14            82.855  \n",
      "15            82.178  \n"
     ]
    }
   ],
   "source": [
    "import pandas as pd\n",
    "\n",
    "filename=\"/home/cse/btech/cs1200389/MatLlama/MatLLaMA/src/infer_logs/full_ex_results.csv\"\n",
    "df = pd.read_csv(filename)\n",
    "\n",
    "for i in range(len(df)): \n",
    "    epochs = '1' if '1epochs' in df.iloc[i,0] else '2'\n",
    "    name = 'LLaMa3' if 'llama3' in df.iloc[i,0] else 'LLama2'# if 'llama2' in df.iloc[i,0]\n",
    "    name = 'LLaMaT3' if 'llamat3' in df.iloc[i,0] else 'LLaMaT2' if 'llamat2' in df.iloc[i,0] else name\n",
    "    name += 'chat' if 'chat' in df.iloc[i,0] and 'nochat' not in df.iloc[i,0] else \"\"\n",
    "    name = name + \"_\" + epochs\n",
    "    df.iloc[i,0] = name\n",
    "\n",
    "df.to_csv(filename.split('.')[0] + '_namefix.csv', index = False)\n",
    "print(df)\n"
   ]
  },
  {
   "cell_type": "code",
   "execution_count": null,
   "id": "87e97a9a-d157-4635-86a9-49d26b0b32ab",
   "metadata": {},
   "outputs": [],
   "source": []
  }
 ],
 "metadata": {
  "kernelspec": {
   "display_name": "Python 3 (ipykernel)",
   "language": "python",
   "name": "python3"
  },
  "language_info": {
   "codemirror_mode": {
    "name": "ipython",
    "version": 3
   },
   "file_extension": ".py",
   "mimetype": "text/x-python",
   "name": "python",
   "nbconvert_exporter": "python",
   "pygments_lexer": "ipython3",
   "version": "3.10.14"
  }
 },
 "nbformat": 4,
 "nbformat_minor": 5
}
