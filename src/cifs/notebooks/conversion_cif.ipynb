{
 "cells": [
  {
   "cell_type": "code",
   "execution_count": 2,
   "id": "2e5e3c7b-01e9-460f-ad06-6ff5485ea38e",
   "metadata": {},
   "outputs": [],
   "source": [
    "import os\n",
    "import pandas as pd"
   ]
  },
  {
   "cell_type": "code",
   "execution_count": 29,
   "id": "a657e544-cc88-40b4-8b5a-cc428faffd82",
   "metadata": {},
   "outputs": [],
   "source": [
    "import json"
   ]
  },
  {
   "cell_type": "code",
   "execution_count": 145,
   "id": "fb232b99-5c5c-4de2-9bff-501f3d39848e",
   "metadata": {},
   "outputs": [],
   "source": [
    "valfile = []\n",
    "with open(\"/scratch/cse/btech/cs1200448/MatLlama/ift_cif_large/val.jsonl\", 'r') as f:\n",
    "    valfile = [json.loads(line) for line in f.readlines()]\n",
    "\n",
    "out_dict = dict()\n",
    "pred_dict = dict()\n",
    "\n",
    "# tasks = [\"atom count\", \"dimensions_synt\", \"atom name\", \"replace\", \"space group\", \"cell_volume\", \"formula\", \"dimensions_sem\", \"vol_calc\"]\n",
    "\n",
    "# [\"infill\", \"formula_compute\", \"conditional_generation\", \"element_generation\"]\n",
    "task = 'element_generation'\n",
    "tasks = ['element_generation'] \n",
    "for task in tasks:\n",
    "    # out_dict[task] = []\n",
    "    pred_dict[task] = []\n",
    "    \n",
    "for _, sample in enumerate(valfile):\n",
    "    task = sample['task']\n",
    "    system = sample['system']\n",
    "\n",
    "    # with open(f'/home/cse/btech/cs1200448/MatLlama/cif_infer_outputs_cs/{_}.txt', 'r') as f:\n",
    "    #     output = f.read()\n",
    "\n",
    "    if task in tasks:\n",
    "        # out_dict[task].append([output, sample])\n",
    "        pred_dict[task].append([0, sample])\n",
    "        \n",
    "    # elif task==\"dimensions\":\n",
    "    #     if \"predict\" not in system and \"forecast\" not in system:\n",
    "    #         # out_dict[\"dimensions_synt\"].append([output, sample])\n",
    "    #         pred_dict[\"dimensions_synt\"].append([output, sample])\n",
    "    #     else:\n",
    "    #         pred_dict[\"dimensions_sem\"].append([output, sample])  "
   ]
  },
  {
   "cell_type": "code",
   "execution_count": 146,
   "id": "6ef39e5e-4e04-40a5-a830-319aec58e552",
   "metadata": {},
   "outputs": [],
   "source": [
    "# for f in pred_dict['conditional_generation']:\n",
    "#     print(f[1]['material'])"
   ]
  },
  {
   "cell_type": "code",
   "execution_count": 132,
   "id": "e9a5526d-cf85-4329-b528-084420af136f",
   "metadata": {},
   "outputs": [
    {
     "data": {
      "text/plain": [
       "(2091, 4)"
      ]
     },
     "execution_count": 132,
     "metadata": {},
     "output_type": "execute_result"
    }
   ],
   "source": [
    "files = sorted(['15000_conditional_generation_llama3_1760_1925.csv',\n",
    " '15000_conditional_generation_llama3_0_1100.csv',\n",
    " '15000_conditional_generation_llama3_1100_1265.csv',\n",
    " '15000_conditional_generation_llama3_1430_1595.csv',\n",
    " '15000_conditional_generation_llama3_1265_1430.csv',\n",
    " '15000_conditional_generation_llama3_1595_1760.csv',\n",
    " '15000_conditional_generation_llama3_1925_2091.csv'])\n",
    "\n",
    "df = pd.DataFrame()\n",
    "for f in files:\n",
    "    temp = pd.read_csv(f)\n",
    "    df = pd.concat((df, temp))\n",
    "df.shape\n"
   ]
  },
  {
   "cell_type": "code",
   "execution_count": null,
   "id": "622d0573-5c23-44e2-af50-cbce200dacf0",
   "metadata": {},
   "outputs": [],
   "source": []
  },
  {
   "cell_type": "code",
   "execution_count": 133,
   "id": "eeae9976-4528-4759-8762-d0f5ff4efe42",
   "metadata": {},
   "outputs": [],
   "source": [
    "task = 'conditional_generation'"
   ]
  },
  {
   "cell_type": "code",
   "execution_count": 134,
   "id": "bd8d2e78-7a41-4073-bef8-15d128118af3",
   "metadata": {},
   "outputs": [
    {
     "data": {
      "text/plain": [
       "'9eb1204082.CIF'"
      ]
     },
     "execution_count": 134,
     "metadata": {},
     "output_type": "execute_result"
    }
   ],
   "source": [
    "idxx = 0\n",
    "pred_dict[task][idxx][1]['material']"
   ]
  },
  {
   "cell_type": "code",
   "execution_count": 135,
   "id": "54054899-ec18-4309-9bb7-0756c4cfe760",
   "metadata": {},
   "outputs": [],
   "source": [
    "from tqdm import trange"
   ]
  },
  {
   "cell_type": "code",
   "execution_count": 136,
   "id": "c20bb50e-7089-493b-9e48-4bbca46f31d5",
   "metadata": {},
   "outputs": [
    {
     "data": {
      "text/plain": [
       "'conditional_generation'"
      ]
     },
     "execution_count": 136,
     "metadata": {},
     "output_type": "execute_result"
    }
   ],
   "source": [
    "task"
   ]
  },
  {
   "cell_type": "code",
   "execution_count": null,
   "id": "f4a6929f-9255-445b-9659-2fb514b01003",
   "metadata": {},
   "outputs": [],
   "source": []
  },
  {
   "cell_type": "code",
   "execution_count": 137,
   "id": "17c471a4-3de4-4077-9388-b5d90c86f024",
   "metadata": {},
   "outputs": [
    {
     "name": "stderr",
     "output_type": "stream",
     "text": [
      "100%|████████████████████████████████████████████████████████████████████████████████████████████████████████████████████████████████████████████████████████████████████████████| 2091/2091 [00:02<00:00, 880.19it/s]\n"
     ]
    }
   ],
   "source": [
    "# idxx = 1\n",
    "missed = []\n",
    "for idxx in trange(len(df)):\n",
    "    try:\n",
    "        step_1 = df.pred_cs.iloc[idxx].split('Title')[0]\n",
    "        length = step_1.split('\\n')[0]\n",
    "        angles = step_1.split('\\n')[1]\n",
    "        \n",
    "        cif_file = 'data_global\\n'\n",
    "        cif_file += f\"_chemical_name_mineral '{pred_dict[task][idxx][1]['material'][:-4]}'\\n\"\n",
    "        \n",
    "        # cif_file = ''\n",
    "        \n",
    "        for abc, lens in zip(['a','b','c'],length.strip().split()):\n",
    "            line = f'_cell_length_{abc} {float(lens)}\\n'\n",
    "            cif_file += line\n",
    "        \n",
    "        for abc, ang in zip(['alpha','beta','gamma'],angles.strip().split()):\n",
    "            line = f'_cell_angle_{abc} {float(ang)}\\n'\n",
    "            cif_file += line\n",
    "        \n",
    "        cif_file += 'loop_\\n'\n",
    "        cif_file += '_atom_site_label\\n'\n",
    "        cif_file += '_atom_site_fract_x\\n'\n",
    "        cif_file += '_atom_site_fract_y\\n'\n",
    "        cif_file += '_atom_site_fract_z\\n'\n",
    "        \n",
    "        # Split the input data into lines and filter out empty lines\n",
    "        lines = [line.strip() for line in step_1.splitlines()[2:] if line.strip()]\n",
    "        \n",
    "        # Initialize an empty list to hold the formatted lines\n",
    "        formatted_lines = []\n",
    "        \n",
    "        # Iterate over the lines in pairs\n",
    "        for i in range(0, len(lines), 2):\n",
    "            element = lines[i]\n",
    "            coordinates = lines[i + 1]\n",
    "            formatted_lines.append(f\"{element} {coordinates}\")\n",
    "            cif_file += f\"{element} {coordinates}\\n\"\n",
    "        \n",
    "        # Write the formatted lines to a file\n",
    "        output_filename = f\"./{task}/{idxx}.CIF\"\n",
    "\n",
    "        if len(cif_file.strip().split('\\n')[-1].split()) == 4:\n",
    "            with open(output_filename, \"w\") as file:\n",
    "                file.write(cif_file.strip())\n",
    "        else:\n",
    "            missed.append(idxx)\n",
    "        # length, angle\n",
    "    except:\n",
    "        missed.append(idxx)"
   ]
  },
  {
   "cell_type": "code",
   "execution_count": 138,
   "id": "0606a7bc-7afe-464e-91a2-f90974b2ce4f",
   "metadata": {},
   "outputs": [
    {
     "data": {
      "text/plain": [
       "87"
      ]
     },
     "execution_count": 138,
     "metadata": {},
     "output_type": "execute_result"
    }
   ],
   "source": [
    "len(missed)"
   ]
  },
  {
   "cell_type": "code",
   "execution_count": 141,
   "id": "d6e56557-e3eb-411e-8d6a-3f70e6582ae9",
   "metadata": {},
   "outputs": [],
   "source": [
    "# print(df.pred_cs.iloc[missed[50]])"
   ]
  },
  {
   "cell_type": "code",
   "execution_count": 142,
   "id": "cd0935e9-e0e5-475d-ae55-57daafe37c44",
   "metadata": {},
   "outputs": [],
   "source": [
    "df1 = pd.read_csv('15000_element_generation_llama3_0_1045.csv')\n",
    "df2 = pd.read_csv('15000_element_generation_llama3_1045_2091.csv')\n",
    "df = pd.concat((df1, df2))"
   ]
  },
  {
   "cell_type": "code",
   "execution_count": 143,
   "id": "e5bdae7d-df3f-4a80-961a-b513d91d6a21",
   "metadata": {},
   "outputs": [
    {
     "name": "stdout",
     "output_type": "stream",
     "text": [
      "Consider the following elements:\n",
      "Ce\n",
      "Nb\n",
      "Mo\n",
      "N\n",
      "You need to create a stable crystal that contains at least one instance of each of these elements. It should not contain elements other than the specified ones. Generate a description of the lengths and angles of the lattice vectors and then the element type and coordinates for each atom within the lattice:\n",
      "The output should be of the following format ONLY:\n",
      "l1, l2, l3\n",
      "a1, a2, a3\n",
      "atom1\n",
      "x, y, z\n",
      "atom2\n",
      "x, y, z\n",
      " ...\n",
      "\n",
      "l1, l2, l3 should be the predicted cell lengths.\n",
      "a1, a2, a3 should be the predicted cell angles.\n",
      "atom1, atom2, atom3, and so on, should be replaced with atom names and corresponding x, y, z with their coordinates in the lattice.\n",
      "\n"
     ]
    }
   ],
   "source": [
    "print(df.input.iloc[0])"
   ]
  },
  {
   "cell_type": "code",
   "execution_count": 149,
   "id": "4bb0d92d-3189-41c9-ad2e-feab825067b2",
   "metadata": {},
   "outputs": [
    {
     "name": "stdout",
     "output_type": "stream",
     "text": [
      "5.4 7.7 11.4\n",
      "75 90 90\n",
      "Gd\n",
      "0.39 0.90 0.90\n",
      "Gd\n",
      "0.02 0.90 0.40\n",
      "Tm\n",
      "0.45 0.40 0.90\n",
      "Tm\n",
      "0.97 0.40 0.40\n",
      "Tm\n",
      "0.89 0.20 0.73\n",
      "Tm\n",
      "0.52 0.20 0.23\n",
      "Lu\n",
      "0.89 0.61 0.07\n",
      "Lu\n",
      "0.52 0.61 0.57\n",
      "W\n",
      "0.96 0.13 0.03\n",
      "W\n",
      "0.45 0.13 0.53\n",
      "W\n",
      "0.96 0.68 0.76\n",
      "W\n",
      "0.45 0.68 0.26\n",
      "O\n",
      "0.75 0.34 0.04\n",
      "O\n",
      "0.24 0.25 0.08\n",
      "O\n",
      "0.66 0.34 0.54\n",
      "O\n",
      "0.16 0.19 0.88\n",
      "O\n",
      "0.17 0.25 0.58\n",
      "O\n",
      "0.69 0.11 0.92\n",
      "O\n",
      "0.25 0.19 0.38\n",
      "O\n",
      "0.56 0.04 0.70\n",
      "O\n",
      "0.06 0.89 0.04\n",
      "O\n",
      "0.72 0.11 0.42\n",
      "O\n",
      "0.06 0.91 0.76\n",
      "O\n",
      "0.56 0.76 0.10\n",
      "O\n",
      "0.85 0.04 0.20\n",
      "O\n",
      "0.35 0.89 0.54\n",
      "O\n",
      "0.69 0.69 0.88\n",
      "O\n",
      "0.35 0.91 0.26\n",
      "O\n",
      "0.85 0.76 0.60\n",
      "O\n",
      "0.16 0.61 0.92\n",
      "O\n",
      "0.72 0.69 0.38\n",
      "O\n",
      "0.24 0.55 0.72\n",
      "O\n",
      "0.25 0.61 0.42\n",
      "O\n",
      "0.75 0.46 0.75\n",
      "O\n",
      "0.17 0.55 0.22\n",
      "O\n",
      "0.66 0.46 0.25Title: The effect of the 3.6 3.6 11.9 11.9 11.9. Abstract: The effect of the 3.6 3.6 11.9\n",
      "11.9\n",
      ": 90 90 120\n",
      "Zn\n",
      "0.39 0.26 0.74\n",
      "Zn\n",
      "0.39 0.26 0.06\n",
      "Zn\n",
      "0.39 0.26 0.40\n",
      "Zn\n",
      "0.72 0.92 0.07\n",
      "Zn\n",
      "0.05 0.59 0.73\n",
      "Zn\n",
      "0.39 0.92 0.24\n",
      "Zn\n",
      "0.39 0.92 0.57\n",
      "Zn\n",
      "0.39 0.92 0.90\n",
      "Zn\n",
      "0.72 0.92 0.74\n",
      "Zn\n",
      "0.72 0.92 0.40\n",
      "Zn\n",
      "0.05 0.59 0.07\n",
      "Zn\n",
      "0.05 0.59 0.40\n",
      "Zn\n",
      "0.72 0.59 0\n"
     ]
    }
   ],
   "source": [
    "print(df.pred_cs.iloc[1])"
   ]
  },
  {
   "cell_type": "code",
   "execution_count": 150,
   "id": "00e3b4b0-88d3-47e6-940b-8c68a7873c1c",
   "metadata": {},
   "outputs": [],
   "source": [
    "task = 'element_generation'"
   ]
  },
  {
   "cell_type": "code",
   "execution_count": 151,
   "id": "3dc26309-d543-4151-b3d9-95202245b2a6",
   "metadata": {},
   "outputs": [
    {
     "name": "stderr",
     "output_type": "stream",
     "text": [
      "100%|████████████████████████████████████████████████████████████████████████████████████████████████████████████████████████████████████████████████████████████████████████████| 2091/2091 [00:02<00:00, 898.20it/s]\n"
     ]
    }
   ],
   "source": [
    "missed = []\n",
    "for idxx in trange(len(df)):\n",
    "    try:\n",
    "        step_1 = df.pred_cs.iloc[idxx].split('Title')[0]\n",
    "        length = step_1.split('\\n')[0]\n",
    "        angles = step_1.split('\\n')[1]\n",
    "        \n",
    "        cif_file = 'data_global\\n'\n",
    "        cif_file += f\"_chemical_name_mineral '{pred_dict[task][idxx][1]['material'][:-4]}'\\n\"\n",
    "        \n",
    "        # cif_file = ''\n",
    "        \n",
    "        for abc, lens in zip(['a','b','c'],length.strip().split()):\n",
    "            line = f'_cell_length_{abc} {float(lens)}\\n'\n",
    "            cif_file += line\n",
    "        \n",
    "        for abc, ang in zip(['alpha','beta','gamma'],angles.strip().split()):\n",
    "            line = f'_cell_angle_{abc} {float(ang)}\\n'\n",
    "            cif_file += line\n",
    "        \n",
    "        cif_file += 'loop_\\n'\n",
    "        cif_file += '_atom_site_label\\n'\n",
    "        cif_file += '_atom_site_fract_x\\n'\n",
    "        cif_file += '_atom_site_fract_y\\n'\n",
    "        cif_file += '_atom_site_fract_z\\n'\n",
    "        \n",
    "        # Split the input data into lines and filter out empty lines\n",
    "        lines = [line.strip() for line in step_1.splitlines()[2:] if line.strip()]\n",
    "        \n",
    "        # Initialize an empty list to hold the formatted lines\n",
    "        formatted_lines = []\n",
    "        \n",
    "        # Iterate over the lines in pairs\n",
    "        for i in range(0, len(lines), 2):\n",
    "            element = lines[i]\n",
    "            coordinates = lines[i + 1]\n",
    "            formatted_lines.append(f\"{element} {coordinates}\")\n",
    "            cif_file += f\"{element} {coordinates}\\n\"\n",
    "        \n",
    "        # Write the formatted lines to a file\n",
    "        output_filename = f\"./{task}/{idxx}.CIF\"\n",
    "\n",
    "        if len(cif_file.strip().split('\\n')[-1].split()) == 4:\n",
    "            with open(output_filename, \"w\") as file:\n",
    "                file.write(cif_file.strip())\n",
    "        else:\n",
    "            missed.append(idxx)\n",
    "        # length, angle\n",
    "    except:\n",
    "        missed.append(idxx)"
   ]
  },
  {
   "cell_type": "code",
   "execution_count": 152,
   "id": "5f5862d6-e100-401f-ac7a-1a59163f1f7a",
   "metadata": {},
   "outputs": [
    {
     "data": {
      "text/plain": [
       "52"
      ]
     },
     "execution_count": 152,
     "metadata": {},
     "output_type": "execute_result"
    }
   ],
   "source": [
    "len(missed)"
   ]
  },
  {
   "cell_type": "code",
   "execution_count": 1,
   "id": "34ba622d-1c19-4439-a290-bd73bb13f8c7",
   "metadata": {},
   "outputs": [
    {
     "data": {
      "text/plain": [
       "2039"
      ]
     },
     "execution_count": 1,
     "metadata": {},
     "output_type": "execute_result"
    }
   ],
   "source": [
    "2091-52"
   ]
  },
  {
   "cell_type": "code",
   "execution_count": null,
   "id": "724e8992-c6cb-4b53-9031-4aefc5449652",
   "metadata": {},
   "outputs": [],
   "source": []
  }
 ],
 "metadata": {
  "kernelspec": {
   "display_name": "Python 3 (ipykernel)",
   "language": "python",
   "name": "python3"
  },
  "language_info": {
   "codemirror_mode": {
    "name": "ipython",
    "version": 3
   },
   "file_extension": ".py",
   "mimetype": "text/x-python",
   "name": "python",
   "nbconvert_exporter": "python",
   "pygments_lexer": "ipython3",
   "version": "3.11.5"
  }
 },
 "nbformat": 4,
 "nbformat_minor": 5
}
