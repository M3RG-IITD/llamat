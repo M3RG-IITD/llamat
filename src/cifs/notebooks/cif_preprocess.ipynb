{
 "cells": [
  {
   "cell_type": "markdown",
   "id": "39a04e8c-55ac-4260-9165-2ead48242a74",
   "metadata": {},
   "source": [
    "# We need to do augmentations too, as done in nate gruver paper."
   ]
  },
  {
   "cell_type": "code",
   "execution_count": 1,
   "id": "73ba0807-c94c-49ba-919d-311a3338ecf1",
   "metadata": {},
   "outputs": [],
   "source": [
    "import os\n",
    "from tqdm import tqdm\n",
    "\n",
    "path = \"/scratch/civil/phd/cez198233/vaibhav_nlp/robocif/amcsd\""
   ]
  },
  {
   "cell_type": "code",
   "execution_count": 2,
   "id": "9cb58064-6009-42e1-8f9a-372914a91ae3",
   "metadata": {},
   "outputs": [],
   "source": [
    "files = os.listdir(path)"
   ]
  },
  {
   "cell_type": "code",
   "execution_count": 3,
   "id": "9e7b3071-6711-4bd1-8b8f-c5823b7cf07d",
   "metadata": {},
   "outputs": [],
   "source": [
    "important_keywords = ['_cell_length_a', '_cell_length_b', '_cell_length_c', '_cell_angle_alpha', '_cell_angle_beta', '_cell_angle_gamma', '_chemical_formula_sum', '_cell_formula_units_Z', '_symmetry_space_group_name_H-M', '_chemical_formula_structural']"
   ]
  },
  {
   "cell_type": "code",
   "execution_count": 8,
   "id": "4a5a9f71-a549-4fdb-899b-cbacdb928892",
   "metadata": {},
   "outputs": [
    {
     "name": "stderr",
     "output_type": "stream",
     "text": [
      "100%|█████████████████████████████████████████████████████████████████████████████████████████████████████████████████████████████████████████████████████████████████████████████████████████| 4292/4292 [00:48<00:00, 88.02it/s]\n"
     ]
    }
   ],
   "source": [
    "cifs = {}\n",
    "cnt = 0\n",
    "loops = 0\n",
    "\n",
    "for folder in tqdm(files):\n",
    "    try:\n",
    "        final_path = os.path.join(path, folder+f\"/0.cif\")\n",
    "        cif = open(final_path, 'r').readlines()\n",
    "        cnt += 1\n",
    "    except Exception as e:\n",
    "        continue\n",
    "    _cif = {}\n",
    "    num_data_lines = 0\n",
    "    which_loop = None\n",
    "    for line in cif:\n",
    "        if which_loop:\n",
    "            _cif[which_loop].append(line)\n",
    "            continue\n",
    "        if line.startswith('#'):\n",
    "            continue\n",
    "        if line.startswith('data'):\n",
    "            if num_data_lines == 1:\n",
    "                print(folder, \"has more than 1 data lines\")\n",
    "            num_data_lines += 1\n",
    "            continue\n",
    "        if line.startswith('loop_'):\n",
    "            loops += 1\n",
    "            # assert not ('l1' in _cif and 'l2' in _cif)\n",
    "            if 'l1' in _cif:\n",
    "                which_loop = 'l2'\n",
    "            else:\n",
    "                which_loop = 'l1'\n",
    "            _cif[which_loop] = []\n",
    "            continue\n",
    "        if len(line.split()) == 1:\n",
    "            print(\"Oh this is extra.\")\n",
    "            print(folder, line, _cif.keys())\n",
    "            continue\n",
    "        line_features = line.split()\n",
    "        if line_features[0] in important_keywords:\n",
    "            _cif[line_features[0]] = ' '.join(line_features[1:])\n",
    "            continue\n",
    "        # print(\"new_kw\", folder, line)\n",
    "    cifs[folder] = _cif"
   ]
  },
  {
   "cell_type": "code",
   "execution_count": 9,
   "id": "ad9b9fa4-274e-44b7-91a6-7fb68bd353e8",
   "metadata": {},
   "outputs": [
    {
     "data": {
      "text/plain": [
       "4151"
      ]
     },
     "execution_count": 9,
     "metadata": {},
     "output_type": "execute_result"
    }
   ],
   "source": [
    "cnt"
   ]
  },
  {
   "cell_type": "code",
   "execution_count": 18,
   "id": "5a756d19-bd5d-4de9-aa3e-9a18c926cb8f",
   "metadata": {},
   "outputs": [
    {
     "data": {
      "text/plain": [
       "({'l1': ['_publ_author_name\\n',\n",
       "   \"'Erd R C'\\n\",\n",
       "   \"'Evans H T'\\n\",\n",
       "   \"'Richter D H'\\n\",\n",
       "   \"_journal_name_full 'American Mineralogist'\\n\",\n",
       "   '_journal_volume 42 \\n',\n",
       "   '_journal_year 1957\\n',\n",
       "   '_journal_page_first 309\\n',\n",
       "   '_journal_page_last 333\\n',\n",
       "   '_publ_section_title\\n',\n",
       "   ';\\n',\n",
       "   ' Smythite, a new iron sulfide, and associated pyrrhotite from Indiana\\n',\n",
       "   ';\\n',\n",
       "   '_database_code_amcsd 0000080\\n',\n",
       "   \"_chemical_formula_sum 'Fe3 S4'\\n\",\n",
       "   '_cell_length_a 3.47\\n',\n",
       "   '_cell_length_b 3.47\\n',\n",
       "   '_cell_length_c 34.5\\n',\n",
       "   '_cell_angle_alpha 90\\n',\n",
       "   '_cell_angle_beta 90\\n',\n",
       "   '_cell_angle_gamma 120\\n',\n",
       "   '_cell_volume 359.757\\n',\n",
       "   '_exptl_crystal_density_diffrn      4.096\\n',\n",
       "   \"_symmetry_space_group_name_H-M 'R -3 m'\\n\",\n",
       "   'loop_\\n',\n",
       "   '_space_group_symop_operation_xyz\\n',\n",
       "   \"  'x,y,z'\\n\",\n",
       "   \"  '2/3+x,1/3+y,1/3+z'\\n\",\n",
       "   \"  '1/3+x,2/3+y,2/3+z'\\n\",\n",
       "   \"  'x,x-y,z'\\n\",\n",
       "   \"  '2/3+x,1/3+x-y,1/3+z'\\n\",\n",
       "   \"  '1/3+x,2/3+x-y,2/3+z'\\n\",\n",
       "   \"  'y,x,-z'\\n\",\n",
       "   \"  '2/3+y,1/3+x,1/3-z'\\n\",\n",
       "   \"  '1/3+y,2/3+x,2/3-z'\\n\",\n",
       "   \"  '-x+y,y,z'\\n\",\n",
       "   \"  '2/3-x+y,1/3+y,1/3+z'\\n\",\n",
       "   \"  '1/3-x+y,2/3+y,2/3+z'\\n\",\n",
       "   \"  '-x,-x+y,-z'\\n\",\n",
       "   \"  '2/3-x,1/3-x+y,1/3-z'\\n\",\n",
       "   \"  '1/3-x,2/3-x+y,2/3-z'\\n\",\n",
       "   \"  '-y,-x,z'\\n\",\n",
       "   \"  '2/3-y,1/3-x,1/3+z'\\n\",\n",
       "   \"  '1/3-y,2/3-x,2/3+z'\\n\",\n",
       "   \"  'x-y,-y,-z'\\n\",\n",
       "   \"  '2/3+x-y,1/3-y,1/3-z'\\n\",\n",
       "   \"  '1/3+x-y,2/3-y,2/3-z'\\n\",\n",
       "   \"  'y,-x+y,-z'\\n\",\n",
       "   \"  '2/3+y,1/3-x+y,1/3-z'\\n\",\n",
       "   \"  '1/3+y,2/3-x+y,2/3-z'\\n\",\n",
       "   \"  '-x+y,-x,z'\\n\",\n",
       "   \"  '2/3-x+y,1/3-x,1/3+z'\\n\",\n",
       "   \"  '1/3-x+y,2/3-x,2/3+z'\\n\",\n",
       "   \"  '-x,-y,-z'\\n\",\n",
       "   \"  '2/3-x,1/3-y,1/3-z'\\n\",\n",
       "   \"  '1/3-x,2/3-y,2/3-z'\\n\",\n",
       "   \"  '-y,x-y,z'\\n\",\n",
       "   \"  '2/3-y,1/3+x-y,1/3+z'\\n\",\n",
       "   \"  '1/3-y,2/3+x-y,2/3+z'\\n\",\n",
       "   \"  'x-y,x,-z'\\n\",\n",
       "   \"  '2/3+x-y,1/3+x,1/3-z'\\n\",\n",
       "   \"  '1/3+x-y,2/3+x,2/3-z'\\n\",\n",
       "   'loop_\\n',\n",
       "   '_atom_site_label\\n',\n",
       "   '_atom_site_fract_x\\n',\n",
       "   '_atom_site_fract_y\\n',\n",
       "   '_atom_site_fract_z\\n',\n",
       "   'Fe1   0.00000   0.00000   0.50000\\n',\n",
       "   'Fe2   0.00000   0.00000   0.41710\\n',\n",
       "   'S1   0.00000   0.00000   0.28880\\n',\n",
       "   'S2   0.00000   0.00000   0.12700\\n']},\n",
       " 'Smythite')"
      ]
     },
     "execution_count": 18,
     "metadata": {},
     "output_type": "execute_result"
    }
   ],
   "source": [
    "cifs[files[2]], files[2]"
   ]
  },
  {
   "cell_type": "code",
   "execution_count": null,
   "id": "e8c0f41f-1076-4018-9fe2-cf0247a9014d",
   "metadata": {},
   "outputs": [],
   "source": [
    "data_CaNiF4\n",
    "_symmetry_space_group_name_H-M   'P 1'\n",
    "_cell_length_a   5.40429413\n",
    "_cell_length_b   5.40452770\n",
    "_cell_length_c   6.52948574\n",
    "_cell_angle_alpha   114.63018340\n",
    "_cell_angle_beta   114.54703774\n",
    "_cell_angle_gamma   89.99537881\n",
    "_symmetry_Int_Tables_number   1\n",
    "_chemical_formula_structural   CaNiF4\n",
    "_chemical_formula_sum   'Ca2 Ni2 F8'\n",
    "_cell_volume   154.19885016\n",
    "_cell_formula_units_Z   2\n",
    "loop_\n",
    " _symmetry_equiv_pos_site_id\n",
    " _symmetry_equiv_pos_as_xyz\n",
    "  1  'x, y, z'\n",
    "loop_\n",
    " _atom_site_type_symbol\n",
    " _atom_site_label\n",
    " _atom_site_symmetry_multiplicity\n",
    " _atom_site_fract_x\n",
    " _atom_site_fract_y\n",
    " _atom_site_fract_z\n",
    " _atom_site_occupancy\n",
    "  Ca  Ca0  1  0.25208900  0.25079200  0.49826300  1\n",
    "  Ca  Ca1  1  0.75233600  0.75058500  0.49819700  1\n",
    "  Ni  Ni2  1  0.00132900  0.50011600  0.99744900  1\n",
    "  Ni  Ni3  1  0.50283100  0.00159700  0.99954900  1\n",
    "  F  F4  1  0.93523700  0.43356600  0.24697800  1\n",
    "  F  F5  1  0.68644300  0.18527900  0.74354300  1\n",
    "  F  F6  1  0.06654300  0.56540600  0.74684400  1\n",
    "  F  F7  1  0.18792000  0.06603000  0.74775500  1\n",
    "  F  F8  1  0.31683400  0.81513700  0.25076300  1\n",
    "  F  F9  1  0.43830700  0.31584200  0.25118100  1\n",
    "  F  F10  1  0.81729100  0.93585900  0.25015800  1\n",
    "  F  F11  1  0.56592900  0.68681700  0.74665100  1"
   ]
  }
 ],
 "metadata": {
  "kernelspec": {
   "display_name": "matllama2.0",
   "language": "python",
   "name": "matllama2.0"
  },
  "language_info": {
   "codemirror_mode": {
    "name": "ipython",
    "version": 3
   },
   "file_extension": ".py",
   "mimetype": "text/x-python",
   "name": "python",
   "nbconvert_exporter": "python",
   "pygments_lexer": "ipython3",
   "version": "3.11.5"
  }
 },
 "nbformat": 4,
 "nbformat_minor": 5
}
