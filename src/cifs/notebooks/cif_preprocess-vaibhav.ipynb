{
 "cells": [
  {
   "cell_type": "markdown",
   "id": "39a04e8c-55ac-4260-9165-2ead48242a74",
   "metadata": {},
   "source": [
    "# We need to do augmentations too, as done in nate gruver paper."
   ]
  },
  {
   "cell_type": "code",
   "execution_count": 1,
   "id": "73ba0807-c94c-49ba-919d-311a3338ecf1",
   "metadata": {},
   "outputs": [],
   "source": [
    "import os\n",
    "from tqdm import tqdm\n",
    "\n",
    "mp_path = \"/scratch/civil/phd/cez198233/vaibhav_nlp/corpus/materials_project_cifs\"\n",
    "ruff_path = \"/scratch/civil/phd/cez198233/vaibhav_nlp/robocif/amcsd\"\n",
    "gnome_path = \"/scratch/civil/phd/cez198233/vaibhav_nlp/robocif/gnomecifs\""
   ]
  },
  {
   "cell_type": "code",
   "execution_count": 2,
   "id": "9cb58064-6009-42e1-8f9a-372914a91ae3",
   "metadata": {},
   "outputs": [],
   "source": [
    "mp_files = os.listdir(mp_path)"
   ]
  },
  {
   "cell_type": "code",
   "execution_count": 3,
   "id": "e6dd3275-c62c-4799-9e44-4bb6f5e47170",
   "metadata": {},
   "outputs": [],
   "source": [
    "important_keywords = ['_cell_length_a', '_cell_length_b', '_cell_length_c', '_cell_angle_alpha', '_cell_angle_beta', '_cell_angle_gamma', '_chemical_formula_sum', '_cell_formula_units_Z', '_symmetry_space_group_name_H-M', '_chemical_formula_structural']\n",
    "redundant_keywords = ['_symmetry_Int_Tables_number', '_chemical_formula_structural', '_cell_volume', '#', 'data_']"
   ]
  },
  {
   "cell_type": "code",
   "execution_count": 4,
   "id": "ed6537ea-a9c3-4cb1-bef3-ea901b827890",
   "metadata": {},
   "outputs": [],
   "source": [
    "# empty = []\n",
    "# for idx in tqdm(range(len(mp_files))):\n",
    "#     try:\n",
    "#         cif = open(os.path.join(mp_path, mp_files[idx], mp_files[idx] + '.cif'), 'r').readlines()\n",
    "#         cnt_loop = 0\n",
    "#         for i in cif:\n",
    "#             if 'loop' in i:\n",
    "#                 cnt_loop += 1\n",
    "#         if cnt_loop != 2:\n",
    "#             print(cif)\n",
    "#             break\n",
    "#     except:\n",
    "#         empty.append(os.path.join(mp_path, mp_files[idx]))"
   ]
  },
  {
   "cell_type": "code",
   "execution_count": 11,
   "id": "4a5a9f71-a549-4fdb-899b-cbacdb928892",
   "metadata": {},
   "outputs": [
    {
     "name": "stderr",
     "output_type": "stream",
     "text": [
      "100%|████████████████████████████████████████████████████████████████████████████████████████████████████████████████████████████████████████████████████████████████████████████████████| 145919/145919 [22:22<00:00, 108.69it/s]\n"
     ]
    }
   ],
   "source": [
    "cifs = {}\n",
    "\n",
    "for folder in tqdm(mp_files):\n",
    "    try:\n",
    "        final_path = os.path.join(mp_path, folder+f\"/{folder}.cif\")\n",
    "        cif = open(final_path, 'r').readlines()\n",
    "    except Exception as e:\n",
    "        continue\n",
    "    _cif = {}\n",
    "    num_data_lines = 0\n",
    "    which_loop = None\n",
    "    for line in cif:\n",
    "        if which_loop:\n",
    "            _cif[which_loop].append(line)\n",
    "            continue\n",
    "        if line.startswith('#'):\n",
    "            continue\n",
    "        if line.startswith('data'):\n",
    "            if num_data_lines == 1:\n",
    "                print(folder, \"has more than 1 data lines\")\n",
    "            num_data_lines += 1\n",
    "            continue\n",
    "        if line.startswith('loop_'):\n",
    "            assert not ('l1' in _cif and 'l2' in _cif)\n",
    "            if 'l1' in _cif:\n",
    "                which_loop = 'l2'\n",
    "            else:\n",
    "                which_loop = 'l1'\n",
    "            _cif[which_loop] = []\n",
    "            continue\n",
    "        if len(line.split()) == 1:\n",
    "            print(\"Oh this is extra.\")\n",
    "            print(folder, line, _cif.keys())\n",
    "            continue\n",
    "        line_features = line.split()\n",
    "        if line_features[0] in redundant_keywords:\n",
    "            continue\n",
    "        if line_features[0] in important_keywords:\n",
    "            _cif[line_features[0]] = ' '.join(line_features[1:])\n",
    "            continue\n",
    "        print(\"new_kw\", folder, line)\n",
    "    cifs[folder] = _cif"
   ]
  },
  {
   "cell_type": "code",
   "execution_count": 24,
   "id": "896db897-5a8e-42af-acef-846f591aedff",
   "metadata": {},
   "outputs": [
    {
     "name": "stderr",
     "output_type": "stream",
     "text": [
      "100%|██████████████████████████████████████████████████████████████████████████████████████████████████████████████████████████████████████████████████████████████████████████████████| 143164/143164 [00:02<00:00, 49781.17it/s]\n"
     ]
    }
   ],
   "source": [
    "l1_start =  [' _symmetry_equiv_pos_site_id\\n',\n",
    "   ' _symmetry_equiv_pos_as_xyz\\n',\n",
    "   \"  1  'x, y, z'\\n\",\n",
    "   'loop_\\n',\n",
    "   ' _atom_site_type_symbol\\n',\n",
    "   ' _atom_site_label\\n',\n",
    "   ' _atom_site_symmetry_multiplicity\\n',\n",
    "   ' _atom_site_fract_x\\n',\n",
    "   ' _atom_site_fract_y\\n',\n",
    "   ' _atom_site_fract_z\\n',\n",
    "   ' _atom_site_occupancy\\n',]\n",
    "for i in tqdm(cifs.values()):\n",
    "    for j in range(len(l1_start)):\n",
    "        assert i['l1'][j] == l1_start[j]\n",
    "    for j in range(len(l1_start), len(i['l1'])):\n",
    "        b = i['l1'][j].split()\n",
    "        assert b[2] == '1'\n",
    "        assert b[-1] == '1'"
   ]
  },
  {
   "cell_type": "code",
   "execution_count": 31,
   "id": "2531b2c4-4a4d-4d7a-9d57-16ac99a96ac7",
   "metadata": {},
   "outputs": [],
   "source": [
    "for cif in cifs:\n",
    "    file = cifs[cif]\n",
    "    file['unit_cell_structure'] = [i.split() for i in file['l1'][len(l1_start):]]\n",
    "    file['unit_cell_structure'] = [[i[0], round(float(i[3]),1), round(float(i[4]),1), round(float(i[5]),1)] for i in file['unit_cell_structure']]\n",
    "    file['_cell_length_a'] = round(float(file['_cell_length_a']), 1)\n",
    "    file['_cell_length_b'] = round(float(file['_cell_length_b']), 1)\n",
    "    file['_cell_length_c'] = round(float(file['_cell_length_c']), 1)\n",
    "    file['_cell_angle_alpha'] = round(float(file['_cell_angle_alpha']), 1)\n",
    "    file['_cell_angle_beta'] = round(float(file['_cell_angle_beta']), 1)\n",
    "    file['_cell_angle_gamma'] = round(float(file['_cell_angle_gamma']), 1)\n",
    "    file['_cell_formula_units_Z'] = int(file['_cell_formula_units_Z'])"
   ]
  },
  {
   "cell_type": "code",
   "execution_count": 33,
   "id": "91e84db8-47ef-4e59-b13c-2ba77907dcf9",
   "metadata": {},
   "outputs": [],
   "source": [
    "for cif in cifs:\n",
    "    cifs[cif].pop('l1')"
   ]
  },
  {
   "cell_type": "code",
   "execution_count": 35,
   "id": "88d8080b-b6b0-43d6-bcaa-3b226fd70e75",
   "metadata": {},
   "outputs": [],
   "source": [
    "a = set()\n",
    "for cif in cifs:\n",
    "    a.add(cifs[cif]['_symmetry_space_group_name_H-M'].split(' ')[1])"
   ]
  },
  {
   "cell_type": "code",
   "execution_count": 260,
   "id": "d5f391fb-76df-4289-87a5-406b83f907e2",
   "metadata": {},
   "outputs": [],
   "source": [
    "import pandas as pd\n",
    "ms = []\n",
    "ms2 = []"
   ]
  },
  {
   "cell_type": "code",
   "execution_count": 261,
   "id": "08933300-0458-4193-946d-412264f9986f",
   "metadata": {},
   "outputs": [
    {
     "name": "stdout",
     "output_type": "stream",
     "text": [
      "train_3.csv\n",
      "test.csv\n",
      "train_2.csv\n",
      "train_6.csv\n",
      "val.csv\n",
      "train_7.csv\n",
      "train_4.csv\n",
      "train_0.csv\n",
      "train_9.csv\n",
      "train_5.csv\n",
      "train_1.csv\n",
      "train_8.csv\n"
     ]
    }
   ],
   "source": [
    "_pth = '/home/cse/btech/cs1200448/crystal-text-llm/data/with_tags'\n",
    "files = os.listdir(_pth)[1:]\n",
    "for file in files:\n",
    "    print(file)\n",
    "    ms.append(pd.read_csv(os.path.join(_pth, file)).to_dict())\n",
    "    ms2.append(pd.read_csv(os.path.join(_pth, file)))"
   ]
  },
  {
   "cell_type": "code",
   "execution_count": 262,
   "id": "227297ad-4482-450e-984c-7bdddb610eaf",
   "metadata": {},
   "outputs": [
    {
     "name": "stdout",
     "output_type": "stream",
     "text": [
      "test.csv\n",
      "val.csv\n",
      "train.csv\n"
     ]
    }
   ],
   "source": [
    "_pth = '/home/cse/btech/cs1200448/crystal-text-llm/data/basic'\n",
    "files = os.listdir(_pth)[1:]\n",
    "for file in files:\n",
    "    print(file)\n",
    "    ms.append(pd.read_csv(os.path.join(_pth, file)).to_dict())\n",
    "    ms2.append(pd.read_csv(os.path.join(_pth, file)))"
   ]
  },
  {
   "cell_type": "code",
   "execution_count": 123,
   "id": "45529be6-1ef7-4ed8-a441-ce124997ae4a",
   "metadata": {},
   "outputs": [],
   "source": [
    "materials = {}\n",
    "for df in ms:\n",
    "    for i in range(len(df['material_id'])):\n",
    "        if df['material_id'][i] in materials:\n",
    "            continue\n",
    "        else:\n",
    "            materials[df['material_id'][i]] = [(df['formation_energy_per_atom'][i], df['band_gap'][i], df['pretty_formula'][i], df['e_above_hull'][i], df['spacegroup.number'][i]), df['cif'][i]]"
   ]
  },
  {
   "cell_type": "code",
   "execution_count": 122,
   "id": "7681e354-1059-4e9c-bf5d-b834c2302478",
   "metadata": {},
   "outputs": [
    {
     "data": {
      "text/plain": [
       "143164"
      ]
     },
     "execution_count": 122,
     "metadata": {},
     "output_type": "execute_result"
    }
   ],
   "source": [
    "len(cifs)"
   ]
  },
  {
   "cell_type": "code",
   "execution_count": 145,
   "id": "2f6c98bd-c5d4-49ff-a600-2bb3a2d53dc1",
   "metadata": {},
   "outputs": [],
   "source": [
    "import numpy as np\n",
    "props = ['formation_energy_per_atom', 'band_gap', 'pretty_formula', 'e_above_hull', 'space_group_number']\n",
    "for m in materials:\n",
    "    if m in cifs:\n",
    "        for _, prop in enumerate(materials[m][0]):\n",
    "            cifs[m][props[_]] = prop\n",
    "    else:\n",
    "        _cif = {}\n",
    "        num_data_lines = 0\n",
    "        which_loop = None\n",
    "        for line in materials[m][1].strip().split('\\n'):\n",
    "            if which_loop:\n",
    "                _cif[which_loop].append(line)\n",
    "                continue\n",
    "            if line.startswith('#'):\n",
    "                continue\n",
    "            if line.startswith('data'):\n",
    "                if num_data_lines == 1:\n",
    "                    print(folder, \"has more than 1 data lines\")\n",
    "                num_data_lines += 1\n",
    "                continue\n",
    "            if line.startswith('loop_'):\n",
    "                assert not ('l1' in _cif and 'l2' in _cif)\n",
    "                if 'l1' in _cif:\n",
    "                    which_loop = 'l2'\n",
    "                else:\n",
    "                    which_loop = 'l1'\n",
    "                _cif[which_loop] = []\n",
    "                continue\n",
    "            if len(line.split()) == 1:\n",
    "                print(\"Oh this is extra.\")\n",
    "                print(folder, line, _cif.keys())\n",
    "                continue\n",
    "            line_features = line.split()\n",
    "            if line_features[0] in redundant_keywords:\n",
    "                continue\n",
    "            if line_features[0] in important_keywords:\n",
    "                _cif[line_features[0]] = ' '.join(line_features[1:])\n",
    "                continue\n",
    "            print(\"new_kw\", folder, line)\n",
    "        _cif['unit_cell_structure'] = [i.split() for i in _cif['l1'][len(l1_start):]]\n",
    "        print(_cif)\n",
    "        _cif['unit_cell_structure'] = [[i[0], round(float(i[3]),1), round(float(i[4]),1), round(float(i[5]),1)] for i in _cif['unit_cell_structure']]\n",
    "        _cif['_cell_length_a'] = round(float(_cif['_cell_length_a']), 1)\n",
    "        _cif['_cell_length_b'] = round(float(_cif['_cell_length_b']), 1)\n",
    "        _cif['_cell_length_c'] = round(float(_cif['_cell_length_c']), 1)\n",
    "        _cif['_cell_angle_alpha'] = round(float(_cif['_cell_angle_alpha']), 1)\n",
    "        _cif['_cell_angle_beta'] = round(float(_cif['_cell_angle_beta']), 1)\n",
    "        _cif['_cell_angle_gamma'] = round(float(_cif['_cell_angle_gamma']), 1)\n",
    "        _cif['_cell_formula_units_Z'] = int(_cif['_cell_formula_units_Z'])\n",
    "        cifs[m] = _cif\n",
    "        for _, prop in enumerate(materials[m][0]):\n",
    "            cifs[m][props[_]] = prop\n",
    "        "
   ]
  },
  {
   "cell_type": "code",
   "execution_count": 149,
   "id": "dcc076c9-88d5-4d77-a64a-e484d3420c75",
   "metadata": {},
   "outputs": [],
   "source": [
    "for cif in cifs:\n",
    "    cifs[cif].pop('_symmetry_space_group_name_H-M')"
   ]
  },
  {
   "cell_type": "code",
   "execution_count": 426,
   "id": "9663cab7-ac18-4012-8bd5-45c684029144",
   "metadata": {},
   "outputs": [],
   "source": [
    "# import pickle as pkl\n",
    "# with open('/scratch/cse/btech/cs1200448/MatLlama/processed_cifs/mp_cifs.pkl', 'wb') as f:\n",
    "#     pkl.dump(cifs, f)"
   ]
  },
  {
   "cell_type": "markdown",
   "id": "29a604fc-1abf-492a-bfd9-2d0d8506ab47",
   "metadata": {},
   "source": [
    "# Gnome"
   ]
  },
  {
   "cell_type": "code",
   "execution_count": 231,
   "id": "619946a5-634e-423f-8d15-846970bf4def",
   "metadata": {},
   "outputs": [],
   "source": [
    "import os\n",
    "from tqdm import tqdm\n",
    "\n",
    "gnome_path = \"/scratch/civil/phd/cez198233/vaibhav_nlp/robocif/gnomecifs\"\n",
    "gnome_files = os.listdir(gnome_path)\n",
    "gnome_cifs = [os.listdir(os.path.join(gnome_path, i)) for i in gnome_files]\n",
    "gnome_cif_paths = []\n",
    "for _,i in enumerate(gnome_cifs):\n",
    "    if gnome_files[_] == '250000_id':\n",
    "        continue\n",
    "    gnome_cif_paths += [os.path.join(gnome_path, gnome_files[_], x) for x in i]"
   ]
  },
  {
   "cell_type": "code",
   "execution_count": 233,
   "id": "0fdf733d-f442-4a82-850b-d8e30555db58",
   "metadata": {},
   "outputs": [],
   "source": [
    "exc = os.listdir('/scratch/civil/phd/cez198233/vaibhav_nlp/robocif/gnomecifs/250000_id/250000_id')\n",
    "for i in exc:\n",
    "    gnome_cif_paths.append(os.path.join('/scratch/civil/phd/cez198233/vaibhav_nlp/robocif/gnomecifs/250000_id/250000_id', i))"
   ]
  },
  {
   "cell_type": "code",
   "execution_count": 207,
   "id": "c5d94095-3a67-44a0-aedc-8d3aa24bfcd9",
   "metadata": {},
   "outputs": [
    {
     "name": "stdout",
     "output_type": "stream",
     "text": [
      "/scratch/civil/phd/cez198233/vaibhav_nlp/robocif/gnomecifs/310000_id/310000_id\n",
      "/scratch/civil/phd/cez198233/vaibhav_nlp/robocif/gnomecifs/190000_id/stable_materials_summary.csv\n",
      "/scratch/civil/phd/cez198233/vaibhav_nlp/robocif/gnomecifs/250000_id/250000_id\n",
      "/scratch/civil/phd/cez198233/vaibhav_nlp/robocif/gnomecifs/280000_id/Book2.xlsx\n"
     ]
    }
   ],
   "source": [
    "for i in gnome_cif_paths:\n",
    "    if not i.endswith('.CIF'):\n",
    "        print(i)"
   ]
  },
  {
   "cell_type": "code",
   "execution_count": 235,
   "id": "78e6e5f0-d3f5-47a1-aec5-8c6b82563d17",
   "metadata": {},
   "outputs": [],
   "source": [
    "important_keywords = ['_cell_length_a', '_cell_length_b', '_cell_length_c', '_cell_angle_alpha', '_cell_angle_beta', '_cell_angle_gamma', '_chemical_formula_sum', '_cell_formula_units_Z', '_symmetry_space_group_name_H-M', '_chemical_formula_structural']\n",
    "redundant_keywords = ['_symmetry_Int_Tables_number', '_chemical_formula_structural', '_cell_volume', '#', 'data_']"
   ]
  },
  {
   "cell_type": "code",
   "execution_count": 236,
   "id": "1e832f61-5d69-4c4f-921e-4767016c96ba",
   "metadata": {},
   "outputs": [
    {
     "name": "stderr",
     "output_type": "stream",
     "text": [
      "  5%|█████████▌                                                                                                                                                                          | 20365/384941 [04:23<1:30:55, 66.83it/s]"
     ]
    },
    {
     "name": "stdout",
     "output_type": "stream",
     "text": [
      "/scratch/civil/phd/cez198233/vaibhav_nlp/robocif/gnomecifs/310000_id/310000_id\n"
     ]
    },
    {
     "name": "stderr",
     "output_type": "stream",
     "text": [
      " 68%|████████████████████████████████████████████████████████████████████████████████████████████████████████████████████████▎                                                       | 263089/384941 [1:01:47<15:47:38,  2.14it/s]"
     ]
    },
    {
     "name": "stdout",
     "output_type": "stream",
     "text": [
      "doesnot have 2 loops /scratch/civil/phd/cez198233/vaibhav_nlp/robocif/gnomecifs/190000_id/stable_materials_summary.csv\n"
     ]
    },
    {
     "name": "stderr",
     "output_type": "stream",
     "text": [
      " 90%|████████████████████████████████████████████████████████████████████████████████████████████████████████████████████████████████████████████████████████████████▋                  | 345627/384941 [1:18:45<11:25, 57.36it/s]"
     ]
    },
    {
     "name": "stdout",
     "output_type": "stream",
     "text": [
      "/scratch/civil/phd/cez198233/vaibhav_nlp/robocif/gnomecifs/280000_id/Book2.xlsx\n"
     ]
    },
    {
     "name": "stderr",
     "output_type": "stream",
     "text": [
      "100%|███████████████████████████████████████████████████████████████████████████████████████████████████████████████████████████████████████████████████████████████████████████████████| 384941/384941 [1:24:54<00:00, 75.57it/s]\n"
     ]
    }
   ],
   "source": [
    "for idx in tqdm(range(len(gnome_cif_paths))):\n",
    "    try:\n",
    "        cif = open(gnome_cif_paths[idx], 'r').readlines()\n",
    "        cnt_loop = 0\n",
    "        for i in cif:\n",
    "            if 'loop' in i:\n",
    "                cnt_loop += 1\n",
    "        if cnt_loop != 2:\n",
    "            print(\"doesnot have 2 loops\", gnome_cif_paths[idx])\n",
    "    except:\n",
    "        print(gnome_cif_paths[idx])"
   ]
  },
  {
   "cell_type": "code",
   "execution_count": 237,
   "id": "c2d388d2-954d-47d5-8d4e-9fb591ef4cb6",
   "metadata": {},
   "outputs": [
    {
     "name": "stderr",
     "output_type": "stream",
     "text": [
      "100%|███████████████████████████████████████████████████████████████████████████████████████████████████████████████████████████████████████████████████████████████████████████████████| 384941/384941 [1:33:14<00:00, 68.81it/s]\n"
     ]
    }
   ],
   "source": [
    "cifs = {}\n",
    "\n",
    "for folder in tqdm(gnome_cif_paths):\n",
    "    if not folder.endswith('CIF'):\n",
    "        continue\n",
    "    cif = open(folder, 'r').readlines()\n",
    "    _cif = {}\n",
    "    num_data_lines = 0\n",
    "    which_loop = None\n",
    "    for line in cif:\n",
    "        if which_loop:\n",
    "            _cif[which_loop].append(line)\n",
    "            continue\n",
    "        if line.startswith('#'):\n",
    "            continue\n",
    "        if line.startswith('data'):\n",
    "            if num_data_lines == 1:\n",
    "                print(folder, \"has more than 1 data lines\")\n",
    "            num_data_lines += 1\n",
    "            continue\n",
    "        if line.startswith('loop_'):\n",
    "            assert not ('l1' in _cif and 'l2' in _cif)\n",
    "            if 'l1' in _cif:\n",
    "                which_loop = 'l2'\n",
    "            else:\n",
    "                which_loop = 'l1'\n",
    "            _cif[which_loop] = []\n",
    "            continue\n",
    "        if len(line.split()) == 1:\n",
    "            print(\"Oh this is extra.\")\n",
    "            print(folder, line, _cif.keys())\n",
    "            continue\n",
    "        line_features = line.split()\n",
    "        if line_features[0] in redundant_keywords:\n",
    "            continue\n",
    "        if line_features[0] in important_keywords:\n",
    "            _cif[line_features[0]] = ' '.join(line_features[1:])\n",
    "            continue\n",
    "        print(\"new_kw\", folder, line)\n",
    "    cifs[folder.split('/')[-1].split('.cif')[0]] = _cif"
   ]
  },
  {
   "cell_type": "code",
   "execution_count": 238,
   "id": "b37293ff-6106-42f0-949c-23087918f46a",
   "metadata": {},
   "outputs": [
    {
     "name": "stderr",
     "output_type": "stream",
     "text": [
      "100%|██████████████████████████████████████████████████████████████████████████████████████████████████████████████████████████████████████████████████████████████████████████████████| 384938/384938 [00:06<00:00, 57330.55it/s]\n"
     ]
    }
   ],
   "source": [
    "l1_start =  [' _symmetry_equiv_pos_site_id\\n',\n",
    "   ' _symmetry_equiv_pos_as_xyz\\n',\n",
    "   \"  1  'x, y, z'\\n\",\n",
    "   'loop_\\n',\n",
    "   ' _atom_site_type_symbol\\n',\n",
    "   ' _atom_site_label\\n',\n",
    "   ' _atom_site_symmetry_multiplicity\\n',\n",
    "   ' _atom_site_fract_x\\n',\n",
    "   ' _atom_site_fract_y\\n',\n",
    "   ' _atom_site_fract_z\\n',\n",
    "   ' _atom_site_occupancy\\n',]\n",
    "for i in tqdm(cifs.values()):\n",
    "    for j in range(len(l1_start)):\n",
    "        assert i['l1'][j] == l1_start[j]\n",
    "    for j in range(len(l1_start), len(i['l1'])):\n",
    "        b = i['l1'][j].split()\n",
    "        assert b[2] == '1'\n",
    "        assert b[-1] == '1'"
   ]
  },
  {
   "cell_type": "code",
   "execution_count": 239,
   "id": "a7b8a78e-d3f8-4572-b65c-5553411bd3bc",
   "metadata": {},
   "outputs": [],
   "source": [
    "for cif in cifs:\n",
    "    file = cifs[cif]\n",
    "    file['unit_cell_structure'] = [i.split() for i in file['l1'][len(l1_start):]]\n",
    "    file['unit_cell_structure'] = [[i[0], round(float(i[3]),1), round(float(i[4]),1), round(float(i[5]),1)] for i in file['unit_cell_structure']]\n",
    "    file['_cell_length_a'] = round(float(file['_cell_length_a']), 1)\n",
    "    file['_cell_length_b'] = round(float(file['_cell_length_b']), 1)\n",
    "    file['_cell_length_c'] = round(float(file['_cell_length_c']), 1)\n",
    "    file['_cell_angle_alpha'] = round(float(file['_cell_angle_alpha']), 1)\n",
    "    file['_cell_angle_beta'] = round(float(file['_cell_angle_beta']), 1)\n",
    "    file['_cell_angle_gamma'] = round(float(file['_cell_angle_gamma']), 1)\n",
    "    file['_cell_formula_units_Z'] = int(file['_cell_formula_units_Z'])"
   ]
  },
  {
   "cell_type": "code",
   "execution_count": 240,
   "id": "a7b6d570-d464-4e3d-80b3-e6f800cef4bf",
   "metadata": {},
   "outputs": [],
   "source": [
    "for cif in cifs:\n",
    "    cifs[cif].pop('l1')"
   ]
  },
  {
   "cell_type": "code",
   "execution_count": 241,
   "id": "999beb85-9afe-4b81-9a39-c4350bbe2cb5",
   "metadata": {},
   "outputs": [],
   "source": [
    "a = set()\n",
    "for cif in cifs:\n",
    "    a.add(cifs[cif]['_symmetry_space_group_name_H-M'].split(' ')[1])"
   ]
  },
  {
   "cell_type": "code",
   "execution_count": 243,
   "id": "e1facad4-7c82-4786-b88a-4f34cb5cbd8d",
   "metadata": {},
   "outputs": [],
   "source": [
    "for cif in cifs:\n",
    "    cifs[cif].pop('_symmetry_space_group_name_H-M')"
   ]
  },
  {
   "cell_type": "code",
   "execution_count": 245,
   "id": "4ca2da3c-8dcd-45a2-8a40-77f203b75f82",
   "metadata": {},
   "outputs": [],
   "source": [
    "import pandas as pd\n",
    "df = pd.read_csv('/scratch/civil/phd/cez198233/vaibhav_nlp/robocif/gnomecifs/190000_id/stable_materials_summary.csv')"
   ]
  },
  {
   "cell_type": "code",
   "execution_count": 250,
   "id": "33d0d382-29ab-45e0-b8f2-4c6787543226",
   "metadata": {},
   "outputs": [
    {
     "data": {
      "text/plain": [
       "383680"
      ]
     },
     "execution_count": 250,
     "metadata": {},
     "output_type": "execute_result"
    }
   ],
   "source": [
    "cnt = 0\n",
    "for i in df['MaterialId']:\n",
    "    if i+'.CIF' in cifs:\n",
    "       cnt += 1\n",
    "cnt"
   ]
  },
  {
   "cell_type": "code",
   "execution_count": 334,
   "id": "ab2a4edc-9a96-43ed-b92f-6070e62f718f",
   "metadata": {},
   "outputs": [
    {
     "data": {
      "text/html": [
       "<div>\n",
       "<style scoped>\n",
       "    .dataframe tbody tr th:only-of-type {\n",
       "        vertical-align: middle;\n",
       "    }\n",
       "\n",
       "    .dataframe tbody tr th {\n",
       "        vertical-align: top;\n",
       "    }\n",
       "\n",
       "    .dataframe thead th {\n",
       "        text-align: right;\n",
       "    }\n",
       "</style>\n",
       "<table border=\"1\" class=\"dataframe\">\n",
       "  <thead>\n",
       "    <tr style=\"text-align: right;\">\n",
       "      <th></th>\n",
       "      <th>Composition</th>\n",
       "      <th>MaterialId</th>\n",
       "      <th>Reduced Formula</th>\n",
       "      <th>Density</th>\n",
       "      <th>Space Group Number</th>\n",
       "      <th>Crystal System</th>\n",
       "      <th>Corrected Energy</th>\n",
       "      <th>Bandgap</th>\n",
       "      <th>Formation Energy Per Atom</th>\n",
       "      <th>Decomposition Energy Per Atom</th>\n",
       "    </tr>\n",
       "    <tr>\n",
       "      <th>MaterialId</th>\n",
       "      <th></th>\n",
       "      <th></th>\n",
       "      <th></th>\n",
       "      <th></th>\n",
       "      <th></th>\n",
       "      <th></th>\n",
       "      <th></th>\n",
       "      <th></th>\n",
       "      <th></th>\n",
       "      <th></th>\n",
       "    </tr>\n",
       "  </thead>\n",
       "  <tbody>\n",
       "    <tr>\n",
       "      <th>000006a8c4</th>\n",
       "      <td>Cs1S6Zr3</td>\n",
       "      <td>000006a8c4</td>\n",
       "      <td>Cs(ZrS2)3</td>\n",
       "      <td>3.2834</td>\n",
       "      <td>12</td>\n",
       "      <td>monoclinic</td>\n",
       "      <td>-70.4155</td>\n",
       "      <td>0.0023</td>\n",
       "      <td>-1.9058</td>\n",
       "      <td>-0.1625</td>\n",
       "    </tr>\n",
       "    <tr>\n",
       "      <th>00011f62be</th>\n",
       "      <td>Nd7Os1Pr3Si5</td>\n",
       "      <td>00011f62be</td>\n",
       "      <td>Pr3Nd7Si5Os</td>\n",
       "      <td>6.8040</td>\n",
       "      <td>1</td>\n",
       "      <td>triclinic</td>\n",
       "      <td>-94.0804</td>\n",
       "      <td>0.0022</td>\n",
       "      <td>-0.5004</td>\n",
       "      <td>-0.0137</td>\n",
       "    </tr>\n",
       "    <tr>\n",
       "      <th>00012feb99</th>\n",
       "      <td>Ce2La3Pt16Tm15</td>\n",
       "      <td>00012feb99</td>\n",
       "      <td>La3Ce2Tm15Pt16</td>\n",
       "      <td>12.7292</td>\n",
       "      <td>1</td>\n",
       "      <td>triclinic</td>\n",
       "      <td>-237.6016</td>\n",
       "      <td>NaN</td>\n",
       "      <td>-1.2960</td>\n",
       "      <td>-0.1195</td>\n",
       "    </tr>\n",
       "    <tr>\n",
       "      <th>00014cac13</th>\n",
       "      <td>Mn1Ni1Os2Sb12Yb1</td>\n",
       "      <td>00014cac13</td>\n",
       "      <td>YbMnNi(Sb6Os)2</td>\n",
       "      <td>8.6776</td>\n",
       "      <td>2</td>\n",
       "      <td>triclinic</td>\n",
       "      <td>-93.6931</td>\n",
       "      <td>0.0011</td>\n",
       "      <td>-0.3064</td>\n",
       "      <td>-0.0837</td>\n",
       "    </tr>\n",
       "    <tr>\n",
       "      <th>1759321</th>\n",
       "      <td>Er8Ge4Si12Zr12</td>\n",
       "      <td>1759321</td>\n",
       "      <td>Er2Zr3Si3Ge</td>\n",
       "      <td>6.9851</td>\n",
       "      <td>1</td>\n",
       "      <td>triclinic</td>\n",
       "      <td>-254.0953</td>\n",
       "      <td>inf</td>\n",
       "      <td>-0.8718</td>\n",
       "      <td>-0.0186</td>\n",
       "    </tr>\n",
       "    <tr>\n",
       "      <th>...</th>\n",
       "      <td>...</td>\n",
       "      <td>...</td>\n",
       "      <td>...</td>\n",
       "      <td>...</td>\n",
       "      <td>...</td>\n",
       "      <td>...</td>\n",
       "      <td>...</td>\n",
       "      <td>...</td>\n",
       "      <td>...</td>\n",
       "      <td>...</td>\n",
       "    </tr>\n",
       "    <tr>\n",
       "      <th>ffff0b1194</th>\n",
       "      <td>Ga3Lu2Si1Tb4</td>\n",
       "      <td>ffff0b1194</td>\n",
       "      <td>Tb4Lu2Ga3Si</td>\n",
       "      <td>8.2687</td>\n",
       "      <td>38</td>\n",
       "      <td>orthorhombic</td>\n",
       "      <td>-48.0143</td>\n",
       "      <td>0.0009</td>\n",
       "      <td>-0.5925</td>\n",
       "      <td>-0.0143</td>\n",
       "    </tr>\n",
       "    <tr>\n",
       "      <th>ffff3e9e89</th>\n",
       "      <td>Au1Cd3Sm3Sn2</td>\n",
       "      <td>ffff3e9e89</td>\n",
       "      <td>Sm3Cd3Sn2Au</td>\n",
       "      <td>8.8579</td>\n",
       "      <td>189</td>\n",
       "      <td>hexagonal</td>\n",
       "      <td>-33.6678</td>\n",
       "      <td>0.0198</td>\n",
       "      <td>-0.6056</td>\n",
       "      <td>-0.0218</td>\n",
       "    </tr>\n",
       "    <tr>\n",
       "      <th>ffff611aad</th>\n",
       "      <td>Ba1H30Th7</td>\n",
       "      <td>ffff611aad</td>\n",
       "      <td>BaTh7H30</td>\n",
       "      <td>7.5986</td>\n",
       "      <td>146</td>\n",
       "      <td>trigonal</td>\n",
       "      <td>-178.4183</td>\n",
       "      <td>2.5688</td>\n",
       "      <td>-0.6005</td>\n",
       "      <td>-0.0252</td>\n",
       "    </tr>\n",
       "    <tr>\n",
       "      <th>ffff99b793</th>\n",
       "      <td>Al2Bi8K6Sr6</td>\n",
       "      <td>ffff99b793</td>\n",
       "      <td>K3Sr3AlBi4</td>\n",
       "      <td>4.7103</td>\n",
       "      <td>186</td>\n",
       "      <td>hexagonal</td>\n",
       "      <td>-68.7495</td>\n",
       "      <td>NaN</td>\n",
       "      <td>-0.6063</td>\n",
       "      <td>-0.0189</td>\n",
       "    </tr>\n",
       "    <tr>\n",
       "      <th>fffff156dc</th>\n",
       "      <td>Au3Cu1Sc8Zn4</td>\n",
       "      <td>fffff156dc</td>\n",
       "      <td>Sc8Zn4CuAu3</td>\n",
       "      <td>6.9431</td>\n",
       "      <td>123</td>\n",
       "      <td>tetragonal</td>\n",
       "      <td>-78.3082</td>\n",
       "      <td>NaN</td>\n",
       "      <td>-0.5430</td>\n",
       "      <td>-0.0110</td>\n",
       "    </tr>\n",
       "  </tbody>\n",
       "</table>\n",
       "<p>384871 rows × 10 columns</p>\n",
       "</div>"
      ],
      "text/plain": [
       "                 Composition  MaterialId Reduced Formula  Density  \\\n",
       "MaterialId                                                          \n",
       "000006a8c4          Cs1S6Zr3  000006a8c4       Cs(ZrS2)3   3.2834   \n",
       "00011f62be      Nd7Os1Pr3Si5  00011f62be     Pr3Nd7Si5Os   6.8040   \n",
       "00012feb99    Ce2La3Pt16Tm15  00012feb99  La3Ce2Tm15Pt16  12.7292   \n",
       "00014cac13  Mn1Ni1Os2Sb12Yb1  00014cac13  YbMnNi(Sb6Os)2   8.6776   \n",
       "1759321       Er8Ge4Si12Zr12     1759321     Er2Zr3Si3Ge   6.9851   \n",
       "...                      ...         ...             ...      ...   \n",
       "ffff0b1194      Ga3Lu2Si1Tb4  ffff0b1194     Tb4Lu2Ga3Si   8.2687   \n",
       "ffff3e9e89      Au1Cd3Sm3Sn2  ffff3e9e89     Sm3Cd3Sn2Au   8.8579   \n",
       "ffff611aad         Ba1H30Th7  ffff611aad        BaTh7H30   7.5986   \n",
       "ffff99b793       Al2Bi8K6Sr6  ffff99b793      K3Sr3AlBi4   4.7103   \n",
       "fffff156dc      Au3Cu1Sc8Zn4  fffff156dc     Sc8Zn4CuAu3   6.9431   \n",
       "\n",
       "            Space Group Number Crystal System  Corrected Energy  Bandgap  \\\n",
       "MaterialId                                                                 \n",
       "000006a8c4                  12     monoclinic          -70.4155   0.0023   \n",
       "00011f62be                   1      triclinic          -94.0804   0.0022   \n",
       "00012feb99                   1      triclinic         -237.6016      NaN   \n",
       "00014cac13                   2      triclinic          -93.6931   0.0011   \n",
       "1759321                      1      triclinic         -254.0953      inf   \n",
       "...                        ...            ...               ...      ...   \n",
       "ffff0b1194                  38   orthorhombic          -48.0143   0.0009   \n",
       "ffff3e9e89                 189      hexagonal          -33.6678   0.0198   \n",
       "ffff611aad                 146       trigonal         -178.4183   2.5688   \n",
       "ffff99b793                 186      hexagonal          -68.7495      NaN   \n",
       "fffff156dc                 123     tetragonal          -78.3082      NaN   \n",
       "\n",
       "            Formation Energy Per Atom  Decomposition Energy Per Atom  \n",
       "MaterialId                                                            \n",
       "000006a8c4                    -1.9058                        -0.1625  \n",
       "00011f62be                    -0.5004                        -0.0137  \n",
       "00012feb99                    -1.2960                        -0.1195  \n",
       "00014cac13                    -0.3064                        -0.0837  \n",
       "1759321                       -0.8718                        -0.0186  \n",
       "...                               ...                            ...  \n",
       "ffff0b1194                    -0.5925                        -0.0143  \n",
       "ffff3e9e89                    -0.6056                        -0.0218  \n",
       "ffff611aad                    -0.6005                        -0.0252  \n",
       "ffff99b793                    -0.6063                        -0.0189  \n",
       "fffff156dc                    -0.5430                        -0.0110  \n",
       "\n",
       "[384871 rows x 10 columns]"
      ]
     },
     "execution_count": 334,
     "metadata": {},
     "output_type": "execute_result"
    }
   ],
   "source": [
    "df = df[['Composition', 'MaterialId', 'Reduced Formula', 'Density', 'Space Group Number', 'Crystal System', 'Corrected Energy', 'Bandgap', 'Formation Energy Per Atom', 'Decomposition Energy Per Atom']]\n",
    "df.index = df.MaterialId\n",
    "df"
   ]
  },
  {
   "cell_type": "code",
   "execution_count": 407,
   "id": "40660b92-3e5a-4cdd-92d9-9dc0bca5bd88",
   "metadata": {},
   "outputs": [
    {
     "name": "stderr",
     "output_type": "stream",
     "text": [
      "100%|███████████████████████████████████████████████████████████████████████████████████████████████████████████████████████████████████████████████████████████████████████████████████| 384938/384938 [2:41:17<00:00, 39.78it/s]\n"
     ]
    }
   ],
   "source": [
    "props = ['formation_energy_per_atom', 'band_gap', 'pretty_formula', 'e_above_hull', 'space_group_number']\n",
    "cnt = 0\n",
    "mats = set(df.MaterialId)\n",
    "for cif in tqdm(cifs):\n",
    "    mid = cif.split('.CIF')[0]\n",
    "    if mid in mats:\n",
    "        m = df[df.index.isin([mid])].iloc[0]\n",
    "        cifs[cif]['pretty_formula'] = m['Reduced Formula']\n",
    "        cifs[cif]['formation_energy_per_atom'] = m['Formation Energy Per Atom']\n",
    "        cifs[cif]['density'] = m['Density']\n",
    "        cifs[cif]['space_group_number'] = m['Space Group Number']\n",
    "        cifs[cif]['crystal_system'] = m['Crystal System']\n",
    "        cifs[cif]['decomposition_energy_per_atom'] = m['Decomposition Energy Per Atom']\n",
    "        if not np.isnan(m['Bandgap']):\n",
    "            cifs[cif]['bandgap'] = ['Bandgap']"
   ]
  },
  {
   "cell_type": "code",
   "execution_count": 436,
   "id": "74f0d74b-37c5-4ade-8ea0-f883f6d91ffd",
   "metadata": {},
   "outputs": [],
   "source": [
    "# import pickle as pkl\n",
    "# with open('/scratch/cse/btech/cs1200448/MatLlama/processed_cifs/gnome_cifs.pkl', 'wb') as f:\n",
    "#     pkl.dump(cifs, f)"
   ]
  },
  {
   "cell_type": "code",
   "execution_count": 480,
   "id": "ae160b77-6e84-4d9c-844a-884a5dc28eb8",
   "metadata": {},
   "outputs": [
    {
     "data": {
      "text/plain": [
       "{'_cell_angle_alpha',\n",
       " '_cell_angle_beta',\n",
       " '_cell_angle_gamma',\n",
       " '_cell_formula_units_Z',\n",
       " '_cell_length_a',\n",
       " '_cell_length_b',\n",
       " '_cell_length_c',\n",
       " '_chemical_formula_sum',\n",
       " 'band_gap',\n",
       " 'crystal_system',\n",
       " 'decomposition_energy_per_atom',\n",
       " 'density',\n",
       " 'e_above_hull',\n",
       " 'formation_energy_per_atom',\n",
       " 'pretty_formula',\n",
       " 'space_group_number',\n",
       " 'unit_cell_structure'}"
      ]
     },
     "execution_count": 480,
     "metadata": {},
     "output_type": "execute_result"
    }
   ],
   "source": [
    "keys"
   ]
  },
  {
   "cell_type": "code",
   "execution_count": 481,
   "id": "c975e06e-37ac-4f69-a7b3-9f89045fb689",
   "metadata": {},
   "outputs": [
    {
     "data": {
      "text/plain": [
       "536483"
      ]
     },
     "execution_count": 481,
     "metadata": {},
     "output_type": "execute_result"
    }
   ],
   "source": [
    "len(g) + len(cifs)"
   ]
  },
  {
   "cell_type": "markdown",
   "id": "b3cec465-b8e5-4421-8413-244130a93e2c",
   "metadata": {},
   "source": [
    "# Flattening the folders"
   ]
  },
  {
   "cell_type": "code",
   "execution_count": 486,
   "id": "50a0fd91-8451-4f49-9eb3-cfe4da983924",
   "metadata": {},
   "outputs": [],
   "source": [
    "out_gnome = '/scratch/civil/phd/cez198233/vaibhav_nlp/robocif/gnomecifs_all'\n",
    "out_mp = '/scratch/civil/phd/cez198233/vaibhav_nlp/robocif/mpcifs_all'\n",
    "in_gnome = '/scratch/civil/phd/cez198233/vaibhav_nlp/robocif/gnomecifs'\n",
    "in_mp = '/scratch/civil/phd/cez198233/vaibhav_nlp/corpus/materials_project_cifs'\n",
    "import shutil"
   ]
  },
  {
   "cell_type": "code",
   "execution_count": 495,
   "id": "25fd9f36-1084-4932-bd29-e56ed37897bc",
   "metadata": {},
   "outputs": [
    {
     "name": "stderr",
     "output_type": "stream",
     "text": [
      "145920it [35:03, 69.36it/s] \n"
     ]
    }
   ],
   "source": [
    "err = []\n",
    "for i,j,k in tqdm(os.walk(in_mp)):\n",
    "    for _ in k:\n",
    "        if not _.endswith('.cif'):\n",
    "            continue\n",
    "        full_pth = os.path.join(i,_)\n",
    "        try:\n",
    "            shutil.copy(full_pth, os.path.join(out_mp, _))\n",
    "        except Exception as e:\n",
    "            print(full_pth,i,j,k)\n",
    "            err.append(full_pth)"
   ]
  },
  {
   "cell_type": "code",
   "execution_count": 497,
   "id": "a15aa7da-6b05-410c-9758-f56e974e102a",
   "metadata": {},
   "outputs": [
    {
     "name": "stdout",
     "output_type": "stream",
     "text": [
      "train_3.csv\n",
      "test.csv\n",
      "train_2.csv\n",
      "train_6.csv\n",
      "val.csv\n",
      "train_7.csv\n",
      "train_4.csv\n",
      "train_0.csv\n",
      "train_9.csv\n",
      "train_5.csv\n",
      "train_1.csv\n",
      "train_8.csv\n",
      "test.csv\n",
      "val.csv\n",
      "train.csv\n"
     ]
    }
   ],
   "source": [
    "ms = []\n",
    "_pth = '/home/cse/btech/cs1200448/crystal-text-llm/data/with_tags'\n",
    "files = os.listdir(_pth)[1:]\n",
    "for file in files:\n",
    "    print(file)\n",
    "    ms.append(pd.read_csv(os.path.join(_pth, file)))\n",
    "_pth = '/home/cse/btech/cs1200448/crystal-text-llm/data/basic'\n",
    "files = os.listdir(_pth)[1:]\n",
    "for file in files:\n",
    "    print(file)\n",
    "    ms.append(pd.read_csv(os.path.join(_pth, file)))"
   ]
  },
  {
   "cell_type": "code",
   "execution_count": 506,
   "id": "e04a742f-d8b0-4ba6-a465-deff775f3ff1",
   "metadata": {},
   "outputs": [],
   "source": [
    "mids = os.listdir(out_mp)\n",
    "mids = set(mids)"
   ]
  },
  {
   "cell_type": "code",
   "execution_count": 502,
   "id": "e2f78857-27de-4095-9aca-f20d0c3ebadc",
   "metadata": {},
   "outputs": [
    {
     "data": {
      "text/html": [
       "<div>\n",
       "<style scoped>\n",
       "    .dataframe tbody tr th:only-of-type {\n",
       "        vertical-align: middle;\n",
       "    }\n",
       "\n",
       "    .dataframe tbody tr th {\n",
       "        vertical-align: top;\n",
       "    }\n",
       "\n",
       "    .dataframe thead th {\n",
       "        text-align: right;\n",
       "    }\n",
       "</style>\n",
       "<table border=\"1\" class=\"dataframe\">\n",
       "  <thead>\n",
       "    <tr style=\"text-align: right;\">\n",
       "      <th></th>\n",
       "      <th>Unnamed: 0.2</th>\n",
       "      <th>Unnamed: 0.1</th>\n",
       "      <th>Unnamed: 0</th>\n",
       "      <th>material_id</th>\n",
       "      <th>formation_energy_per_atom</th>\n",
       "      <th>band_gap</th>\n",
       "      <th>pretty_formula</th>\n",
       "      <th>e_above_hull</th>\n",
       "      <th>elements</th>\n",
       "      <th>cif</th>\n",
       "      <th>spacegroup.number</th>\n",
       "    </tr>\n",
       "  </thead>\n",
       "  <tbody>\n",
       "    <tr>\n",
       "      <th>0</th>\n",
       "      <td>38283</td>\n",
       "      <td>427</td>\n",
       "      <td>427</td>\n",
       "      <td>mp-1049239</td>\n",
       "      <td>-2.749529</td>\n",
       "      <td>0.0000</td>\n",
       "      <td>Ti2ZnP2O9</td>\n",
       "      <td>0.133611</td>\n",
       "      <td>['O', 'P', 'Ti', 'Zn']</td>\n",
       "      <td># generated using pymatgen\\ndata_Ti2ZnP2O9\\n_s...</td>\n",
       "      <td>62</td>\n",
       "    </tr>\n",
       "    <tr>\n",
       "      <th>1</th>\n",
       "      <td>38284</td>\n",
       "      <td>489</td>\n",
       "      <td>489</td>\n",
       "      <td>mp-1211593</td>\n",
       "      <td>-3.622006</td>\n",
       "      <td>4.8612</td>\n",
       "      <td>LiEr6B3O14</td>\n",
       "      <td>0.017893</td>\n",
       "      <td>['B', 'Er', 'Li', 'O']</td>\n",
       "      <td># generated using pymatgen\\ndata_LiEr6B3O14\\n_...</td>\n",
       "      <td>14</td>\n",
       "    </tr>\n",
       "    <tr>\n",
       "      <th>2</th>\n",
       "      <td>38285</td>\n",
       "      <td>95</td>\n",
       "      <td>95</td>\n",
       "      <td>mp-20740</td>\n",
       "      <td>-0.488500</td>\n",
       "      <td>0.1037</td>\n",
       "      <td>Tl4Te3Pb</td>\n",
       "      <td>0.000000</td>\n",
       "      <td>['Pb', 'Te', 'Tl']</td>\n",
       "      <td># generated using pymatgen\\ndata_Tl4Te3Pb\\n_sy...</td>\n",
       "      <td>140</td>\n",
       "    </tr>\n",
       "    <tr>\n",
       "      <th>3</th>\n",
       "      <td>38286</td>\n",
       "      <td>107</td>\n",
       "      <td>107</td>\n",
       "      <td>mp-756941</td>\n",
       "      <td>-1.417111</td>\n",
       "      <td>0.0000</td>\n",
       "      <td>LiFeO3</td>\n",
       "      <td>0.148444</td>\n",
       "      <td>['Fe', 'Li', 'O']</td>\n",
       "      <td># generated using pymatgen\\ndata_LiFeO3\\n_symm...</td>\n",
       "      <td>52</td>\n",
       "    </tr>\n",
       "    <tr>\n",
       "      <th>4</th>\n",
       "      <td>38287</td>\n",
       "      <td>118</td>\n",
       "      <td>118</td>\n",
       "      <td>mp-1173345</td>\n",
       "      <td>-3.142472</td>\n",
       "      <td>2.1708</td>\n",
       "      <td>PaInO4</td>\n",
       "      <td>0.000000</td>\n",
       "      <td>['In', 'O', 'Pa']</td>\n",
       "      <td># generated using pymatgen\\ndata_PaInO4\\n_symm...</td>\n",
       "      <td>141</td>\n",
       "    </tr>\n",
       "    <tr>\n",
       "      <th>...</th>\n",
       "      <td>...</td>\n",
       "      <td>...</td>\n",
       "      <td>...</td>\n",
       "      <td>...</td>\n",
       "      <td>...</td>\n",
       "      <td>...</td>\n",
       "      <td>...</td>\n",
       "      <td>...</td>\n",
       "      <td>...</td>\n",
       "      <td>...</td>\n",
       "      <td>...</td>\n",
       "    </tr>\n",
       "    <tr>\n",
       "      <th>12756</th>\n",
       "      <td>51039</td>\n",
       "      <td>464</td>\n",
       "      <td>464</td>\n",
       "      <td>mp-555791</td>\n",
       "      <td>-3.227390</td>\n",
       "      <td>5.7384</td>\n",
       "      <td>SiO2</td>\n",
       "      <td>0.040642</td>\n",
       "      <td>['O', 'Si']</td>\n",
       "      <td># generated using pymatgen\\ndata_SiO2\\n_symmet...</td>\n",
       "      <td>229</td>\n",
       "    </tr>\n",
       "    <tr>\n",
       "      <th>12757</th>\n",
       "      <td>51040</td>\n",
       "      <td>473</td>\n",
       "      <td>473</td>\n",
       "      <td>mp-1191741</td>\n",
       "      <td>-2.528763</td>\n",
       "      <td>0.0000</td>\n",
       "      <td>CaSiO4</td>\n",
       "      <td>0.345235</td>\n",
       "      <td>['Ca', 'O', 'Si']</td>\n",
       "      <td># generated using pymatgen\\ndata_CaSiO4\\n_symm...</td>\n",
       "      <td>43</td>\n",
       "    </tr>\n",
       "    <tr>\n",
       "      <th>12758</th>\n",
       "      <td>51041</td>\n",
       "      <td>320</td>\n",
       "      <td>320</td>\n",
       "      <td>mp-756560</td>\n",
       "      <td>-3.192929</td>\n",
       "      <td>2.2641</td>\n",
       "      <td>Li2Ti3O7</td>\n",
       "      <td>0.049609</td>\n",
       "      <td>['Li', 'O', 'Ti']</td>\n",
       "      <td># generated using pymatgen\\ndata_Li2Ti3O7\\n_sy...</td>\n",
       "      <td>15</td>\n",
       "    </tr>\n",
       "    <tr>\n",
       "      <th>12759</th>\n",
       "      <td>51042</td>\n",
       "      <td>355</td>\n",
       "      <td>355</td>\n",
       "      <td>mp-1185702</td>\n",
       "      <td>-0.031714</td>\n",
       "      <td>0.0000</td>\n",
       "      <td>Mg16Al12Ru</td>\n",
       "      <td>0.070023</td>\n",
       "      <td>['Al', 'Mg', 'Ru']</td>\n",
       "      <td># generated using pymatgen\\ndata_Mg16Al12Ru\\n_...</td>\n",
       "      <td>160</td>\n",
       "    </tr>\n",
       "    <tr>\n",
       "      <th>12760</th>\n",
       "      <td>51043</td>\n",
       "      <td>216</td>\n",
       "      <td>216</td>\n",
       "      <td>mp-21163</td>\n",
       "      <td>-0.482658</td>\n",
       "      <td>0.0000</td>\n",
       "      <td>SiPt3</td>\n",
       "      <td>0.053235</td>\n",
       "      <td>['Pt', 'Si']</td>\n",
       "      <td># generated using pymatgen\\ndata_SiPt3\\n_symme...</td>\n",
       "      <td>62</td>\n",
       "    </tr>\n",
       "  </tbody>\n",
       "</table>\n",
       "<p>12761 rows × 11 columns</p>\n",
       "</div>"
      ],
      "text/plain": [
       "       Unnamed: 0.2  Unnamed: 0.1  Unnamed: 0 material_id  \\\n",
       "0             38283           427         427  mp-1049239   \n",
       "1             38284           489         489  mp-1211593   \n",
       "2             38285            95          95    mp-20740   \n",
       "3             38286           107         107   mp-756941   \n",
       "4             38287           118         118  mp-1173345   \n",
       "...             ...           ...         ...         ...   \n",
       "12756         51039           464         464   mp-555791   \n",
       "12757         51040           473         473  mp-1191741   \n",
       "12758         51041           320         320   mp-756560   \n",
       "12759         51042           355         355  mp-1185702   \n",
       "12760         51043           216         216    mp-21163   \n",
       "\n",
       "       formation_energy_per_atom  band_gap pretty_formula  e_above_hull  \\\n",
       "0                      -2.749529    0.0000      Ti2ZnP2O9      0.133611   \n",
       "1                      -3.622006    4.8612     LiEr6B3O14      0.017893   \n",
       "2                      -0.488500    0.1037       Tl4Te3Pb      0.000000   \n",
       "3                      -1.417111    0.0000         LiFeO3      0.148444   \n",
       "4                      -3.142472    2.1708         PaInO4      0.000000   \n",
       "...                          ...       ...            ...           ...   \n",
       "12756                  -3.227390    5.7384           SiO2      0.040642   \n",
       "12757                  -2.528763    0.0000         CaSiO4      0.345235   \n",
       "12758                  -3.192929    2.2641       Li2Ti3O7      0.049609   \n",
       "12759                  -0.031714    0.0000     Mg16Al12Ru      0.070023   \n",
       "12760                  -0.482658    0.0000          SiPt3      0.053235   \n",
       "\n",
       "                     elements  \\\n",
       "0      ['O', 'P', 'Ti', 'Zn']   \n",
       "1      ['B', 'Er', 'Li', 'O']   \n",
       "2          ['Pb', 'Te', 'Tl']   \n",
       "3           ['Fe', 'Li', 'O']   \n",
       "4           ['In', 'O', 'Pa']   \n",
       "...                       ...   \n",
       "12756             ['O', 'Si']   \n",
       "12757       ['Ca', 'O', 'Si']   \n",
       "12758       ['Li', 'O', 'Ti']   \n",
       "12759      ['Al', 'Mg', 'Ru']   \n",
       "12760            ['Pt', 'Si']   \n",
       "\n",
       "                                                     cif  spacegroup.number  \n",
       "0      # generated using pymatgen\\ndata_Ti2ZnP2O9\\n_s...                 62  \n",
       "1      # generated using pymatgen\\ndata_LiEr6B3O14\\n_...                 14  \n",
       "2      # generated using pymatgen\\ndata_Tl4Te3Pb\\n_sy...                140  \n",
       "3      # generated using pymatgen\\ndata_LiFeO3\\n_symm...                 52  \n",
       "4      # generated using pymatgen\\ndata_PaInO4\\n_symm...                141  \n",
       "...                                                  ...                ...  \n",
       "12756  # generated using pymatgen\\ndata_SiO2\\n_symmet...                229  \n",
       "12757  # generated using pymatgen\\ndata_CaSiO4\\n_symm...                 43  \n",
       "12758  # generated using pymatgen\\ndata_Li2Ti3O7\\n_sy...                 15  \n",
       "12759  # generated using pymatgen\\ndata_Mg16Al12Ru\\n_...                160  \n",
       "12760  # generated using pymatgen\\ndata_SiPt3\\n_symme...                 62  \n",
       "\n",
       "[12761 rows x 11 columns]"
      ]
     },
     "execution_count": 502,
     "metadata": {},
     "output_type": "execute_result"
    }
   ],
   "source": [
    "ms[0]"
   ]
  },
  {
   "cell_type": "code",
   "execution_count": 504,
   "id": "57ca2d36-2a66-4f09-87a9-a7f658f706e3",
   "metadata": {},
   "outputs": [],
   "source": [
    "cifs = {}\n",
    "for df in ms:\n",
    "    ff = df[['material_id', 'cif']].to_dict()\n",
    "    cifs = cifs | {ff['material_id'][i]:ff['cif'][i] for i in range(len(ff['cif']))}"
   ]
  },
  {
   "cell_type": "code",
   "execution_count": 509,
   "id": "527aa41b-e6b7-4bd7-8ecd-188f9ded35d3",
   "metadata": {},
   "outputs": [
    {
     "name": "stderr",
     "output_type": "stream",
     "text": [
      "100%|████████████████████████████████████████████████████████████████████████████████████████████████████████████████████████████████████████████████████████████████████████████████████| 140374/140374 [16:28<00:00, 142.04it/s]\n"
     ]
    }
   ],
   "source": [
    "cnt = []\n",
    "for id in tqdm(cifs):\n",
    "    if id + '.cif' in set(mids):\n",
    "        continue\n",
    "    else:\n",
    "        cnt.append(id)"
   ]
  },
  {
   "cell_type": "code",
   "execution_count": 518,
   "id": "037a2c8a-3831-4bf7-b04e-b2452e741369",
   "metadata": {},
   "outputs": [
    {
     "name": "stderr",
     "output_type": "stream",
     "text": [
      "100%|███████████████████████████████████████████████████████████████████████████████████████████████████████████████████████████████████████████████████████████████████████████████████████| 8381/8381 [00:06<00:00, 1254.27it/s]\n"
     ]
    }
   ],
   "source": [
    "for i in tqdm(cnt):\n",
    "    with open(out_mp + '/' + i + '.cif', 'w') as f:\n",
    "        f.write(cifs[i])"
   ]
  },
  {
   "cell_type": "markdown",
   "id": "59ff6735-7b9f-4848-9796-57e0f0c6a903",
   "metadata": {},
   "source": [
    "# AMSCD"
   ]
  },
  {
   "cell_type": "code",
   "execution_count": 178,
   "id": "a25f38b6-c4e2-49a6-b608-19747c3aba31",
   "metadata": {},
   "outputs": [],
   "source": [
    "import os\n",
    "from tqdm import tqdm\n",
    "\n",
    "ruff_path = \"/scratch/civil/phd/cez198233/vaibhav_nlp/robocif/amcsd\"\n",
    "ruff_files = os.listdir(ruff_path)\n",
    "ruff_cifs = [os.listdir(os.path.join(ruff_path, i)) for i in ruff_files]"
   ]
  },
  {
   "cell_type": "code",
   "execution_count": 185,
   "id": "41ce46da-2a71-4a80-bbeb-f9411baa9f83",
   "metadata": {},
   "outputs": [],
   "source": [
    "ruff_cifs_path = []\n",
    "for _, pth in enumerate(ruff_cifs):\n",
    "    for _pth in pth:\n",
    "        if _pth.endswith('.cif'):\n",
    "            ruff_cifs_path.append(os.path.join(ruff_path, ruff_files[_], _pth))"
   ]
  }
 ],
 "metadata": {
  "kernelspec": {
   "display_name": "Python 3 (ipykernel)",
   "language": "python",
   "name": "python3"
  },
  "language_info": {
   "codemirror_mode": {
    "name": "ipython",
    "version": 3
   },
   "file_extension": ".py",
   "mimetype": "text/x-python",
   "name": "python",
   "nbconvert_exporter": "python",
   "pygments_lexer": "ipython3",
   "version": "3.11.5"
  }
 },
 "nbformat": 4,
 "nbformat_minor": 5
}
